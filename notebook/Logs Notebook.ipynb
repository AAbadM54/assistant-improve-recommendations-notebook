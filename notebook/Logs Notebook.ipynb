{
 "cells": [
  {
   "cell_type": "markdown",
   "metadata": {},
   "source": [
    "# Waston Assistant Logs Notebook"
   ]
  },
  {
   "cell_type": "markdown",
   "metadata": {},
   "source": [
    "## Introduction\n",
    "This notebook demonstrates how to download Watson Assistant user-generated logs based on different criteria.\n",
    "\n",
    "### Programming language and environment\n",
    "Some familiarity with Python is recommended. This notebook runs on Python 3.6"
   ]
  },
  {
   "cell_type": "markdown",
   "metadata": {},
   "source": [
    "<a id=\"setup\"></a>\n",
    "## 1. Configuration and Setup\n",
    "\n",
    "In this section, we add data and workspace access credentials, import required libraries and functions.\n",
    "\n",
    "### <a id=\"python\"></a> 1.1 Install required Python libraries"
   ]
  },
  {
   "cell_type": "code",
   "execution_count": null,
   "metadata": {},
   "outputs": [],
   "source": [
    "!pip3 install --user --upgrade \"ibm-watson==4.1.0\";\n",
    "!pip3 install --user --upgrade \"pandas==1.0.1\";\n",
    "!curl -O https://raw.githubusercontent.com/watson-developer-cloud/assistant-improve-recommendations-notebook/logs/src/main/python/watson_assistant_func.py"
   ]
  },
  {
   "cell_type": "markdown",
   "metadata": {},
   "source": [
    "### <a id=\"function\"></a> 1.2 Import functions used in the notebook"
   ]
  },
  {
   "cell_type": "code",
   "execution_count": null,
   "metadata": {},
   "outputs": [],
   "source": [
    "# Import Watson Assistant related functions\n",
    "from ibm_cloud_sdk_core.authenticators import BasicAuthenticator\n",
    "from ibm_cloud_sdk_core.authenticators import IAMAuthenticator\n",
    "import pandas as pd\n",
    "import json\n",
    "from ibm_watson import AssistantV1\n",
    "\n",
    "from watson_assistant_func import get_logs_filter, get_assistant_definition"
   ]
  },
  {
   "cell_type": "markdown",
   "metadata": {},
   "source": [
    "## <a id=\"load\"></a> 2. Load and format data "
   ]
  },
  {
   "cell_type": "markdown",
   "metadata": {},
   "source": [
    "### 2.1 Add Watson Assistant configuration\n",
    "\n",
    "Provide the service credentials used for accessing your Watson Assistant instance.  \n",
    "\n",
    "- For more information about obtaining Watson Assistant credentials, see [Service credentials for Watson services](https://console.bluemix.net/docs/services/watson/getting-started-credentials.html#creating-credentials).\n",
    "- API requests require a version parameter that takes a date in the format version=YYYY-MM-DD. For more information about version, see [Versioning](https://www.ibm.com/watson/developercloud/assistant/api/v1/curl.html?curl#versioning)."
   ]
  },
  {
   "cell_type": "code",
   "execution_count": null,
   "metadata": {},
   "outputs": [],
   "source": [
    "# For stage testing workspace:\n",
    "authenticator = BasicAuthenticator('apikey', 'EABmPgmkgrOZBWOzhfL5n_4TAuldiJ-5_4pgonWYr4jr')\n",
    "sdk_object = AssistantV1(version='2020-02-05', authenticator=authenticator)\n",
    "sdk_object.set_service_url('https://api.us-south.assistant.test.watson.cloud.ibm.com/')"
   ]
  },
  {
   "cell_type": "markdown",
   "metadata": {},
   "source": [
    "Specify your assistant information."
   ]
  },
  {
   "cell_type": "code",
   "execution_count": null,
   "metadata": {},
   "outputs": [],
   "source": [
    "# For stage testing workspace:\n",
    "assistant_information = {'workspace_id' : '',\n",
    "                         'skill_id' : 'd56b5c28-bb69-471e-aa5b-f97bc0036efd',\n",
    "                         'assistant_id' : '47f8cfcf-2f3b-46e9-be6f-faaaca7f1f7b'}"
   ]
  },
  {
   "cell_type": "markdown",
   "metadata": {},
   "source": [
    "### 2.2 Fetch and load logs\n",
    "\n",
    "- Use `num_logs` to specify number of logs to download \n",
    "- Use `filename` to specify the downloaded file name or ignore to use default filename (format: logs_assistant_[assisant_id]_skill_[skill_id].json)\n",
    "- Apply `filters` while fetching logs, e.g.,\n",
    "    - removing empty input: `meta.summary.input_text_length_i>0`\n",
    "    - fetching logs generated after a timestamp: `response_timestamp>=2018-09-18`\n",
    "- Logs are also stored as Pandas dataframe in `df_logs`\n",
    "\n",
    "Refer to [Filter query reference](https://cloud.ibm.com/docs/services/assistant?topic=assistant-filter-reference) for more information."
   ]
  },
  {
   "cell_type": "markdown",
   "metadata": {},
   "source": [
    "__A. Download all logs for a period of time__"
   ]
  },
  {
   "cell_type": "code",
   "execution_count": null,
   "metadata": {},
   "outputs": [],
   "source": [
    "print('Fetching logs ... ')\n",
    "# Add filter queries\n",
    "filters = ['language::en', # Logs in English \n",
    "           'meta.summary.input_text_length_i>0', # Logs with non empty input \n",
    "           'response_timestamp>=2020-03-01'] # Logs with response timestamp later or equal to 2020-03-01\n",
    "\n",
    "# Query 20,000 logs using default filename \n",
    "df_logs = get_logs_filter(sdk_object, assistant_information, num_logs=20000, filters=filters, reset=True, generate_csv=True)"
   ]
  },
  {
   "cell_type": "markdown",
   "metadata": {},
   "source": [
    "__B. Download logs of the first user utterance in each conversation for a period of time__"
   ]
  },
  {
   "cell_type": "code",
   "execution_count": null,
   "metadata": {},
   "outputs": [],
   "source": [
    "print('Fetching logs ... ')\n",
    "# Add filter queries\n",
    "filters = ['language::en', # Logs in English \n",
    "           'request.context.system.dialog_turn_counter::1', # The first user utterance in each conversation \n",
    "           'response_timestamp>=2020-03-01'] # Logs with response timestamp later or equal to 2020-03-01\n",
    "\n",
    "# Query 20,000 logs using filename 'log_first_utterances.json'\n",
    "df_logs = get_logs_filter(sdk_object, assistant_information, num_logs=20000, filters=filters, filename='log_first_utterances.json', generate_csv=True)"
   ]
  },
  {
   "cell_type": "markdown",
   "metadata": {},
   "source": [
    "__C. Download logs containing specific input text__"
   ]
  },
  {
   "cell_type": "code",
   "execution_count": null,
   "metadata": {},
   "outputs": [],
   "source": [
    "print('Fetching logs ... ')\n",
    "# Add filter queries\n",
    "filters = ['language::en', # Logs in English\n",
    "           'request.input.text::\"Is there an article on how to make cherry pie?\"'] # Logs with input text: \"Is there an article on how to make cherry pie?\"\n",
    "\n",
    "# Query 20,000 logs using filename 'log_input.json'\n",
    "df_logs = get_logs_filter(sdk_object, assistant_information, num_logs=20000, filters=filters, filename='log_input.json', generate_csv=True)"
   ]
  },
  {
   "cell_type": "markdown",
   "metadata": {},
   "source": [
    "__D. Download logs trigging specific intent__"
   ]
  },
  {
   "cell_type": "code",
   "execution_count": null,
   "metadata": {},
   "outputs": [],
   "source": [
    "print('Fetching logs ... ')\n",
    "# Add filter queries\n",
    "filters = ['language::en', # Logs in English\n",
    "           'response.intents:intent::\"article_food\"']  # Intent been triggered: article_food\n",
    "# Query 20,000 logs using filename log_intent.json\n",
    "df_logs = get_logs_filter(sdk_object, assistant_information, num_logs=20000, filters=filters, filename='log_intent.json', generate_csv=True)"
   ]
  },
  {
   "cell_type": "markdown",
   "metadata": {},
   "source": [
    "__E. Download logs trigging specific intent with a confidence range__"
   ]
  },
  {
   "cell_type": "code",
   "execution_count": null,
   "metadata": {},
   "outputs": [],
   "source": [
    "print('Fetching logs ... ')\n",
    "# Add filter queries\n",
    "filters = ['language::en', # Logs in English\n",
    "           'response.intents:(intent:article_food,confidence<0.25)']  # Intent been triggered: article_food with confidence below 0.25\n",
    "# Query 20,000 logs using filename log_intent.json\n",
    "df_logs = get_logs_filter(sdk_object, assistant_information, num_logs=20000, filters=filters, filename='log_intent_confidence.json', generate_csv=True)"
   ]
  },
  {
   "cell_type": "markdown",
   "metadata": {},
   "source": [
    "__F. Download logs visited specific node__"
   ]
  },
  {
   "cell_type": "code",
   "execution_count": null,
   "metadata": {},
   "outputs": [],
   "source": [
    "# Fetch assistant definition and save to a JSON file\n",
    "df_assistant = get_assistant_definition(sdk_object, assistant_information, filename='assistant_definition.json')\n",
    "\n",
    "# Get all intents\n",
    "assistant_intents = [intent['intent'] for intent in df_assistant['intents'].values[0]] \n",
    "\n",
    "# Get all dialog nodes\n",
    "assistant_nodes = pd.DataFrame(df_assistant['dialog_nodes'].values[0])\n",
    "\n",
    "# Find mappings betweeen node name and node id\n",
    "node_title_map = dict()\n",
    "for idx, node in assistant_nodes.iterrows():\n",
    "    if str(node['title']) != 'nan':\n",
    "        node_title_map[node['title']] = node['dialog_node']\n",
    "node_df = pd.DataFrame(node_title_map.items())\n",
    "node_df.columns = {'node_name', 'node_id'}\n",
    "\n",
    "print('Fetching logs ... ')\n",
    "# Add filter queries\n",
    "filters = ['language::en', # Logs in English\n",
    "           'response.output:nodes_visited::[{}]'.format(node_title_map['book_short_dialog'])]  # Visited node: book_short_dialog\n",
    "# Query 20,000 logs using filename log_node.json\n",
    "df_logs = get_logs_filter(sdk_object, assistant_information, num_logs=20000, filters=filters, filename='log_node.json', generate_csv=True)"
   ]
  },
  {
   "cell_type": "code",
   "execution_count": null,
   "metadata": {},
   "outputs": [],
   "source": []
  }
 ],
 "metadata": {
  "kernelspec": {
   "display_name": "Python 3",
   "language": "python",
   "name": "python3"
  },
  "language_info": {
   "codemirror_mode": {
    "name": "ipython",
    "version": 3
   },
   "file_extension": ".py",
   "mimetype": "text/x-python",
   "name": "python",
   "nbconvert_exporter": "python",
   "pygments_lexer": "ipython3",
   "version": "3.6.10"
  }
 },
 "nbformat": 4,
 "nbformat_minor": 4
}
