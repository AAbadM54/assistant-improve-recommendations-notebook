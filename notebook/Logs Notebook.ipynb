{
 "cells": [
  {
   "cell_type": "markdown",
   "metadata": {},
   "source": [
    "## Download logs for Improvement\n",
    "\n",
    "### Introduction\n",
    "This notebook demonstrates how to download logs using different filters"
   ]
  },
  {
   "cell_type": "code",
   "execution_count": 1,
   "metadata": {},
   "outputs": [
    {
     "name": "stdout",
     "output_type": "stream",
     "text": [
      "Requirement already up-to-date: ibm-watson==4.1.0 in /Users/zhezhang/.local/lib/python3.6/site-packages (4.1.0)\n",
      "Requirement already satisfied, skipping upgrade: websocket-client==0.48.0 in /Users/zhezhang/.local/lib/python3.6/site-packages (from ibm-watson==4.1.0) (0.48.0)\n",
      "Requirement already satisfied, skipping upgrade: python-dateutil>=2.5.3 in /Users/zhezhang/.local/lib/python3.6/site-packages (from ibm-watson==4.1.0) (2.8.1)\n",
      "Requirement already satisfied, skipping upgrade: requests<3.0,>=2.0 in /Users/zhezhang/.local/lib/python3.6/site-packages (from ibm-watson==4.1.0) (2.22.0)\n",
      "Requirement already satisfied, skipping upgrade: ibm-cloud-sdk-core==1.0.0 in /Users/zhezhang/.local/lib/python3.6/site-packages (from ibm-watson==4.1.0) (1.0.0)\n",
      "Requirement already satisfied, skipping upgrade: six in /Users/zhezhang/.local/lib/python3.6/site-packages (from websocket-client==0.48.0->ibm-watson==4.1.0) (1.14.0)\n",
      "Requirement already satisfied, skipping upgrade: certifi>=2017.4.17 in /Users/zhezhang/.local/lib/python3.6/site-packages (from requests<3.0,>=2.0->ibm-watson==4.1.0) (2019.11.28)\n",
      "Requirement already satisfied, skipping upgrade: idna<2.9,>=2.5 in /Users/zhezhang/.local/lib/python3.6/site-packages (from requests<3.0,>=2.0->ibm-watson==4.1.0) (2.8)\n",
      "Requirement already satisfied, skipping upgrade: urllib3!=1.25.0,!=1.25.1,<1.26,>=1.21.1 in /Users/zhezhang/.local/lib/python3.6/site-packages (from requests<3.0,>=2.0->ibm-watson==4.1.0) (1.25.8)\n",
      "Requirement already satisfied, skipping upgrade: chardet<3.1.0,>=3.0.2 in /Users/zhezhang/.local/lib/python3.6/site-packages (from requests<3.0,>=2.0->ibm-watson==4.1.0) (3.0.4)\n",
      "Requirement already satisfied, skipping upgrade: PyJWT>=1.7.1 in /Users/zhezhang/.local/lib/python3.6/site-packages (from ibm-cloud-sdk-core==1.0.0->ibm-watson==4.1.0) (1.7.1)\n",
      "\u001b[33mYou are using pip version 18.1, however version 20.0.2 is available.\n",
      "You should consider upgrading via the 'pip install --upgrade pip' command.\u001b[0m\n",
      "Requirement already up-to-date: pandas==1.0.1 in /Users/zhezhang/.local/lib/python3.6/site-packages (1.0.1)\n",
      "Requirement already satisfied, skipping upgrade: numpy>=1.13.3 in /Users/zhezhang/.pyenv/versions/3.6.8/lib/python3.6/site-packages (from pandas==1.0.1) (1.18.1)\n",
      "Requirement already satisfied, skipping upgrade: pytz>=2017.2 in /Users/zhezhang/.pyenv/versions/3.6.8/lib/python3.6/site-packages (from pandas==1.0.1) (2019.3)\n",
      "Requirement already satisfied, skipping upgrade: python-dateutil>=2.6.1 in /Users/zhezhang/.local/lib/python3.6/site-packages (from pandas==1.0.1) (2.8.1)\n",
      "Requirement already satisfied, skipping upgrade: six>=1.5 in /Users/zhezhang/.local/lib/python3.6/site-packages (from python-dateutil>=2.6.1->pandas==1.0.1) (1.14.0)\n",
      "\u001b[33mYou are using pip version 18.1, however version 20.0.2 is available.\n",
      "You should consider upgrading via the 'pip install --upgrade pip' command.\u001b[0m\n",
      "  % Total    % Received % Xferd  Average Speed   Time    Time     Time  Current\n",
      "                                 Dload  Upload   Total   Spent    Left  Speed\n",
      "100 11364  100 11364    0     0  11364      0  0:00:01 --:--:--  0:00:01 39458\n"
     ]
    }
   ],
   "source": [
    "!pip3 install --user --upgrade \"ibm-watson==4.1.0\";\n",
    "!pip3 install --user --upgrade \"pandas==1.0.1\";\n",
    "\n",
    "# Import Watson Assistant related functions\n",
    "from ibm_cloud_sdk_core.authenticators import BasicAuthenticator\n",
    "from ibm_cloud_sdk_core.authenticators import IAMAuthenticator\n",
    "import pandas as pd\n",
    "import json\n",
    "from ibm_watson import AssistantV1\n",
    "\n",
    "!curl -O https://raw.githubusercontent.com/watson-developer-cloud/assistant-improve-recommendations-notebook/logs/src/main/python/watson_assistant_func.py\n",
    "from watson_assistant_func import get_logs_with_filter, get_assistant_definition\n"
   ]
  },
  {
   "cell_type": "markdown",
   "metadata": {},
   "source": [
    "### 1. Add Watson Assistant configuration\n",
    "\n",
    "Provide the service credentials used for accessing your Watson Assistant instance.  \n",
    "\n",
    "- For more information about obtaining Watson Assistant credentials, see [Service credentials for Watson services](https://console.bluemix.net/docs/services/watson/getting-started-credentials.html#creating-credentials).\n",
    "- API requests require a version parameter that takes a date in the format version=YYYY-MM-DD. For more information about version, see [Versioning](https://www.ibm.com/watson/developercloud/assistant/api/v1/curl.html?curl#versioning)."
   ]
  },
  {
   "cell_type": "code",
   "execution_count": 2,
   "metadata": {},
   "outputs": [],
   "source": [
    "# For dev testing workspace:\n",
    "authenticator = BasicAuthenticator('apikey', 'LUbYW_TaiUQEgdXcQmYzUiMrzhuiUX__SF-6L1-LFjIb')\n",
    "sdk_object = AssistantV1(version='2020-02-05', authenticator=authenticator)\n",
    "sdk_object.set_service_url('https://api.us-south.assistant.dev.watson.cloud.ibm.com/')"
   ]
  },
  {
   "cell_type": "markdown",
   "metadata": {},
   "source": [
    "Specify your assistant information."
   ]
  },
  {
   "cell_type": "code",
   "execution_count": 3,
   "metadata": {},
   "outputs": [],
   "source": [
    "# For dev testing workspace:\n",
    "assistant_information = {'workspace_id' : '',\n",
    "                         'skill_id' : 'c1ad23a8-37ea-40b8-bcfa-c329529774b2',\n",
    "                         'assistant_id' : 'aae78540-40bb-4f7c-8d20-84a894d998b9'}"
   ]
  },
  {
   "cell_type": "markdown",
   "metadata": {},
   "source": [
    "### 2. Fetch and load logs\n",
    "\n",
    "- Use `num_logs` to specify number of logs to download \n",
    "- Use `filename` to specify the downloaded file name\n",
    "- Apply `filters` while fetching logs, e.g.,\n",
    "    - removing empty input: `meta.summary.input_text_length_i>0`\n",
    "    - fetching logs generated after a timestamp: `response_timestamp>=2018-09-18`\n",
    "- Logs are also stored as Pandas dataframe in `df_logs`\n"
   ]
  },
  {
   "cell_type": "code",
   "execution_count": 4,
   "metadata": {},
   "outputs": [
    {
     "name": "stdout",
     "output_type": "stream",
     "text": [
      "Fetching logs ... \n",
      "20 logs retrieved\n",
      "Loading 20 logs into dataframe ...\n",
      "Saving logs into test.json ... \n",
      "Completed\n"
     ]
    }
   ],
   "source": [
    "print('Fetching logs ... ')\n",
    "\n",
    "# Filter to be applied while fetching logs\n",
    "filters = ['language::en',\n",
    "           'meta.summary.input_text_length_i>0']\n",
    "\n",
    "df_logs = get_logs_with_filter(sdk_object, assistant_information, num_logs=20000, filters=filters, filename=None)"
   ]
  },
  {
   "cell_type": "markdown",
   "metadata": {},
   "source": [
    "### 3. More filter examples\n",
    "#### 3.1 Get all of the begining utterances in each conversation"
   ]
  },
  {
   "cell_type": "code",
   "execution_count": 5,
   "metadata": {},
   "outputs": [
    {
     "name": "stdout",
     "output_type": "stream",
     "text": [
      "Fetching logs ... \n",
      "17 logs retrieved\n",
      "Loading 17 logs into dataframe ...\n",
      "Saving logs into log_turn_1.json ... \n",
      "Completed\n"
     ]
    }
   ],
   "source": [
    "print('Fetching logs ... ')\n",
    "\n",
    "# Filter to be applied while fetching logs\n",
    "filters = ['language::en',\n",
    "           'request.context.system.dialog_turn_counter::1']\n",
    "\n",
    "df_logs = get_logs_with_filter(sdk_object, assistant_information, num_logs=20000, filters=filters, filename='log_turn_1.json')"
   ]
  },
  {
   "cell_type": "markdown",
   "metadata": {},
   "source": [
    "#### 3.2 Get logs with specified text as input utterance"
   ]
  },
  {
   "cell_type": "code",
   "execution_count": 6,
   "metadata": {},
   "outputs": [
    {
     "name": "stdout",
     "output_type": "stream",
     "text": [
      "Fetching logs ... \n",
      "224 logs retrieved\n",
      "Loading 224 logs into dataframe ...\n",
      "Saving logs into log_input.json ... \n",
      "Completed\n"
     ]
    }
   ],
   "source": [
    "print('Fetching logs ... ')\n",
    "\n",
    "# Filter to be applied while fetching logs\n",
    "filters = ['language::en',\n",
    "           'request.input.text::\"I need a good science fiction book\"']\n",
    "\n",
    "df_logs = get_logs_with_filter(sdk_object, assistant_information, num_logs=20000, filters=filters, filename='log_input.json')"
   ]
  },
  {
   "cell_type": "markdown",
   "metadata": {},
   "source": [
    "#### 3.3 Get logs with specified intent detected in reponse"
   ]
  },
  {
   "cell_type": "code",
   "execution_count": 7,
   "metadata": {},
   "outputs": [
    {
     "name": "stdout",
     "output_type": "stream",
     "text": [
      "Fetching logs ... \n",
      "2164 logs retrieved\n",
      "Loading 2164 logs into dataframe ...\n",
      "Saving logs into log_intent.json ... \n",
      "Completed\n"
     ]
    }
   ],
   "source": [
    "print('Fetching logs ... ')\n",
    "\n",
    "# Filter to be applied while fetching logs\n",
    "filters = ['language::en',\n",
    "           'response.intents:intent::\"book_scifi\"']\n",
    "\n",
    "df_logs = get_logs_with_filter(sdk_object, assistant_information, num_logs=20000, filters=filters, filename='log_intent.json')"
   ]
  },
  {
   "cell_type": "markdown",
   "metadata": {},
   "source": [
    "#### 3.4 Get assistant definition and save to a JSON file"
   ]
  },
  {
   "cell_type": "code",
   "execution_count": 8,
   "metadata": {},
   "outputs": [
    {
     "name": "stdout",
     "output_type": "stream",
     "text": [
      "Loading skill definition using skill id: c1ad23a8-37ea-40b8-bcfa-c329529774b2\n",
      "Assistant definition test_work.json exported\n"
     ]
    }
   ],
   "source": [
    "df_assistant = get_assistant_definition(sdk_object, assistant_information, filename='test_work.json')\n",
    "\n",
    "# Get all intents\n",
    "assistant_intents = [intent['intent'] for intent in df_assistant['intents'].values[0]] \n",
    "\n",
    "# Get all dialog nodes\n",
    "assistant_nodes = pd.DataFrame(df_assistant['dialog_nodes'].values[0])"
   ]
  },
  {
   "cell_type": "markdown",
   "metadata": {},
   "source": [
    "#### 3.4 Get logs visited specified node in reponse"
   ]
  },
  {
   "cell_type": "code",
   "execution_count": 9,
   "metadata": {},
   "outputs": [
    {
     "data": {
      "text/html": [
       "<div>\n",
       "<style scoped>\n",
       "    .dataframe tbody tr th:only-of-type {\n",
       "        vertical-align: middle;\n",
       "    }\n",
       "\n",
       "    .dataframe tbody tr th {\n",
       "        vertical-align: top;\n",
       "    }\n",
       "\n",
       "    .dataframe thead th {\n",
       "        text-align: right;\n",
       "    }\n",
       "</style>\n",
       "<table border=\"1\" class=\"dataframe\">\n",
       "  <thead>\n",
       "    <tr style=\"text-align: right;\">\n",
       "      <th></th>\n",
       "      <th>node_id</th>\n",
       "      <th>node_name</th>\n",
       "    </tr>\n",
       "  </thead>\n",
       "  <tbody>\n",
       "    <tr>\n",
       "      <th>0</th>\n",
       "      <td>article_food_dialog</td>\n",
       "      <td>node_2_1582134542638</td>\n",
       "    </tr>\n",
       "    <tr>\n",
       "      <th>1</th>\n",
       "      <td>hello</td>\n",
       "      <td>node_6_1582040347726</td>\n",
       "    </tr>\n",
       "    <tr>\n",
       "      <th>2</th>\n",
       "      <td>book_short_dialog</td>\n",
       "      <td>node_5_1582050079858</td>\n",
       "    </tr>\n",
       "    <tr>\n",
       "      <th>3</th>\n",
       "      <td>article_politics_dialog</td>\n",
       "      <td>node_10_1582133662325</td>\n",
       "    </tr>\n",
       "    <tr>\n",
       "      <th>4</th>\n",
       "      <td>book_computer</td>\n",
       "      <td>node_1_1582049209157</td>\n",
       "    </tr>\n",
       "    <tr>\n",
       "      <th>5</th>\n",
       "      <td>book_politics_dialog</td>\n",
       "      <td>node_5_1582049713134</td>\n",
       "    </tr>\n",
       "    <tr>\n",
       "      <th>6</th>\n",
       "      <td>article_selfimprove_dialog</td>\n",
       "      <td>node_1_1582134460437</td>\n",
       "    </tr>\n",
       "    <tr>\n",
       "      <th>7</th>\n",
       "      <td>book_long_dialog</td>\n",
       "      <td>node_8_1582050051508</td>\n",
       "    </tr>\n",
       "    <tr>\n",
       "      <th>8</th>\n",
       "      <td>article_fantasy_dialog</td>\n",
       "      <td>node_7_1582133509246</td>\n",
       "    </tr>\n",
       "    <tr>\n",
       "      <th>9</th>\n",
       "      <td>book_history_dialog</td>\n",
       "      <td>node_2_1582049297943</td>\n",
       "    </tr>\n",
       "    <tr>\n",
       "      <th>10</th>\n",
       "      <td>article_history_dialog</td>\n",
       "      <td>node_9_1582133556135</td>\n",
       "    </tr>\n",
       "    <tr>\n",
       "      <th>11</th>\n",
       "      <td>article_money_dialog</td>\n",
       "      <td>node_1_1582133629623</td>\n",
       "    </tr>\n",
       "    <tr>\n",
       "      <th>12</th>\n",
       "      <td>book_food_dialog</td>\n",
       "      <td>node_3_1582134595076</td>\n",
       "    </tr>\n",
       "    <tr>\n",
       "      <th>13</th>\n",
       "      <td>two</td>\n",
       "      <td>node_5_1582040246957</td>\n",
       "    </tr>\n",
       "    <tr>\n",
       "      <th>14</th>\n",
       "      <td>article_scifi_dialog</td>\n",
       "      <td>node_8_1582133720490</td>\n",
       "    </tr>\n",
       "    <tr>\n",
       "      <th>15</th>\n",
       "      <td>Anything else</td>\n",
       "      <td>Anything else</td>\n",
       "    </tr>\n",
       "    <tr>\n",
       "      <th>16</th>\n",
       "      <td>book_fantasy_dialog</td>\n",
       "      <td>node_6_1582049261648</td>\n",
       "    </tr>\n",
       "    <tr>\n",
       "      <th>17</th>\n",
       "      <td>article_computer_dialog</td>\n",
       "      <td>node_2_1582133481345</td>\n",
       "    </tr>\n",
       "    <tr>\n",
       "      <th>18</th>\n",
       "      <td>one</td>\n",
       "      <td>node_10_1582039896349</td>\n",
       "    </tr>\n",
       "    <tr>\n",
       "      <th>19</th>\n",
       "      <td>book_selfimprove_dialog</td>\n",
       "      <td>node_3_1582049417508</td>\n",
       "    </tr>\n",
       "    <tr>\n",
       "      <th>20</th>\n",
       "      <td>book_money_dialog</td>\n",
       "      <td>node_1_1582049324143</td>\n",
       "    </tr>\n",
       "    <tr>\n",
       "      <th>21</th>\n",
       "      <td>hi</td>\n",
       "      <td>node_6_1582040330964</td>\n",
       "    </tr>\n",
       "    <tr>\n",
       "      <th>22</th>\n",
       "      <td>book_scifi_dialog</td>\n",
       "      <td>node_2_1582049373395</td>\n",
       "    </tr>\n",
       "    <tr>\n",
       "      <th>23</th>\n",
       "      <td>Welcome</td>\n",
       "      <td>Welcome</td>\n",
       "    </tr>\n",
       "  </tbody>\n",
       "</table>\n",
       "</div>"
      ],
      "text/plain": [
       "                       node_id              node_name\n",
       "0          article_food_dialog   node_2_1582134542638\n",
       "1                        hello   node_6_1582040347726\n",
       "2            book_short_dialog   node_5_1582050079858\n",
       "3      article_politics_dialog  node_10_1582133662325\n",
       "4                book_computer   node_1_1582049209157\n",
       "5         book_politics_dialog   node_5_1582049713134\n",
       "6   article_selfimprove_dialog   node_1_1582134460437\n",
       "7             book_long_dialog   node_8_1582050051508\n",
       "8       article_fantasy_dialog   node_7_1582133509246\n",
       "9          book_history_dialog   node_2_1582049297943\n",
       "10      article_history_dialog   node_9_1582133556135\n",
       "11        article_money_dialog   node_1_1582133629623\n",
       "12            book_food_dialog   node_3_1582134595076\n",
       "13                         two   node_5_1582040246957\n",
       "14        article_scifi_dialog   node_8_1582133720490\n",
       "15               Anything else          Anything else\n",
       "16         book_fantasy_dialog   node_6_1582049261648\n",
       "17     article_computer_dialog   node_2_1582133481345\n",
       "18                         one  node_10_1582039896349\n",
       "19     book_selfimprove_dialog   node_3_1582049417508\n",
       "20           book_money_dialog   node_1_1582049324143\n",
       "21                          hi   node_6_1582040330964\n",
       "22           book_scifi_dialog   node_2_1582049373395\n",
       "23                     Welcome                Welcome"
      ]
     },
     "execution_count": 9,
     "metadata": {},
     "output_type": "execute_result"
    }
   ],
   "source": [
    "node_title_map = dict()\n",
    "for idx, node in assistant_nodes.iterrows():\n",
    "    if str(node['title']) != 'nan':\n",
    "        node_title_map[node['title']] = node['dialog_node']\n",
    "node_df = pd.DataFrame(node_title_map.items())\n",
    "node_df.columns = {'node_name', 'node_id'}\n",
    "node_df"
   ]
  },
  {
   "cell_type": "code",
   "execution_count": 10,
   "metadata": {},
   "outputs": [
    {
     "name": "stdout",
     "output_type": "stream",
     "text": [
      "Fetching logs ... \n",
      "20 logs retrieved\n",
      "Loading 20 logs into dataframe ...\n",
      "Saving logs into log_node.json ... \n",
      "Completed\n"
     ]
    }
   ],
   "source": [
    "print('Fetching logs ... ')\n",
    "\n",
    "# Filter to be applied while fetching logs\n",
    "filters = ['language::en',\n",
    "           'response.output:nodes_visited::[{}]'.format(node_title_map['book_short_dialog'])]\n",
    "\n",
    "df_logs = get_logs_with_filter(sdk_object, assistant_information, num_logs=20000, filters=filters, filename='log_node.json')"
   ]
  }
 ],
 "metadata": {
  "kernelspec": {
   "display_name": "Python 3",
   "language": "python",
   "name": "python3"
  },
  "language_info": {
   "codemirror_mode": {
    "name": "ipython",
    "version": 3
   },
   "file_extension": ".py",
   "mimetype": "text/x-python",
   "name": "python",
   "nbconvert_exporter": "python",
   "pygments_lexer": "ipython3",
   "version": "3.6.8"
  }
 },
 "nbformat": 4,
 "nbformat_minor": 4
}
