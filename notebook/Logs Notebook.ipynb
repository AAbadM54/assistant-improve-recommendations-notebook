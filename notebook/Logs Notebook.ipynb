{
 "cells": [
  {
   "cell_type": "markdown",
   "metadata": {},
   "source": [
    "# Waston Assistant Logs Notebook"
   ]
  },
  {
   "cell_type": "markdown",
   "metadata": {},
   "source": [
    "## Introduction\n",
    "This notebook demonstrates how to download Watson Assistant user-generated logs based on different criteria.\n",
    "\n",
    "### Programming language and environment\n",
    "Some familiarity with Python is recommended. This notebook runs on Python 3.6"
   ]
  },
  {
   "cell_type": "markdown",
   "metadata": {},
   "source": [
    "<a id=\"setup\"></a>\n",
    "## 1. Configuration and Setup\n",
    "\n",
    "In this section, we add data and workspace access credentials, import required libraries and functions.\n",
    "\n",
    "### <a id=\"python\"></a> 1.1 Install required Python libraries"
   ]
  },
  {
   "cell_type": "code",
   "execution_count": null,
   "metadata": {},
   "outputs": [],
   "source": [
    "!pip3 install --user --upgrade \"ibm-watson==4.1.0\";\n",
    "!pip3 install --user --upgrade \"pandas==1.0.1\";\n",
    "!curl -O https://raw.githubusercontent.com/watson-developer-cloud/assistant-improve-recommendations-notebook/logs/src/main/python/watson_assistant_func.py"
   ]
  },
  {
   "cell_type": "markdown",
   "metadata": {},
   "source": [
    "### <a id=\"function\"></a> 1.2 Import functions used in the notebook"
   ]
  },
  {
   "cell_type": "code",
   "execution_count": 1,
   "metadata": {},
   "outputs": [],
   "source": [
    "# Import Watson Assistant related functions\n",
    "from ibm_cloud_sdk_core.authenticators import BasicAuthenticator\n",
    "from ibm_cloud_sdk_core.authenticators import IAMAuthenticator\n",
    "import pandas as pd\n",
    "import json\n",
    "from ibm_watson import AssistantV1\n",
    "\n",
    "from watson_assistant_func import get_logs\n",
    "from watson_assistant_func import get_assistant_definition\n",
    "from watson_assistant_func import load_logs_from_file\n",
    "from watson_assistant_func import export_csv_for_intent_recommendation"
   ]
  },
  {
   "cell_type": "markdown",
   "metadata": {},
   "source": [
    "## <a id=\"load\"></a> 2. Load and format data "
   ]
  },
  {
   "cell_type": "markdown",
   "metadata": {
    "pycharm": {
     "name": "#%% md\n"
    }
   },
   "source": [
    "### 2.1 Add Watson Assistant configuration\n",
    "\n",
    "This notebook uses the Watson Assistant v1 API to access your skill definition and your logs. Provide your Watson Assistant credentials and the workspace id that you want to fetch data from.\n",
    "\n",
    "You can access the values you need for this configuration from the Watson Assistant user interface. Go to the Skills page and select View API Details from the menu of a skill tile.\n",
    "\n",
    "- The string to set in the call to IAMAuthenticator is your Api Key under Service Credentials\n",
    "- The string to set for version is a date in the format version=YYYY-MM-DD. The version date string determines which version of the Watson Assistant V1 API will be called. For more information about version, see [Versioning](https://cloud.ibm.com/apidocs/assistant/assistant-v1#versioning).\n",
    "- The string to pass into assistant.set_service_url is the portion of the Legacy v1 Workspace URL that ends with /api. For example, https://gateway.watsonplatform.net/assistant/api. This value will be different depending on the location of your service instance. Do not pass in the entire Workspace URL."
   ]
  },
  {
   "cell_type": "code",
   "execution_count": 2,
   "metadata": {},
   "outputs": [],
   "source": [
    "# Provide credentials to connect to assistant\n",
    "authenticator = IAMAuthenticator('API_KEY')\n",
    "sdk_object = AssistantV1(version='2020-04-01', authenticator=authenticator)\n",
    "sdk_object.set_service_url('URL')"
   ]
  },
  {
   "cell_type": "markdown",
   "metadata": {},
   "source": [
    "Add the information of your assistant. To load the skill of an assistant in the next section, you need to provide either Workspace ID or Skill ID. The values can be found on the View API Details page. If you are using versioning in Watson Assistant, this ID represents the Development version of your skill definition.\n",
    "\n",
    "For more information about authentication and finding credentials in the Watson Assistant UI, please see [Watson Assistant v1 API](https://cloud.ibm.com/apidocs/assistant/assistant-v1) in the offering documentation.\n"
   ]
  },
  {
   "cell_type": "code",
   "execution_count": 3,
   "metadata": {},
   "outputs": [],
   "source": [
    "assistant_information = {'workspace_id' : '',\n",
    "                         'skill_id' : '',\n",
    "                         'assistant_id' : ''}"
   ]
  },
  {
   "cell_type": "markdown",
   "metadata": {},
   "source": [
    "### 2.2 Fetch and load logs\n",
    "\n",
    "- `num_logs`: number of logs to fetch\n",
    "- Use `filename` to specify if logs are saved as a JSON file (default: `None`)\n",
    "- Apply `filters` while fetching logs (default: `[]`), e.g.,\n",
    "    - removing empty input: `meta.summary.input_text_length_i>0`\n",
    "    - fetching logs generated after a timestamp: `response_timestamp>=2018-09-18`\n",
    "  \n",
    "  Refer to [Filter query reference](https://cloud.ibm.com/docs/services/assistant?topic=assistant-filter-reference) for\n",
    "  more information.\n",
    "- Use `project` to specify project when using Watson Studio (default: `None`)\n",
    "- Use `overwrite` to overwrite if `filename` exists (default: `False`)\n"
   ]
  },
  {
   "cell_type": "markdown",
   "metadata": {},
   "source": [
    "__A. Download all logs for a period of time (and save as a JSON file for Measure notebook)__"
   ]
  },
  {
   "cell_type": "code",
   "execution_count": 4,
   "metadata": {},
   "outputs": [
    {
     "name": "stdout",
     "output_type": "stream",
     "text": [
      "7140 logs retrievedLoaded 7140 logs\n",
      "Saving logs.json logs into JSON file... \n",
      "File logs.json saved a project asset\n"
     ]
    }
   ],
   "source": [
    "# Add filter queries\n",
    "filters = ['language::en', # Logs in English\n",
    "           'meta.summary.input_text_length_i>0', # Logs with non empty input \n",
    "           'response_timestamp>=2020-03-01'] # Logs with response timestamp later or equal to 2020-03-01\n",
    "\n",
    "# Query 20,000 logs using default filename \n",
    "logs = get_logs(sdk_object, assistant_information, num_logs=20000, filters=filters, filename='logs.json')"
   ]
  },
  {
   "cell_type": "markdown",
   "source": [
    "__B. Download and export logs for intent recommendation__\n",
    "\n",
    "For intent recommendation, by default, an utterance is considered only when:\n",
    "- It is the first user utterance in each conversation\n",
    "- its confidence `response.intents::confidence` is between 0.1 and 0.6 (exclusive),\n",
    "- its token count is between 3 and 20 (exclusive), and\n",
    "- it is not a duplicate of the other utterances in the logs.\n",
    "\n",
    "This example adds confidence filters when calling `get_logs`, and then exports the utterances to a CSV file by calling\n",
    "`export_csv_for_intent_recommendation` with token count filter and dedeplication applied.\n"
   ],
   "metadata": {
    "collapsed": false
   }
  },
  {
   "cell_type": "code",
   "execution_count": 5,
   "outputs": [
    {
     "name": "stdout",
     "output_type": "stream",
     "text": [
      "44 logs retrievedLoaded 44 logs\n",
      "Saving log_for_intent_recommendation.json logs into JSON file... \n",
      "File log_for_intent_recommendation.json saved a project asset\n",
      "Reading from file: log_for_intent_recommendation.json\n",
      "Loaded 44 logs\n"
     ]
    }
   ],
   "source": [
    "# Add filter queries\n",
    "filters = ['language::en', # Logs in English\n",
    "           'request.context.system.dialog_turn_counter::1', # The first user utterance in each conversation\n",
    "           'response.intents:confidence<0.6', # filter out high intent confidence utterance\n",
    "           'response.intents:confidence>0.1', # filter out low intent confidnce utterance\n",
    "          ]\n",
    "\n",
    "# Query 20,000 logs using filename 'log_first_utterances.json'\n",
    "logs = get_logs(sdk_object,\n",
    "                assistant_information,\n",
    "                num_logs=20000,\n",
    "                filters=filters,\n",
    "                filename='log_for_intent_recommendation.json')\n",
    "\n",
    "# Or, load previously saved logs.\n",
    "logs = load_logs_from_file(filename='log_for_intent_recommendation.json')"
   ],
   "metadata": {
    "collapsed": false,
    "pycharm": {
     "name": "#%%\n"
    }
   }
  },
  {
   "cell_type": "markdown",
   "source": [
    "Export logs to a CSV file for intent recommendation\n",
    "\n",
    "- `logs`: the logs object from `get_logs` or `load_logs_from_file`\n",
    "- `filename`: the CSV output filename\n",
    "- Use `deduplicate` to specify if duplicate messages should be removed (default: `True`)\n",
    "- Use `project` to specify project when using Watson Studio (default: `None`)\n",
    "- Use `overwrite` to overwrite if `filename` exists (default: `False`)\n",
    "- Use `min_length` to filter out utterances that are less than certain number of tokens (exclusive, default: `3`)\n",
    "- Use `max_length` to filter out utterances that are more than certain number of tokens (exclusive, default: `20`)"
   ],
   "metadata": {
    "collapsed": false
   }
  },
  {
   "cell_type": "code",
   "execution_count": 6,
   "outputs": [
    {
     "name": "stdout",
     "output_type": "stream",
     "text": [
      "\n",
      "Exporting 2 messages into CSV...\n",
      "File log_for_intent_recommendation.csv saved\n"
     ]
    },
    {
     "data": {
      "text/plain": "[['i need a good science fiction book'], ['what is a good fantasy novel']]"
     },
     "execution_count": 6,
     "metadata": {},
     "output_type": "execute_result"
    }
   ],
   "source": [
    "export_csv_for_intent_recommendation(logs,\n",
    "                                     filename='log_for_intent_recommendation.csv',\n",
    "                                     deduplicate=True,\n",
    "                                     min_length=3,\n",
    "                                     max_length=20,\n",
    "                                     overwrite=False)"
   ],
   "metadata": {
    "collapsed": false,
    "pycharm": {
     "name": "#%%\n"
    }
   }
  },
  {
   "cell_type": "markdown",
   "metadata": {},
   "source": [
    "__C. More examples__\n",
    "\n",
    "Download logs of the first user utterance in each conversation for a period of time"
   ]
  },
  {
   "cell_type": "code",
   "execution_count": 7,
   "metadata": {},
   "outputs": [
    {
     "name": "stdout",
     "output_type": "stream",
     "text": [
      "44 logs retrievedLoaded 44 logs\n",
      "Saving log_first_utterances.json logs into JSON file... \n",
      "File log_first_utterances.json saved a project asset\n"
     ]
    }
   ],
   "source": [
    "# Add filter queries\n",
    "filters = ['language::en', # Logs in English \n",
    "           'request.context.system.dialog_turn_counter::1', # The first user utterance in each conversation\n",
    "           'response_timestamp>=2020-03-01'] # Logs with response timestamp later or equal to 2020-03-01\n",
    "\n",
    "# Query 20,000 logs using filename 'log_first_utterances.json'\n",
    "logs = get_logs(sdk_object, assistant_information, num_logs=20000, filters=filters, filename='log_first_utterances.json')"
   ]
  },
  {
   "cell_type": "markdown",
   "source": [
    "Download logs containing specific input text"
   ],
   "metadata": {
    "collapsed": false
   }
  },
  {
   "cell_type": "code",
   "execution_count": 8,
   "outputs": [
    {
     "name": "stdout",
     "output_type": "stream",
     "text": [
      "214 logs retrievedLoaded 214 logs\n",
      "Saving log_input.json logs into JSON file... \n",
      "File log_input.json saved a project asset\n"
     ]
    }
   ],
   "source": [
    "# Add filter queries\n",
    "filters = ['language::en', # Logs in English\n",
    "           'request.input.text::\"Is there an article on how to make cherry pie?\"'] # Logs with input text: \"Is there an article on how to make cherry pie?\"\n",
    "\n",
    "# Query 20,000 logs using filename 'log_input.json'\n",
    "logs = get_logs(sdk_object, assistant_information, num_logs=20000, filters=filters, filename='log_input.json')"
   ],
   "metadata": {
    "collapsed": false,
    "pycharm": {
     "name": "#%%\n"
    }
   }
  },
  {
   "cell_type": "markdown",
   "metadata": {},
   "source": [
    "Download logs trigging specific intent"
   ]
  },
  {
   "cell_type": "code",
   "execution_count": 9,
   "metadata": {},
   "outputs": [
    {
     "name": "stdout",
     "output_type": "stream",
     "text": [
      "1810 logs retrievedLoaded 1810 logs\n",
      "Saving log_intent.json logs into JSON file... \n",
      "File log_intent.json saved a project asset\n"
     ]
    }
   ],
   "source": [
    "# Add filter queries\n",
    "filters = ['language::en', # Logs in English\n",
    "           'response.intents:intent::\"article_food\"']  # Intent been triggered: article_food\n",
    "# Query 20,000 logs using filename log_intent.json\n",
    "logs = get_logs(sdk_object, assistant_information, num_logs=20000, filters=filters, filename='log_intent.json')"
   ]
  },
  {
   "cell_type": "markdown",
   "metadata": {},
   "source": [
    "Download logs trigging specific intent with a confidence range"
   ]
  },
  {
   "cell_type": "code",
   "execution_count": 10,
   "metadata": {},
   "outputs": [
    {
     "name": "stdout",
     "output_type": "stream",
     "text": [
      "1278 logs retrievedLoaded 1278 logs\n",
      "Saving log_intent_confidence.json logs into JSON file... \n",
      "File log_intent_confidence.json saved a project asset\n"
     ]
    }
   ],
   "source": [
    "# Add filter queries\n",
    "filters = ['language::en', # Logs in English\n",
    "           'response.intents:(intent:article_food,confidence<0.25)']  # Intent been triggered: article_food with confidence below 0.25\n",
    "# Query 20,000 logs using filename log_intent.json\n",
    "logs = get_logs(sdk_object, assistant_information, num_logs=20000, filters=filters, filename='log_intent_confidence.json')"
   ]
  },
  {
   "cell_type": "markdown",
   "metadata": {},
   "source": [
    "Download logs visited specific node"
   ]
  },
  {
   "cell_type": "code",
   "execution_count": 11,
   "metadata": {},
   "outputs": [
    {
     "name": "stdout",
     "output_type": "stream",
     "text": [
      "Loading skill definition using skill id: 06934d39-8071-48cf-8d1b-9d4702516d52\n",
      "216 logs retrievedLoaded 216 logs\n",
      "Saving log_node.json logs into JSON file... \n",
      "File log_node.json saved a project asset\n"
     ]
    }
   ],
   "source": [
    "# Fetch assistant definition and save to a JSON file\n",
    "df_assistant = get_assistant_definition(sdk_object, assistant_information, filename='assistant_definition.json')\n",
    "\n",
    "# Get all intents\n",
    "assistant_intents = [intent['intent'] for intent in df_assistant['intents'].values[0]] \n",
    "\n",
    "# Get all dialog nodes\n",
    "assistant_nodes = pd.DataFrame(df_assistant['dialog_nodes'].values[0])\n",
    "\n",
    "# Find mappings betweeen node name and node id\n",
    "node_title_map = dict()\n",
    "for idx, node in assistant_nodes.iterrows():\n",
    "    if str(node['title']) != 'nan':\n",
    "        node_title_map[node['title']] = node['dialog_node']\n",
    "node_df = pd.DataFrame(node_title_map.items())\n",
    "node_df.columns = {'node_name', 'node_id'}\n",
    "\n",
    "# Add filter queries\n",
    "filters = ['language::en', # Logs in English\n",
    "           'response.output:nodes_visited::[{}]'.format(node_title_map['book_short_dialog'])]  # Visited node: book_short_dialog\n",
    "# Query 20,000 logs using filename log_node.json\n",
    "logs = get_logs(sdk_object, assistant_information, num_logs=20000, filters=filters, filename='log_node.json')"
   ]
  },
  {
   "cell_type": "code",
   "execution_count": null,
   "metadata": {},
   "outputs": [],
   "source": []
  }
 ],
 "metadata": {
  "kernelspec": {
   "display_name": "Python 3",
   "language": "python",
   "name": "python3"
  },
  "language_info": {
   "codemirror_mode": {
    "name": "ipython",
    "version": 3
   },
   "file_extension": ".py",
   "mimetype": "text/x-python",
   "name": "python",
   "nbconvert_exporter": "python",
   "pygments_lexer": "ipython3",
   "version": "3.6.10"
  }
 },
 "nbformat": 4,
 "nbformat_minor": 4
}