{
 "cells": [
  {
   "cell_type": "markdown",
   "metadata": {},
   "source": [
    "# Measure Watson Assistant Performance "
   ]
  },
  {
   "cell_type": "markdown",
   "metadata": {},
   "source": [
    "![overall_measure.png](https://raw.githubusercontent.com/watson-developer-cloud/assistant-improve-recommendations-notebook/master/notebook/imgs/measure_overall.png)\n",
    "\n",
    "## Introduction\n",
    "\n",
    "This notebook demonstrates how to setup automated metrics that help you measure, monitor, and understand the behavior of your Watson Assistant system.As described in <a href=\"https://github.com/watson-developer-cloud/assistant-improve-recommendations-notebook/raw/master/notebook/IBM%20Watson%20Assistant%20Continuous%20Improvement%20Best%20Practices.pdf\" target=\"_blank\" rel=\"noopener noreferrer\">Watson Assistant Continuous Improvement Best Practices</a>, this is the first step of your continuous improvement process. The goal of this step is to understand where your assistant is doing well vs where it isn’t and to potentially focus your improvement effort to one of the problem areas identified. We define two measures to achieve this goal: **Coverage** and **Effectiveness**.\n",
    "\n",
    "- **Coverage** is the portion of total user messages your assistant is attempting to respond to.\n",
    "\n",
    "- **Effectiveness** refers to how well your assistant is handling the conversations it is attempting to respond to.\n",
    "\n",
    "The pre-requisite for running this notebook is Watson Assistant (formerly Watson Conversation). This notebook assumes familiarity with Watson Assistant and concepts such as workspaces, intents and training examples. \n",
    "\n",
    "### Programming language and environment\n",
    "Some familiarity with Python is recommended. This notebook runs on Python 3.5 with Default Python 3.5 XS environment.\n",
    "***"
   ]
  },
  {
   "cell_type": "markdown",
   "metadata": {},
   "source": [
    "## Table of contents"
   ]
  },
  {
   "cell_type": "markdown",
   "metadata": {},
   "source": [
    "1. [Configuration and setup](#setup)<br>\n",
    "    1.1 [Import and apply global CSS styles](#css)<br>\n",
    "    1.2 [Install required Python libraries](#python)<br>\n",
    "    1.3 [Import functions used in the notebook](#function)<br>\n",
    "2. [Load and format data](#load)<br>\n",
    "    2.1 [Option one: from a Watson Assistant instance](#load_remote)<br>\n",
    "    2.2 [Option two: from JSON files](#load_local)<br>\n",
    "    2.3 [Format the log data](#format_data)<br>\n",
    "3. [Define coverage and effectiveness metrics](#set_metrics)<br>\n",
    "    3.1 [Customize coverage](#set_coverage)<br>\n",
    "    3.2 [Customize effectiveness](#set_effectiveness)<br>\n",
    "4. [Calculate overall coverage and effectiveness](#overall)<br>\n",
    "    4.1 [Calculate overall metrics](#overall1)<br>\n",
    "    4.2 [Display overall results](#overall2)<br>\n",
    "5. [Analyze coverage](#msg_analysis)<br>\n",
    "    5.1 [Display overall coverage](#msg_analysis1)<br>\n",
    "    5.2 [Calculate coverage over time](#msg_analysis2)<br>\n",
    "6. [Analyze effectiveness](#conv_analysis)<br>\n",
    "    6.1 [Generate excel file and upload to our project](#conv_analysis1)<br>\n",
    "    6.2 [Plot breakdown by effectiveness graph](#conv_analysis2)<br>\n",
    "7. [Root cause analysis of non coverage](#root_cause)<br>\n",
    "8. [Summary and next steps](#summary)<br>"
   ]
  },
  {
   "cell_type": "markdown",
   "metadata": {},
   "source": [
    "<a id=\"setup\"></a>\n",
    "## 1. Configuration and Setup\n",
    "\n",
    "In this section, we add data and workspace access credentials, import required libraries and functions."
   ]
  },
  {
   "cell_type": "markdown",
   "metadata": {},
   "source": [
    "### <a id=\"css\"></a> 1.1 Import and apply global CSS styles"
   ]
  },
  {
   "cell_type": "code",
   "execution_count": 1,
   "metadata": {},
   "outputs": [
    {
     "name": "stdout",
     "output_type": "stream",
     "text": [
      "  % Total    % Received % Xferd  Average Speed   Time    Time     Time  Current\n",
      "                                 Dload  Upload   Total   Spent    Left  Speed\n",
      "100   348  100   348    0     0    348      0  0:00:01 --:--:--  0:00:01  1596\n"
     ]
    },
    {
     "data": {
      "text/html": [
       "<style>\n",
       "    h1 {\n",
       "        font-family: \"HelveticaNeue-Light\", \"Helvetica Neue Light\", \"Helvetica Neue\";\n",
       "    }\n",
       "    div.text_cell_render{\n",
       "        font-family: \"HelveticaNeue-Light\", \"Helvetica Neue Light\", \"Helvetica Neue\";\n",
       "        line-height: 145%;\n",
       "        font-size: 120%;\n",
       "    }\n",
       "    .warning{\n",
       "        color: rgb( 240, 20, 20 )\n",
       "        }  \n",
       "</style>\n"
      ],
      "text/plain": [
       "<IPython.core.display.HTML object>"
      ]
     },
     "execution_count": 1,
     "metadata": {},
     "output_type": "execute_result"
    }
   ],
   "source": [
    "from IPython.display import HTML\n",
    "!curl -O https://raw.githubusercontent.com/watson-developer-cloud/assistant-improve-recommendations-notebook/master/src/main/css/custom.css\n",
    "HTML(open('custom.css', 'r').read())"
   ]
  },
  {
   "cell_type": "markdown",
   "metadata": {},
   "source": [
    "### <a id=\"python\"></a> 1.2 Install required Python libraries"
   ]
  },
  {
   "cell_type": "code",
   "execution_count": 2,
   "metadata": {},
   "outputs": [
    {
     "name": "stdout",
     "output_type": "stream",
     "text": [
      "Requirement already up-to-date: watson-developer-cloud<2.0,>=1.0 in /usr/local/lib/python3.6/site-packages (1.7.1)\n",
      "Requirement already satisfied, skipping upgrade: python-dateutil>=2.5.3 in /usr/local/lib/python3.6/site-packages (from watson-developer-cloud<2.0,>=1.0) (2.6.1)\n",
      "Requirement already satisfied, skipping upgrade: autobahn>=0.10.9 in /usr/local/lib/python3.6/site-packages (from watson-developer-cloud<2.0,>=1.0) (18.6.1)\n",
      "Requirement already satisfied, skipping upgrade: pyOpenSSL>=16.2.0 in /usr/local/lib/python3.6/site-packages (from watson-developer-cloud<2.0,>=1.0) (18.0.0)\n",
      "Requirement already satisfied, skipping upgrade: requests<3.0,>=2.0 in /usr/local/lib/python3.6/site-packages (from watson-developer-cloud<2.0,>=1.0) (2.18.4)\n",
      "Requirement already satisfied, skipping upgrade: service-identity>=17.0.0 in /usr/local/lib/python3.6/site-packages (from watson-developer-cloud<2.0,>=1.0) (17.0.0)\n",
      "Requirement already satisfied, skipping upgrade: Twisted>=13.2.0 in /usr/local/lib/python3.6/site-packages (from watson-developer-cloud<2.0,>=1.0) (18.4.0)\n",
      "Requirement already satisfied, skipping upgrade: six>=1.5 in /usr/local/lib/python3.6/site-packages (from python-dateutil>=2.5.3->watson-developer-cloud<2.0,>=1.0) (1.11.0)\n",
      "Requirement already satisfied, skipping upgrade: txaio>=2.10.0 in /usr/local/lib/python3.6/site-packages (from autobahn>=0.10.9->watson-developer-cloud<2.0,>=1.0) (2.10.0)\n",
      "Requirement already satisfied, skipping upgrade: cryptography>=2.2.1 in /usr/local/lib/python3.6/site-packages (from pyOpenSSL>=16.2.0->watson-developer-cloud<2.0,>=1.0) (2.2.2)\n",
      "Requirement already satisfied, skipping upgrade: urllib3<1.23,>=1.21.1 in /usr/local/lib/python3.6/site-packages (from requests<3.0,>=2.0->watson-developer-cloud<2.0,>=1.0) (1.22)\n",
      "Requirement already satisfied, skipping upgrade: certifi>=2017.4.17 in /usr/local/lib/python3.6/site-packages (from requests<3.0,>=2.0->watson-developer-cloud<2.0,>=1.0) (2017.11.5)\n",
      "Requirement already satisfied, skipping upgrade: chardet<3.1.0,>=3.0.2 in /usr/local/lib/python3.6/site-packages (from requests<3.0,>=2.0->watson-developer-cloud<2.0,>=1.0) (3.0.4)\n",
      "Requirement already satisfied, skipping upgrade: idna<2.7,>=2.5 in /usr/local/lib/python3.6/site-packages (from requests<3.0,>=2.0->watson-developer-cloud<2.0,>=1.0) (2.6)\n",
      "Requirement already satisfied, skipping upgrade: pyasn1 in /usr/local/lib/python3.6/site-packages (from service-identity>=17.0.0->watson-developer-cloud<2.0,>=1.0) (0.1.9)\n",
      "Requirement already satisfied, skipping upgrade: pyasn1-modules in /usr/local/lib/python3.6/site-packages (from service-identity>=17.0.0->watson-developer-cloud<2.0,>=1.0) (0.2.2)\n",
      "Requirement already satisfied, skipping upgrade: attrs in /usr/local/lib/python3.6/site-packages (from service-identity>=17.0.0->watson-developer-cloud<2.0,>=1.0) (18.1.0)\n",
      "Requirement already satisfied, skipping upgrade: zope.interface>=4.4.2 in /usr/local/lib/python3.6/site-packages (from Twisted>=13.2.0->watson-developer-cloud<2.0,>=1.0) (4.5.0)\n",
      "Requirement already satisfied, skipping upgrade: hyperlink>=17.1.1 in /usr/local/lib/python3.6/site-packages (from Twisted>=13.2.0->watson-developer-cloud<2.0,>=1.0) (18.0.0)\n",
      "Requirement already satisfied, skipping upgrade: Automat>=0.3.0 in /usr/local/lib/python3.6/site-packages (from Twisted>=13.2.0->watson-developer-cloud<2.0,>=1.0) (0.7.0)\n",
      "Requirement already satisfied, skipping upgrade: constantly>=15.1 in /usr/local/lib/python3.6/site-packages (from Twisted>=13.2.0->watson-developer-cloud<2.0,>=1.0) (15.1.0)\n",
      "Requirement already satisfied, skipping upgrade: incremental>=16.10.1 in /usr/local/lib/python3.6/site-packages (from Twisted>=13.2.0->watson-developer-cloud<2.0,>=1.0) (17.5.0)\n",
      "Requirement already satisfied, skipping upgrade: asn1crypto>=0.21.0 in /usr/local/lib/python3.6/site-packages (from cryptography>=2.2.1->pyOpenSSL>=16.2.0->watson-developer-cloud<2.0,>=1.0) (0.24.0)\n",
      "Requirement already satisfied, skipping upgrade: cffi>=1.7; platform_python_implementation != \"PyPy\" in /usr/local/lib/python3.6/site-packages (from cryptography>=2.2.1->pyOpenSSL>=16.2.0->watson-developer-cloud<2.0,>=1.0) (1.11.2)\n",
      "Requirement already satisfied, skipping upgrade: setuptools in /usr/local/lib/python3.6/site-packages (from zope.interface>=4.4.2->Twisted>=13.2.0->watson-developer-cloud<2.0,>=1.0) (39.0.1)\n",
      "Requirement already satisfied, skipping upgrade: pycparser in /usr/local/lib/python3.6/site-packages (from cffi>=1.7; platform_python_implementation != \"PyPy\"->cryptography>=2.2.1->pyOpenSSL>=16.2.0->watson-developer-cloud<2.0,>=1.0) (2.18)\n"
     ]
    },
    {
     "name": "stderr",
     "output_type": "stream",
     "text": [
      ":0: UserWarning: You do not have a working installation of the service_identity module: 'cannot import name 'opentype''.  Please install it from <https://pypi.python.org/pypi/service_identity> and make sure all of its dependencies are satisfied.  Without the service_identity module, Twisted can perform only rudimentary TLS client hostname verification.  Many valid certificate/hostname mappings may be rejected.\n"
     ]
    }
   ],
   "source": [
    "# install watson-developer-cloud python SDK\n",
    "# After running this cell once, comment out the following code. Packages only need to be installed once.\n",
    "!pip3 install --upgrade \"watson-developer-cloud>=1.0,<2.0\";\n",
    "\n",
    "# Import required libraries\n",
    "import pandas as pd\n",
    "import matplotlib.pyplot as plt\n",
    "import json\n",
    "from pandas.io.json import json_normalize\n",
    "from watson_developer_cloud import AssistantV1\n",
    "import matplotlib.dates as mdates\n",
    "import re\n",
    "from IPython.display import display"
   ]
  },
  {
   "cell_type": "markdown",
   "metadata": {},
   "source": [
    "### <a id=\"function\"></a> 1.3 Import functions used in the notebook"
   ]
  },
  {
   "cell_type": "code",
   "execution_count": 3,
   "metadata": {},
   "outputs": [
    {
     "name": "stdout",
     "output_type": "stream",
     "text": [
      "  % Total    % Received % Xferd  Average Speed   Time    Time     Time  Current\n",
      "                                 Dload  Upload   Total   Spent    Left  Speed\n",
      "100  7240  100  7240    0     0   7240      0  0:00:01 --:--:--  0:00:01 29430\n",
      "  % Total    % Received % Xferd  Average Speed   Time    Time     Time  Current\n",
      "                                 Dload  Upload   Total   Spent    Left  Speed\n",
      "100  6952  100  6952    0     0   6952      0  0:00:01 --:--:--  0:00:01 25653\n",
      "  % Total    % Received % Xferd  Average Speed   Time    Time     Time  Current\n",
      "                                 Dload  Upload   Total   Spent    Left  Speed\n",
      "100 10166  100 10166    0     0  10166      0  0:00:01 --:--:--  0:00:01 52402\n",
      "  % Total    % Received % Xferd  Average Speed   Time    Time     Time  Current\n",
      "                                 Dload  Upload   Total   Spent    Left  Speed\n",
      "100 15862  100 15862    0     0  15862      0  0:00:01 --:--:--  0:00:01 67786\n"
     ]
    }
   ],
   "source": [
    "# Import function module files\n",
    "!curl -O https://raw.githubusercontent.com/watson-developer-cloud/assistant-improve-recommendations-notebook/master/src/main/python/cos_op.py\n",
    "!curl -O https://raw.githubusercontent.com/watson-developer-cloud/assistant-improve-recommendations-notebook/master/src/main/python/watson_assistant_func.py\n",
    "!curl -O https://raw.githubusercontent.com/watson-developer-cloud/assistant-improve-recommendations-notebook/master/src/main/python/visualize_func.py\n",
    "!curl -O https://raw.githubusercontent.com/watson-developer-cloud/assistant-improve-recommendations-notebook/master/src/main/python/computation_func.py\n",
    "    \n",
    "# Import the visualization related functions\n",
    "from visualize_func import make_pie\n",
    "from visualize_func import coverage_barh\n",
    "from visualize_func import width_bar\n",
    "\n",
    "# Import Cloud Object Storage related functions   \n",
    "from cos_op import generate_link\n",
    "from cos_op import generate_excel_measure\n",
    "\n",
    "# Import Watson Assistant related functions\n",
    "from watson_assistant_func import get_logs_jupyter\n",
    "\n",
    "# Import Dataframe computation related functions\n",
    "from computation_func import get_effective_df\n",
    "from computation_func import get_coverage_df\n",
    "from computation_func import chk_is_valid_node\n",
    "from computation_func import format_data"
   ]
  },
  {
   "cell_type": "markdown",
   "metadata": {},
   "source": [
    "## <a id=\"load\"></a> 2. Load and format data "
   ]
  },
  {
   "cell_type": "markdown",
   "metadata": {},
   "source": [
    "### <a id=\"load_remote\"></a> 2.1 Option one: from a Watson Assistant instance\n",
    "\n",
    "#### 2.1.1 Add Watson Assistant configuration\n",
    "\n",
    "Provide your Watson Assistant credentials and the workspace id that you want to fetch data from.   \n",
    "\n",
    "- For more information about obtaining Watson Assistant credentials, see [Service credentials for Watson services](https://console.bluemix.net/docs/services/watson/getting-started-credentials.html#creating-credentials).\n",
    "- API requests require a version parameter that takes a date in the format version=YYYY-MM-DD. For more information about version, see [Versioning](https://www.ibm.com/watson/developercloud/assistant/api/v1/curl.html?curl#versioning).\n"
   ]
  },
  {
   "cell_type": "code",
   "execution_count": 4,
   "metadata": {},
   "outputs": [],
   "source": [
    "# Provide credentials to connect to assistant\n",
    "creds = {'username':'',\n",
    "         'password':'',\n",
    "         'version':'2018-05-03'}\n",
    "\n",
    "# Connect to Watson Assistant\n",
    "conversation = AssistantV1(username=creds['username'], \n",
    "                           password=creds['password'], \n",
    "                           version=creds['version'])\n",
    "\n",
    "# You only need to give api key and url to connect. If you can connect using this, you will not need the above code\n",
    "\n",
    "# conversation = AssistantV1(version='2019-04-28',\n",
    "#                            iam_apikey='',\n",
    "#                            url='')"
   ]
  },
  {
   "cell_type": "markdown",
   "metadata": {},
   "source": [
    "#### 2.1.2 Fetch and load a workspace\n",
    "\n",
    "Fetch the workspace for the workspace id given in `workspace_id` variable."
   ]
  },
  {
   "cell_type": "code",
   "execution_count": 5,
   "metadata": {},
   "outputs": [],
   "source": [
    "# Provide the workspace id you want to analyze\n",
    "workspace_id = ''\n",
    "\n",
    "if len(workspace_id) > 0:\n",
    "    # Fetch the worksapce info. for the input workspace id\n",
    "    workspace = conversation.get_workspace(workspace_id = workspace_id, export=True)\n",
    "\n",
    "    # Store the workspace details in a dataframe\n",
    "    df_workspace = json_normalize(workspace)\n",
    "\n",
    "    # Get all intents present in current version of workspace\n",
    "    workspace_intents= [intent['intent'] for intent in df_workspace['intents'].values[0]] \n",
    "\n",
    "    # Get all dialog nodes present in current version of workspace\n",
    "    workspace_nodes= pd.DataFrame(df_workspace['dialog_nodes'].values[0])\n",
    "\n",
    "    # Mark the workspace loaded\n",
    "    workspace_loaded = True\n",
    "else:\n",
    "    workspace_loaded = False"
   ]
  },
  {
   "cell_type": "markdown",
   "metadata": {},
   "source": [
    "#### 2.1.3 Fetch and load workspace logs\n",
    "\n",
    "Fetch the logs for the workspace id given in `workspace_id` variable. Any necessary filter can be specified in the `filter` variable.<br>\n",
    "Note that if the logs were already fetched in a previous run, it will be read from the a cache file."
   ]
  },
  {
   "cell_type": "code",
   "execution_count": 6,
   "metadata": {
    "scrolled": true
   },
   "outputs": [],
   "source": [
    "if len(workspace_id) > 0:\n",
    "    # Filter to be applied while fetching logs, e.g., removing empty input 'meta.summary.input_text_length_i>0', 'response_timestamp>=2018-09-18'\n",
    "    filter = 'meta.summary.input_text_length_i>0'\n",
    "\n",
    "    # Send this info into the get_logs function\n",
    "    workspace_creds={'sdk_object':conversation, 'ws_id':workspace['workspace_id'], 'ws_name':workspace['name']}\n",
    "\n",
    "    # Fetch the logs for the workspace\n",
    "    df = get_logs_jupyter(num_logs=10000, log_list=[], workspace_creds=workspace_creds, log_filter=filter)\n",
    "\n",
    "    # Mark the logs loaded\n",
    "    logs_loaded = True\n",
    "else:\n",
    "    logs_loaded = False   "
   ]
  },
  {
   "cell_type": "markdown",
   "metadata": {},
   "source": [
    "### <a id=\"load_local\"></a> 2.2 Option two: from JSON files\n",
    "\n",
    "#### 2.2.1 Load a workspace JSON file"
   ]
  },
  {
   "cell_type": "code",
   "execution_count": 7,
   "metadata": {},
   "outputs": [
    {
     "name": "stdout",
     "output_type": "stream",
     "text": [
      "Loading workspace data from Watson developer cloud Github repo ... completed!\n"
     ]
    }
   ],
   "source": [
    "if not workspace_loaded:\n",
    "    \n",
    "    # The following code is for using demo workspace\n",
    "    import requests\n",
    "    print('Loading workspace data from Watson developer cloud Github repo ... ', end='')\n",
    "    workspace_data = requests.get(\"https://raw.githubusercontent.com/watson-developer-cloud/assistant-improve-recommendations-notebook/master/notebook/data/workspace.json\").text    \n",
    "    print('completed!')\n",
    "    df_workspace = json_normalize(json.loads(workspace_data))\n",
    "    \n",
    "    # Specify a workspace JSON file\n",
    "#     workspace_file = 'workspace.json'\n",
    "\n",
    "    # Store the workspace details in a dataframe\n",
    "#     df_workspace = json_normalize(json.load(open(workspace_file)))\n",
    "\n",
    "    # Get all intents present in current version of workspace\n",
    "    workspace_intents = [intent['intent'] for intent in df_workspace['intents'].values[0]] \n",
    "\n",
    "    # Get all dialog nodes present in current version of workspace\n",
    "    workspace_nodes = pd.DataFrame(df_workspace['dialog_nodes'].values[0])"
   ]
  },
  {
   "cell_type": "markdown",
   "metadata": {},
   "source": [
    "#### 2.2.2 Load a log JSON file"
   ]
  },
  {
   "cell_type": "code",
   "execution_count": 8,
   "metadata": {
    "scrolled": false
   },
   "outputs": [
    {
     "name": "stdout",
     "output_type": "stream",
     "text": [
      "Loading demo log data from Watson developer cloud Github repo ... completed!\n"
     ]
    }
   ],
   "source": [
    "if not logs_loaded:\n",
    "    \n",
    "    # The following code is for using demo logs\n",
    "    import requests\n",
    "    print('Loading demo log data from Watson developer cloud Github repo ... ', end='')\n",
    "    log_raw_data = requests.get(\"https://raw.githubusercontent.com/watson-developer-cloud/assistant-improve-recommendations-notebook/master/notebook/data/sample_logs.json\").text\n",
    "    print('completed!')\n",
    "    df = pd.DataFrame.from_records(json.loads(log_raw_data))\n",
    "    \n",
    "    # Specify a log JSON file\n",
    "    # log_file = 'sample_logs.json'\n",
    "    \n",
    "    # Create a dataframe for logs\n",
    "    # df = pd.DataFrame.from_records(json.load(open(log_file)))"
   ]
  },
  {
   "cell_type": "markdown",
   "metadata": {},
   "source": [
    "### <a id=\"format_data\"></a> 2.3 Format the log data"
   ]
  },
  {
   "cell_type": "code",
   "execution_count": 9,
   "metadata": {},
   "outputs": [],
   "source": [
    "# Format the logs data from the workspace\n",
    "df_formated = format_data(df)\n"
   ]
  },
  {
   "cell_type": "markdown",
   "metadata": {},
   "source": [
    "<a id=\"set_metrics\"></a>\n",
    "## 3. Define effectiveness and coverage metrics\n",
    "As described in Watson Assistant Continuous Improvement Best Practices, **Effectiveness** and **Coverage** are the two measures that provide a reliable understanding of your assistant’s overall performance. Both of the two measures are customizable based on your preferences. In this section, we provide a guideline for setting each of them."
   ]
  },
  {
   "cell_type": "markdown",
   "metadata": {},
   "source": [
    "### <a id=\"set_coverage\"></a> 3.1 Customize coverage\n",
    "\n",
    "Coverage measures your Watson Assistant system at the utterance level. You may include automated metrics that help identify utterences that your service is not answering. Example metrics include: \n",
    "\n",
    "- Confidence threshold\n",
    "- Dialog information\n",
    "\n",
    "For Confidence threshold, you can set a threshold to include utterances with confidence values below this threshold. For more information regarding Confidence, see [Absolute scoring](https://console.bluemix.net/docs/services/conversation/intents.html#absolute-scoring-and-mark-as-irrelevant).\n",
    "\n",
    "For Dialog information, you can specify what the notebook should look for in your logs to determine that a message is not covered by your assistant.\n",
    "\n",
    "- Use the node_ids list to include the identifiers of any dialog nodes you've used to model that a message is out of scope.  \n",
    "- Similarly, use the node_names list to include any dialog nodes.\n",
    "- Use node_conditions for dialog conditions that indicate a message is out of scope.\n",
    "    \n",
    "Note that these lists are treated as \"OR\" conditions - any occurrence of any of them will signify that a message is not covered. \n",
    "\n",
    "__Where to find node id, node name, and node condition__?\n",
    "\n",
    "You can find the values of these variables from your workspace JSON file based on following mappings.\n",
    "\n",
    "- node id: `dialog_node`\n",
    "- node name: `title`\n",
    "- node condition: `conditions`\n",
    "\n",
    "You can also find node name, and node condition in your workspace dialog editor. For more information, see [Dialog Nodes].(https://console.bluemix.net/docs/services/conversation/dialog-overview.html#dialog-nodes)\n",
    "\n",
    "Below we provide example code for identifying coverage based on confidence and dialog node. "
   ]
  },
  {
   "cell_type": "code",
   "execution_count": 10,
   "metadata": {},
   "outputs": [
    {
     "data": {
      "text/html": [
       "<div>\n",
       "<style>\n",
       "    .dataframe thead tr:only-child th {\n",
       "        text-align: right;\n",
       "    }\n",
       "\n",
       "    .dataframe thead th {\n",
       "        text-align: left;\n",
       "    }\n",
       "\n",
       "    .dataframe tbody tr th {\n",
       "        vertical-align: top;\n",
       "    }\n",
       "</style>\n",
       "<table border=\"1\" class=\"dataframe\">\n",
       "  <thead>\n",
       "    <tr style=\"text-align: right;\">\n",
       "      <th></th>\n",
       "      <th>Condition</th>\n",
       "      <th>Node ID</th>\n",
       "      <th>Node Name</th>\n",
       "      <th>Valid</th>\n",
       "    </tr>\n",
       "  </thead>\n",
       "  <tbody>\n",
       "    <tr>\n",
       "      <th>0</th>\n",
       "      <td>true</td>\n",
       "      <td>node_1_1467910920863</td>\n",
       "      <td>NaN</td>\n",
       "      <td>True</td>\n",
       "    </tr>\n",
       "    <tr>\n",
       "      <th>1</th>\n",
       "      <td>true</td>\n",
       "      <td>node_1_1467919680248</td>\n",
       "      <td>NaN</td>\n",
       "      <td>True</td>\n",
       "    </tr>\n",
       "    <tr>\n",
       "      <th>2</th>\n",
       "      <td>#out_of_scope || #off_topic</td>\n",
       "      <td>node_1_1467743415843</td>\n",
       "      <td>NaN</td>\n",
       "      <td>True</td>\n",
       "    </tr>\n",
       "    <tr>\n",
       "      <th>3</th>\n",
       "      <td>anything_else</td>\n",
       "      <td>node_2_1487280430136</td>\n",
       "      <td>NaN</td>\n",
       "      <td>True</td>\n",
       "    </tr>\n",
       "  </tbody>\n",
       "</table>\n",
       "</div>"
      ],
      "text/plain": [
       "                     Condition               Node ID Node Name Valid\n",
       "0                         true  node_1_1467910920863       NaN  True\n",
       "1                         true  node_1_1467919680248       NaN  True\n",
       "2  #out_of_scope || #off_topic  node_1_1467743415843       NaN  True\n",
       "3                anything_else  node_2_1487280430136       NaN  True"
      ]
     },
     "execution_count": 10,
     "metadata": {},
     "output_type": "execute_result"
    }
   ],
   "source": [
    "#Specify the confidence threhold you want to look for in the logs\n",
    "confidence_threshold = .20\n",
    "\n",
    "# Add coverage node ids, if any, to list\n",
    "node_ids = ['node_1_1467910920863', 'node_1_1467919680248']\n",
    "\n",
    "# Add coverage node names, if any, to list\n",
    "node_names = []\n",
    "\n",
    "# Add coverage node conditions, if any, to list\n",
    "node_conditions = ['#out_of_scope || #off_topic', 'anything_else']\n",
    "\n",
    "# Check if the dialog nodes are present in the current version of workspace\n",
    "df_coverage_nodes = chk_is_valid_node(node_ids, node_names, node_conditions, workspace_nodes)\n",
    "df_coverage_nodes"
   ]
  },
  {
   "cell_type": "markdown",
   "metadata": {},
   "source": [
    "### <a id=\"set_effectiveness\"></a> 3.2 Customize effectiveness\n",
    "\n",
    "Effectiveness measures your Watson Assistant system at the conversation level. You may include automated metrics that help identify problematic conversations. Example metrics include:\n",
    "\n",
    "- Escalations to live agent: conversations escalated to a human agent for quality reasons.\n",
    "- Poor NPS: conversations that received a poor NPS (Net Promoter Score), or other explicit user feedback.\n",
    "- Task not completed: conversations failed to complete the task the user was attempting.\n",
    "- Implicit feedback: conversations containing implicit feedback that suggests failure, such as links provided not being clicked. \n",
    "\n",
    "Below we provide example code for identifying escalation based on intents and dialog information."
   ]
  },
  {
   "cell_type": "markdown",
   "metadata": {},
   "source": [
    "#### <a id=\"set_escalation_intent\"></a> 3.2.1 Specify intents to identify escalations\n",
    "If you have specific intents that point to escalation or any other effectiveness measure, specify those in `chk_effective_intents` lists below. <br>\n",
    "**Note:** If you don't have specific intents to capture effectiveness, leave chk_effective_intents list empty."
   ]
  },
  {
   "cell_type": "code",
   "execution_count": 11,
   "metadata": {},
   "outputs": [
    {
     "data": {
      "text/html": [
       "<div>\n",
       "<style>\n",
       "    .dataframe thead tr:only-child th {\n",
       "        text-align: right;\n",
       "    }\n",
       "\n",
       "    .dataframe thead th {\n",
       "        text-align: left;\n",
       "    }\n",
       "\n",
       "    .dataframe tbody tr th {\n",
       "        vertical-align: top;\n",
       "    }\n",
       "</style>\n",
       "<table border=\"1\" class=\"dataframe\">\n",
       "  <thead>\n",
       "    <tr style=\"text-align: right;\">\n",
       "      <th></th>\n",
       "      <th>Intent</th>\n",
       "      <th>Valid</th>\n",
       "      <th>Count</th>\n",
       "    </tr>\n",
       "  </thead>\n",
       "  <tbody>\n",
       "    <tr>\n",
       "      <th>0</th>\n",
       "      <td>connect_to_agent</td>\n",
       "      <td>True</td>\n",
       "      <td>73</td>\n",
       "    </tr>\n",
       "  </tbody>\n",
       "</table>\n",
       "</div>"
      ],
      "text/plain": [
       "             Intent  Valid  Count\n",
       "0  connect_to_agent   True     73"
      ]
     },
     "execution_count": 11,
     "metadata": {},
     "output_type": "execute_result"
    }
   ],
   "source": [
    "# Add your escalation intents to the list\n",
    "chk_effective_intents=['connect_to_agent']\n",
    "\n",
    "# Store the intents in a dataframe\n",
    "df_chk_effective_intents = pd.DataFrame(chk_effective_intents, columns = ['Intent'])\n",
    "\n",
    "# Add a 'valid' flag to the dataframe\n",
    "df_chk_effective_intents['Valid']= True\n",
    "\n",
    "# Add count column for selected intents\n",
    "df_chk_effective_intents['Count']= 0\n",
    "\n",
    "# Checking the validity of the specified intents. Look out for the `valid` column in the table displayed below.\n",
    "for intent in chk_effective_intents:\n",
    "    # Check if intent is present in workspace\n",
    "    if intent not in workspace_intents:\n",
    "        # If not present, mark it as 'not valid'\n",
    "        df_chk_effective_intents.loc[df_chk_effective_intents['Intent']==intent,['Valid']] = False\n",
    "        # Remove intent from the chk_effective_intents list \n",
    "        chk_effective_intents.remove(intent)\n",
    "    else:\n",
    "        # Calculate number of times each intent is hit\n",
    "        count = df_formated.loc[df_formated['response.top_intent_intent']==intent]['log_id'].nunique()\n",
    "        df_chk_effective_intents.loc[df_chk_effective_intents['Intent']==intent,['Count']] = count\n",
    "# Display intents and validity\n",
    "df_chk_effective_intents"
   ]
  },
  {
   "cell_type": "markdown",
   "metadata": {},
   "source": [
    "#### <a id=\"set_escalation_dialog\"></a> 3.2.2 Specify  dialog nodes to identify escalations\n",
    "If you have specific dialog nodes that point to escalation or any other effectiveness measure, you can automated capture them based on three variables: node id, node name, and node condition.\n",
    "\n",
    "- Use the node_ids list to include the identifiers of any dialog nodes you've used to model that a message indicates an escalation.  \n",
    "- Similarly, use the node_names list to include dialog nodes.\n",
    "- Use node_conditions for dialog conditions that indicate a message is out of scope.\n",
    "\n",
    "Note that these lists are treated as \"OR\" conditions - any occurrence of any of them will signify that a message is not covered. \n",
    "\n",
    "__Where to find node id, node name, and node condition__?\n",
    "\n",
    "You can find the values of these variables from your workspace JSON file based on following mappings.\n",
    "\n",
    "- node id: `dialog_node`\n",
    "- node name: `title`\n",
    "- node condition: `conditions`\n",
    "\n",
    "You can also find node name, and node condition in your workspace dialog editor. For more information, see [Dialog Nodes](https://console.bluemix.net/docs/services/conversation/dialog-overview.html#dialog-nodes).\n",
    "\n",
    "**Note:** If your assistant does not incorporate escalations and you do not have any other automated conversation-level quality metrics to identify problematic conversations (e.g., poor NPS, task not completed), you can simply track coverage and average confidence over a recent sample of your entire production logs. Leave an empty list for node_ids, node_names and node_conditions.  "
   ]
  },
  {
   "cell_type": "code",
   "execution_count": 12,
   "metadata": {},
   "outputs": [
    {
     "data": {
      "text/html": [
       "<div>\n",
       "<style>\n",
       "    .dataframe thead tr:only-child th {\n",
       "        text-align: right;\n",
       "    }\n",
       "\n",
       "    .dataframe thead th {\n",
       "        text-align: left;\n",
       "    }\n",
       "\n",
       "    .dataframe tbody tr th {\n",
       "        vertical-align: top;\n",
       "    }\n",
       "</style>\n",
       "<table border=\"1\" class=\"dataframe\">\n",
       "  <thead>\n",
       "    <tr style=\"text-align: right;\">\n",
       "      <th></th>\n",
       "      <th>Condition</th>\n",
       "      <th>Node ID</th>\n",
       "      <th>Node Name</th>\n",
       "      <th>Valid</th>\n",
       "    </tr>\n",
       "  </thead>\n",
       "  <tbody>\n",
       "    <tr>\n",
       "      <th>0</th>\n",
       "      <td>#connect_to_agent</td>\n",
       "      <td>node_2_1537212368188</td>\n",
       "      <td>NaN</td>\n",
       "      <td>True</td>\n",
       "    </tr>\n",
       "    <tr>\n",
       "      <th>1</th>\n",
       "      <td>#answer_not_helpful</td>\n",
       "      <td>node_1_1537212185418</td>\n",
       "      <td>NaN</td>\n",
       "      <td>True</td>\n",
       "    </tr>\n",
       "    <tr>\n",
       "      <th>2</th>\n",
       "      <td>#not_trained</td>\n",
       "      <td>node_1_1537297843450</td>\n",
       "      <td>not_trained</td>\n",
       "      <td>True</td>\n",
       "    </tr>\n",
       "  </tbody>\n",
       "</table>\n",
       "</div>"
      ],
      "text/plain": [
       "             Condition               Node ID    Node Name Valid\n",
       "0    #connect_to_agent  node_2_1537212368188          NaN  True\n",
       "1  #answer_not_helpful  node_1_1537212185418          NaN  True\n",
       "2         #not_trained  node_1_1537297843450  not_trained  True"
      ]
     },
     "execution_count": 12,
     "metadata": {},
     "output_type": "execute_result"
    }
   ],
   "source": [
    "# Add effectiveness node ids, if any, to list\n",
    "node_ids = []\n",
    "\n",
    "# Add effectiveness node names, if any, to list\n",
    "node_names = ['not_trained']\n",
    "\n",
    "# Add effectiveness node conditions, if any, to list\n",
    "node_conditions = ['#connect_to_agent', '#answer_not_helpful']\n",
    "\n",
    "# If your assistant does not incorporate escalations and you do not have any other automated conversation-level quality metrics, uncomment lines below \n",
    "# node_ids = [] \n",
    "# node_names = [] \n",
    "# node_conditions = [] \n",
    "\n",
    "# Check if the dialog nodes are present in the current version of workspace\n",
    "df_chk_effective_nodes = chk_is_valid_node(node_ids, node_names, node_conditions, workspace_nodes)\n",
    "df_chk_effective_nodes"
   ]
  },
  {
   "cell_type": "markdown",
   "metadata": {},
   "source": [
    "## 4. Calculate overall coverage and effectiveness<a id=\"overall\"></a>"
   ]
  },
  {
   "cell_type": "markdown",
   "metadata": {},
   "source": [
    "The combination of effectiveness and coverage is very powerful for diagnostics.\n",
    "If your effectiveness and coverage metrics are high, it means that your assistant is responding to most inquiries and responding well. If either effectiveness or coverage are low, the metrics provide you with the information you need to start improving your assistant. \n"
   ]
  },
  {
   "cell_type": "markdown",
   "metadata": {},
   "source": [
    "###  4.1 Calculate overall metrics<a id=\"overall1\"></a>"
   ]
  },
  {
   "cell_type": "code",
   "execution_count": 13,
   "metadata": {},
   "outputs": [],
   "source": [
    "df_formated_copy = df_formated.copy(deep = True)\n",
    "\n",
    "# Mark if a message is covered and store results in df_coverage dataframe\n",
    "df_coverage = get_coverage_df(df_formated_copy , df_coverage_nodes, confidence_threshold)\n",
    "\n",
    "# Mark if a conversation is effective and store results in df_coverage dataframe\n",
    "df_effective = get_effective_df(df_formated_copy, chk_effective_intents, df_chk_effective_nodes, filter_non_intent_node=True, workspace_nodes=workspace_nodes)\n",
    "\n",
    "# Calculate average confidence\n",
    "avg_conf = float(\"{0:.2f}\".format(df_coverage[df_coverage['Covered']==True]['response.top_intent_confidence'].mean()*100))\n",
    "\n",
    "# Calculate coverage\n",
    "coverage = float(\"{0:.2f}\".format((df_coverage['Covered'].value_counts().to_frame()['Covered'][True]/df_coverage['Covered'].value_counts().sum())*100))\n",
    "\n",
    "# Calculate effectiveness\n",
    "effective_perc = float(\"{0:.2f}\".format((df_effective.loc[df_effective['Escalated_conversation']==False]['response.context.conversation_id'].nunique()/df_effective['response.context.conversation_id'].nunique())*100))              \n",
    "\n",
    "# Plot pie graphs for coverage and effectiveness\n",
    "coverage_pie = make_pie(coverage, \"Percent of total messages covered\")\n",
    "effective_pie = make_pie(effective_perc, 'Percent of non-escalated conversations')"
   ]
  },
  {
   "cell_type": "markdown",
   "metadata": {},
   "source": [
    "Messages to be displayed with coverage and effectiveness metrics are given below"
   ]
  },
  {
   "cell_type": "code",
   "execution_count": 14,
   "metadata": {},
   "outputs": [],
   "source": [
    "# Messages to be displayed with effectiveness and coverage\n",
    "coverage_msg = '<h2>Coverage</h2></br>A message that is not covered would either be a \\\n",
    "message your assistant responded to with some form \\\n",
    "of “I’m not trained” or that it immediately handed over \\\n",
    "to a human agent without attempting to respond'\n",
    "\n",
    "effectiveness_msg = '<h2>Effectiveness</h2></br>This notebook provides a list of metrics customers \\\n",
    "can use to assess how effective their assistant is at \\\n",
    "responding to conversation and metrics '"
   ]
  },
  {
   "cell_type": "markdown",
   "metadata": {},
   "source": [
    "###  4.2 Display overall results<a id=\"overall2\"></a>\n"
   ]
  },
  {
   "cell_type": "code",
   "execution_count": 15,
   "metadata": {},
   "outputs": [
    {
     "data": {
      "text/html": [
       "<tr><th colspan=\"4\"><div align=\"center\"><h2>Coverage and Effectiveness<hr/></h2></div></th></tr><tr>    <td style=\"width:500px\"><img class=\"colimg\" src='data:image/png;base64,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'></td>    <td style=\"width:450px\"><div align=\"left\"> <h2>Coverage</h2></br>A message that is not covered would either be a message your assistant responded to with some form of “I’m not trained” or that it immediately handed over to a human agent without attempting to respond </div></td>    <td style=\"width:500px\"><img class=\"colimg\" src='data:image/png;base64,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'></td>    <td style=\"width:450px\"><div align=\"left\"> <h2>Effectiveness</h2></br>This notebook provides a list of metrics customers can use to assess how effective their assistant is at responding to conversation and metrics   </div></td></tr>"
      ],
      "text/plain": [
       "<IPython.core.display.HTML object>"
      ]
     },
     "execution_count": 15,
     "metadata": {},
     "output_type": "execute_result"
    }
   ],
   "source": [
    "# Display the coverage and effectiveness pie charts\n",
    "HTML('<tr><th colspan=\"4\"><div align=\"center\"><h2>Coverage and Effectiveness<hr/></h2></div></th></tr>\\\n",
    "<tr>\\\n",
    "    <td style=\"width:500px\">{c_pie}</td>\\\n",
    "    <td style=\"width:450px\"><div align=\"left\"> {c_msg} </div></td>\\\n",
    "    <td style=\"width:500px\">{e_pie}</td>\\\n",
    "    <td style=\"width:450px\"><div align=\"left\"> {e_msg}  </div></td>\\\n",
    "</tr>'\n",
    "    .format(c_pie=coverage_pie, c_msg = coverage_msg, e_pie = effective_pie, e_msg = effectiveness_msg))"
   ]
  },
  {
   "cell_type": "markdown",
   "metadata": {},
   "source": [
    "Here, we can see our assistant's coverage and effectiveness. We will have to take a deeper look at both of these metrics to understand the nuances and decide where we should focus next. \n",
    "\n",
    "Note that the distinction between a user message and a conversation. A conversation in Watson Assistant represents a session of one or more messages from a user and the associated responses returned to the user from the assistant. A conversation includes a Conversation id for the purposes of grouping a sequence of messages and responses. "
   ]
  },
  {
   "cell_type": "markdown",
   "metadata": {},
   "source": [
    "<a id=\"msg_analysis\"></a>\n",
    "## 5.  Analyze coverage\n",
    "\n",
    "Here, we take a deeper look at the Coverage of our Watson Assistant."
   ]
  },
  {
   "cell_type": "markdown",
   "metadata": {},
   "source": [
    "\n",
    "###  5.1 Display overall coverage<a id=\"msg_analysis1\"></a>\n"
   ]
  },
  {
   "cell_type": "code",
   "execution_count": 16,
   "metadata": {},
   "outputs": [
    {
     "name": "stdout",
     "output_type": "stream",
     "text": [
      "Overall messages\n",
      "================\n",
      "Total Conversations: 4327\n",
      "Total Messages: 7764\n",
      "\n",
      "\n"
     ]
    },
    {
     "data": {
      "image/png": "[encoded data removed]",
      "text/plain": [
       "<Figure size 1080x108 with 1 Axes>"
      ]
     },
     "metadata": {},
     "output_type": "display_data"
    }
   ],
   "source": [
    "%matplotlib inline  \n",
    "\n",
    "# Compute the number of conversations in the log\n",
    "convs = df_coverage['response.context.conversation_id'].nunique()\n",
    "\n",
    "# Compute the number of messages in the log\n",
    "msgs = df_coverage['response.context.conversation_id'].size\n",
    "\n",
    "#Display the results\n",
    "print('Overall messages\\n', \"=\" * len('Overall messages'), '\\nTotal Conversations: ', convs, '\\nTotal Messages: ', msgs, '\\n\\n', sep = '')\n",
    "\n",
    "#Display the coverage bar chart\n",
    "display(coverage_barh(coverage, avg_conf, 'Coverage & Average confidence', False))"
   ]
  },
  {
   "cell_type": "markdown",
   "metadata": {},
   "source": [
    "Here, we see the percentage of messages covered and their average confidence. Now, let us take a look at the coverage over time."
   ]
  },
  {
   "cell_type": "markdown",
   "metadata": {},
   "source": [
    "\n",
    "###  5.2 Calculate coverage over time<a id=\"msg_analysis2\"></a>\n"
   ]
  },
  {
   "cell_type": "code",
   "execution_count": 17,
   "metadata": {},
   "outputs": [],
   "source": [
    "# Make a copy of df_coverage dataframe\n",
    "df_Tbot_raw1 = df_coverage.copy(deep=True)\n",
    "\n",
    "# Group by date and covered and compute the count\n",
    "covered_counts = df_Tbot_raw1[['Date','Covered']].groupby(['Date','Covered']).agg({'Covered': 'count'})\n",
    "\n",
    "# Convert numbers to percentage\n",
    "coverage_grp = covered_counts.groupby(level=0).apply(lambda x:round(100 * x / float(x.sum()),2)).rename(columns = {'Covered':'Coverage'}).reset_index()\n",
    "\n",
    "# Get only covered messages\n",
    "coverage_time = coverage_grp[coverage_grp['Covered']==True].reset_index(drop = True)\n",
    "\n",
    "# Determine the number of xticks required\n",
    "xticks = [d for d in coverage_time['Date']]"
   ]
  },
  {
   "cell_type": "code",
   "execution_count": 18,
   "metadata": {},
   "outputs": [
    {
     "data": {
      "image/png": "[encoded data removed]",
      "text/plain": [
       "<Figure size 2160x576 with 1 Axes>"
      ]
     },
     "metadata": {},
     "output_type": "display_data"
    }
   ],
   "source": [
    "# Plot the coverage over time graph\n",
    "fig, ax = plt.subplots(figsize=(30,8))\n",
    "\n",
    "# Format the date on x-axis\n",
    "ax.xaxis.set_major_formatter(mdates.DateFormatter('%Y-%m-%d'))\n",
    "ax.xaxis_date()\n",
    "ax.set_xticks(xticks)\n",
    "# Rotate x-axis labels\n",
    "for ax in fig.axes:\n",
    "    plt.sca(ax)\n",
    "    plt.xticks(rotation = 315)\n",
    "\n",
    "# Plot a line plot if there are more data points\n",
    "if len(coverage_time) >1:\n",
    "    ax.plot_date(coverage_time['Date'], coverage_time['Coverage'], fmt = '-', color = '#4fa8f6', linewidth=6)\n",
    "# Plot a scatter plot if there is only one date on x-axis\n",
    "else:\n",
    "    ax.plot_date(coverage_time['Date'], coverage_time['Coverage'], color = '#4fa8f6', linewidth=6)\n",
    "\n",
    "# Set axis labels and title\n",
    "ax.set_xlabel(\"Time\", fontsize=20, fontweight='bold')\n",
    "ax.set_ylabel(\"Coverage %\", fontsize=20, fontweight='bold')\n",
    "ax.set_title('Coverage over time', fontsize=25, fontweight = 'bold')\n",
    "ax.tick_params(axis='both', labelsize=15)\n",
    "\n",
    "# Hide the right and top spines\n",
    "ax.spines['right'].set_visible(False)\n",
    "ax.spines['top'].set_visible(False)"
   ]
  },
  {
   "cell_type": "markdown",
   "metadata": {},
   "source": [
    "**Note:** Compare the coverage over time with any major updates to your assistant, to see if the changes affected the performance."
   ]
  },
  {
   "cell_type": "markdown",
   "metadata": {
    "collapsed": true
   },
   "source": [
    "<a id=\"conv_analysis\"></a>\n",
    "## 6. Analyze effectiveness"
   ]
  },
  {
   "cell_type": "markdown",
   "metadata": {},
   "source": [
    "Here, we will take a deeper look at effectiveness of the assistant"
   ]
  },
  {
   "cell_type": "code",
   "execution_count": 19,
   "metadata": {},
   "outputs": [],
   "source": [
    "# Get the escalated conversations\n",
    "df_effective_true = df_effective.loc[df_effective['Escalated_conversation']==True]\n",
    "\n",
    "# Get the non-escalated conversations\n",
    "df_not_effective = df_effective.loc[df_effective['Escalated_conversation']==False]\n",
    "\n",
    "# Calculate percentage of escalated conversations\n",
    "ef_escalated = float(\"{0:.2f}\".format(100-effective_perc))\n",
    "\n",
    "# Calculate coverage and non-coverage in escalated conversations\n",
    "if len(df_effective_true) > 0:\n",
    "    escalated_covered = float(\"{0:.2f}\".format((df_effective_true['Covered'].value_counts().to_frame()['Covered'][True]/df_effective_true['Covered'].value_counts().sum())*100))\n",
    "    escalated_not_covered = float(\"{0:.2f}\".format(100- escalated_covered))\n",
    "else:\n",
    "    escalated_covered = 0\n",
    "    escalated_not_covered = 0\n",
    "\n",
    "# Calculate coverage and non-coverage in non-escalated conversations\n",
    "if len(df_not_effective) > 0:\n",
    "    not_escalated_covered = float(\"{0:.2f}\".format((df_not_effective['Covered'].value_counts().to_frame()['Covered'][True]/df_not_effective['Covered'].value_counts().sum())*100))\n",
    "    not_escalated_not_covered = float(\"{0:.2f}\".format(100 - not_escalated_covered))\n",
    "else:\n",
    "    not_escalated_covered = 0\n",
    "    not_escalated_not_covered = 0\n",
    "\n",
    "# Calculate average confidence of escalated conversations\n",
    "if len(df_effective_true) > 0:\n",
    "    esc_avg_conf = float(\"{0:.2f}\".format(df_effective_true[df_effective_true['Covered']==True]['response.top_intent_confidence'].mean()*100))\n",
    "else:\n",
    "    esc_avg_conf = 0\n",
    "    \n",
    "# Calculate average confidence of non-escalated conversations\n",
    "if len(df_not_effective) > 0:\n",
    "    not_esc_avg_conf = float(\"{0:.2f}\".format(df_not_effective[df_not_effective['Covered']==True]['response.top_intent_confidence'].mean()*100))\n",
    "else:\n",
    "    not_esc_avg_conf = 0"
   ]
  },
  {
   "cell_type": "markdown",
   "metadata": {},
   "source": [
    "###  6.1 Generate excel file and upload to our project<a id=\"conv_analysis1\"></a>"
   ]
  },
  {
   "cell_type": "code",
   "execution_count": 20,
   "metadata": {},
   "outputs": [],
   "source": [
    "# Copy the effective dataframe\n",
    "df_excel = df_effective.copy(deep=True)\n",
    "# Rename columns to generate excel\n",
    "df_excel = df_excel.rename(columns={'log_id':'Log ID', 'response.context.conversation_id':'Conversation ID',\n",
    "                           'response.timestamp':'Response Timestamp',\n",
    "                           'request_input':'Utterance Text',\n",
    "                           'response_text':'Response Text', 'response.top_intent_intent':'Detected top intent',\n",
    "                           'response.top_intent_confidence':'Detected top intent confidence',\n",
    "                           'Intent 2 intent': 'Intent 2', 'Intent 2 confidence':'Intent 2 Confidence', \n",
    "                           'Intent 3 intent': 'Intent 3', 'Intent 3 confidence':'Intent 3 Confidence',\n",
    "                           'response_entities':'Detected Entities', 'Escalated_conversation':'Escalated conversation?',\n",
    "                           'Covered':'Covered?', 'Not Covered cause':'Not covered - cause',\n",
    "                           'response.output.nodes_visited_s':'Dialog Flow', 'response_dialog_stack':'Dialog stack',\n",
    "                           'response_dialog_request_counter':'Dialog request counter', 'response_dialog_turn_counter':'Dialog turn counter'\n",
    "                           })\n",
    "\n",
    "existing_columns = ['Log ID', 'Conversation ID', 'Response Timestamp', 'Customer ID (must retain for delete)',\n",
    "                    'Utterance Text', 'Response Text', 'Detected top intent', 'Detected top intent confidence',\n",
    "                    'Intent 2', 'Intent 2 Confidence', 'Confidence gap (between 1 and 2)', 'Intent 3', 'Intent 3 Confidence',\n",
    "                    'Detected Entities', 'Escalated conversation?', 'Covered?', 'Not covered - cause',\n",
    "                    'Dialog Flow', 'Dialog stack', 'Dialog request counter', 'Dialog turn counter']\n",
    "# Add new columns for annotating problematic logs\n",
    "new_columns_excel = ['Response Correct (Y/N)?', 'Response Helpful (Y/N)?', 'Root cause (Problem with Intent, entity, dialog)',\n",
    "                     'Wrong intent? If yes, put the correct intent. Otherwise leave it blank', 'New intent needed? (A new intent. Otherwise leave blank)',\n",
    "                     'Add Utterance to Training data (Y/N)', 'Entity missed? If yes, put the missed entity value. Otherwise leave it blank', 'New entity needed? If yes, put the entity name',\n",
    "                     'New entity value? If yes, put the entity value', 'New dialog logic needed?', 'Wrong dialog node? If yes, put the node name. Otherwise leave it blank','No dialog node triggered']\n",
    "\n",
    "# Add the new columns to the dataframe\n",
    "df_excel = df_excel.reindex(columns=[*existing_columns, *new_columns_excel], fill_value='')"
   ]
  },
  {
   "cell_type": "code",
   "execution_count": 21,
   "metadata": {},
   "outputs": [],
   "source": [
    "# Set maximum sampling size\n",
    "SAMPLE_SIZE = 200\n",
    "\n",
    "# Set output filename\n",
    "all_file = 'All.xlsx'\n",
    "escalated_sample_file = 'Escalated_sample.xlsx'\n",
    "non_escalated_sample_file = 'NotEscalated_sample.xlsx'\n",
    "\n",
    "# Generate all covered sample file\n",
    "df_covered = df_excel[df_excel['Covered?']==True].reset_index(drop=True)\n",
    "\n",
    "# Generate all not covered sample file\n",
    "df_not_covered = df_excel[df_excel['Covered?']==False].reset_index(drop=True)\n",
    "\n",
    "# Convert to Excel format and upload to COS\n",
    "generate_excel_measure([df_covered,df_not_covered], ['Covered', 'Not_Covered'], filename=all_file, project_io=None)\n",
    "\n",
    "# Generate escalated and covered sample file\n",
    "df_escalated_true = df_excel.loc[df_excel['Escalated conversation?']==True]\n",
    "df_escalated_covered = df_escalated_true[df_escalated_true['Covered?']==True]\n",
    "if len(df_escalated_covered) > 0:\n",
    "    df_escalated_covered = df_escalated_covered.sample(n=min(len(df_escalated_covered), SAMPLE_SIZE), random_state=1).reset_index(drop=True)\n",
    "\n",
    "# Generate escalated but not covered sample file\n",
    "df_escalated_not_covered = df_escalated_true[df_escalated_true['Covered?']==False]\n",
    "if len(df_escalated_not_covered) > 0:\n",
    "    df_escalated_not_covered = df_escalated_not_covered.sample(n=min(len(df_escalated_not_covered), SAMPLE_SIZE), random_state=1).reset_index(drop=True)\n",
    "\n",
    "# Covert to Excel format and upload to COS\n",
    "generate_excel_measure([df_escalated_covered,df_escalated_not_covered], ['Covered', 'Not_Covered'], filename=escalated_sample_file, project_io=None)\n",
    "\n",
    "# Generate not escalated but covered sample file\n",
    "df_not_escalated = df_excel.loc[df_excel['Escalated conversation?']==False]\n",
    "df_not_escalated_covered = df_not_escalated[df_not_escalated['Covered?']==True]\n",
    "if len(df_not_escalated_covered) > 0:\n",
    "    df_not_escalated_covered = df_not_escalated_covered.sample(n=min(len(df_not_escalated_covered), SAMPLE_SIZE), random_state=1).reset_index(drop=True)\n",
    "\n",
    "# Generate not escalated and not covered sample file\n",
    "df_not_escalated_not_covered = df_not_escalated[df_not_escalated['Covered?']==False]\n",
    "if len(df_not_escalated_not_covered) > 0:\n",
    "    df_not_escalated_not_covered = df_not_escalated_covered.sample(n=min(len(df_not_escalated_not_covered), SAMPLE_SIZE), random_state=1).reset_index(drop=True)\n",
    "        \n",
    "# Covert to Excel format and upload to COS\n",
    "generate_excel_measure([df_not_escalated_covered,df_not_escalated_not_covered], ['Covered', 'Not_Covered'], filename=non_escalated_sample_file, project_io=None)"
   ]
  },
  {
   "cell_type": "markdown",
   "metadata": {},
   "source": [
    "###  6.2 Plot breakdown by effectiveness graph<a id=\"conv_analysis2\"></a>"
   ]
  },
  {
   "cell_type": "code",
   "execution_count": 22,
   "metadata": {},
   "outputs": [
    {
     "data": {
      "text/html": [
       "<tr><th colspan=\"4\"><div align=\"left\"><h2>Breakdown by effectiveness<hr/></h2></div></th></tr><tr><th colspan=\"4\"><div align=\"left\"><a id=\"file_list\"></a>View the lists here: <a href=All.xlsx target=\"_blank\">All.xlsx</a>&nbsp;&nbsp;&nbsp;<a href=Escalated_sample.xlsx target=\"_blank\">Escalated_sample.xlsx</a>&nbsp;&nbsp;&nbsp;<a href=NotEscalated_sample.xlsx target=\"_blank\">NotEscalated_sample.xlsx</a></div></th></tr><tr><td style= \"border-right: 1px solid black; border-bottom: 1px solid black; width : 400px\"><div align=\"left\"><strong>Effectiveness (Escalated)&nbsp;</br><font size=\"5\">2.57%</strong></font size></br></div></td>    <td style=\"width:1000px; height=100;\"><img class=\"colimg\" src='data:image/png;base64,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'></td></tr><tr><td style= \"border-right: 1px solid black; border-bottom: 1px solid black; width : 400px;\"><div align=\"left\"><strong>Effectiveness (Not escalated)&nbsp;</br><font size=\"5\">97.43%</strong></font size></br></div></td>    <td style=\"width:1000px; height=100;border-bottom: 1px solid black;\"><img class=\"colimg\" src='data:image/png;base64,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'></td></tr>"
      ],
      "text/plain": [
       "<IPython.core.display.HTML object>"
      ]
     },
     "execution_count": 22,
     "metadata": {},
     "output_type": "execute_result"
    }
   ],
   "source": [
    "#### Get the links to the excels\n",
    "all_html_link = '<a href={} target=\"_blank\">All.xlsx</a>'.format(all_file)\n",
    "escalated_html_link = '<a href={} target=\"_blank\">Escalated_sample.xlsx</a>'.format(escalated_sample_file)\n",
    "not_escalated_html_link = '<a href={} target=\"_blank\">NotEscalated_sample.xlsx</a>'.format(non_escalated_sample_file)\n",
    "\n",
    "# Embed the links in HTML table format\n",
    "link_html = '<tr><th colspan=\"4\"><div align=\"left\"><a id=\"file_list\"></a>View the lists here: {}&nbsp;&nbsp;&nbsp;{}&nbsp;&nbsp;&nbsp;{}</div></th></tr>'.format(all_html_link, escalated_html_link, not_escalated_html_link)\n",
    "\n",
    "if 100-effective_perc > 0:\n",
    "    escalated_bar = coverage_barh(escalated_covered, esc_avg_conf, '', True, 15, width_bar(100-effective_perc))\n",
    "else:\n",
    "    escalated_bar = ''\n",
    "\n",
    "if effective_perc > 0: \n",
    "    non_escalated_bar = coverage_barh(not_escalated_covered, not_esc_avg_conf, '' , True , 15,width_bar(effective_perc))\n",
    "else:\n",
    "    non_escalated_bar = ''\n",
    "\n",
    "# Plot the results\n",
    "HTML('<tr><th colspan=\"4\"><div align=\"left\"><h2>Breakdown by effectiveness<hr/></h2></div></th></tr>\\\n",
    "'+ link_html + '<tr><td style= \"border-right: 1px solid black; border-bottom: 1px solid black; width : 400px\"><div align=\"left\"><strong>Effectiveness (Escalated)&nbsp;</br>\\\n",
    "<font size=\"5\">{ef_escalated}%</strong></font size></br></div></td>\\\n",
    "    <td style=\"width:1000px; height=100;\">{one}</td></tr>\\\n",
    "<tr><td style= \"border-right: 1px solid black; border-bottom: 1px solid black; width : 400px;\"><div align=\"left\"><strong>Effectiveness (Not escalated)&nbsp;</br>\\\n",
    "<font size=\"5\">{effective_perc}%</strong></font size></br></div></td>\\\n",
    "    <td style=\"width:1000px; height=100;border-bottom: 1px solid black;\">{two}</td>\\\n",
    "</tr>'.format(ef_escalated= ef_escalated,\n",
    "              one = escalated_bar, \n",
    "              effective_perc = effective_perc, \n",
    "              two = non_escalated_bar)) \n"
   ]
  },
  {
   "cell_type": "markdown",
   "metadata": {},
   "source": [
    "You can download all the analyzed data from `All.xlsx`. A sample of escalated and non-escalated conversations are available in `Escalated_sample.xlsx` and `NotEscalated_sample.xlsx` respectively.\n"
   ]
  },
  {
   "cell_type": "markdown",
   "metadata": {},
   "source": [
    "<a id=\"root_cause\"></a>\n",
    "## 7. Root cause analysis of non coverage\n",
    "Lets us take a look at the reasons for non-coverage of messages"
   ]
  },
  {
   "cell_type": "code",
   "execution_count": 23,
   "metadata": {
    "scrolled": true
   },
   "outputs": [
    {
     "data": {
      "text/html": [
       "<div>\n",
       "<style>\n",
       "    .dataframe thead tr:only-child th {\n",
       "        text-align: right;\n",
       "    }\n",
       "\n",
       "    .dataframe thead th {\n",
       "        text-align: left;\n",
       "    }\n",
       "\n",
       "    .dataframe tbody tr th {\n",
       "        vertical-align: top;\n",
       "    }\n",
       "</style>\n",
       "<table border=\"1\" class=\"dataframe\">\n",
       "  <thead>\n",
       "    <tr style=\"text-align: right;\">\n",
       "      <th></th>\n",
       "      <th>Messages</th>\n",
       "      <th>Total</th>\n",
       "    </tr>\n",
       "  </thead>\n",
       "  <tbody>\n",
       "    <tr>\n",
       "      <th>0</th>\n",
       "      <td>'anything_else' node</td>\n",
       "      <td>723</td>\n",
       "    </tr>\n",
       "    <tr>\n",
       "      <th>1</th>\n",
       "      <td>'#out_of_scope || #off_topic' node</td>\n",
       "      <td>183</td>\n",
       "    </tr>\n",
       "  </tbody>\n",
       "</table>\n",
       "</div>"
      ],
      "text/plain": [
       "                             Messages  Total\n",
       "0                'anything_else' node    723\n",
       "1  '#out_of_scope || #off_topic' node    183"
      ]
     },
     "execution_count": 23,
     "metadata": {},
     "output_type": "execute_result"
    }
   ],
   "source": [
    "# Count the causes for non-coverage and store results in dataframe\n",
    "not_covered = pd.DataFrame(df_coverage['Not Covered cause'].value_counts().reset_index())\n",
    "# Name the columns in the dataframe\n",
    "not_covered.columns = ['Messages', 'Total']\n",
    "not_covered"
   ]
  },
  {
   "cell_type": "markdown",
   "metadata": {},
   "source": [
    "<a id=\"abandoned_resolved_intents\"></a>\n",
    "## 8. Abandoned and Resolved Intent Analysis\n",
    "In this section, we perform intent analysis to explore abandoned and resolved intents."
   ]
  },
  {
   "cell_type": "code",
   "execution_count": 24,
   "metadata": {},
   "outputs": [
    {
     "name": "stdout",
     "output_type": "stream",
     "text": [
      "\n",
      "Occurances of Started Long Intents across all conversations (over Confidence Level)\n",
      "=====================================================================================\n",
      "\n"
     ]
    },
    {
     "data": {
      "text/html": [
       "<table border=\"1\" class=\"dataframe\">\n",
       "  <thead>\n",
       "    <tr style=\"text-align: right;\">\n",
       "      <th></th>\n",
       "      <th>Count</th>\n",
       "    </tr>\n",
       "  </thead>\n",
       "  <tbody>\n",
       "    <tr>\n",
       "      <th>turn_on</th>\n",
       "      <td>24</td>\n",
       "    </tr>\n",
       "    <tr>\n",
       "      <th>locate_amenity</th>\n",
       "      <td>4</td>\n",
       "    </tr>\n",
       "    <tr>\n",
       "      <th>turn_up</th>\n",
       "      <td>3</td>\n",
       "    </tr>\n",
       "  </tbody>\n",
       "</table>"
      ],
      "text/plain": [
       "<IPython.core.display.HTML object>"
      ]
     },
     "metadata": {},
     "output_type": "display_data"
    }
   ],
   "source": [
    "# in order to run code to - these context variables would need to be set in the dialog\n",
    "\n",
    "# These context variables are what we will use to calculate the top abandoned and resolved intents.\n",
    "# Here, when an intent flow has started, that intent will be added to the start_intent_variable.\n",
    "# When an intent flow has completed, that intent will be added to the end_intent_variable\n",
    "\n",
    "# Replace these variables with your own context variables that track the start and end of an intent flow\n",
    "\n",
    "# intentstarted- at the beginning node.\n",
    "start_intent_variable = 'response_context_IntentStarted'\n",
    "end_intent_variable = 'response_context_IntentCompleted'\n",
    "\n",
    "# Group dataframe by conversation_id and IntentCompleted. This will show occurance of IntentCompleted with its corresponding conversation_id\n",
    "df_intent_started = df_formated.groupby(['response.context.conversation_id',start_intent_variable]).count().reset_index()\n",
    "# Refactors data to show only columns of conversation_id and IntentCompleted\n",
    "df_intent_started = df_intent_started[['response.context.conversation_id',start_intent_variable]]\n",
    "\n",
    "# Counts the number of times each IntentCompleted is found in each conversation id.\n",
    "intent_started = df_intent_started[start_intent_variable].value_counts().to_frame()\n",
    "intent_started.columns = ['Count']\n",
    "\n",
    "intent_started_title = '\\nOccurances of Started Long Intents across all conversations (over Confidence Level)\\n'\n",
    "print(intent_started_title, \"=\" * len(intent_started_title),'\\n', sep = '')\n",
    "display(HTML(intent_started.to_html()))\n"
   ]
  },
  {
   "cell_type": "code",
   "execution_count": 25,
   "metadata": {},
   "outputs": [
    {
     "name": "stdout",
     "output_type": "stream",
     "text": [
      "\n",
      "Occurances of Resolved Intents across all conversations (Most resolved Intents)\n",
      "=================================================================================\n",
      "\n"
     ]
    },
    {
     "data": {
      "text/html": [
       "<table border=\"1\" class=\"dataframe\">\n",
       "  <thead>\n",
       "    <tr style=\"text-align: right;\">\n",
       "      <th></th>\n",
       "      <th>Count</th>\n",
       "    </tr>\n",
       "  </thead>\n",
       "  <tbody>\n",
       "    <tr>\n",
       "      <th>turn_on</th>\n",
       "      <td>4</td>\n",
       "    </tr>\n",
       "    <tr>\n",
       "      <th>locate_amenity</th>\n",
       "      <td>4</td>\n",
       "    </tr>\n",
       "    <tr>\n",
       "      <th>phone</th>\n",
       "      <td>3</td>\n",
       "    </tr>\n",
       "  </tbody>\n",
       "</table>"
      ],
      "text/plain": [
       "<IPython.core.display.HTML object>"
      ]
     },
     "metadata": {},
     "output_type": "display_data"
    },
    {
     "name": "stdout",
     "output_type": "stream",
     "text": [
      "\n",
      "Most Resolved Intents (%)\n",
      "===========================\n",
      "\n"
     ]
    },
    {
     "data": {
      "text/html": [
       "<table border=\"1\" class=\"dataframe\">\n",
       "  <thead>\n",
       "    <tr style=\"text-align: right;\">\n",
       "      <th></th>\n",
       "      <th>Percentage</th>\n",
       "    </tr>\n",
       "  </thead>\n",
       "  <tbody>\n",
       "    <tr>\n",
       "      <th>locate_amenity</th>\n",
       "      <td>100.0%</td>\n",
       "    </tr>\n",
       "    <tr>\n",
       "      <th>turn_on</th>\n",
       "      <td>16.7%</td>\n",
       "    </tr>\n",
       "  </tbody>\n",
       "</table>"
      ],
      "text/plain": [
       "<IPython.core.display.HTML object>"
      ]
     },
     "metadata": {},
     "output_type": "display_data"
    }
   ],
   "source": [
    "# Group dataframe by conversation_id and IntentCompleted. This will show occurance of IntentCompleted with its corresponding conversation_id\n",
    "df_intent_completed = df_formated.groupby(['response.context.conversation_id',end_intent_variable]).count().reset_index()\n",
    "# Refactors data to show only columns of conversation_id and IntentCompleted\n",
    "df_intent_completed = df_intent_completed[['response.context.conversation_id',end_intent_variable]]\n",
    "# Counts the number of times each IntentCompleted is found in each conversation id.\n",
    "intent_completed = df_intent_completed[end_intent_variable].value_counts().to_frame()\n",
    "intent_completed.columns = ['Count']\n",
    "\n",
    "intent_completed_title = '\\nOccurances of Resolved Intents across all conversations (Most resolved Intents)\\n'\n",
    "print(intent_completed_title, \"=\" * len(intent_completed_title),'\\n', sep = '')\n",
    "display(HTML(intent_completed.to_html()))\n",
    "\n",
    "\n",
    "# gets dataframe with rows of resolved intents\n",
    "res_intent = intent_completed.reset_index()\n",
    "# convert dataframe to a list\n",
    "res_intent_list = res_intent.values.tolist()\n",
    "# gets list of started intents\n",
    "all_intent = df_intent_started[start_intent_variable].value_counts().reset_index().values.tolist()\n",
    "\n",
    "# empty buffer list to store each rows of data\n",
    "data = []\n",
    "\n",
    "# Slow algorithm but works nonetheless\n",
    "# Looping over resolved intents list. Each element contains a pair of intent and count\n",
    "for pair_ab in res_intent_list:\n",
    "    # Looping over each row of started intents. Each row contains a pair of intent and count\n",
    "    for pair_all in all_intent:\n",
    "        # Checks if the intent name matches in started and resolved intents\n",
    "        if pair_ab[0] == pair_all[0]:\n",
    "            # Then acccesses the count from that matched intent, and calculates percentage\n",
    "            perc = (pair_ab[1]/pair_all[1])*100\n",
    "            # Adds the matched intent name and percentage to data list\n",
    "            data.append([pair_ab[0],perc])\n",
    "            \n",
    "# Creates a new dataframe with data list\n",
    "final_res = pd.DataFrame(data=data)\n",
    "\n",
    "# Formats the dataframe, and orders data in descending order (shows highest percentage first)\n",
    "final_res = final_res.set_index(0)\n",
    "final_res.index.name = None\n",
    "final_res.columns = ['Percentage']\n",
    "final_res.sort_values(ascending=False,inplace=True, by='Percentage')\n",
    "\n",
    "# Formats the data in the percentage column to include '%', and 1 decimal point\n",
    "final_res['Percentage'] = final_res['Percentage'].apply(lambda x: \"{0:.1f}%\".format(x))\n",
    "\n",
    "most_resolved_intents = \"\\nMost Resolved Intents (%)\\n\"\n",
    "print(most_resolved_intents, \"=\" * len(most_resolved_intents),'\\n', sep = '')\n",
    "display(HTML(final_res.to_html()))\n"
   ]
  },
  {
   "cell_type": "code",
   "execution_count": 26,
   "metadata": {},
   "outputs": [
    {
     "name": "stdout",
     "output_type": "stream",
     "text": [
      "\n",
      "Occurances of Unresolved Intents across all conversations (Most Abandoned Intents)\n",
      "====================================================================================\n",
      "\n"
     ]
    },
    {
     "data": {
      "text/html": [
       "<table border=\"1\" class=\"dataframe\">\n",
       "  <thead>\n",
       "    <tr style=\"text-align: right;\">\n",
       "      <th></th>\n",
       "      <th>Count</th>\n",
       "    </tr>\n",
       "  </thead>\n",
       "  <tbody>\n",
       "    <tr>\n",
       "      <th>turn_on</th>\n",
       "      <td>22</td>\n",
       "    </tr>\n",
       "    <tr>\n",
       "      <th>locate_amenity</th>\n",
       "      <td>3</td>\n",
       "    </tr>\n",
       "    <tr>\n",
       "      <th>turn_up</th>\n",
       "      <td>3</td>\n",
       "    </tr>\n",
       "  </tbody>\n",
       "</table>"
      ],
      "text/plain": [
       "<IPython.core.display.HTML object>"
      ]
     },
     "metadata": {},
     "output_type": "display_data"
    },
    {
     "name": "stdout",
     "output_type": "stream",
     "text": [
      "\n",
      "Most Abandoned Intents (%)\n",
      "============================\n",
      "\n"
     ]
    },
    {
     "data": {
      "text/html": [
       "<table border=\"1\" class=\"dataframe\">\n",
       "  <thead>\n",
       "    <tr style=\"text-align: right;\">\n",
       "      <th></th>\n",
       "      <th>Percentage</th>\n",
       "    </tr>\n",
       "  </thead>\n",
       "  <tbody>\n",
       "    <tr>\n",
       "      <th>turn_up</th>\n",
       "      <td>100.0%</td>\n",
       "    </tr>\n",
       "    <tr>\n",
       "      <th>turn_on</th>\n",
       "      <td>91.7%</td>\n",
       "    </tr>\n",
       "    <tr>\n",
       "      <th>locate_amenity</th>\n",
       "      <td>75.0%</td>\n",
       "    </tr>\n",
       "  </tbody>\n",
       "</table>"
      ],
      "text/plain": [
       "<IPython.core.display.HTML object>"
      ]
     },
     "metadata": {},
     "output_type": "display_data"
    }
   ],
   "source": [
    "# Creates lists of started and completed intents\n",
    "a = df_intent_completed.values.tolist()\n",
    "b = df_intent_started.values.tolist()\n",
    "\n",
    "# Looping over completed intents list. Each element contains a pair of conversation id and intent completed\n",
    "for pair in a:\n",
    "    # Checks if any element is found in list of started intents\n",
    "    if pair in b:\n",
    "        # If found, remove that pair from the list of started intents\n",
    "        b.remove(pair)\n",
    "\n",
    "# Create a new dataframe with updated dataset. \n",
    "# This updated dataset contains intents that have been started but not completed, thus categorised as abandoned\n",
    "df_intent_abandoned = pd.DataFrame(data=b)\n",
    "\n",
    "# Groups each pair (conversation id, intent abandoned), and show number of occurances of each abandoned intent\n",
    "final_intent_abandoned = df_intent_abandoned[1].value_counts().to_frame()\n",
    "final_intent_abandoned.columns = ['Count']\n",
    "\n",
    "intent_abandoned_title = '\\nOccurances of Unresolved Intents across all conversations (Most Abandoned Intents)\\n'\n",
    "print(intent_abandoned_title, \"=\" * len(intent_abandoned_title),'\\n', sep = '')\n",
    "display(HTML(final_intent_abandoned.to_html()))\n",
    "\n",
    "# gets dataframe with rows of resolved intents\n",
    "aban_intent = final_intent_abandoned.reset_index()\n",
    "# convert dataframe to a list\n",
    "aban_intent_list = aban_intent.values.tolist()\n",
    "# gets list of started intents\n",
    "all_intent = df_intent_started[start_intent_variable].value_counts().reset_index().values.tolist()\n",
    "\n",
    "# empty buffer list to store each rows of data\n",
    "data = []\n",
    "\n",
    "# Slow algorithm but works nonetheless\n",
    "# Looping over resolved intents list. Each element contains a pair of intent and count\n",
    "for pair_ab in aban_intent_list:\n",
    "    # Looping over each row of started intents. Each row contains a pair of intent and count\n",
    "    for pair_all in all_intent:\n",
    "        # Checks if the intent name matches in started and resolved intents\n",
    "        if pair_ab[0] == pair_all[0]:\n",
    "            # Then acccesses the count from that matched intent, and calculates percentage\n",
    "            perc = (pair_ab[1]/pair_all[1])*100\n",
    "            # Adds the matched intent name and percentage to data list\n",
    "            data.append([pair_ab[0],perc])\n",
    "            \n",
    "# Creates a new dataframe with data list\n",
    "final_aban = pd.DataFrame(data=data)\n",
    "\n",
    "# Formats the dataframe, and orders data in descending order (shows highest percentage first)\n",
    "final_aban = final_aban.set_index(0)\n",
    "final_aban.index.name = None\n",
    "final_aban.columns = ['Percentage']\n",
    "final_aban.sort_values(ascending=False,inplace=True, by='Percentage')\n",
    "\n",
    "# Formats the data in the percentage column to include '%', and 1 decimal point\n",
    "final_aban['Percentage'] = final_aban['Percentage'].apply(lambda x: \"{0:.1f}%\".format(x))\n",
    "\n",
    "most_abandoned_intents = \"\\nMost Abandoned Intents (%)\\n\"\n",
    "print(most_abandoned_intents, \"=\" * len(most_abandoned_intents),'\\n', sep = '')\n",
    "display(HTML(final_aban.to_html()))"
   ]
  },
  {
   "cell_type": "markdown",
   "metadata": {},
   "source": [
    "Finally, we generate an excel file with all abandoned and resolved intents. This excel shows the intent name and the conversation id for that given intent. "
   ]
  },
  {
   "cell_type": "code",
   "execution_count": 27,
   "metadata": {},
   "outputs": [
    {
     "data": {
      "text/html": [
       "Abandoned and resolved intents: <b><a href=Long_intent_coverage.xlsx target=\"_blank\">Long_intent_coverage.xlsx</a></b>"
      ],
      "text/plain": [
       "<IPython.core.display.HTML object>"
      ]
     },
     "execution_count": 27,
     "metadata": {},
     "output_type": "execute_result"
    }
   ],
   "source": [
    "\n",
    "file_name = 'Long_intent_coverage.xlsx'\n",
    "generate_excel_measure([df_intent_abandoned,df_intent_completed], ['Abandoned', 'Resolved'], filename= file_name, project_io=None)\n",
    "\n",
    "link_html = 'Abandoned and resolved intents: <b><a href={} target=\"_blank\">Long_intent_coverage.xlsx</a></b>'.format(file_name)\n",
    "\n",
    "HTML(link_html)\n"
   ]
  },
  {
   "cell_type": "markdown",
   "metadata": {},
   "source": [
    "<a id=\"summary\"></a>\n",
    "## 9. Summary and next steps\n",
    "\n",
    "The metrics described above help you narrow your immediate focus of improvement. We suggest the following two strategies: \n",
    "\n",
    "- **Toward improving Effectiveness**\n",
    "\n",
    "    We suggest focusing on a group of problematic conversations, e.g., escalated conversations, then performing a deeper analysis on these conversation as follows. <br>\n",
    "    1. Choose to download either the complete conversations ([All.xlsx](#file_list)), or sampled escalated conversations [Escalated_sample.xlsx](#file_list), or non-escalated conversations [NotEscalated_sample.xlsx](#file_list).<br>\n",
    "    2. Perform a manual assessment of these conversations.<br>\n",
    "    3. Analyze the results using our __Analyze Watson Assistant Effectiveness__ Jupyter Notebook.\n",
    "\n",
    "\n",
    "- **Toward improving Coverage**\n",
    "\n",
    "    For utterances where an intent was found but no response was given. We suggest performing a deeper analysis to identify  root causes, e.g., missing entities or lacking of dialog logic. \n",
    "\n",
    "    For utterances where no intent was found, we suggest expanding intent coverage as follows.\n",
    "\n",
    "    1. Examine utterances from the production log, especially focus on the utterances that are below the confidence (0.2 by default).\n",
    "    2. If you set a confidence threshold significantly higher than 0.2, we suggest looking at utterances that are below but close to the threshold.\n",
    "    3. Once you select a collection of utterances, intent expansion, you can focus on intent expansion by two methods:\n",
    "        - One-by-One: examine each utterance to either change to an existing intent or add a new intent.\n",
    "        - Unsupervised Learning: perform semantic clustering to generate utterance clusters; examine each cluster to decide (1) adding utterances of an existing intent or (2) creating a new intent.\n",
    "\n",
    "For more information, please check <a href=\"https://github.com/watson-developer-cloud/assistant-improve-recommendations-notebook/raw/master/notebook/IBM%20Watson%20Assistant%20Continuous%20Improvement%20Best%20Practices.pdf\" target=\"_blank\" rel=\"noopener noreferrer\">Watson Assistant Continuous Improvement Best Practices</a>."
   ]
  },
  {
   "cell_type": "markdown",
   "metadata": {},
   "source": [
    "### <a id=\"authors\"></a>Authors\n",
    "\n",
    "**Zhe Zhang**, Ph.D. in Computer Science, is an Advisory Software Engineer for IBM Watson AI. Zhe has a research background in Natural Language Processing, Sentiment Analysis, Text Mining, and Machine Learning. His research has been published at leading  conferences and journals including ACL and EMNLP.\n",
    "\n",
    "**Sherin Varughese** is a Data Scientist for IBM Watson AI. Sherin has her graduate degree in Business Intelligence and Data Analytics and has experience in Data Analysis, Warehousing and Machine Learning."
   ]
  },
  {
   "cell_type": "markdown",
   "metadata": {},
   "source": [
    "### <a id=\"acknowledgement\"></a> Acknowledgement\n",
    "\n",
    "The authors would like to thank the following members of the IBM Research and Watson Assistant teams for their contributions and reviews of the notebook:  Matt Arnold, Adam Benvie, Kyle Croutwater, Eric Wayne."
   ]
  },
  {
   "cell_type": "markdown",
   "metadata": {},
   "source": [
    "Copyright © 2018 IBM. This notebook and its source code are released under the terms of the MIT License."
   ]
  }
 ],
 "metadata": {
  "kernelspec": {
   "display_name": "Python 3",
   "language": "python",
   "name": "python3"
  },
  "language_info": {
   "codemirror_mode": {
    "name": "ipython",
    "version": 3
   },
   "file_extension": ".py",
   "mimetype": "text/x-python",
   "name": "python",
   "nbconvert_exporter": "python",
   "pygments_lexer": "ipython3",
   "version": "3.6.5"
  }
 },
 "nbformat": 4,
 "nbformat_minor": 1
}
