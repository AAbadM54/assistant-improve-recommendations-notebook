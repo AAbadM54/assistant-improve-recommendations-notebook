{
 "cells": [
  {
   "cell_type": "markdown",
   "metadata": {},
   "source": [
    "# Measure Watson Assistant Performance\n",
    "\n",
    "<img src=\"https://raw.githubusercontent.com/watson-developer-cloud/assistant-improve-recommendations-notebook/master/notebook/imgs/measure_process.png\" alt=\"Measure Process\" width=\"600\"/>\n",
    "\n",
    "## Introduction\n",
    "\n",
    "This notebook demonstrates how to setup automated metrics that help you measure, monitor, and understand the behavior of your Watson Assistant system. As described in <a href=\"https://github.com/watson-developer-cloud/assistant-improve-recommendations-notebook/raw/master/notebook/IBM%20Watson%20Assistant%20Continuous%20Improvement%20Best%20Practices.pdf\" target=\"_blank\" rel=\"noopener noreferrer\">Watson Assistant Continuous Improvement Best Practices</a>, this is the first step of your continuous improvement process. The goal of this step is to understand where your assistant is doing well vs where it isn’t and to potentially focus your improvement effort to one of the problem areas identified. We define two measures to achieve this goal: **Coverage** and **Effectiveness**.\n",
    "\n",
    "- **Coverage** is the portion of total user messages your assistant is attempting to respond to.\n",
    "\n",
    "- **Effectiveness** refers to how well your assistant is handling the conversations it is attempting to respond to.\n",
    "\n",
    "The pre-requisite for running this notebook is Watson Assistant (formerly Watson Conversation). This notebook assumes familiarity with Watson Assistant and concepts such as skills, workspaces, intents and training examples. \n",
    "\n",
    "### Programming language and environment\n",
    "Some familiarity with Python is recommended. This notebook runs on Python 3.5+ environment.\n"
   ]
  },
  {
   "cell_type": "markdown",
   "metadata": {},
   "source": [
    "## Table of contents\n",
    "1. [Configuration and setup](#setup)<br>\n",
    "    1.1 [Import and apply global CSS styles](#css)<br>\n",
    "    1.2 [Install required Python libraries](#python)<br>\n",
    "    1.3 [Import functions used in the notebook](#function)<br>\n",
    "2. [Load and format data](#load)<br>\n",
    "    2.1 [Option one: from a Watson Assistant instance](#load_remote)<br>\n",
    "    2.2 [Option two: from JSON files](#load_local)<br>\n",
    "    2.3 [Format the log data](#format_data)<br>\n",
    "3. [Define coverage and effectiveness metrics](#set_metrics)<br>\n",
    "    3.1 [Customize coverage](#set_coverage)<br>\n",
    "    3.2 [Customize effectiveness](#set_effectiveness)<br>\n",
    "4. [Calculate overall coverage and effectiveness](#overall)<br>\n",
    "    4.1 [Calculate overall metrics](#overall1)<br>\n",
    "    4.2 [Display overall results](#overall2)<br>\n",
    "5. [Analyze coverage](#msg_analysis)<br>\n",
    "    5.1 [Display overall coverage](#msg_analysis1)<br>\n",
    "    5.2 [Calculate coverage over time](#msg_analysis2)<br>\n",
    "6. [Analyze effectiveness](#conv_analysis)<br>\n",
    "    6.1 [Generate excel file and upload to our project](#conv_analysis1)<br>\n",
    "    6.2 [Plot breakdown by effectiveness graph](#conv_analysis2)<br>\n",
    "7. [Root cause analysis of non coverage](#root_cause)<br>\n",
    "8. [Abandoned and resolved intent analysis](#abandoned_resolved_intents)<br>\n",
    "    8.1 [Count of all started intents](#started_intents)<br>\n",
    "    8.2 [Analyze resolved intents](#resolved_intents)<br>\n",
    "    8.3 [Analyze abandoned intents](#abandoned_intents)<br>\n",
    "9. [Summary and next steps](#summary)<br>"
   ]
  },
  {
   "cell_type": "markdown",
   "metadata": {},
   "source": [
    "<a id=\"setup\"></a>\n",
    "## 1. Configuration and Setup\n",
    "\n",
    "In this section, we install and import required libraries and functions and add project access token."
   ]
  },
  {
   "cell_type": "markdown",
   "metadata": {},
   "source": [
    "### <a id=\"css\"></a> 1.1 Import and apply global CSS styles"
   ]
  },
  {
   "cell_type": "code",
   "execution_count": 17,
   "metadata": {},
   "outputs": [
    {
     "name": "stdout",
     "output_type": "stream",
     "text": [
      "  % Total    % Received % Xferd  Average Speed   Time    Time     Time  Current\r\n",
      "                                 Dload  Upload   Total   Spent    Left  Speed\r\n",
      "100   348  100   348    0     0   1870      0 --:--:-- --:--:-- --:--:--  1860\r\n"
     ]
    },
    {
     "data": {
      "text/plain": "<IPython.core.display.HTML object>",
      "text/html": "<style>\n    h1 {\n        font-family: \"HelveticaNeue-Light\", \"Helvetica Neue Light\", \"Helvetica Neue\";\n    }\n    div.text_cell_render{\n        font-family: \"HelveticaNeue-Light\", \"Helvetica Neue Light\", \"Helvetica Neue\";\n        line-height: 145%;\n        font-size: 120%;\n    }\n    .warning{\n        color: rgb( 240, 20, 20 )\n        }  \n</style>\n"
     },
     "execution_count": 17,
     "metadata": {},
     "output_type": "execute_result"
    }
   ],
   "source": [
    "from IPython.display import HTML\n",
    "!curl -O https://raw.githubusercontent.com/watson-developer-cloud/assistant-improve-recommendations-notebook/master/src/main/css/custom.css\n",
    "HTML(open('custom.css', 'r').read())"
   ]
  },
  {
   "cell_type": "markdown",
   "metadata": {},
   "source": [
    "### <a id=\"python\"></a> 1.2 Install required Python libraries"
   ]
  },
  {
   "cell_type": "code",
   "execution_count": 2,
   "metadata": {
    "scrolled": true
   },
   "outputs": [
    {
     "name": "stdout",
     "output_type": "stream",
     "text": [
      "Requirement already up-to-date: ibm-watson==4.1.0 in /Users/zhezhang/.local/lib/python3.6/site-packages (4.1.0)\n",
      "Requirement already satisfied, skipping upgrade: websocket-client==0.48.0 in /Users/zhezhang/.local/lib/python3.6/site-packages (from ibm-watson==4.1.0) (0.48.0)\n",
      "Requirement already satisfied, skipping upgrade: python-dateutil>=2.5.3 in /Users/zhezhang/.local/lib/python3.6/site-packages (from ibm-watson==4.1.0) (2.8.1)\n",
      "Requirement already satisfied, skipping upgrade: ibm-cloud-sdk-core==1.0.0 in /Users/zhezhang/.local/lib/python3.6/site-packages (from ibm-watson==4.1.0) (1.0.0)\n",
      "Requirement already satisfied, skipping upgrade: requests<3.0,>=2.0 in /Users/zhezhang/.local/lib/python3.6/site-packages (from ibm-watson==4.1.0) (2.22.0)\n",
      "Requirement already satisfied, skipping upgrade: six in /Users/zhezhang/.local/lib/python3.6/site-packages (from websocket-client==0.48.0->ibm-watson==4.1.0) (1.14.0)\n",
      "Requirement already satisfied, skipping upgrade: PyJWT>=1.7.1 in /Users/zhezhang/.local/lib/python3.6/site-packages (from ibm-cloud-sdk-core==1.0.0->ibm-watson==4.1.0) (1.7.1)\n",
      "Requirement already satisfied, skipping upgrade: chardet<3.1.0,>=3.0.2 in /Users/zhezhang/.local/lib/python3.6/site-packages (from requests<3.0,>=2.0->ibm-watson==4.1.0) (3.0.4)\n",
      "Requirement already satisfied, skipping upgrade: urllib3!=1.25.0,!=1.25.1,<1.26,>=1.21.1 in /Users/zhezhang/.local/lib/python3.6/site-packages (from requests<3.0,>=2.0->ibm-watson==4.1.0) (1.25.8)\n",
      "Requirement already satisfied, skipping upgrade: idna<2.9,>=2.5 in /Users/zhezhang/.local/lib/python3.6/site-packages (from requests<3.0,>=2.0->ibm-watson==4.1.0) (2.8)\n",
      "Requirement already satisfied, skipping upgrade: certifi>=2017.4.17 in /Users/zhezhang/.local/lib/python3.6/site-packages (from requests<3.0,>=2.0->ibm-watson==4.1.0) (2019.11.28)\n",
      "\u001B[33mYou are using pip version 18.1, however version 20.1b1 is available.\n",
      "You should consider upgrading via the 'pip install --upgrade pip' command.\u001B[0m\n",
      "Requirement already up-to-date: pandas==1.0.3 in /Users/zhezhang/.local/lib/python3.6/site-packages (1.0.3)\n",
      "Requirement already satisfied, skipping upgrade: python-dateutil>=2.6.1 in /Users/zhezhang/.local/lib/python3.6/site-packages (from pandas==1.0.3) (2.8.1)\n",
      "Requirement already satisfied, skipping upgrade: pytz>=2017.2 in /Users/zhezhang/.pyenv/versions/3.6.8/lib/python3.6/site-packages (from pandas==1.0.3) (2019.3)\n",
      "Requirement already satisfied, skipping upgrade: numpy>=1.13.3 in /Users/zhezhang/.local/lib/python3.6/site-packages (from pandas==1.0.3) (1.18.2)\n",
      "Requirement already satisfied, skipping upgrade: six>=1.5 in /Users/zhezhang/.local/lib/python3.6/site-packages (from python-dateutil>=2.6.1->pandas==1.0.3) (1.14.0)\n",
      "\u001B[33mYou are using pip version 18.1, however version 20.1b1 is available.\n",
      "You should consider upgrading via the 'pip install --upgrade pip' command.\u001B[0m\n",
      "Requirement already up-to-date: matplotlib==3.2.1 in /Users/zhezhang/.local/lib/python3.6/site-packages (3.2.1)\n",
      "Requirement already satisfied, skipping upgrade: python-dateutil>=2.1 in /Users/zhezhang/.local/lib/python3.6/site-packages (from matplotlib==3.2.1) (2.8.1)\n",
      "Requirement already satisfied, skipping upgrade: pyparsing!=2.0.4,!=2.1.2,!=2.1.6,>=2.0.1 in /Users/zhezhang/.pyenv/versions/3.6.8/lib/python3.6/site-packages (from matplotlib==3.2.1) (2.4.6)\n",
      "Requirement already satisfied, skipping upgrade: kiwisolver>=1.0.1 in /Users/zhezhang/.pyenv/versions/3.6.8/lib/python3.6/site-packages (from matplotlib==3.2.1) (1.1.0)\n",
      "Requirement already satisfied, skipping upgrade: cycler>=0.10 in /Users/zhezhang/.pyenv/versions/3.6.8/lib/python3.6/site-packages (from matplotlib==3.2.1) (0.10.0)\n",
      "Requirement already satisfied, skipping upgrade: numpy>=1.11 in /Users/zhezhang/.local/lib/python3.6/site-packages (from matplotlib==3.2.1) (1.18.2)\n",
      "Requirement already satisfied, skipping upgrade: six>=1.5 in /Users/zhezhang/.local/lib/python3.6/site-packages (from python-dateutil>=2.1->matplotlib==3.2.1) (1.14.0)\n",
      "Requirement already satisfied, skipping upgrade: setuptools in /Users/zhezhang/.pyenv/versions/3.6.8/lib/python3.6/site-packages (from kiwisolver>=1.0.1->matplotlib==3.2.1) (40.6.2)\n",
      "\u001B[33mYou are using pip version 18.1, however version 20.1b1 is available.\n",
      "You should consider upgrading via the 'pip install --upgrade pip' command.\u001B[0m\n",
      "Requirement already up-to-date: numpy==1.18.2 in /Users/zhezhang/.local/lib/python3.6/site-packages (1.18.2)\n",
      "\u001B[33mYou are using pip version 18.1, however version 20.1b1 is available.\n",
      "You should consider upgrading via the 'pip install --upgrade pip' command.\u001B[0m\n",
      "Requirement already up-to-date: XlsxWriter==1.2.8 in /Users/zhezhang/.local/lib/python3.6/site-packages (1.2.8)\n",
      "\u001B[33mYou are using pip version 18.1, however version 20.1b1 is available.\n",
      "You should consider upgrading via the 'pip install --upgrade pip' command.\u001B[0m\n",
      "Requirement already up-to-date: bokeh==2.0.0 in /Users/zhezhang/.local/lib/python3.6/site-packages (2.0.0)\n",
      "Requirement already satisfied, skipping upgrade: PyYAML>=3.10 in /Users/zhezhang/.pyenv/versions/3.6.8/lib/python3.6/site-packages (from bokeh==2.0.0) (5.3)\n",
      "Requirement already satisfied, skipping upgrade: python-dateutil>=2.1 in /Users/zhezhang/.local/lib/python3.6/site-packages (from bokeh==2.0.0) (2.8.1)\n",
      "Requirement already satisfied, skipping upgrade: Jinja2>=2.7 in /Users/zhezhang/.pyenv/versions/3.6.8/lib/python3.6/site-packages (from bokeh==2.0.0) (2.11.1)\n",
      "Requirement already satisfied, skipping upgrade: numpy>=1.11.3 in /Users/zhezhang/.local/lib/python3.6/site-packages (from bokeh==2.0.0) (1.18.2)\n",
      "Requirement already satisfied, skipping upgrade: pillow>=4.0 in /Users/zhezhang/.local/lib/python3.6/site-packages (from bokeh==2.0.0) (7.1.1)\n",
      "Requirement already satisfied, skipping upgrade: packaging>=16.8 in /Users/zhezhang/.pyenv/versions/3.6.8/lib/python3.6/site-packages (from bokeh==2.0.0) (20.3)\n",
      "Requirement already satisfied, skipping upgrade: tornado>=5 in /Users/zhezhang/.pyenv/versions/3.6.8/lib/python3.6/site-packages (from bokeh==2.0.0) (6.0.3)\n",
      "Requirement already satisfied, skipping upgrade: typing_extensions>=3.7.4 in /Users/zhezhang/.pyenv/versions/3.6.8/lib/python3.6/site-packages (from bokeh==2.0.0) (3.7.4.1)\n",
      "Requirement already satisfied, skipping upgrade: six>=1.5 in /Users/zhezhang/.local/lib/python3.6/site-packages (from python-dateutil>=2.1->bokeh==2.0.0) (1.14.0)\n",
      "Requirement already satisfied, skipping upgrade: MarkupSafe>=0.23 in /Users/zhezhang/.pyenv/versions/3.6.8/lib/python3.6/site-packages (from Jinja2>=2.7->bokeh==2.0.0) (1.1.1)\n",
      "Requirement already satisfied, skipping upgrade: pyparsing>=2.0.2 in /Users/zhezhang/.pyenv/versions/3.6.8/lib/python3.6/site-packages (from packaging>=16.8->bokeh==2.0.0) (2.4.6)\n",
      "\u001B[33mYou are using pip version 18.1, however version 20.1b1 is available.\n",
      "You should consider upgrading via the 'pip install --upgrade pip' command.\u001B[0m\n"
     ]
    }
   ],
   "source": [
    "# Install watson-developer-cloud python SDK and required libraries\n",
    "# After running this cell once, comment out the following code. Packages only need to be installed once.\n",
    "!pip3 install --user --upgrade \"ibm-watson==4.1.0\";\n",
    "!pip3 install --user --upgrade \"pandas==1.0.3\";\n",
    "!pip3 install --user --upgrade \"matplotlib==3.2.1\";\n",
    "!pip3 install --user --upgrade \"numpy==1.18.2\";\n",
    "!pip3 install --user --upgrade \"XlsxWriter==1.2.8\";\n",
    "!pip3 install --user --upgrade \"bokeh==2.0.0\";"
   ]
  },
  {
   "cell_type": "code",
   "execution_count": 1,
   "outputs": [],
   "source": [
    "# Import required libraries\n",
    "import pandas as pd\n",
    "import json\n",
    "from pandas import json_normalize\n",
    "from ibm_watson import AssistantV1\n",
    "from IPython.display import display"
   ],
   "metadata": {
    "collapsed": false,
    "pycharm": {
     "name": "#%%\n"
    }
   }
  },
  {
   "cell_type": "markdown",
   "metadata": {},
   "source": [
    "### <a id=\"function\"></a> 1.3 Import functions used in the notebook"
   ]
  },
  {
   "cell_type": "code",
   "execution_count": 3,
   "metadata": {},
   "outputs": [
    {
     "name": "stdout",
     "output_type": "stream",
     "text": [
      "  % Total    % Received % Xferd  Average Speed   Time    Time     Time  Current\n",
      "                                 Dload  Upload   Total   Spent    Left  Speed\n",
      "100 14698  100 14698    0     0  14698      0  0:00:01 --:--:--  0:00:01  120k\n",
      "  % Total    % Received % Xferd  Average Speed   Time    Time     Time  Current\n",
      "                                 Dload  Upload   Total   Spent    Left  Speed\n",
      "100 14037  100 14037    0     0  14037      0  0:00:01 --:--:--  0:00:01 99553\n",
      "  % Total    % Received % Xferd  Average Speed   Time    Time     Time  Current\n",
      "                                 Dload  Upload   Total   Spent    Left  Speed\n",
      "100 15665  100 15665    0     0  15665      0  0:00:01 --:--:--  0:00:01  116k\n",
      "  % Total    % Received % Xferd  Average Speed   Time    Time     Time  Current\n",
      "                                 Dload  Upload   Total   Spent    Left  Speed\n",
      "100 17027  100 17027    0     0  17027      0  0:00:01 --:--:--  0:00:01  133k\n"
     ]
    }
   ],
   "source": [
    "# Import function module files\n",
    "!curl -O https://raw.githubusercontent.com/watson-developer-cloud/assistant-improve-recommendations-notebook/master/src/main/python/cos_op.py\n",
    "!curl -O https://raw.githubusercontent.com/watson-developer-cloud/assistant-improve-recommendations-notebook/master/src/main/python/watson_assistant_func.py\n",
    "!curl -O https://raw.githubusercontent.com/watson-developer-cloud/assistant-improve-recommendations-notebook/master/src/main/python/visualize_func.py\n",
    "!curl -O https://raw.githubusercontent.com/watson-developer-cloud/assistant-improve-recommendations-notebook/master/src/main/python/computation_func.py"
   ]
  },
  {
   "cell_type": "code",
   "execution_count": 2,
   "outputs": [],
   "source": [
    "# Import the visualization related functions\n",
    "from visualize_func import make_pie\n",
    "from visualize_func import coverage_barh\n",
    "from visualize_func import width_bar\n",
    "from visualize_func import show_coverage_over_time\n",
    "\n",
    "# Import Cloud Object Storage related functions   \n",
    "from cos_op import generate_link\n",
    "from cos_op import generate_excel_measure\n",
    "from cos_op import export_result_excel\n",
    "\n",
    "# Import Watson Assistant related functions\n",
    "from ibm_cloud_sdk_core.authenticators import IAMAuthenticator\n",
    "from ibm_cloud_sdk_core.authenticators import BasicAuthenticator\n",
    "from watson_assistant_func import get_logs\n",
    "from watson_assistant_func import get_assistant_definition\n",
    "from watson_assistant_func import load_logs_from_file\n",
    "\n",
    "# Import Dataframe computation related functions\n",
    "from computation_func import get_effective_df\n",
    "from computation_func import get_coverage_df\n",
    "from computation_func import chk_is_valid_node\n",
    "from computation_func import format_data"
   ],
   "metadata": {
    "collapsed": false,
    "pycharm": {
     "name": "#%%\n"
    }
   }
  },
  {
   "cell_type": "markdown",
   "metadata": {},
   "source": [
    "## <a id=\"load\"></a> 2. Load and format data "
   ]
  },
  {
   "cell_type": "markdown",
   "metadata": {},
   "source": [
    "### <a id=\"load_remote\"></a> 2.1 Option one: from a Watson Assistant instance\n",
    "\n",
    "#### 2.1.1 Add Watson Assistant configuration\n",
    "\n",
    "This notebook uses the Watson Assistant v1 API to access your skill definition and your logs. Provide your Watson Assistant credentials and the workspace id that you want to fetch data from.\n",
    "\n",
    "You can access the values you need for this configuration from the Watson Assistant user interface. Go to the Skills page and select View API Details from the menu of a skill tile.\n",
    "\n",
    "- The string to set in the call to `IAMAuthenticator` is your Api Key under Service Credentials\n",
    "- The string to set for version is a date in the format version=YYYY-MM-DD. The version date string determines which version of the Watson Assistant V1 API will be called. For more information about version, see [Versioning](https://cloud.ibm.com/apidocs/assistant/assistant-v1#versioning).\n",
    "- The string to pass into `assistant.set_service_url` is the portion of the Legacy v1 Workspace URL that ends with `/api`. For example, `https://gateway.watsonplatform.net/assistant/api`. This value will be different depending on the location of your service instance. Do not pass in the entire Workspace URL."
   ]
  },
  {
   "cell_type": "code",
   "execution_count": 3,
   "metadata": {},
   "outputs": [],
   "source": [
    "# Provide credentials to connect to assistant\n",
    "authenticator = IAMAuthenticator('API_KEY')\n",
    "sdk_object = AssistantV1(version='2020-04-01', authenticator=authenticator)\n",
    "sdk_object.set_service_url('URL')"
   ]
  },
  {
   "cell_type": "markdown",
   "metadata": {},
   "source": [
    "Add the information of your assistant. To load the skill of an assistant in the next section, you need to provide either Workspace ID or Skill ID. The values can be found on the View API Details page. If you are using versioning in Watson Assistant, this ID represents the Development version of your skill definition.\n",
    "\n",
    "For more information about authentication and finding credentials in the Watson Assistant UI, please see [Watson Assistant v1 API](https://cloud.ibm.com/apidocs/assistant/assistant-v1) in the offering documentation."
   ]
  },
  {
   "cell_type": "code",
   "execution_count": 4,
   "metadata": {},
   "outputs": [],
   "source": [
    "assistant_information = {'workspace_id' : '',\n",
    "                         'skill_id' : '',\n",
    "                         'assistant_id' : ''}"
   ]
  },
  {
   "cell_type": "markdown",
   "metadata": {},
   "source": [
    "#### 2.1.2 Fetch and load the definition of your assistant \n",
    "\n",
    "Fetch assistant definition and load into a dataframe. Note that assistant definition will be saved into a cached file and reloaded from the file. Set `reset` to True to reload assistant definition."
   ]
  },
  {
   "cell_type": "code",
   "execution_count": 5,
   "metadata": {},
   "outputs": [
    {
     "name": "stdout",
     "output_type": "stream",
     "text": [
      "Loading skill definition using skill id: 06934d39-8071-48cf-8d1b-9d4702516d52\n",
      "Definition assistant_definition_skill_06934d39-8071-48cf-8d1b-9d4702516d52.json exported\n"
     ]
    }
   ],
   "source": [
    "df_assistant = get_assistant_definition(sdk_object, assistant_information, reset=True)\n",
    "\n",
    "if df_assistant is not None:\n",
    "    # Get all intents\n",
    "    assistant_intents = [intent['intent'] for intent in df_assistant['intents'].values[0]] \n",
    "    # Get all dialog nodes\n",
    "    assistant_nodes = pd.DataFrame(df_assistant['dialog_nodes'].values[0])\n",
    "    assistant_loaded = True\n",
    "else:\n",
    "    assistant_loaded = False"
   ]
  },
  {
   "cell_type": "markdown",
   "metadata": {},
   "source": [
    "#### 2.1.3 Fetch and load logs\n",
    "\n",
    "Fetch user generated logs. You can apply filters while fetching logs, e.g.,\n",
    "- removing empty input: `meta.summary.input_text_length_i>0`\n",
    "- fetching logs generated after a timestamp: `response_timestamp>=2018-09-18`\n",
    "\n",
    "See more examples in [Logs notebook](https://github.com/watson-developer-cloud/assistant-improve-recommendations-notebook/blob/master/notebook/Logs%20Notebook.ipynb)"
   ]
  },
  {
   "cell_type": "code",
   "execution_count": 7,
   "metadata": {},
   "outputs": [
    {
     "name": "stdout",
     "output_type": "stream",
     "text": [
      "Please provide a valid Workspace ID, Assistant ID, or Skill ID!\n"
     ]
    }
   ],
   "source": [
    "# Filter to be applied while fetching logs\n",
    "filters = ['language::en',\n",
    "           'meta.summary.input_text_length_i>0']\n",
    "\n",
    "# Fetch the logs, set `reset` to True to reload logs\n",
    "logs = get_logs(sdk_object,\n",
    "                assistant_information,\n",
    "                num_logs=20000,\n",
    "                filters=filters)"
   ]
  },
  {
   "cell_type": "markdown",
   "metadata": {},
   "source": [
    "### <a id=\"load_local\"></a> 2.2 Option two: from JSON files\n",
    "\n",
    "#### 2.2.1 Load a workspace JSON file"
   ]
  },
  {
   "cell_type": "code",
   "execution_count": 20,
   "metadata": {},
   "outputs": [
    {
     "name": "stdout",
     "output_type": "stream",
     "text": [
      "Assistant definition has been loaded in Section 2.1.2.\n"
     ]
    }
   ],
   "source": [
    "if not assistant_loaded:\n",
    "    \n",
    "    # The following code is for using demo workspace\n",
    "    import requests\n",
    "    print('Loading workspace data from Watson developer cloud Github repo ... ', end='')\n",
    "    workspace_data = requests.get(\"https://raw.githubusercontent.com/watson-developer-cloud/assistant-improve-recommendations-notebook/master/notebook/data/workspace.json\").text    \n",
    "    df_assistant = json_normalize(json.loads(workspace_data))\n",
    "    \n",
    "#    # Specify assistant definition JSON file\n",
    "#     assistant_definition_file = 'SPECIFY_FILE_NAME'\n",
    "#     print('Loading assistant definition from {}'.format(assistant_definition_file))\n",
    "\n",
    "#    # Store assistant definition in a dataframe\n",
    "#     df_assistant = json_normalize(json.load(open(assistant_definition_file)))\n",
    "\n",
    "    # Get all intents\n",
    "    assistant_intents = [intent['intent'] for intent in df_assistant['intents'].values[0]] \n",
    "\n",
    "    # Get all dialog nodes\n",
    "    assistant_nodes = pd.DataFrame(df_assistant['dialog_nodes'].values[0])\n",
    "    print('completed!')\n",
    "else:\n",
    "    print('Assistant definition has been loaded in Section 2.1.2.')"
   ]
  },
  {
   "cell_type": "markdown",
   "metadata": {},
   "source": [
    "#### 2.2.2 Load a log JSON file\n",
    "\n",
    "Another option is to load an existing log JSON file.  Log JSON files can be produced by using [Logs notebook](https://github.com/watson-developer-cloud/assistant-improve-recommendations-notebook/blob/master/notebook/Logs%20Notebook.ipynb), or [`fetch_logs`](https://github.com/watson-developer-cloud/assistant-improve-recommendations-notebook/blob/master/src/main/python/fetch_logs.py)."
   ]
  },
  {
   "cell_type": "code",
   "execution_count": 6,
   "metadata": {},
   "outputs": [
    {
     "name": "stdout",
     "output_type": "stream",
     "text": [
      "Loading demo log data from Watson developer cloud Github repo ... completed!\n"
     ]
    }
   ],
   "source": [
    "if 'logs' not in locals():\n",
    "    # The following code is for using demo logs\n",
    "    import requests\n",
    "    print('Loading demo log data from Watson developer cloud Github repo ... ', end='')\n",
    "    log_raw_data = requests.get(\"https://raw.githubusercontent.com/watson-developer-cloud/assistant-improve-recommendations-notebook/master/notebook/data/sample_logs.json\").text\n",
    "    print('completed!')\n",
    "    logs = json.loads(log_raw_data)\n",
    "\n",
    "    # The following code is for loading your log file\n",
    "    # Specify a log JSON file\n",
    "    # logs = load_logs_from_file(filename='logs.json')\n",
    "\n",
    "    df_logs = pd.DataFrame(logs)\n",
    "else:\n",
    "    print('Logs have been loaded in Section 2.1.3.')"
   ]
  },
  {
   "cell_type": "markdown",
   "metadata": {},
   "source": [
    "### <a id=\"format_data\"></a> 2.3 Format the log data\n",
    "\n",
    "The logs returned from `logs` API are stored in a nested structure. In this step, we expand the nested structure and extract the fields used for analysis."
   ]
  },
  {
   "cell_type": "code",
   "execution_count": 7,
   "metadata": {},
   "outputs": [
    {
     "name": "stdout",
     "output_type": "stream",
     "text": [
      "Extracting request and response ...\n",
      "Extracting context and output ...\n",
      "Extracting intents ...\n",
      "Completed!\n"
     ]
    }
   ],
   "source": [
    "# Format the logs data from the workspace\n",
    "df_formated = format_data(df_logs)"
   ]
  },
  {
   "cell_type": "markdown",
   "metadata": {},
   "source": [
    "<a id=\"set_metrics\"></a>\n",
    "## 3. Define effectiveness and coverage metrics\n",
    "As described in Watson Assistant Continuous Improvement Best Practices, **Effectiveness** and **Coverage** are the two measures that provide a reliable understanding of your assistant’s overall performance. Both of the two measures are customizable based on your preferences. In this section, we provide a guideline for setting each of them."
   ]
  },
  {
   "cell_type": "markdown",
   "metadata": {},
   "source": [
    "### <a id=\"set_coverage\"></a> 3.1 Customize coverage\n",
    "\n",
    "Coverage measures your Watson Assistant system at the utterance level. You may include automated metrics that help identify utterences that your service is not answering. Example metrics include: \n",
    "\n",
    "- Confidence threshold\n",
    "- Dialog information\n",
    "\n",
    "For Confidence threshold, you can set a threshold to include utterances with confidence values below this threshold. For more information regarding Confidence, see [Absolute scoring](https://cloud.ibm.com/docs/services/assistant?topic=assistant-intents#intents-absolute-scoring).\n",
    "\n",
    "For Dialog information, you can specify what the notebook should look for in your logs to determine that a message is not covered by your assistant.\n",
    "\n",
    "- Use the node_ids list to include the identifiers of any dialog nodes you've used to model that a message is out of scope.  \n",
    "- Similarly, use the node_names list to include any dialog nodes.\n",
    "- Use node_conditions for dialog conditions that indicate a message is out of scope.\n",
    "    \n",
    "Note that these lists are treated as \"OR\" conditions - any occurrence of any of them will signify that a message is not covered. \n",
    "\n",
    "__Where to find node id, node name, and node condition__?\n",
    "\n",
    "You can find the values of these variables from your assistant definition JSON file based on following mappings.\n",
    "\n",
    "- node id: `dialog_node`\n",
    "- node name: `title`\n",
    "- node condition: `conditions`\n",
    "\n",
    "You can also find node name, and node condition in your dialog editor. For more information, see [Dialog Nodes](https://cloud.ibm.com/docs/services/assistant?topic=assistant-dialog-overview#dialog-overview-nodes).\n",
    "\n",
    "Below we provide example code for identifying coverage based on confidence and dialog node. "
   ]
  },
  {
   "cell_type": "code",
   "execution_count": 12,
   "metadata": {},
   "outputs": [
    {
     "data": {
      "text/plain": "                     Condition               Node ID      Node Name  Valid\n0                               node_1_1467910920863                 False\n1                               node_1_1467919680248                 False\n2  #out_of_scope || #off_topic                                       False\n3                anything_else         Anything else  Anything else   True",
      "text/html": "<div>\n<style scoped>\n    .dataframe tbody tr th:only-of-type {\n        vertical-align: middle;\n    }\n\n    .dataframe tbody tr th {\n        vertical-align: top;\n    }\n\n    .dataframe thead th {\n        text-align: right;\n    }\n</style>\n<table border=\"1\" class=\"dataframe\">\n  <thead>\n    <tr style=\"text-align: right;\">\n      <th></th>\n      <th>Condition</th>\n      <th>Node ID</th>\n      <th>Node Name</th>\n      <th>Valid</th>\n    </tr>\n  </thead>\n  <tbody>\n    <tr>\n      <th>0</th>\n      <td></td>\n      <td>node_1_1467910920863</td>\n      <td></td>\n      <td>False</td>\n    </tr>\n    <tr>\n      <th>1</th>\n      <td></td>\n      <td>node_1_1467919680248</td>\n      <td></td>\n      <td>False</td>\n    </tr>\n    <tr>\n      <th>2</th>\n      <td>#out_of_scope || #off_topic</td>\n      <td></td>\n      <td></td>\n      <td>False</td>\n    </tr>\n    <tr>\n      <th>3</th>\n      <td>anything_else</td>\n      <td>Anything else</td>\n      <td>Anything else</td>\n      <td>True</td>\n    </tr>\n  </tbody>\n</table>\n</div>"
     },
     "execution_count": 12,
     "metadata": {},
     "output_type": "execute_result"
    }
   ],
   "source": [
    "#Specify the confidence threhold you want to look for in the logs\n",
    "confidence_threshold = .20\n",
    "\n",
    "# Add coverage node ids, if any, to list\n",
    "node_ids = ['node_1_1467910920863', 'node_1_1467919680248']\n",
    "\n",
    "# Add coverage node names, if any, to list\n",
    "node_names = []\n",
    "\n",
    "# Add coverage node conditions, if any, to list\n",
    "node_conditions = ['#out_of_scope || #off_topic', 'anything_else']\n",
    "\n",
    "# Check if the dialog nodes are present in assistant definition\n",
    "df_coverage_nodes = chk_is_valid_node(node_ids, node_names, node_conditions, assistant_nodes)\n",
    "df_coverage_nodes"
   ]
  },
  {
   "cell_type": "markdown",
   "metadata": {},
   "source": [
    "### <a id=\"set_effectiveness\"></a> 3.2 Customize effectiveness\n",
    "\n",
    "Effectiveness measures your Watson Assistant system at the conversation level. You may include automated metrics that help identify problematic conversations. Example metrics include:\n",
    "\n",
    "- Escalations to live agent: conversations escalated to a human agent for quality reasons.\n",
    "- Poor NPS: conversations that received a poor NPS (Net Promoter Score), or other explicit user feedback.\n",
    "- Task not completed: conversations failed to complete the task the user was attempting.\n",
    "- Implicit feedback: conversations containing implicit feedback that suggests failure, such as links provided not being clicked. \n",
    "\n",
    "Below we provide example code for identifying escalation based on intents and dialog information."
   ]
  },
  {
   "cell_type": "markdown",
   "metadata": {},
   "source": [
    "#### <a id=\"set_escalation_intent\"></a> 3.2.1 Specify intents to identify escalations\n",
    "If you have specific intents that point to escalation or any other effectiveness measure, specify those in `chk_effective_intents` lists below. <br>\n",
    "**Note:** If you don't have specific intents to capture effectiveness, leave chk_effective_intents list empty."
   ]
  },
  {
   "cell_type": "code",
   "execution_count": 13,
   "metadata": {},
   "outputs": [
    {
     "data": {
      "text/plain": "             Intent  Valid  Count\n0  connect_to_agent  False      0",
      "text/html": "<div>\n<style scoped>\n    .dataframe tbody tr th:only-of-type {\n        vertical-align: middle;\n    }\n\n    .dataframe tbody tr th {\n        vertical-align: top;\n    }\n\n    .dataframe thead th {\n        text-align: right;\n    }\n</style>\n<table border=\"1\" class=\"dataframe\">\n  <thead>\n    <tr style=\"text-align: right;\">\n      <th></th>\n      <th>Intent</th>\n      <th>Valid</th>\n      <th>Count</th>\n    </tr>\n  </thead>\n  <tbody>\n    <tr>\n      <th>0</th>\n      <td>connect_to_agent</td>\n      <td>False</td>\n      <td>0</td>\n    </tr>\n  </tbody>\n</table>\n</div>"
     },
     "execution_count": 13,
     "metadata": {},
     "output_type": "execute_result"
    }
   ],
   "source": [
    "# Add your escalation intents to the list\n",
    "chk_effective_intents=['connect_to_agent']\n",
    "\n",
    "# Store the intents in a dataframe\n",
    "df_chk_effective_intents = pd.DataFrame(chk_effective_intents, columns = ['Intent'])\n",
    "\n",
    "# Add a 'valid' flag to the dataframe\n",
    "df_chk_effective_intents['Valid']= True\n",
    "\n",
    "# Add count column for selected intents\n",
    "df_chk_effective_intents['Count']= 0\n",
    "\n",
    "# Checking the validity of the specified intents. Look out for the `valid` column in the table displayed below.\n",
    "for intent in chk_effective_intents:\n",
    "    # Check if intent is present in assistant definition\n",
    "    if intent not in assistant_intents:\n",
    "        # If not present, mark it as 'not valid'\n",
    "        df_chk_effective_intents.loc[df_chk_effective_intents['Intent']==intent,['Valid']] = False\n",
    "        # Remove intent from the chk_effective_intents list \n",
    "        chk_effective_intents.remove(intent)\n",
    "    else:\n",
    "        # Calculate number of times each intent is hit\n",
    "        count = df_formated.loc[df_formated['response.top_intent_intent']==intent]['log_id'].nunique()\n",
    "        df_chk_effective_intents.loc[df_chk_effective_intents['Intent']==intent,['Count']] = count\n",
    "# Display intents and validity\n",
    "df_chk_effective_intents"
   ]
  },
  {
   "cell_type": "markdown",
   "metadata": {},
   "source": [
    "#### <a id=\"set_escalation_dialog\"></a> 3.2.2 Specify  dialog nodes to identify escalations\n",
    "If you have specific dialog nodes that point to escalation or any other effectiveness measure, you can automated capture them based on three variables: node id, node name, and node condition.\n",
    "\n",
    "- Use the node_ids list to include the identifiers of any dialog nodes you've used to model that a message indicates an escalation.  \n",
    "- Similarly, use the node_names list to include dialog nodes.\n",
    "- Use node_conditions for dialog conditions that indicate a message is out of scope.\n",
    "\n",
    "Note that these lists are treated as \"OR\" conditions - any occurrence of any of them will signify that a message is not covered. \n",
    "\n",
    "__Where to find node id, node name, and node condition__?\n",
    "\n",
    "You can find the values of these variables from your assistant definition JSON file based on following mappings.\n",
    "\n",
    "- node id: `dialog_node`\n",
    "- node name: `title`\n",
    "- node condition: `conditions`\n",
    "\n",
    "You can also find node name, and node condition in your dialog editor. For more information, see [Dialog Nodes](https://cloud.ibm.com/docs/services/assistant?topic=assistant-dialog-overview#dialog-overview-nodes).\n",
    "\n",
    "**Note:** If your assistant does not incorporate escalations and you do not have any other automated conversation-level quality metrics to identify problematic conversations (e.g., poor NPS, task not completed), you can simply track coverage and average confidence over a recent sample of your entire production logs. Leave an empty list for node_ids, node_names and node_conditions.  "
   ]
  },
  {
   "cell_type": "code",
   "execution_count": 14,
   "metadata": {},
   "outputs": [
    {
     "data": {
      "text/plain": "             Condition Node ID    Node Name  Valid\n0    #connect_to_agent                       False\n1  #answer_not_helpful                       False\n2                               not_trained  False",
      "text/html": "<div>\n<style scoped>\n    .dataframe tbody tr th:only-of-type {\n        vertical-align: middle;\n    }\n\n    .dataframe tbody tr th {\n        vertical-align: top;\n    }\n\n    .dataframe thead th {\n        text-align: right;\n    }\n</style>\n<table border=\"1\" class=\"dataframe\">\n  <thead>\n    <tr style=\"text-align: right;\">\n      <th></th>\n      <th>Condition</th>\n      <th>Node ID</th>\n      <th>Node Name</th>\n      <th>Valid</th>\n    </tr>\n  </thead>\n  <tbody>\n    <tr>\n      <th>0</th>\n      <td>#connect_to_agent</td>\n      <td></td>\n      <td></td>\n      <td>False</td>\n    </tr>\n    <tr>\n      <th>1</th>\n      <td>#answer_not_helpful</td>\n      <td></td>\n      <td></td>\n      <td>False</td>\n    </tr>\n    <tr>\n      <th>2</th>\n      <td></td>\n      <td></td>\n      <td>not_trained</td>\n      <td>False</td>\n    </tr>\n  </tbody>\n</table>\n</div>"
     },
     "execution_count": 14,
     "metadata": {},
     "output_type": "execute_result"
    }
   ],
   "source": [
    "# Add effectiveness node ids, if any, to list\n",
    "node_ids = []\n",
    "\n",
    "# Add effectiveness node names, if any, to list\n",
    "node_names = ['not_trained']\n",
    "\n",
    "# Add effectiveness node conditions, if any, to list\n",
    "node_conditions = ['#connect_to_agent', '#answer_not_helpful']\n",
    "\n",
    "# If your assistant does not incorporate escalations and you do not have any other automated conversation-level quality metrics, uncomment lines below \n",
    "# node_ids = [] \n",
    "# node_names = [] \n",
    "# node_conditions = [] \n",
    "\n",
    "# Check if the dialog nodes are present in assistant definition\n",
    "df_chk_effective_nodes = chk_is_valid_node(node_ids, node_names, node_conditions, assistant_nodes)\n",
    "df_chk_effective_nodes"
   ]
  },
  {
   "cell_type": "markdown",
   "metadata": {},
   "source": [
    "## 4. Calculate overall coverage and effectiveness<a id=\"overall\"></a>\n",
    "The combination of effectiveness and coverage is very powerful for diagnostics.\n",
    "If your effectiveness and coverage metrics are high, it means that your assistant is responding to most inquiries and responding well. If either effectiveness or coverage are low, the metrics provide you with the information you need to start improving your assistant. "
   ]
  },
  {
   "cell_type": "markdown",
   "metadata": {},
   "source": [
    "###  4.1 Calculate overall metrics<a id=\"overall1\"></a>"
   ]
  },
  {
   "cell_type": "code",
   "execution_count": 15,
   "metadata": {},
   "outputs": [],
   "source": [
    "df_formated_copy = df_formated.copy(deep = True)\n",
    "\n",
    "# Mark if a message is covered and store results in df_coverage dataframe\n",
    "df_coverage = get_coverage_df(df_formated_copy , df_coverage_nodes, confidence_threshold)\n",
    "\n",
    "# Mark if a conversation is effective and store results in df_coverage dataframe\n",
    "# Set filter_non_intent_node to True to filter out utterances whose last visited node does not contain any intents\n",
    "df_effective = get_effective_df(df_formated_copy, chk_effective_intents, df_chk_effective_nodes, filter_non_intent_node=False, assistant_nodes=assistant_nodes)\n",
    "\n",
    "# Calculate average confidence\n",
    "avg_conf = float(\"{0:.2f}\".format(df_coverage[df_coverage['Covered']==True]['response.top_intent_confidence'].mean()*100))\n",
    "\n",
    "# Calculate coverage\n",
    "coverage = float(\"{0:.2f}\".format((df_coverage['Covered'].value_counts().to_frame()['Covered'][True]/df_coverage['Covered'].value_counts().sum())*100))\n",
    "\n",
    "# Calculate effectiveness\n",
    "effective_perc = float(\"{0:.2f}\".format((df_effective.loc[df_effective['Escalated_conversation']==False]['response.context.conversation_id'].nunique()/df_effective['response.context.conversation_id'].nunique())*100))              "
   ]
  },
  {
   "cell_type": "markdown",
   "metadata": {},
   "source": [
    "###  4.2 Display overall results<a id=\"overall2\"></a>"
   ]
  },
  {
   "cell_type": "code",
   "execution_count": 18,
   "metadata": {},
   "outputs": [
    {
     "data": {
      "text/plain": "<IPython.core.display.HTML object>",
      "text/html": "<tr><th colspan=\"4\"><div align=\"center\"><h2>Coverage and Effectiveness<hr/></h2></div></th></tr><tr>    <td style=\"width:500px\"><img class=\"colimg\" src='data:image/png;base64,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'></td>    <td style=\"width:450px\"><div align=\"left\"> <h2>Coverage</h2></br>A message that is not covered would either be a message your assistant responded to with some form of “I’m not trained” or that it immediately handed over to a human agent without attempting to respond </div></td>    <td style=\"width:500px\"><img class=\"colimg\" src='data:image/png;base64,/9j/4AAQSkZJRgABAQEASABIAAD/2wBDAAIBAQEBAQIBAQECAgICAgQDAgICAgUEBAMEBgUGBgYFBgYGBwkIBgcJBwYGCAsICQoKCgoKBggLDAsKDAkKCgr/2wBDAQICAgICAgUDAwUKBwYHCgoKCgoKCgoKCgoKCgoKCgoKCgoKCgoKCgoKCgoKCgoKCgoKCgoKCgoKCgoKCgoKCgr/wAARCAEgAbADASIAAhEBAxEB/8QAHwAAAQUBAQEBAQEAAAAAAAAAAAECAwQFBgcICQoL/8QAtRAAAgEDAwIEAwUFBAQAAAF9AQIDAAQRBRIhMUEGE1FhByJxFDKBkaEII0KxwRVS0fAkM2JyggkKFhcYGRolJicoKSo0NTY3ODk6Q0RFRkdISUpTVFVWV1hZWmNkZWZnaGlqc3R1dnd4eXqDhIWGh4iJipKTlJWWl5iZmqKjpKWmp6ipqrKztLW2t7i5usLDxMXGx8jJytLT1NXW19jZ2uHi4+Tl5ufo6erx8vP09fb3+Pn6/8QAHwEAAwEBAQEBAQEBAQAAAAAAAAECAwQFBgcICQoL/8QAtREAAgECBAQDBAcFBAQAAQJ3AAECAxEEBSExBhJBUQdhcRMiMoEIFEKRobHBCSMzUvAVYnLRChYkNOEl8RcYGRomJygpKjU2Nzg5OkNERUZHSElKU1RVVldYWVpjZGVmZ2hpanN0dXZ3eHl6goOEhYaHiImKkpOUlZaXmJmaoqOkpaanqKmqsrO0tba3uLm6wsPExcbHyMnK0tPU1dbX2Nna4uPk5ebn6Onq8vP09fb3+Pn6/9oADAMBAAIRAxEAPwD9/KKKKACiiigAooooAKKKKACiiigAooooAKKKKACiiigAooooAKKKKACiiigAooooAKKKKACiiigAooooAKKKKACiiigAooooAKKKKACiiigAooooAKKKKACiiigAooooAKKKKACiiigAooooAKKKKACiiigAooooAKKKKACiiigAooooAKKKKACiiigAooooAKKKKACiiigAooooAKKKKACiiigAooooAKKKKACiiigAooooAKKKKACiiigAooooAKKKKACiiigAooooAKKKKACiiigAooooAKKKKACiiigAooooAKKKKACiiigAooooAKKKKACiiigAooooAKKKKACiiigAooooAKKKKACiiigAooooAKKKKACiiigAooooAKKKKACiiigAooooAKKKKACiiigAooooAKKKKACiiigAooooAKKKKACiiigAooooAKKKKACiiigAooooAKKKKACiiigAooooAKKKKACiiigAoornviB8WPhx8K9N/tX4g+MrHS4ipMa3M48yXHUIgyzn2UE1pSo1a9RU6UXKT2STbfyV2RUq06MHOpJJLdtpL72dDRXzB8Qv+Cn3w10Yva/DnwXqGtyqxAubxxaQEdmHDOfoVX61454r/wCCkP7RWvqYtEl0fRFB+R7HT/Mkx7mZnU/98j6V9hgeAOJsalJ0lTX99pP7ld/kfMYvjPIMI+VVHN/3Vf8AHRfmfoFRX5g61+1d+0drzmS/+MeuKT3tLr7Pj6eUFx+FafgP40fGK+8G+OLy9+LHiaaW18O28ltLLrtwzQudTskLKS+VJVmXI5wxHQmvZn4YZjSpc88RDdKyUnu0t9O55UPEDA1KnLChLZvVxWyb8+x+ldFflpp/7SHx/wBMcSW3xn8TMQcgT6zNKB+DsRXY+GP2+/2nvDcyNceOIdUiTpBqmnRMD9WRVc/99UV/C7OYRvSrU5f+BR/NMdHxCyubtUpTj/4C/wAmj9GqK+OfAH/BUvUEkW3+KPwzikQt+8u9BuCpUeghlJz/AN/BXvfws/a6+AvxdkisfDfjeG21CXAXTNUH2ecseiqG+WQ+yFq+UzLhPiDKk5V6D5V9qPvL743t80j6LA8R5LmLUaNZcz6P3X9ztf5NnpdFAIIyDkHuKK+dPcCiiigAooooAKKKKACiiigAooooAKKKKACiiigAooooAKKKKACiiigAooooAKKKKACiiigAooooAKKKKACiiigAooooAKKKKACiiigAooooAKx/HPj/AMG/DTw7N4r8deIbfTbCD789w+MnBIVQOXY4OFUEnsK4f9pP9qfwJ+zroY/tJxf65dRltP0WGQB3HI8yQ8+XHkY3EZJBABwcfn18XfjT8Qvjf4mfxP4+1x7h9zfZbOMlbe0U/wAEaZwo4HPLHAySea+44X4Jxuf2r1m6dDvbWX+FP/0p6drs+S4h4swmTXo01z1e3SP+J/ote9j3r47f8FJ/FfiIzeH/AIJaYdHszlTrF6ivdSD1ROViHXk7jgg/Ka+Zdc17XPE2py634j1i6v7ydszXV7cNLI592YkmqlKqs7BEUkk4AA5Jr9yyrI8qySj7PCUlHu95P1k9X+C8j8izHN8xzarz4mo5dlsl6Jafm/MSivX/AIV/sO/tBfFKNL+PwuuiWLjK3mvM0G4dfljwZDkHIJUKfWvevBH/AAS48BWMCzfEL4h6nqM/B8rTIktoh6qdwdmHuCtedmPGPDmVycKtdSkukPef4aL/AMCO7A8L55mCUqdFqL6y91fjr+B8TV2Hw5/5EXx//wBixbf+nawr700X9hb9l3RFTyvhlHcOo+aS9v55S59SGfb+QArqbH9nX4D6ZZ3FhY/CHw9HDdwiK6jXS48TIHVwr8fMA6I2D3UHtXyWN8TcoqU+SnRqPVO75VtKL7vsfSYTgHM6c+epVgtH/M94tdl3Pyyor9NNa/Y5/Zm105vPhDpcWev2IPb/APoplx+FcL4v/wCCafwB13zJfDV5rWiSFT5UdteiaJW9xMrMR7bh9a7sN4nZBVdqsJw+Skv/ACV3/A5K/AGc01enKE/m1+a/U+BaK+kPiR/wTQ+MfhhJL3wDrmn+JIE+7AP9FuW+iOShx/v59q8A8UeEfFPgnVn0Hxf4evNMvI+Wtr63aJ8diAwGQexHBr7LLs7ynN43wlaM/JPVesXZ/h8z5bHZTmWWytiaTj520+TV1+J6d8D/ANtb4z/BaSLTjqza7oyEBtK1aVn2KMcRS8tHwMAcqM/dr7U+AP7V/wALP2gbMW+gX5sdYRM3GiXzBZhxyydpE68ryONwXIFfmZU2nalqGj38Oq6TfzWt1byCS3ubeUpJG4OQysOQQe4rwM/4IyjO4yqQj7Kr/NFaN/3o6J+qs/NntZLxbmeUyUJv2lP+VvVf4XuvR3Xofr1RXyd+yb+3/b619l+HHx2v44LwkRWHiJ8LHP2CT9kb/b+6e+CMt9YggjIOQehr8IznJMwyLFvD4qNn0f2ZLun+m62a7/sGV5tgs4wyrYeV+66p9mv6T6MKKKK8k9IKKKKACiiigAooooAKKKKACiiigAooooAKKKKACiiigAooooAKKKKACiiigAooooAKKKKACiiigAooooAKKKKACiiigAryf9q79qDQv2dPCAa3SK88Q6ijLpOnM3A7GaXHIjX06seBjll7H4xfFXw58F/h7qHxB8TSjybKL9zbhsPczHhIl92OB7DJPAJr8x/il8TfFfxf8b3vj3xje+beXkmQi5EcEY+7EgPRVHA7nknJJJ+84I4U/t7FPEYlfuIPX+9Lfl9Osn8t3p8fxbxH/Y+H9hQf76a0/ur+b1/l+/oUPF3i7xJ488SXfi7xdq819qN9KZLm5mbJY9gB0AAwAowAAAAAKzaK95/Y/wD2NdU+O14vjbxsk1l4Ut5SAVysmpOp5SM9kB4Z/X5V5yU/c8wzDL8kwDr12oU4qyS/CMV36JL8Emz8hwWCxubYxUaKcpy1bf4tvt3b/FnF/AP9mH4m/tB6p5fhbTxbaXDLsvdbu1Igh7lV7yPjHyr6jJUHNfc3wK/Y8+D3wLih1HTdHGqa0ijfrWpIHkVscmJfuxDOcbRuwcFmr0fwz4Z0DwboVt4Z8L6TBY2FnEI7a1t4wqIv0HfOST1JJJq9X4JxHxtmmeTlTpt06P8AKnq1/ea39FaPqfsmR8J5flEVUmlOr/M1on/dXT139A6dKKKK+LPqgooooAKKKKACuf8AiJ8LPh98WNEbw98QvCtrqdsclBOmHiJ/iRxhkbjGVINdBRWlKtVoVFUpScZLZptNejRFSnTrQcKkU0901dP5M+FP2kP+Cefiz4fpP4t+Dr3Gu6Qg3zaa4DXlsO+0Afvl+gDDI4bBavmogqSrDBHUGv2AIBGCK+a/2wP2HdK+JVvd/En4UWEVn4jAMt5YR4SLUu5OOiSn+9wGP3uTuH65wr4hzlOOEzV76Kp+k/8A5Jf9vLqfmnEXBMVGWJy5bauH/wAj/wDI/c+h8J19Z/sNftnXOmXVn8E/ixqbSWkhWDQNXnfLQN0W3kJ6oeAjdVOF+7jb8oXlnd6ddy6fqFrJBPBI0c0MyFXjdTgqwPIIIwQaj6dK/Sc6ybA59gHhsQrp6xa3i+kk/wCk1o/L4TKs0xeTYxV6L1WjXRrqn/V09T9gAQRkGivnL9gf9qK5+K3ht/hf461PzfEGjwA2lzKfnvrUYG4n+KRDgMepBU8nca+ja/mjNsrxWTZhPCYhe9Hr0a6NeTX6rdH73luYYfNMFDE0XpL70+qfmn/n1CiiivNO4KKKKACiiigAooooAKKKKACiiigAooooAKKKKACiiigAooooAKKKKACiiigAooooAKKKKACiiigAooooAKOnWivNf2tPi+fgr8D9W8UWVz5epXKfYtIOeRcSggMO2UUNJg9dldOCwlbH4unhqSvKbUV6t/pu/JMwxWJpYPDTr1H7sU2/l/VvmfI/7f8A8fZvij8Un8A6HfltD8NStCFRvlnvOksh9dv+rHXGHIOGrwGld3kcySMWZjlmJySasaLo+p+ItYtdA0Wze4vL24SC1t4xlpJHYKqj3JIFf1NlmX4bJstp4WlpGC32v1lJ+ru3/wAA/njMMbXzTHzxFTWU3t+CS9FZL/gnp37JP7Nt/wDtEfED7JfNJBoGl7JdaukyCwJ+WBD/AH3wef4VBPXAP6P6JouleHNIttB0OwitbOzgWG2t4V2rGijCqAOgAFcl+z18GdG+BPwu0/wLpio1wqCbVLpR/wAfN0wG9+g44CqDyFVR2rt6/n3jDiSpxBmT5H+5g2oLv3k/OX4Ky7n7TwxkVPJcAuZfvZ6yf5R9F+Lu+wUUUV8kfShRRRQAUUUUAFFFFABRRRQAUUUUAfKX/BQH9lKDXNNufjx4AsNt9aRb/ENlCnFxCo/4+FA6OgHzdiozwV+b4sr9fpooriJoJ4w6OpV1YZBB6ivzc/bL+Aq/An4uz2ejWbR6FrCtd6McHbGpP7yAH/YY8Dn5WTJya/a/DniaeKp/2XiZXlFXg31it4/9u7r+7ddD8p45yCOHn/aFBWjJ2ml0b2l89n569TzvwD448Q/Dbxjp/jnwreGC/wBNuRLA4Jw3ZkbHVWUlSO4JFfqT8LPiJonxY+H2lfELw8+bbU7VZQhOTE/R4yf7ysGU+6mvyfr6x/4Jj/GJ7DXtU+Cmr3n7m+Q3+kK7fdmUASxjudy7WA6Dy3PU16HiNkccflX16mv3lHfzg91/26/eXzOHgbN3g8x+qTfuVdvKXT79vuPs+iiivwQ/ZAooooAKKKKACiiigAooooAKKKKACiiigAooooAKKKKACiiigAooooAKKKKACiiigAooooAKKKKACiiigAr4i/4Kf/EZtW+IGifDKzucwaTYm7u1R+DPMcKGHqqJke0tfbpIAyTX5b/tLeL5fHXx88WeJJLkTLJrU0MEg6NDEfKjI/4Ai1+i+GmAWKz2WIktKUW16y91fhc+H49xjw+Txox3qSS+S1f42OHr6V/4Jq/CKPxZ8Tr34n6tah7Tw5AEs968NdyggEdjtQOcdi6HtXzVXKft/fGX/guB+zd4Y+Fnwd/4JM/CPxBqEHjrwzda/wCLPEOifD6LVRZ3UlyYrdGurqOS1ts2yRMFkAJ5IOK/ReP8zll3Ds4QdpVWoL0esv8AyVW+Z8PwXl6x2dxlJXjTXM/VaR/F3+R+1dFfyUf8FIPiR/wcm/sTWXhD4l/t1fth/F7wRP4/lvk0DTdB+Lxty32UQNMXt9HuRDDxcxYBAPJGBiv6Z/8AgmT4s8VePf8Agm3+z5468deJtQ1rW9a+B/hO/wBZ1nVr17m6v7qbR7WSW4mlkJeWV3ZnZ2JZmYkkk1/Op+4HuFFFfjN/wcb/APBe345/su/FvTP+CbP/AATtmb/hausx2i+KPEljZLd3mlvebfsmm2ULKwN5MrxuXKsUSaIIN77owD9maK/nz8K/8G1//BeP4l+BYvjb8T/+CrupaH8Sby2F5HoOofEHXbqW1mYbhDPqEMhEcinCt5KSopztZgAT0v8AwRr/AOC3P7c37Lv7ep/4JC/8Fh9YvtR1afW00Hw94u8RTrLqOmapIFNrBcXQ/wCP61ut8YiuGLPumiJdo3/dgH7z0UV+KX/BxB/wXp/aM+Dn7Qmn/wDBLj/gmdPMvxL1KWztPFXibSrVbm/try92fZtJsFYFVuXSSNnlwWTzkVCrhmUA/a2iv59dF/4Npf8AgvB4r8EJ8afGH/BWS/034mT24vF0S6+IevTvBORuEUmpRudsgOFJjR0DZ2uygMe1/wCCH3/Bcb9tD4T/ALb03/BIL/grxf3t14p/tdtD8MeK9fZDqVlqwGYrC7nT5b2G5BXyLnLOzyRjfIkqtGAfurRWL8R/H/hj4UfDzXvil42v/sui+GtFutV1e6258m1t4WmlfHfCIx/CvwI/Y38M/wDBSn/g6E+MPxF/aI8e/tveMvgh8C/Ceu/2X4a8I+BbyZFeZk81LXZFLEk0sUDxSTXU29i06rGio2IwD+hGivwK8O/tAf8ABQH/AINyv+CoXw6/ZO/aZ/az8QfGn9nn4tTwQ6Xq3i64lln0uOW4W2eaIzySvbS2krxvLFG7Qywy7gqyMPL/AH1oAK8a/bq+EUfxT+Auo3lnaB9T8Pg6lYsANxVAfNTPU5j3HaOrKvpX5Sf8Fav2kfjt/wAFff8AgrP4K/4IwfsQfFPW/D3g/wCH+qNqXxp8a+F9RkgaCaIBbsGSIjK2kcnkKhIV7y52OP3asP2m8CfD/wAMfDf4e6R8LvCtm8ej6JpEGm2ENzO07i3iiEaB3kJaRtqjLMSzHJJJJNduW46rluPpYql8UJJ/duvmrr5nLjsJTx+DqYeptNNf5P5Oz+R+TNdD8JvHl38MfiXofj6zdwdL1KKaVYzgvFnEif8AAkLL/wACp/xi8DP8NPinr/gNlYJpmqTQwF+rQ7iY2P1Qqfxrm6/qpewx+D7wqR++Ml/kz+dP32CxXacJfc4v/NH6+Wd3b31pFe2sqyRTRq8bo2QykZBB7jFSV5j+xt4ul8a/s1eFNUuJA0tvYGyk55/cO0Iz7lUB/GvTq/lLHYWWBxtXDy3hKUfubX+R/RuExEcXhKdeO04p/ekwooorlOgKKKKACiiigAooooAKKKKACiiigAooooAKKKKACiiigAooooAKKKKACiiigAooooAKKKKACiiigCh4p1eLQPDOo67MRts7GWds9MKhb+lfkhLLJPK00zlndizMx5JPU1+p/wC0FM9t8BvGtxG2Gj8J6iyH0YW0hB/Ovyur9o8KqSWFxVTq5QX3Rb/U/K/EWo3iMPT/ALsn+KX6DoopJ5VhiUszsFVR3Jr9bfB/h+z8J+E9M8L6ecwabp8NrCf9iNAo/QV+VnwysYtT+JPh7TZxlLjXLSJx7NMgP86/WNVCKEUcAYFc3itWfNhKPT35f+ko38OaS5cTV/wr82fgl/wfKf8AIrfs0/8AYQ8W/wDoGkV+t/8AwSd/5RZfs0/9m/8Ag3/0x2dfkh/wfKf8it+zT/2EPFv/AKBpFfrf/wAEnf8AlFl+zT/2b/4N/wDTHZ1+QH6ae/1/L/8A8EQreL/gof8A8HNniX9pbx7H/acOl+IPFXjq3huBvRAkrW1gBnoIGurYp6GBPSv6gK/mA/4M0x/Yf/BXHx3o+tjbeH4J61bhXOD5y6xpBYfXCP8ArQB/T/X85f8Aweq/BuD4YftY/Av9rTwZv07WfEvhq/0241Cy+RxcaTdW88ExYf8ALQDUAA3XEKjoox/RpX4K/wDB8jeWSeCv2bbByv2iTVPFUkQzzsWPSg3H1ZKAP2s/Ze+MafHn9lz4d/tA3JjjXxn4B0jxDIV4RRd2UVycegHmV/N//wAG3tkP+CgH/Bwp4v8A2tviJbm+uNNtfFHxBjF0u5Uurm7jtYRg8DyxqOUH8PlLjG0Y/eL/AIJn6LrJ/wCCOvwI0MI/26X9nPw5HEn8QZ9Dg2L9RkCvwz/4Mnryzj/4KLfE/T5Cv2iX4K3EkQJ52Lq+mhv1dKAP6aK/m1/4PI/hlN8BP+CiPwb/AGwvhq50nXfEXhNXN/artY6no16rxXWe8ix3NqmeywJX9JVfz7f8Hy15ZPrv7MunxlftEVp4wklAPOxm0ULx6ZR/1oA/ZX446Xqv7b3/AATQ8YaL4BjWK++L3wL1CDRUEmAkuq6NIsI3E8ANOvJNflx/wZlftP8Awt8M/s5/E79hDxxr9roXxH0b4m3Ovx+HNWkFtd3drNZWlpII4pMM8kE1i6yqBlBJHkDNfqr/AME5bK90z/gnt8CNO1JSLm3+DPheO4DdQ66TbBs/iDXzX+3z/wAG2H/BMP8A4KE/FS9+OXxD8GeJfBnjDV5TNr2vfDrWIrFtVlPWWeGeCeBpT1aRY1dycuzHmgD88P8Ag53+I3g//goL/wAFRv2X/wDgn1+zRr9r4l8XeHdYubfxBJoc63C6dcapd2A8mV0JCPBBYPcSAn92jgtjnH6W/wDBe/8A4KnaX/wSz/YZ1Txz4X1KA/Evxn5uh/DOwfDMt4yfvb9kOcx2sbeYcgqZGhjPEmat/sD/APBFH/gml/wSGg1n43/CTwpc/wBt2Wj3D6t8SPH+sJd3lhp6IXn2yBI4LWMIrF3jjQsoIZiowPzn/Yj8MeIf+Djv/gtJrv8AwUJ+Kei3L/s5/AC/jsfhxomowkQ6ndRP5tpG8bcM7v8A6fcA5Kg20D7kKmgD7O/4Ntf+CWOqfsA/sfyfGn456bPJ8ZfjIY9d8a3Wp5e7061fMlrp7s/zCQCRpps/MZpmVt3lKa/Ruvxu/bC/4LRf8FH/ANsn/go1r3/BLv8A4Ih+GfDNrf8AgiS5i8b/ABS8TWsdxDbTW0ixXTr5yyQw20MzCAsYppJZf9WoXBfj9U/4K7/8Fnf+CL37Ungj4X/8Fsj4M+JHwt8fXBhg+JXgnTIoWsdrIs0sRt7a1DmDzEeSCW2V3RsxvwQQD65/4KN+GY9A/aVudSjOTrOj2t63HQgNB/7QFeD19M/8FOTp2ofEfwv4j0y7iuIb7w5mC4gkDpLF5rMjKw4KkOSCODmvmav6d4RrSr8M4ST35EvubX6I/n/iakqOf4mK/mb+9J/qz7t/4Jgaw158ENX0mWYs1l4kk2KT92N4ISB/30HP419J18j/APBKq5lfSfGVmWOyO4s3C+7LKD/6CK+uK/C+NqSo8U4pLrJP74xZ+v8ACdR1eHsO30TX3NoKKKK+WPoQooooAKKKKACiiigAooooAKKKKACiiigAooooAKKKKACiiigAooooAKKKKACiiigAooooAKKKKAOT+PVpLf8AwO8Y2EC5efwtfxIPdrdwP1NflXX6761p8OraPd6XcDMdzbSROMZ4ZSD/ADr8jtQsLrS7+fTL2MpNbTNFMh/hZSQR+Yr9m8KayeHxVLrzQf3pr9D8s8RaT9vh6nlJfin+po/D/U00Xx5omsyY22mr20zZ9FlVv6V+tEbiRFkA+8Aa/IAEg5BwR0Ne9f8ABWz9lD/gqd+3/wDCn4N+Kf8AgmP+2NZfCKezsL298Zvc+NdV0camt1DZNaqDp9tOZfLMdxkSbdvmcZy2MvFag7YSv09+P/pMl+pr4c1l/tNL/C/zX+R8L/8AB8p/yK37NP8A2EPFv/oGkV+t/wDwSd/5RZfs0/8AZv8A4N/9MdnX4nftEf8ABr5/wcDftcQ6Tb/tQ/8ABRD4a/ECPQWnbRU8X/EzxJfixM3liUxedpLbN/lR7sddi56Cu38F/wDBA/8A4Oh/hx4O0n4eeAf+Cu/hrRtC0HTINO0XSNN+MvimG2sbSCNYoYIo10sKkaIqqqgYAUAdK/Hj9OP35r+XX4A67Yf8EUP+DpTV9G+L866H4H1bx3qtg2o3J8uCPQddV5dPuGkPyiKJ5rUyv0X7PKDgqcf0jfsieAPjD8Kv2WPh18M/2hfHSeJ/Hfh/wVpmn+MfEcV/NdLqmpw20cdzciadEllEkqu291Vm3ZIBOK+Uv+C2X/BCX4H/APBYDwVpniCTxR/whXxS8L2j2/hrxrFY+fHPali/2G9iBUywb2ZkZWDxM7Mu4M6OAfeCOkiCSNwysMqwOQR61/NL/wAHTPxju/8Agon/AMFb/hd/wT3/AGcbqPXtT8HRQ+GmFq3mRx+IdVuozcQllyMRRR2YkOfkZZVbBjNeoeGP+CO3/B178GvBEf7Mvwr/AOCgenReB7W3+w6deWHxQukjs7UDaqQyy2gvLdFXgJFgIAAo4FfZP/BEP/g278C/8Ey/Hkv7VX7RvxItPiP8ZriCaOx1Czgk/s3w/wCcCs72zTAS3FxIrMrXMiodjsqou52YA/SP4VfDvQ/hD8L/AA38J/DAI03wvoFnpGnBhgiC2gSGPP8AwFBX8yf/AAT08Qad/wAEUP8Ag5q8QfBr4yXKaB4R1TxNq/hI6neERxR6Rqjrc6Tcsx+VY2YaeXYnagLkn5DX9Rdfn5/wW9/4IFfBf/grzoGnfEDR/FqeBviz4csTaaP4uFj59vqFoGZ1sr6JSGaMOzFJVO+IyOcODsoA/QPr0r+ZX/g5E+I8/wDwVN/4Lf8Aw8/YJ/Zz1JNXfwstj4KkubM+bFFrN3dtLqEm5eNlvE0Ky/3GtZskbTj2HRf+CP3/AAdj+AvBCfsy+DP+Cg9hH4KgtxYWmoW3xTu1S3tQNqpHO9p9uijVeAiY2qAAMACvtj/gh3/wbn/DT/glf4guP2jfjP4+tfiF8Zb+zktodYtrV00/w/DKMTJZiX95LLICVe5cIxQlFRA0nmAH6Q+EvDGj+CPCumeDPDtt5On6Rp8NlYw5/wBXDEgjRfwVQK0KKyPiBqni/RPAms6z8P8AwtHrmvWul3Eui6NNfLbJfXaxsYYGmYERK7hVLkHaCTg4xQB+Rn/Bzb+3J8Ufin4k8Ff8EOP2J5X1H4l/Ga+tU8biymINjpUj5hs5HXJiE2xp52ONlrASwKT5r9Hf+Cdv7Dfwu/4Jzfsg+Dv2TfhTEktr4d08HV9WMISXV9Sk+e6vZO+6SQkgEnYgRAdqCvir/giX/wAEeP2l/gH+1T8Vv+CmH/BTa/0TWvjl481WeLRF0m/F5b6RZTBWnljfGEZxsto0X/U28BQEiUqP1CoA/A7/AIM5nttO/a4/a90H4iMo8ci90oyJcn/SNsd/qq3/AF5x572273K5r2X/AIPWb3wfH/wTb+HOn6k8H9uS/Gq0k0pCR5vkLpOpi4I77AXgDe7R+1bP7dP/AAQb/bR+Gf7fupf8FRP+CLP7Qug+BPHXiaSefxr4N8T5Syv5pyGuniYwzRyx3DqsskE6ALKDKkgOxU43w5/wQi/4Kjf8FLv2q/CH7Qn/AAXY/aK8I6l4N8By79G+GPgc7o7sb0eS3YRwxw28UzJH50oaWeRE8vMYCOgB634tn8TW37Kv7NPh3xuso1uz/Z48Ltq4nzv+0tYRLLuzznzI3z71xNe1/wDBQHxJHrv7Sup6XbrGINEsLXT4BEAFVRGJCoA6YaVh+FeKV/T/AAnQlh+GsJB78if33f6o/n7iSsq+fYma252vusv0Z9m/8ErNOmj8PeMNWK/u5b21hB/2kSRj+jivrOvnb/gmZoFxpXwAvNWuIcDU/EM80D/3o1jii/RkevomvwjjSsq/FGKkukrfcoo/YeFaTpcPYdPrG/3tsKKKK+XPoAooooAKKKKACiiigAooooAKKKKACiiigAooooAKKKKACiiigAooooAKKKKACiiigAooooAKKKKACvzH/a68Fz+BP2jPFWkyJhLnU3voGAwrJcfvuPYFyv1U1+nFfHX/AAVH+GsqXvh74uWVuTG8baXfuOikFpYfzBmyfZRX6B4b5gsHxB7GT0qxcfmvej+TR8Xx1gnisl9rFa05KXyfuv8ANM+RK/Qf/gnX8Qx4y/Z9g8O3M4a68O3slk4Z8sYifMjbHYAOUH/XM1+fFe7f8E+/jHF8MvjYnhnV7vytM8URrZSljhVuQSYGP/Ai0f8A21z2r9Q45yqWa8PVFBXnT99f9u3uvnG/3H59whmMcuzuDm7Rn7j+ez/8Ct95+hVFFFfzefuoUUUUAFFFFABRRRQAUUUUAFFFFABRRRQAVW1rVrDQNHutc1S5WG2s7d57iZ+iIilmY+wANWa+e/8Agop8ZIvAXwd/4QDTLzbqfihzAVRsMlouDM3HZvljweodvSvSyjLqubZnSwlPeckvRbt/JXf3HDmeOp5bgKmJntFN+r6L5ux8M+PfFt7498bav411EYm1XUZrp0zkJvcttHsAcD2FZNFdr+zv8Npfiz8aPD/gcW/mW9zqCSX4PA+zR/vJcntlFIHuQO9f1LVqUMvwcpy0hTjf0UV/krH8804VsbilBaznL73J/wCbP0N/Zc8ETfDz9n/wr4Xuomjnj0tJ7mJhgxyzEzOp+jORXfUiqFUKOgGBS1/KGLxE8Ziqlee85OT+bb/U/o7DUIYbDwox2ikl8kl+gUUUVzmwUUUUAFFFFABRRRQAUUUUAFFFFABRRRQAUUUUAFFFFABRRRQAUUUUAFFFFABRRRQAUUUUAFFFFABXH/Hv4WWnxn+Eus/D24KLLe2pNlM44iuEO6JuhOA4GcckZHeuworbD4irhcRCtSdpRaafmndGVejTxFGVKorxkmn6NWPyH1fSdS0HVbnQ9Ys3t7uzuHgureUYaKRGKspHqCCKgjkkhkWWJyrKQVZTggjoQa+pv+Cj37PM/h/xIvx18MWP/Ev1Nkh1xIk4gucbUlIHRXACk/3hySXr5Yr+pMkzahneV08XT+0tV2kviXyf4NM/nrNstrZTmE8NU6PR910f3fimfpP+x7+0FafHv4WQXN/cD+3tIVLbW4jjLPj5ZwB/DIAT0GGDAdM16zX5ZfAf42eJ/gL8QrXxz4dJljX91qNiz4S7tyRujJ7HjKt2IBwRkH9L/hp8SvCXxa8G2fjnwVqS3NleRggHAeJ/4o3H8LqeCP5jmvw3jfhieR4916Mf3FR3X917uL/OPdabo/XOE+IIZvg1Rqv99Ba/3l0kv189epvUUUV8OfXBRRRQAUUUUAFFFFABRRRQAUUUEgDJNAFPxBr2keFtDu/Eev3yWtlY27z3VxKfljjUEsx+gFfmN+0f8adQ+PPxX1Dx3cLJHaEi30m2kPMFqhOwHk4JJLkZPzOccYr2H9vT9rSP4g6hL8G/hzqok0OzlH9r30D/AC38ynIjUjrGhGc9GYZHCgt8x1+7+H3DE8sw7x+KjarUXup7xi+/Zy09FZdWfj/GvEEcwrrBYd3pwerW0pf5R/F3fQK+0f8AgmV8F5tJ0LUvjbrVptk1MGy0bcOfIVsyyfRnVVHf90exr5d+Bfwe8QfHP4k2HgDQVZBO/mX92EyLW2UjfKfoCAAcZZlGea/ULwv4a0fwd4csfCnh+0WCy061S3tYV/hRFCge/A696y8Sc+jhcAstpP36msvKC6f9vNfcn3NOBMnliMY8fUXu09I+cv8A7Vfiy/RRRX4afrgUUUUAFFFFABRRRQAUUUUAFFFFABRRRQAUUUUAFFFFABRRRQAUUUUAFFFFABRRRQAUUUUAFFFFABRRRQAUUUUAZvi/wnoPjvwxfeD/ABPp6XVhqNs0FzC46qwxkehHUEcggEcivzR/aO+AHiX9nr4gS+FdXDz2Fxul0fUtvy3UOe/YOuQGXscHoyk/qBXG/HP4H+Dvj34Gm8GeLICjZ8ywvo1HmWkwBAdfXrgr0IJHvX2PB/FFTh3G8tS7oT+Jdu0l5rquq80j5jifh6GeYS8NKsPhff8AuvyfTs/Js/LGvR/2cf2lfGn7Ovir+09FJvNKumA1TR5JCEnUfxKedkgHRsexBFYvxm+C/jf4F+M5vBvjawKOCWs7yMEw3cWeJIz3HqOoPBrkq/oGpTy/OcByytUpVF6pp9V/no0+zR+LQnjcqxvNG8KkH6NP+vk13R+q3wh+M/gD43+FY/FngLWFniOBc20mFmtXx9yRM/Kf0PUEjBrqq/Jv4e/Enxx8K/EcXirwD4iuNOvY+C8LfLIuc7HU/K68D5WBHAPavsv4Ef8ABR/wL4wEHh/4xWS+H9RbCjUostZTN6nq0P8AwLKjGSwr8S4j8Pswy2cq2ATq0t7fbj6r7S81r3R+sZHxrgsfFUsY1Tqd/sv0fR+T07M+maKraTrGk69p8WraHqlveWs6B4bm1mWSORfUMpIIqzX53KMouzVmfbpqSutgooopDCiiigAooJAGScAdSa8r+Nv7YnwX+CUM1lqevrqmrplV0bSnWWVXHaQ52xc4zuIOOQDXXg8DjMxrqjhqbnJ9Er/f0S820jmxWMwuCouriJqMV1bt/wAP6K7PT729s9Ns5dQ1C7jgggjaSaaZwqRqBksSeAABnNfFn7YP7d7eMba6+F3wWvZItMfMWqa6hKvdr0MUPdY/V+rdBheW8s/aE/a7+KH7QNy9hqNz/ZWhB8w6HZSnY3OQZX4MrcDqAowCFByT5VX7Nwr4f08vnHF5laVRaqG8Yvu/5mv/AAFebPyziLjSeNjLDYG8YPRy2cl2XZfi/IKn0zTNR1rUrfR9Ispbm6uplitreBCzyyMcKqgckkkACmWlnd6hdxWFhayTzzyCOGGFCzyOTgKoHJJPAAr7s/Yp/Y0j+E9vD8UPiVZpJ4lnizZWbYZdNRhg+xlIOCewJA6kn7DiLiHB8O4F1qrvN/DHrJ/ol1f6tI+ZyPJMVneLVKmrRXxS6Jf5vov0udh+x5+zPa/s9+AjJrMccviPVgkurTqQwhAHywIf7q5OSPvMSc42gewUUV/NWYY/FZnjJ4rESvObu/8AJdklol2P3jBYPD4DCww9FWjFWX+b83uwooorjOoKKKKACiiigAooooAKKKKACiiigAooooAKKKKACiiigAooooAKKKKACiiigAooooAKKKKACiiigAooooAKKKKACiiigDmfiv8ACHwH8afCk3hDx9oy3Nu4JhmX5ZraTHEkb9VYfkeQQQSD8AftGfsffEr4A3kuqvbPq3h0v+41m1jJEQJwFmUf6s9Bn7pyMHJwP0lqO6tba+tpLK9t0lhlQpLFIoZXUjBBB6givquG+Lcx4dqcsPfpN6we3rF/Zf4Pqup87nvDeBzyF5+7UW0lv6PuvxXR9D8g6K+6vjt/wTh8A+NTPr/wivU8O6k5LHT5AWsZWPYAZaHr/DlQBgJXyR8Uv2fvi98Grlo/H/gm7tYA2E1CNfNtnz0xKmVBP90kN6gV+5ZLxXkuexSoVLT/AJJWUvl0l/2636H5FmvDma5RJurC8P5o6x+fVfNL1M/4f/Fz4mfCu8+3fD3xtqGlMXDSR2058qQjoXjOUf8A4EDXuPgX/gpx8YNBijtfG/hbSteRBhpk3Wk7+5ZQyfkgr5rortzDIcmzXXFUIyfe1pf+BKz/ABZy4LOc1y7TD1pRXa919zuvwR9waB/wVJ+FtxbqfE/w51+0mP3lsWguEH4s8Z/StuL/AIKW/s9SJvez19Dj7raeuf0civgSivm6nhxwxOV1GcfSb/VM92HHXEEFZyi/WK/Ro+79Q/4KffAq1DLY+FPE9y4+6VtIEQ/i02f0rg/Fv/BU/wAQTxvD4G+FFpbNn93c6pqDTAj3jRUx/wB918mUVvh/D7hbDyu6Ln/ilJr7lYyr8a8Q1lZVFH/DFL8dT0r4kftd/tBfFGOWz8QfEK6t7OXINhpQFtFtPVTswzr7OzV5rRWh4a8KeJvGWqpofhLw/e6neSfctrG2aVyO5woOAO56CvqcPhcDltBxowjTgt7JRXq9vvb+Z87WxGMx9a9WUpyfdtv5b/ckZ9b3w5+GPjr4s+I4/CvgDw5PqN44y4iXCRLnG+Rz8qL7kjnjqQK+hvgf/wAE1PGHiB4tb+Nmq/2NZ5z/AGTYyLJdSD0ZxlIx06bj1Hymvrz4b/CvwB8JPD6+Gfh74Zt9NtAcuIgS8rf3nc5Z292JOAB0FfDZ/wCIeWZdF0sDatU7r4F6v7XpHTzPr8l4Ix+OkqmL/d0+32n8unq/uPL/ANlj9i7wn8BbdPE/iYwav4pePDXuzMVnkcpAGGfYuQGI/ugkV7hRRX4jmOZY3NsVLE4qblN/guyWyS6Jf8E/WcDgcJl2HVDDx5Yr8fNvq/NhRRRXCdYUUUUAFFFFABRRRQAUUUUAFFFFABRRRQAUUUUAFFFFABRRRQAUUUUAFFFFABRRRQAUUUUAFFFFABRRRQAUUUUAFFFFABRRRQAUUUUAFMuLa3vIHtruBJY3Uq8cigqwIwQQevFPooTaegbnkvxD/Yh/Zx+Igkmn8Bx6TdOMC70J/spX1Oxf3ZJ9Shrx3xZ/wSutGMk/gb4tSoAP3VtqunByfrJGy4/74r68or6PA8W8R5clGjiZW7S95f8Ak1/zPDxfDWR413q0I37r3X/5Lb8j4H1T/gmZ+0HYo0ljq/hq8A+6kOoSqx/77iA/WsGT/gn3+0+j7R4NtWH95dVhx+rV+i1Fe/T8TOJIK0lTl/27b8pHjT4CyKT91zX/AG9f80fn1o3/AATg/aS1Q/6Xa6Jp49bzVCf/AEWj11/hb/gll45umLeNfijpdkAfu6ZZyXO72y5ix9cH6V9rUVhX8R+J6yajKEPSCv8Ae2/yNaPA3D9J3lGUvWT/AESPn7wF/wAE3vgD4VdbrxMdT8QzADK3115UIb1CRBT+DMwr2zwl4F8F+AtP/snwV4U0/SrbOTDp9okSscYydoGT7nmtWivl8fnObZo/9rryn5Nu33Ky/A+hweV5bl6/2alGPmlr9+r/ABCiiivMO8KKKKACiiigAooooAKKKKACiiigAooooAKKKKACiiigAooooAKKKKACiiigAooooAKKKKACiiigAooooAKKKKACiiigAooooAKKKKACiiigAooooAKKKKACiiigAooooAKKKKACiiigAooooAKKKKACiiigAooooAKKKKACiiigAooooAKKKKACiiigAooooAKKKKACiiigAooooAKKKKAPzi/4KwfEr4b6N/wUl+Afwu/aP/bf8W/Bf4Yaz8N/F97rN5oPxmvPBlte6jBPpgtBNcW9zAsjgSTBVYk8tjvWB+wv/wAFErb4AfDT9pr4max8b/Hnxv8AgJ4A8f6Ho/wE8aaxcf2nrHiy/v7eGG50azvZRGdSWPUpooIrh2IxIxaQou4fSnx8/Za+InxN/wCCqvwT/aFf4bWmreAPCPww8XaV4i1O9ntXS0vr2bTWtI/s8j+bIXEEx3ojKu35iuRnQ/4Ku/sM6j+3h+xPqf7P/gO38PLrWna1pOveGdM8S25Oj31zp13HcLY3iICfs06I8D7Qdol3YbbtIBi/CP8A4KLfGyP9pTwX+zV+2X+xvH8Kr74nW9//AMK71nR/iVaeJbS+vLK3N1Pp92YYITZ3P2dXkQASxSeW6rKSMHF/ZG/4KifG/wDa88U+JNT8N/sTp4f+HHgP4ieIvC3jr4ja98SII4rX+y5p4zc2dr9kEl4pSOF5NxhSIzMqyTGJ64b9iX9j7wj4Q/aM8K+M4v8Ag3/+H/wMutG+0zXvxHg8YeH7ubTpvssqL/Z6aeHnn8x2EZaUW2I5HYgkbD6X/wAE7f2OviT8PP2Ofip+z3+0T4Ul0CXx18UvH92sVvqNtcSPpOr6ndvb3CvBJIqs9vMrhWIdcgMqkEUAM/Zl/wCCiX7Vv7XUvhz4ufBn/gnXe/8ACkvFerRJonxB1/4mWVhq1zpTzeX/AGwujPASLbaDKqNcrM8YDLGSyqWfED/gpb8eNe+JfxA8J/sXfsNy/FjQvhXrcuh+M/El78SrPQPtGrwwpNdafpdvNDK19NCsiI7SG3j80mNXYqTWB+wJef8ABSb9k34W/Dj9hH4o/sK2fiPR/h/b2HhaP4z6B8S9Mt9Iu9CtSsEV+bCVvt6XK2qoWthEyvIhxKqtlfB/F3/BKaH4J/tM/GDxT4r/AOCO/gL9qTQvif8AEjUfGvh3xpLr2iWOsaJJqJWW60u9j1Zo90Edz5rxSwPIdk2GQEYAB9AfET/gsvoLaN+zNr/7MH7N+tfE+H9p6y1eTwlZ2+uQ6Zd6dPZWC3PlXCSo8YCuXSd/NUQLBLIonKqjZnxH/wCCjP7S3i/9lH9qbwa37MqfDv46/BLwJ/aE/h5fiDHeWX2G/sbia01iz1NLQeYY47e8kELW6nzbQREr5m9bK/safFSz/aO/Yj8d/Dv9lfw/8PfCPwlh8bS+OPCvhfXbSWw8ItqeivDb28JxC10HuXZS0EJAYszBVOa2PHH7GXxt+I37Vf7W+uyaHDpvhv4xfs/eH/B/hDxDc38LRzahFb69DcB4o3aaNYjfW5LOgDB/kLFWwAdV/wAEmvjf+2F8eP2Q/A3jT9rD4OaNoRvPhv4ZvdC8V2HxBOs3Xis3GniSe9u4PsNsLCVv3MhjDzgtcOu4eXl7f7Vf7enj74UftF+Hv2N/2Xf2Z5vix8Uta8KT+KtR0i48Ww6DpmhaFHcC1W8u72SGcgy3GYooo4ZGcxyE7QuS3/gllcftP+E/2W/CX7O37T37JuqfDfUvhf4E8P8AhyDV7nxbpOqWfiWS1s/ss1xafYbiSWFB9njfbcJE2LhQoYo5HGftP/Bv9rT4I/8ABRLTf+Chv7LvwFh+LWna58JF8AeOfAdt4ps9H1O1FvqMt/ZalaTXzpbyrunnhlieSM4MbLuIIoA8D/4KX/8ABTH42/GD/gjP+0B4v+DXwV1DwL8Q/Amo3Xgn4w+H9W8ZLbX/AIKZkj8y6s57eF11JJY7iAQuhgDx3LSB1MRRvsv/AIJyfs/6d+zf+zlH4Ds/2QvCPwTmn1me8vfB/gvxc2uWsspSKIXkl49rbNLNIkUe/dHn5Blm618c/Gn/AIJ0fts/F/8A4Jrfthal4m+F2mJ8a/2m/EMWsad8NtH8SWskWjWlslhaWWnyX0zRW8twtvaNJLKGWMs+Fzjn9P4wVjVSOQozQB8Uar/wVH/ai8ZftDfG39nX9ln/AIJz3XxB1D4Ia/aWWs6rdfE620e01CG406G8jEBmtHY3bGSRBbgMgESvJPH5qKd3xd/wVv8AA99+zT8D/jH+zt8Fdc+IHjD9opo4vhf8OE1CHTriWVbVrq9a8upA0drDZxxyedKFkwVG1XByN79hv9nj4wfB79rD9qn4mfEbwf8A2donxI+KWmav4Lvf7Qt5v7RsotCsbWSXZFIzw4nhkTbKEY7cgFSCfl/4Q/8ABPz9uH4Cfsi/sc/F3wV8HdO1b4tfs13XiCPxF8K9S8UWlv8A2xpesrcW13Fb36PJbJdIjW80ZZxGcMrOp4IB9FfDH/gpp4svv+Fx/DL9on9l+5+HfxX+D3gJvGV34J/4S6LU7DX9GaG4eC8sdSjgTfG0ttJBJvgVonwCrcgef/CL/gsl8Z/Gvw/+C37RvxO/4J86r4O+D/xl1DQNItPGs3xCtbu90rUtWEcVq0unLbozWD3ciwpdmRHZGSVoIw4Wq2i/su/tlftJ/Ff4/wD7a3x3+A9t8PNd8V/s8TfC34XfDE+KrLUr9rfN7dyXV9dW7m0jkmu7lEjRJWVEQl2HU2/Hn7GP7Sms/wDBHf8AZw/ZY0z4beZ488BN8JT4s0L+2LNfsP8AYt5pMup/vzMIZfJS2nP7t28zZiPeSoIB9418JeJv+CyXxPPw48S/tZ/Cb9hHUfFn7PnhK81A6l8R4/iJY2urahp2nzSQ32q6fozxFri1jMM7KZLiGSVIiyx4Iz9F2X7E3w0sf2lW/ami+JvxUfXGu5Lg6FN8Wdafw/ue3MBX+yDc/Y9gViwXysBwHADAGvzf+C//AASFh/ZG8IXH7OXi3/ghN8MP2hX0bVr4eFPjGfFWhWB1jTpbmSa1GrR34F1BcxRyLC7QxXCsIgy56EA+z/iZ/wAFJfiVrv7Q8H7Nv7Dn7L1h8WtXi+HGmeN9X1TWviPB4asYdK1GSZLL7OZLW5lupHEDs2IljjBjDSBnwNb9oX/goL8QfgfYfCj4W6N+ybqviX45/Fy2uJdF+Elp4rs4otMWzhSXUJ73VcNBFbW/mInmqjtK8iLHGxJA8g/bs/ZhvviZqXh3wRdf8EU9M+J9l4X8G2dj4I8b+C/i1pnh3UPDbrEVOnx3EslreWtvC4Gx4HlBBz5QIIOFpX7F/wDwUi+AXhr9lv8AasJ0342fGL4PeAtW8JfFXw1feK1tLjxJp2pGCQPaajdqI2u7WS2gBe42C5USEujEEgH1J4f+PX7bU37P2v8Ajvxf+wNFZ/EPTNXitNF+H+lfFawu7XWYHaAG8TU5IYVgiQSyl1lhWXFs2xHLoG5z9mj9u/4r+Pv2l7z9j/8Aat/ZaT4W+OpPCEvijwyNJ8dweItL1vTIbmK2ufLuo4Ld4riGWeDfC8QO2UMrMAa83/bT8Fft2ft2fsQz6JP+yTeeCdUsfiXo99rPwjv/AIq2aXXjrwvbSxS3umS6jp7tBYm5y6bPOZSsA3uolKjyv9hn/gn18TfhZ/wU/wDCv7U/gn/gmP4Q/Z1+Glr8JNe0DUNK0TxFpV3qc2pS3mnSxTX/ANhkZGEiRyLEImnCCCRpJEMyIADuP+CVvxB+N3w2/wCCR3hTW/2ff2fD8SvEU3xQ8d28egP4rttFhiibxnrxa5mup1cLGu0AhI5HJdcIRkj0v4Xf8FAPjt8Rrz4qfs/eO/2TLbwV8bvAngeLxLong9viNDf6R4i0+5NxDb3Nvq0VqGjUXFtLFKJLUNG2whXDcfNWo/8ABO79sWL/AIJlfCD4GeIvgGfF48H/AB18UeI/ij8Dx47tdN/4THQbzXdeubSD7bHN9mk2/brG8+zSyrHJs2SFXXbXTf8ABOb/AIJ+/FT4M/8ABQrx18fYP2AfCP7Pnwz8V/Ay28PaT4a8Ka5pt3LHqKapLJI1+tm+1rt4iH3ReZCIlhTzmkDqAB//AATI/wCCk/7S3hj/AIJPaN+2b/wUJ+HVqvgzQfhomsJ8SLHx1/a2t+LbprkxRwvpn2GBbaeV2SNB9okBdkUkBiw9c8Ef8FLfjx4b+Mvw8+HX7Zf7Db/CvQ/ixrR0PwR4msviZZa+YtYa3luYNO1O3ghiNlNNHBMEMT3EfmJsLjO6vn74Tf8ABP39sL4z/wDBGvWv+CNX7QP7O3/CCX/hrwXBYeHPidc+KdM1PQPEV/Y6tHe2WLe2na9ihkaCEyCaBCELgBmwp6P9kn9irw/4a+N/gnV9Z/4N4Phf8LNX0PVIrrVPibp3jHQJ7XS54VLC602O1V7yZjIq7FljtyobLNlcMAbv7Sf/AAU9+L3xQ+Ffx/l+AH7DWs+MvhD8OrXxD4V8W/E6Dxpa2t1LfWlrJHqMmnaU8Re/t7V2IeTzozJ5UghSVlCn6D/4JO/8osv2af8As3/wb/6Y7OvlWw/Z/wD+CmX7LPwc+PH7CXwD/ZN0bxx4a+IXiTxZq3w2+Ks3j+wsbTR7XXWmnktdRspiLqW4tpZ5ghiVop8xhngG5h9k/wDBPb4W+O/gd+wL8D/gp8UtC/svxP4P+D/hnRPEemfaop/sl/aaVbQXEPmQs8cmyWN13IzK2MqSCDQB5P4m/wCCjP7QHxD+O/jv4OfsKfsOv8VtP+FusronjvxjrXxHtvDdhHrPkpPLptl5ltcPeTwxyx+aWEUaM4Uv0J0/j7/wUI+Lfgr43eFf2Sv2df2Prr4hfF3WvAS+MvE/hjUfG9ro2neFNKMv2cNeaj5VwryvciSGOOGOTf5Mj5VBuPm/w68A/t5f8E8Pjz8Z9K+CX7G6/Gz4d/Fz4nXvxB0LVtE+IGmaNf6DqWoQwLfWN9DqLxiSHzoPMilgMjBHIZM4A0/jR8K/21/gn+3fpn/BRD4DfsxWvxJi8afBuy8G/Er4aad43sdP1HRr61vJb23vLS7vzDbXcQNzPbyIWiY7Y5FByVABD4+/4LTaD4A/4J4/Ez9tXWf2a9btPFfwb8eWfg/4kfCXUdajS70zVZdV0+xkSO7himS5iEWoRXMMscZWddqjYWJXuPhP/wAFBfjheftVeE/2Zv2pf2KL74WD4maJqmofDLWW8dWmstqEmnxxzXNjfwW8SjT7pbeUS7VkuI22SKspKmvmn4rf8E4/21fiX/wTq/aHu/Evw00tvjL+0H8cPDnjaX4faN4jtpINB02x1rQ/LsWvZ2ignnhsNOlllkUqruSsYY7d31d+1L8BPiz8Rv2+P2W/jV4M8KfbPDPw51jxfP4z1P7fBH/Z8d7oEtpany5JFkm3zsqYiVyucttXmgDmPD//AAVd8KL/AME5PiR+3d8S/hU/h3WPhRfeIdG8ZfDpNd+0y22v6ZeSWaaYt15CbmuZfs3lv5I4u4ztPQ2/it/wUM+NHhzx54T/AGb/AINfsgR+MfjHqnw7tPGHjjwle/EODSdI8HWc7eSI7jVJbZ2nla5SeKJIrYvItvJIyxKBnwP9oH/gnB+1X4y/4KZSeFvBXgi1m/Zh+J/xH8L/ABS+KmpHWbWMWev6Ha3KNpv2FpBLPHf3Fpoc8kioVBgfJ61rf8FDP+Calz42/b0h/bgP7Afgz9prw5r3w8tfDHiT4feIdS0+z1TRby0uZprfU9Pl1IrayI8c7wzQtJE2UjdWblQAdd8RP+C1mj/DT9hD4hftbeJP2ZdYt/Fvwl+I2n+CviN8K5PEET3NhqNxf2NuWt7uCKVLyIwX8VxC6IBMMJ+7OSu/8S/+CkX7UXwf0PwfovxG/YBj034gfFPxyPD3wr8DzfFmx23qLYzXs1xqd8LfydOeOOB1MEX2tncqsbSFuPH/AIu/sDfEPx1/wTI8W/Bj9nX/AIJl+Ffgf4i1z4veFdWh+HfhrxRpMrX2n2Gs6TdTX93PCYrWOcRQ3Q8lZJTsgTa7NJ5a/Tf/AAUi8Car8UfhTpfw/u/+CdmjftIeHL3U2k13wtqPiXTdOuNNZE/cXlr/AGjsieUFpE3LNC6BiVY5IoA2/Cvx0/bPuf2f/Efj3x5+wnFp3xA0rUkttC+H+jfFGwvoNciYwD7SmoyRQLBGvmylxLEsgFs+1H3IG4n4Jft9/HTXP2iT+yZ+1H+yBbfDbxzrXg7UPEXw/wD7M+I8GvaV4iispIY7q1N1HawSWtzE11bMyNAy7JCys23B+WdK/wCCef8AwUHuP2DPi78KfDng/VPDOheIvipoWt+Av2e9Y+Mc1/d2/hS0ks21Xw++vCST7IuoeTcFYo5XihEuwyYkci5+yJ/wTy+JngH/AIKZ/Cj9qL4b/wDBLLwf+zr8O9A8EeKdJ8R2mkeJdIu9WnvbiOy+zzX32GVkkjfbIkIiedkMc7SmPzYwQDR/4Jr/ALXv7d3xx/ZV+Lmsftdfs66Lr/gfTPEHxEt9W8SP8XHlvgtnd3af2JHappsZ8iNUa2S7EwbYok8sE7R6X4G/4KDeH/gx+yD+yb8Kv2R/2Q73xB4v+Mfwm0i8+GXwig8aCK18P6Ha6NZzytfaxdRuwt7WGaCETtE8s7lcIWY4w/2TvgZ+2j8A/hf8df2JPFX7Jt7d6D4p8T/EHXfBvxU07xlpDadqEWrz3N1Z20lo9yl5BOWuBE26IxKy5Mm3msbQ/wBjT9tT9nX4e/sX/tL/AAk+CNn4v8efA74DW3w++KPwon8U2dldXdtcaVp0cxsr6RzZ/aLW8sQSGkEcyMwWQcEgHqGm/wDBWTVNL/Z+/aK8W/Fz9l++8I/FT9mnwtNrnjT4X3PiqK5t7+2bT5r6xns9UihKy21ykEiCUwB43jdXiyoBqfDD/gqx8Z9c8U/BvXvjf+wbqngH4ZfHXUbTSvA3ji58eWt9eRald2Ml3ZRX2mxwK9rFcrDII5PNdwSgljhZiq+Y+Lf2Jv21/wBob4O/tq/tEfFH4KWXhf4h/H74QDwX8N/hPbeKbO8uNPtLHTL6G3F5fK62n2m6ur12IWQxQoqAyH5iPX/2kf2Wfjv49/Z9/ZN8D+EfAv2vVPhn8XvAmt+N7X+07WP+zbDTrSWO8m3PKFm8tmA2xF2bPyBhQA+L/goz+098VvjN8RvAv7IH7Bdv8QfDfws8aSeFPFHiDVfi3ZaHez6pDDDLcR2ljLbS740EyhZJ5oFkIO3gZr6/r8xP+Chf7Hv7SH7SfxL8Y6v8CP8AglfH4L+L1xqX2bwL+1J4U+NVjo3kRRyqttqd+lpJFfzlYVXdaSW9wMDyw5AVh+mGgWurWOhWVlr+pre30NpGl7eJCIxPMFAeQIOFDNk7e2cUAW6KKKACiiigAooooAKKKKACiiigAooooAKKKKACiiigAooooAKKKKACiiigAooooAKKKKACiiigAooooAKKKKACiiigAooooAKKKKACiiigAooooAKKKKACiiigAooooAKKKKACiiigAooooAKKKKACiiigD//Z'></td>    <td style=\"width:450px\"><div align=\"left\"> <h2>Effectiveness</h2></br>This notebook provides a list of metrics customers can use to assess how effective their assistant is at responding to conversation and metrics   </div></td></tr>"
     },
     "execution_count": 18,
     "metadata": {},
     "output_type": "execute_result"
    }
   ],
   "source": [
    "# Plot pie graphs for coverage and effectiveness\n",
    "coverage_pie = make_pie(coverage, \"Percent of total messages covered\")\n",
    "effective_pie = make_pie(effective_perc, 'Percent of non-escalated conversations')\n",
    "\n",
    "# Messages to be displayed with effectiveness and coverage\n",
    "coverage_msg = '<h2>Coverage</h2></br>A message that is not covered would either be a \\\n",
    "message your assistant responded to with some form \\\n",
    "of “I’m not trained” or that it immediately handed over \\\n",
    "to a human agent without attempting to respond'\n",
    "\n",
    "effectiveness_msg = '<h2>Effectiveness</h2></br>This notebook provides a list of metrics customers \\\n",
    "can use to assess how effective their assistant is at \\\n",
    "responding to conversation and metrics '\n",
    "\n",
    "# Display the coverage and effectiveness pie charts\n",
    "HTML('<tr><th colspan=\"4\"><div align=\"center\"><h2>Coverage and Effectiveness<hr/></h2></div></th></tr>\\\n",
    "<tr>\\\n",
    "    <td style=\"width:500px\">{c_pie}</td>\\\n",
    "    <td style=\"width:450px\"><div align=\"left\"> {c_msg} </div></td>\\\n",
    "    <td style=\"width:500px\">{e_pie}</td>\\\n",
    "    <td style=\"width:450px\"><div align=\"left\"> {e_msg}  </div></td>\\\n",
    "</tr>'\n",
    "    .format(c_pie=coverage_pie, c_msg = coverage_msg, e_pie = effective_pie, e_msg = effectiveness_msg))"
   ]
  },
  {
   "cell_type": "markdown",
   "metadata": {},
   "source": [
    "Here, we can see our assistant's coverage and effectiveness. We will have to take a deeper look at both of these metrics to understand the nuances and decide where we should focus next. \n",
    "\n",
    "Note that the distinction between a user message and a conversation. A conversation in Watson Assistant represents a session of one or more messages from a user and the associated responses returned to the user from the assistant. A conversation includes a Conversation id for the purposes of grouping a sequence of messages and responses. "
   ]
  },
  {
   "cell_type": "markdown",
   "metadata": {},
   "source": [
    "<a id=\"msg_analysis\"></a>\n",
    "## 5.  Analyze coverage\n",
    "\n",
    "Now, we take a deeper look at the Coverage of your Assistant."
   ]
  },
  {
   "cell_type": "markdown",
   "metadata": {},
   "source": [
    "###  5.1 Display overall coverage<a id=\"msg_analysis1\"></a>"
   ]
  },
  {
   "cell_type": "code",
   "execution_count": 19,
   "metadata": {},
   "outputs": [
    {
     "name": "stdout",
     "output_type": "stream",
     "text": [
      "Overall messages\n",
      "================\n",
      "Total Conversations: 4319\n",
      "Total Messages: 7706\n",
      "\n",
      "\n"
     ]
    },
    {
     "data": {
      "text/plain": "<Figure size 1080x108 with 1 Axes>",
      "image/png": "[encoded data removed]"
     },
     "metadata": {},
     "output_type": "display_data"
    }
   ],
   "source": [
    "# Compute the number of conversations in the log\n",
    "convs = df_coverage['response.context.conversation_id'].nunique()\n",
    "\n",
    "# Compute the number of messages in the log\n",
    "msgs = df_coverage['response.context.conversation_id'].size\n",
    "\n",
    "#Display the results\n",
    "print('Overall messages\\n', \"=\" * len('Overall messages'), '\\nTotal Conversations: ', convs, '\\nTotal Messages: ', msgs, '\\n\\n', sep = '')\n",
    "\n",
    "#Display the coverage bar chart\n",
    "display(coverage_barh(coverage, avg_conf, 'Coverage & Average confidence', False))"
   ]
  },
  {
   "cell_type": "markdown",
   "metadata": {},
   "source": [
    "###  5.2 Calculate coverage over time<a id=\"msg_analysis2\"></a>\n",
    "\n",
    "Compare the coverage over time with any major updates to your assistant, to see if the changes affected the performance. Use the interval parameter to set a time interval.  You can choose from:  {\"minute\", \"5-minute\", \"15-minute\", \"30-minute\", \"hour\", \"day\", \"week\", \"month\"}. Move your cursor over the bars to check the coverage value."
   ]
  },
  {
   "cell_type": "code",
   "execution_count": 20,
   "metadata": {},
   "outputs": [
    {
     "data": {
      "application/javascript": "\n(function(root) {\n  function now() {\n    return new Date();\n  }\n\n  var force = true;\n\n  if (typeof root._bokeh_onload_callbacks === \"undefined\" || force === true) {\n    root._bokeh_onload_callbacks = [];\n    root._bokeh_is_loading = undefined;\n  }\n\n  var JS_MIME_TYPE = 'application/javascript';\n  var HTML_MIME_TYPE = 'text/html';\n  var EXEC_MIME_TYPE = 'application/vnd.bokehjs_exec.v0+json';\n  var CLASS_NAME = 'output_bokeh rendered_html';\n\n  /**\n   * Render data to the DOM node\n   */\n  function render(props, node) {\n    var script = document.createElement(\"script\");\n    node.appendChild(script);\n  }\n\n  /**\n   * Handle when an output is cleared or removed\n   */\n  function handleClearOutput(event, handle) {\n    var cell = handle.cell;\n\n    var id = cell.output_area._bokeh_element_id;\n    var server_id = cell.output_area._bokeh_server_id;\n    // Clean up Bokeh references\n    if (id != null && id in Bokeh.index) {\n      Bokeh.index[id].model.document.clear();\n      delete Bokeh.index[id];\n    }\n\n    if (server_id !== undefined) {\n      // Clean up Bokeh references\n      var cmd = \"from bokeh.io.state import curstate; print(curstate().uuid_to_server['\" + server_id + \"'].get_sessions()[0].document.roots[0]._id)\";\n      cell.notebook.kernel.execute(cmd, {\n        iopub: {\n          output: function(msg) {\n            var id = msg.content.text.trim();\n            if (id in Bokeh.index) {\n              Bokeh.index[id].model.document.clear();\n              delete Bokeh.index[id];\n            }\n          }\n        }\n      });\n      // Destroy server and session\n      var cmd = \"import bokeh.io.notebook as ion; ion.destroy_server('\" + server_id + \"')\";\n      cell.notebook.kernel.execute(cmd);\n    }\n  }\n\n  /**\n   * Handle when a new output is added\n   */\n  function handleAddOutput(event, handle) {\n    var output_area = handle.output_area;\n    var output = handle.output;\n\n    // limit handleAddOutput to display_data with EXEC_MIME_TYPE content only\n    if ((output.output_type != \"display_data\") || (!output.data.hasOwnProperty(EXEC_MIME_TYPE))) {\n      return\n    }\n\n    var toinsert = output_area.element.find(\".\" + CLASS_NAME.split(' ')[0]);\n\n    if (output.metadata[EXEC_MIME_TYPE][\"id\"] !== undefined) {\n      toinsert[toinsert.length - 1].firstChild.textContent = output.data[JS_MIME_TYPE];\n      // store reference to embed id on output_area\n      output_area._bokeh_element_id = output.metadata[EXEC_MIME_TYPE][\"id\"];\n    }\n    if (output.metadata[EXEC_MIME_TYPE][\"server_id\"] !== undefined) {\n      var bk_div = document.createElement(\"div\");\n      bk_div.innerHTML = output.data[HTML_MIME_TYPE];\n      var script_attrs = bk_div.children[0].attributes;\n      for (var i = 0; i < script_attrs.length; i++) {\n        toinsert[toinsert.length - 1].firstChild.setAttribute(script_attrs[i].name, script_attrs[i].value);\n        toinsert[toinsert.length - 1].firstChild.textContent = bk_div.children[0].textContent\n      }\n      // store reference to server id on output_area\n      output_area._bokeh_server_id = output.metadata[EXEC_MIME_TYPE][\"server_id\"];\n    }\n  }\n\n  function register_renderer(events, OutputArea) {\n\n    function append_mime(data, metadata, element) {\n      // create a DOM node to render to\n      var toinsert = this.create_output_subarea(\n        metadata,\n        CLASS_NAME,\n        EXEC_MIME_TYPE\n      );\n      this.keyboard_manager.register_events(toinsert);\n      // Render to node\n      var props = {data: data, metadata: metadata[EXEC_MIME_TYPE]};\n      render(props, toinsert[toinsert.length - 1]);\n      element.append(toinsert);\n      return toinsert\n    }\n\n    /* Handle when an output is cleared or removed */\n    events.on('clear_output.CodeCell', handleClearOutput);\n    events.on('delete.Cell', handleClearOutput);\n\n    /* Handle when a new output is added */\n    events.on('output_added.OutputArea', handleAddOutput);\n\n    /**\n     * Register the mime type and append_mime function with output_area\n     */\n    OutputArea.prototype.register_mime_type(EXEC_MIME_TYPE, append_mime, {\n      /* Is output safe? */\n      safe: true,\n      /* Index of renderer in `output_area.display_order` */\n      index: 0\n    });\n  }\n\n  // register the mime type if in Jupyter Notebook environment and previously unregistered\n  if (root.Jupyter !== undefined) {\n    var events = require('base/js/events');\n    var OutputArea = require('notebook/js/outputarea').OutputArea;\n\n    if (OutputArea.prototype.mime_types().indexOf(EXEC_MIME_TYPE) == -1) {\n      register_renderer(events, OutputArea);\n    }\n  }\n\n  \n  if (typeof (root._bokeh_timeout) === \"undefined\" || force === true) {\n    root._bokeh_timeout = Date.now() + 5000;\n    root._bokeh_failed_load = false;\n  }\n\n  var NB_LOAD_WARNING = {'data': {'text/html':\n     \"<div style='background-color: #fdd'>\\n\"+\n     \"<p>\\n\"+\n     \"BokehJS does not appear to have successfully loaded. If loading BokehJS from CDN, this \\n\"+\n     \"may be due to a slow or bad network connection. Possible fixes:\\n\"+\n     \"</p>\\n\"+\n     \"<ul>\\n\"+\n     \"<li>re-rerun `output_notebook()` to attempt to load from CDN again, or</li>\\n\"+\n     \"<li>use INLINE resources instead, as so:</li>\\n\"+\n     \"</ul>\\n\"+\n     \"<code>\\n\"+\n     \"from bokeh.resources import INLINE\\n\"+\n     \"output_notebook(resources=INLINE)\\n\"+\n     \"</code>\\n\"+\n     \"</div>\"}};\n\n  function display_loaded() {\n    var el = document.getElementById(null);\n    if (el != null) {\n      el.textContent = \"BokehJS is loading...\";\n    }\n    if (root.Bokeh !== undefined) {\n      if (el != null) {\n        el.textContent = \"BokehJS \" + root.Bokeh.version + \" successfully loaded.\";\n      }\n    } else if (Date.now() < root._bokeh_timeout) {\n      setTimeout(display_loaded, 100)\n    }\n  }\n\n\n  function run_callbacks() {\n    try {\n      root._bokeh_onload_callbacks.forEach(function(callback) {\n        if (callback != null)\n          callback();\n      });\n    } finally {\n      delete root._bokeh_onload_callbacks\n    }\n    console.debug(\"Bokeh: all callbacks have finished\");\n  }\n\n  function load_libs(css_urls, js_urls, callback) {\n    if (css_urls == null) css_urls = [];\n    if (js_urls == null) js_urls = [];\n\n    root._bokeh_onload_callbacks.push(callback);\n    if (root._bokeh_is_loading > 0) {\n      console.debug(\"Bokeh: BokehJS is being loaded, scheduling callback at\", now());\n      return null;\n    }\n    if (js_urls == null || js_urls.length === 0) {\n      run_callbacks();\n      return null;\n    }\n    console.debug(\"Bokeh: BokehJS not loaded, scheduling load and callback at\", now());\n    root._bokeh_is_loading = css_urls.length + js_urls.length;\n\n    function on_load() {\n      root._bokeh_is_loading--;\n      if (root._bokeh_is_loading === 0) {\n        console.debug(\"Bokeh: all BokehJS libraries/stylesheets loaded\");\n        run_callbacks()\n      }\n    }\n\n    function on_error() {\n      console.error(\"failed to load \" + url);\n    }\n\n    for (var i = 0; i < css_urls.length; i++) {\n      var url = css_urls[i];\n      const element = document.createElement(\"link\");\n      element.onload = on_load;\n      element.onerror = on_error;\n      element.rel = \"stylesheet\";\n      element.type = \"text/css\";\n      element.href = url;\n      console.debug(\"Bokeh: injecting link tag for BokehJS stylesheet: \", url);\n      document.body.appendChild(element);\n    }\n\n    const hashes = {\"https://cdn.bokeh.org/bokeh/release/bokeh-2.0.2.min.js\": \"ufR9RFnRs6lniiaFvtJziE0YeidtAgBRH6ux2oUItHw5WTvE1zuk9uzhUU/FJXDp\", \"https://cdn.bokeh.org/bokeh/release/bokeh-widgets-2.0.2.min.js\": \"8QM/PGWBT+IssZuRcDcjzwIh1mkOmJSoNMmyYDZbCfXJg3Ap1lEvdVgFuSAwhb/J\", \"https://cdn.bokeh.org/bokeh/release/bokeh-tables-2.0.2.min.js\": \"Jm8cH3Rg0P6UeZhVY5cLy1WzKajUT9KImCY+76hEqrcJt59/d8GPvFHjCkYgnSIn\", \"https://cdn.bokeh.org/bokeh/release/bokeh-gl-2.0.2.min.js\": \"Ozhzj+SI7ywm74aOI/UajcWz+C0NjsPunEVyVIrxzYkB+jA+2tUw8x5xJCbVtK5I\"};\n\n    for (var i = 0; i < js_urls.length; i++) {\n      var url = js_urls[i];\n      var element = document.createElement('script');\n      element.onload = on_load;\n      element.onerror = on_error;\n      element.async = false;\n      element.src = url;\n      if (url in hashes) {\n        element.crossOrigin = \"anonymous\";\n        element.integrity = \"sha384-\" + hashes[url];\n      }\n      console.debug(\"Bokeh: injecting script tag for BokehJS library: \", url);\n      document.head.appendChild(element);\n    }\n  };\n\n  function inject_raw_css(css) {\n    const element = document.createElement(\"style\");\n    element.appendChild(document.createTextNode(css));\n    document.body.appendChild(element);\n  }\n\n  \n  var js_urls = [\"https://cdn.bokeh.org/bokeh/release/bokeh-2.0.2.min.js\", \"https://cdn.bokeh.org/bokeh/release/bokeh-widgets-2.0.2.min.js\", \"https://cdn.bokeh.org/bokeh/release/bokeh-tables-2.0.2.min.js\", \"https://cdn.bokeh.org/bokeh/release/bokeh-gl-2.0.2.min.js\"];\n  var css_urls = [];\n  \n\n  var inline_js = [\n    function(Bokeh) {\n      Bokeh.set_log_level(\"info\");\n    },\n    function(Bokeh) {\n    \n    \n    }\n  ];\n\n  function run_inline_js() {\n    \n    if (root.Bokeh !== undefined || force === true) {\n      \n    for (var i = 0; i < inline_js.length; i++) {\n      inline_js[i].call(root, root.Bokeh);\n    }\n    } else if (Date.now() < root._bokeh_timeout) {\n      setTimeout(run_inline_js, 100);\n    } else if (!root._bokeh_failed_load) {\n      console.log(\"Bokeh: BokehJS failed to load within specified timeout.\");\n      root._bokeh_failed_load = true;\n    } else if (force !== true) {\n      var cell = $(document.getElementById(null)).parents('.cell').data().cell;\n      cell.output_area.append_execute_result(NB_LOAD_WARNING)\n    }\n\n  }\n\n  if (root._bokeh_is_loading === 0) {\n    console.debug(\"Bokeh: BokehJS loaded, going straight to plotting\");\n    run_inline_js();\n  } else {\n    load_libs(css_urls, js_urls, function() {\n      console.debug(\"Bokeh: BokehJS plotting callback run at\", now());\n      run_inline_js();\n    });\n  }\n}(window));",
      "application/vnd.bokehjs_load.v0+json": "\n(function(root) {\n  function now() {\n    return new Date();\n  }\n\n  var force = true;\n\n  if (typeof root._bokeh_onload_callbacks === \"undefined\" || force === true) {\n    root._bokeh_onload_callbacks = [];\n    root._bokeh_is_loading = undefined;\n  }\n\n  \n\n  \n  if (typeof (root._bokeh_timeout) === \"undefined\" || force === true) {\n    root._bokeh_timeout = Date.now() + 5000;\n    root._bokeh_failed_load = false;\n  }\n\n  var NB_LOAD_WARNING = {'data': {'text/html':\n     \"<div style='background-color: #fdd'>\\n\"+\n     \"<p>\\n\"+\n     \"BokehJS does not appear to have successfully loaded. If loading BokehJS from CDN, this \\n\"+\n     \"may be due to a slow or bad network connection. Possible fixes:\\n\"+\n     \"</p>\\n\"+\n     \"<ul>\\n\"+\n     \"<li>re-rerun `output_notebook()` to attempt to load from CDN again, or</li>\\n\"+\n     \"<li>use INLINE resources instead, as so:</li>\\n\"+\n     \"</ul>\\n\"+\n     \"<code>\\n\"+\n     \"from bokeh.resources import INLINE\\n\"+\n     \"output_notebook(resources=INLINE)\\n\"+\n     \"</code>\\n\"+\n     \"</div>\"}};\n\n  function display_loaded() {\n    var el = document.getElementById(null);\n    if (el != null) {\n      el.textContent = \"BokehJS is loading...\";\n    }\n    if (root.Bokeh !== undefined) {\n      if (el != null) {\n        el.textContent = \"BokehJS \" + root.Bokeh.version + \" successfully loaded.\";\n      }\n    } else if (Date.now() < root._bokeh_timeout) {\n      setTimeout(display_loaded, 100)\n    }\n  }\n\n\n  function run_callbacks() {\n    try {\n      root._bokeh_onload_callbacks.forEach(function(callback) {\n        if (callback != null)\n          callback();\n      });\n    } finally {\n      delete root._bokeh_onload_callbacks\n    }\n    console.debug(\"Bokeh: all callbacks have finished\");\n  }\n\n  function load_libs(css_urls, js_urls, callback) {\n    if (css_urls == null) css_urls = [];\n    if (js_urls == null) js_urls = [];\n\n    root._bokeh_onload_callbacks.push(callback);\n    if (root._bokeh_is_loading > 0) {\n      console.debug(\"Bokeh: BokehJS is being loaded, scheduling callback at\", now());\n      return null;\n    }\n    if (js_urls == null || js_urls.length === 0) {\n      run_callbacks();\n      return null;\n    }\n    console.debug(\"Bokeh: BokehJS not loaded, scheduling load and callback at\", now());\n    root._bokeh_is_loading = css_urls.length + js_urls.length;\n\n    function on_load() {\n      root._bokeh_is_loading--;\n      if (root._bokeh_is_loading === 0) {\n        console.debug(\"Bokeh: all BokehJS libraries/stylesheets loaded\");\n        run_callbacks()\n      }\n    }\n\n    function on_error() {\n      console.error(\"failed to load \" + url);\n    }\n\n    for (var i = 0; i < css_urls.length; i++) {\n      var url = css_urls[i];\n      const element = document.createElement(\"link\");\n      element.onload = on_load;\n      element.onerror = on_error;\n      element.rel = \"stylesheet\";\n      element.type = \"text/css\";\n      element.href = url;\n      console.debug(\"Bokeh: injecting link tag for BokehJS stylesheet: \", url);\n      document.body.appendChild(element);\n    }\n\n    const hashes = {\"https://cdn.bokeh.org/bokeh/release/bokeh-2.0.2.min.js\": \"ufR9RFnRs6lniiaFvtJziE0YeidtAgBRH6ux2oUItHw5WTvE1zuk9uzhUU/FJXDp\", \"https://cdn.bokeh.org/bokeh/release/bokeh-widgets-2.0.2.min.js\": \"8QM/PGWBT+IssZuRcDcjzwIh1mkOmJSoNMmyYDZbCfXJg3Ap1lEvdVgFuSAwhb/J\", \"https://cdn.bokeh.org/bokeh/release/bokeh-tables-2.0.2.min.js\": \"Jm8cH3Rg0P6UeZhVY5cLy1WzKajUT9KImCY+76hEqrcJt59/d8GPvFHjCkYgnSIn\", \"https://cdn.bokeh.org/bokeh/release/bokeh-gl-2.0.2.min.js\": \"Ozhzj+SI7ywm74aOI/UajcWz+C0NjsPunEVyVIrxzYkB+jA+2tUw8x5xJCbVtK5I\"};\n\n    for (var i = 0; i < js_urls.length; i++) {\n      var url = js_urls[i];\n      var element = document.createElement('script');\n      element.onload = on_load;\n      element.onerror = on_error;\n      element.async = false;\n      element.src = url;\n      if (url in hashes) {\n        element.crossOrigin = \"anonymous\";\n        element.integrity = \"sha384-\" + hashes[url];\n      }\n      console.debug(\"Bokeh: injecting script tag for BokehJS library: \", url);\n      document.head.appendChild(element);\n    }\n  };\n\n  function inject_raw_css(css) {\n    const element = document.createElement(\"style\");\n    element.appendChild(document.createTextNode(css));\n    document.body.appendChild(element);\n  }\n\n  \n  var js_urls = [\"https://cdn.bokeh.org/bokeh/release/bokeh-2.0.2.min.js\", \"https://cdn.bokeh.org/bokeh/release/bokeh-widgets-2.0.2.min.js\", \"https://cdn.bokeh.org/bokeh/release/bokeh-tables-2.0.2.min.js\", \"https://cdn.bokeh.org/bokeh/release/bokeh-gl-2.0.2.min.js\"];\n  var css_urls = [];\n  \n\n  var inline_js = [\n    function(Bokeh) {\n      Bokeh.set_log_level(\"info\");\n    },\n    function(Bokeh) {\n    \n    \n    }\n  ];\n\n  function run_inline_js() {\n    \n    if (root.Bokeh !== undefined || force === true) {\n      \n    for (var i = 0; i < inline_js.length; i++) {\n      inline_js[i].call(root, root.Bokeh);\n    }\n    } else if (Date.now() < root._bokeh_timeout) {\n      setTimeout(run_inline_js, 100);\n    } else if (!root._bokeh_failed_load) {\n      console.log(\"Bokeh: BokehJS failed to load within specified timeout.\");\n      root._bokeh_failed_load = true;\n    } else if (force !== true) {\n      var cell = $(document.getElementById(null)).parents('.cell').data().cell;\n      cell.output_area.append_execute_result(NB_LOAD_WARNING)\n    }\n\n  }\n\n  if (root._bokeh_is_loading === 0) {\n    console.debug(\"Bokeh: BokehJS loaded, going straight to plotting\");\n    run_inline_js();\n  } else {\n    load_libs(css_urls, js_urls, function() {\n      console.debug(\"Bokeh: BokehJS plotting callback run at\", now());\n      run_inline_js();\n    });\n  }\n}(window));"
     },
     "metadata": {},
     "output_type": "display_data"
    },
    {
     "data": {
      "text/html": "\n\n\n\n\n\n  <div class=\"bk-root\" id=\"4a7c6b68-6047-48a3-9b6f-aff43334953c\" data-root-id=\"1001\"></div>\n"
     },
     "metadata": {},
     "output_type": "display_data"
    },
    {
     "data": {
      "application/javascript": "(function(root) {\n  function embed_document(root) {\n    \n  var docs_json = {\"1890a12b-4bbb-4bba-90c8-a9d248e6e24b\":{\"roots\":{\"references\":[{\"attributes\":{\"below\":[{\"id\":\"1012\"}],\"center\":[{\"id\":\"1015\"},{\"id\":\"1019\"}],\"left\":[{\"id\":\"1016\"}],\"plot_height\":350,\"plot_width\":950,\"renderers\":[{\"id\":\"1038\"}],\"title\":{\"id\":\"1002\"},\"toolbar\":{\"id\":\"1027\"},\"x_range\":{\"id\":\"1004\"},\"x_scale\":{\"id\":\"1008\"},\"y_range\":{\"id\":\"1006\"},\"y_scale\":{\"id\":\"1010\"}},\"id\":\"1001\",\"subtype\":\"Figure\",\"type\":\"Plot\"},{\"attributes\":{\"num_minor_ticks\":5,\"tickers\":[{\"id\":\"1051\"},{\"id\":\"1052\"},{\"id\":\"1053\"},{\"id\":\"1054\"},{\"id\":\"1055\"},{\"id\":\"1056\"},{\"id\":\"1057\"},{\"id\":\"1058\"},{\"id\":\"1059\"},{\"id\":\"1060\"},{\"id\":\"1061\"},{\"id\":\"1062\"}]},\"id\":\"1013\",\"type\":\"DatetimeTicker\"},{\"attributes\":{\"formatter\":{\"id\":\"1040\"},\"major_label_orientation\":0.5,\"major_label_text_font_size\":\"10pt\",\"ticker\":{\"id\":\"1013\"}},\"id\":\"1012\",\"type\":\"DatetimeAxis\"},{\"attributes\":{},\"id\":\"1050\",\"type\":\"UnionRenderers\"},{\"attributes\":{},\"id\":\"1017\",\"type\":\"BasicTicker\"},{\"attributes\":{\"axis_label\":\"Coverage %\",\"formatter\":{\"id\":\"1047\"},\"major_label_text_font_size\":\"10pt\",\"ticker\":{\"id\":\"1017\"}},\"id\":\"1016\",\"type\":\"LinearAxis\"},{\"attributes\":{},\"id\":\"1010\",\"type\":\"LinearScale\"},{\"attributes\":{\"axis\":{\"id\":\"1012\"},\"ticker\":null},\"id\":\"1015\",\"type\":\"Grid\"},{\"attributes\":{\"base\":60,\"mantissas\":[1,2,5,10,15,20,30],\"max_interval\":1800000.0,\"min_interval\":1000.0,\"num_minor_ticks\":0},\"id\":\"1052\",\"type\":\"AdaptiveTicker\"},{\"attributes\":{\"data\":{\"Count\":[2997,2881,1828],\"Coverage\":{\"__ndarray__\":\"AAAAAAAAWUAAAAAAAABZQAAAAAAAAFlA\",\"dtype\":\"float64\",\"shape\":[3]},\"Covered\":[true,true,true],\"index\":[0,1,2],\"response_datetime_interval\":{\"__ndarray__\":\"AABAOk1edkIAAACgn152QgAAwAXyXnZC\",\"dtype\":\"float64\",\"shape\":[3]}},\"selected\":{\"id\":\"1049\"},\"selection_policy\":{\"id\":\"1050\"}},\"id\":\"1034\",\"type\":\"ColumnDataSource\"},{\"attributes\":{\"source\":{\"id\":\"1034\"}},\"id\":\"1039\",\"type\":\"CDSView\"},{\"attributes\":{\"days\":[1,15]},\"id\":\"1057\",\"type\":\"DaysTicker\"},{\"attributes\":{\"data_source\":{\"id\":\"1034\"},\"glyph\":{\"id\":\"1036\"},\"hover_glyph\":null,\"muted_glyph\":null,\"nonselection_glyph\":{\"id\":\"1037\"},\"selection_glyph\":null,\"view\":{\"id\":\"1039\"}},\"id\":\"1038\",\"type\":\"GlyphRenderer\"},{\"attributes\":{\"line_alpha\":0.1,\"line_color\":\"#4fa8f6\",\"line_width\":1.5,\"x\":{\"field\":\"response_datetime_interval\"},\"y\":{\"field\":\"Coverage\"}},\"id\":\"1037\",\"type\":\"Line\"},{\"attributes\":{\"base\":24,\"mantissas\":[1,2,4,6,8,12],\"max_interval\":43200000.0,\"min_interval\":3600000.0,\"num_minor_ticks\":0},\"id\":\"1053\",\"type\":\"AdaptiveTicker\"},{\"attributes\":{\"align\":\"center\",\"text\":\"Coverage over time\",\"text_font_size\":{\"value\":\"12pt\"}},\"id\":\"1002\",\"type\":\"Title\"},{\"attributes\":{},\"id\":\"1020\",\"type\":\"PanTool\"},{\"attributes\":{\"days\":[1,8,15,22]},\"id\":\"1056\",\"type\":\"DaysTicker\"},{\"attributes\":{\"days\":[\"%Y-%m-%d %H:%M:%S\"],\"hourmin\":[\"%Y-%m-%d %H:%M:%S\"],\"hours\":[\"%Y-%m-%d %H:%M:%S\"],\"minsec\":[\"%Y-%m-%d %H:%M:%S\"],\"minutes\":[\"%Y-%m-%d %H:%M:%S\"],\"months\":[\"%Y-%m-%d %H:%M:%S\"],\"seconds\":[\"%Y-%m-%d %H:%M:%S\"],\"years\":[\"%Y-%m-%d %H:%M:%S\"]},\"id\":\"1040\",\"type\":\"DatetimeTickFormatter\"},{\"attributes\":{\"line_color\":\"#4fa8f6\",\"line_width\":1.5,\"x\":{\"field\":\"response_datetime_interval\"},\"y\":{\"field\":\"Coverage\"}},\"id\":\"1036\",\"type\":\"Line\"},{\"attributes\":{\"end\":100,\"start\":90.0},\"id\":\"1006\",\"type\":\"Range1d\"},{\"attributes\":{},\"id\":\"1024\",\"type\":\"ResetTool\"},{\"attributes\":{},\"id\":\"1062\",\"type\":\"YearsTicker\"},{\"attributes\":{},\"id\":\"1047\",\"type\":\"BasicTickFormatter\"},{\"attributes\":{\"callback\":null,\"formatters\":{\"@response_datetime_interval\":\"datetime\"},\"tooltips\":[[\"Datetime\",\"@response_datetime_interval{%Y-%m-%d %H:%M:%S}\"],[\"Count\",\"@Count\"],[\"Coverage\",\"@Coverage{0.00}%\"]]},\"id\":\"1042\",\"type\":\"HoverTool\"},{\"attributes\":{\"months\":[0,4,8]},\"id\":\"1060\",\"type\":\"MonthsTicker\"},{\"attributes\":{\"active_drag\":\"auto\",\"active_inspect\":\"auto\",\"active_multi\":null,\"active_scroll\":\"auto\",\"active_tap\":\"auto\",\"tools\":[{\"id\":\"1020\"},{\"id\":\"1021\"},{\"id\":\"1022\"},{\"id\":\"1023\"},{\"id\":\"1024\"},{\"id\":\"1025\"},{\"id\":\"1042\"}]},\"id\":\"1027\",\"type\":\"Toolbar\"},{\"attributes\":{\"bottom_units\":\"screen\",\"fill_alpha\":0.5,\"fill_color\":\"lightgrey\",\"left_units\":\"screen\",\"level\":\"overlay\",\"line_alpha\":1.0,\"line_color\":\"black\",\"line_dash\":[4,4],\"line_width\":2,\"render_mode\":\"css\",\"right_units\":\"screen\",\"top_units\":\"screen\"},\"id\":\"1026\",\"type\":\"BoxAnnotation\"},{\"attributes\":{\"days\":[1,4,7,10,13,16,19,22,25,28]},\"id\":\"1055\",\"type\":\"DaysTicker\"},{\"attributes\":{},\"id\":\"1049\",\"type\":\"Selection\"},{\"attributes\":{\"months\":[0,6]},\"id\":\"1061\",\"type\":\"MonthsTicker\"},{\"attributes\":{},\"id\":\"1021\",\"type\":\"WheelZoomTool\"},{\"attributes\":{\"months\":[0,1,2,3,4,5,6,7,8,9,10,11]},\"id\":\"1058\",\"type\":\"MonthsTicker\"},{\"attributes\":{},\"id\":\"1025\",\"type\":\"HelpTool\"},{\"attributes\":{\"months\":[0,2,4,6,8,10]},\"id\":\"1059\",\"type\":\"MonthsTicker\"},{\"attributes\":{},\"id\":\"1023\",\"type\":\"SaveTool\"},{\"attributes\":{},\"id\":\"1008\",\"type\":\"LinearScale\"},{\"attributes\":{\"mantissas\":[1,2,5],\"max_interval\":500.0,\"num_minor_ticks\":0},\"id\":\"1051\",\"type\":\"AdaptiveTicker\"},{\"attributes\":{\"days\":[1,2,3,4,5,6,7,8,9,10,11,12,13,14,15,16,17,18,19,20,21,22,23,24,25,26,27,28,29,30,31]},\"id\":\"1054\",\"type\":\"DaysTicker\"},{\"attributes\":{\"overlay\":{\"id\":\"1026\"}},\"id\":\"1022\",\"type\":\"BoxZoomTool\"},{\"attributes\":{\"end\":1537315200000.0,\"start\":1537142400000.0},\"id\":\"1004\",\"type\":\"Range1d\"},{\"attributes\":{\"axis\":{\"id\":\"1016\"},\"dimension\":1,\"ticker\":null},\"id\":\"1019\",\"type\":\"Grid\"}],\"root_ids\":[\"1001\"]},\"title\":\"Bokeh Application\",\"version\":\"2.0.2\"}};\n  var render_items = [{\"docid\":\"1890a12b-4bbb-4bba-90c8-a9d248e6e24b\",\"root_ids\":[\"1001\"],\"roots\":{\"1001\":\"4a7c6b68-6047-48a3-9b6f-aff43334953c\"}}];\n  root.Bokeh.embed.embed_items_notebook(docs_json, render_items);\n\n  }\n  if (root.Bokeh !== undefined) {\n    embed_document(root);\n  } else {\n    var attempts = 0;\n    var timer = setInterval(function(root) {\n      if (root.Bokeh !== undefined) {\n        clearInterval(timer);\n        embed_document(root);\n      } else {\n        attempts++;\n        if (attempts > 100) {\n          clearInterval(timer);\n          console.log(\"Bokeh: ERROR: Unable to run BokehJS code because BokehJS library is missing\");\n        }\n      }\n    }, 10, root)\n  }\n})(window);",
      "application/vnd.bokehjs_exec.v0+json": ""
     },
     "metadata": {
      "application/vnd.bokehjs_exec.v0+json": {
       "id": "1001"
      }
     },
     "output_type": "display_data"
    }
   ],
   "source": [
    "show_coverage_over_time(df_coverage, interval='day')"
   ]
  },
  {
   "cell_type": "markdown",
   "metadata": {},
   "source": [
    "<a id=\"conv_analysis\"></a>\n",
    "## 6. Analyze effectiveness\n",
    "\n",
    "Here, we take a deeper look at the effectiveness of your assistant."
   ]
  },
  {
   "cell_type": "code",
   "execution_count": 21,
   "metadata": {},
   "outputs": [],
   "source": [
    "# Get the escalated conversations\n",
    "df_effective_true = df_effective.loc[df_effective['Escalated_conversation']==True]\n",
    "\n",
    "# Get the non-escalated conversations\n",
    "df_not_effective = df_effective.loc[df_effective['Escalated_conversation']==False]\n",
    "\n",
    "# Calculate percentage of escalated conversations\n",
    "ef_escalated = float(\"{0:.2f}\".format(100-effective_perc))\n",
    "\n",
    "# Calculate coverage and non-coverage in escalated conversations\n",
    "if len(df_effective_true) > 0:\n",
    "    escalated_covered = float(\"{0:.2f}\".format((df_effective_true['Covered'].value_counts().to_frame()['Covered'][True]/df_effective_true['Covered'].value_counts().sum())*100))\n",
    "    escalated_not_covered = float(\"{0:.2f}\".format(100- escalated_covered))\n",
    "else:\n",
    "    escalated_covered = 0\n",
    "    escalated_not_covered = 0\n",
    "\n",
    "# Calculate coverage and non-coverage in non-escalated conversations\n",
    "if len(df_not_effective) > 0:\n",
    "    not_escalated_covered = float(\"{0:.2f}\".format((df_not_effective['Covered'].value_counts().to_frame()['Covered'][True]/df_not_effective['Covered'].value_counts().sum())*100))\n",
    "    not_escalated_not_covered = float(\"{0:.2f}\".format(100 - not_escalated_covered))\n",
    "else:\n",
    "    not_escalated_covered = 0\n",
    "    not_escalated_not_covered = 0\n",
    "\n",
    "# Calculate average confidence of escalated conversations\n",
    "if len(df_effective_true) > 0:\n",
    "    esc_avg_conf = float(\"{0:.2f}\".format(df_effective_true[df_effective_true['Covered']==True]['response.top_intent_confidence'].mean()*100))\n",
    "else:\n",
    "    esc_avg_conf = 0\n",
    "    \n",
    "# Calculate average confidence of non-escalated conversations\n",
    "if len(df_not_effective) > 0:\n",
    "    not_esc_avg_conf = float(\"{0:.2f}\".format(df_not_effective[df_not_effective['Covered']==True]['response.top_intent_confidence'].mean()*100))\n",
    "else:\n",
    "    not_esc_avg_conf = 0"
   ]
  },
  {
   "cell_type": "markdown",
   "metadata": {},
   "source": [
    "###  6.1 Generate excel file and save to your project<a id=\"conv_analysis1\"></a>"
   ]
  },
  {
   "cell_type": "code",
   "execution_count": 22,
   "metadata": {},
   "outputs": [],
   "source": [
    "# Set sampling size for conversations, set to -1 to disable sampling\n",
    "SAMPLE_SIZE = 100\n",
    "export_result_excel(df_effective, sample_size=SAMPLE_SIZE)"
   ]
  },
  {
   "cell_type": "markdown",
   "metadata": {},
   "source": [
    "###  6.2 Plot breakdown by effectiveness graph<a id=\"conv_analysis2\"></a>"
   ]
  },
  {
   "cell_type": "code",
   "execution_count": 23,
   "metadata": {},
   "outputs": [
    {
     "data": {
      "text/plain": "<IPython.core.display.HTML object>",
      "text/html": "<tr><th colspan=\"4\"><div align=\"left\"><h2>Breakdown by effectiveness<hr/></h2></div></th></tr><tr><th colspan=\"4\"><div align=\"left\"><a id=\"file_list\"></a>View the lists here: <a href=All.xlsx target=\"_blank\">All.xlsx</a>&nbsp;&nbsp;&nbsp;<a href=Escalated_sample.xlsx target=\"_blank\">Escalated_sample.xlsx</a>&nbsp;&nbsp;&nbsp;<a href=NotEscalated_sample.xlsx target=\"_blank\">NotEscalated_sample.xlsx</a></div></th></tr><tr><td style= \"border-right: 1px solid black; border-bottom: 1px solid black; width : 400px\"><div align=\"left\"><strong>Effectiveness (Escalated)&nbsp;</br><font size=\"5\">0.0%</strong></font size></br></div></td>    <td style=\"width:1000px; height=100;\"></td></tr><tr><td style= \"border-right: 1px solid black; border-bottom: 1px solid black; width : 400px;\"><div align=\"left\"><strong>Effectiveness (Not escalated)&nbsp;</br><font size=\"5\">100.0%</strong></font size></br></div></td>    <td style=\"width:1000px; height=100;border-bottom: 1px solid black;\"><img class=\"colimg\" src='data:image/png;base64,/9j/4AAQSkZJRgABAQEASABIAAD/2wBDAAIBAQEBAQIBAQECAgICAgQDAgICAgUEBAMEBgUGBgYFBgYGBwkIBgcJBwYGCAsICQoKCgoKBggLDAsKDAkKCgr/2wBDAQICAgICAgUDAwUKBwYHCgoKCgoKCgoKCgoKCgoKCgoKCgoKCgoKCgoKCgoKCgoKCgoKCgoKCgoKCgoKCgoKCgr/wAARCAFoBDgDASIAAhEBAxEB/8QAHwAAAQUBAQEBAQEAAAAAAAAAAAECAwQFBgcICQoL/8QAtRAAAgEDAwIEAwUFBAQAAAF9AQIDAAQRBRIhMUEGE1FhByJxFDKBkaEII0KxwRVS0fAkM2JyggkKFhcYGRolJicoKSo0NTY3ODk6Q0RFRkdISUpTVFVWV1hZWmNkZWZnaGlqc3R1dnd4eXqDhIWGh4iJipKTlJWWl5iZmqKjpKWmp6ipqrKztLW2t7i5usLDxMXGx8jJytLT1NXW19jZ2uHi4+Tl5ufo6erx8vP09fb3+Pn6/8QAHwEAAwEBAQEBAQEBAQAAAAAAAAECAwQFBgcICQoL/8QAtREAAgECBAQDBAcFBAQAAQJ3AAECAxEEBSExBhJBUQdhcRMiMoEIFEKRobHBCSMzUvAVYnLRChYkNOEl8RcYGRomJygpKjU2Nzg5OkNERUZHSElKU1RVVldYWVpjZGVmZ2hpanN0dXZ3eHl6goOEhYaHiImKkpOUlZaXmJmaoqOkpaanqKmqsrO0tba3uLm6wsPExcbHyMnK0tPU1dbX2Nna4uPk5ebn6Onq8vP09fb3+Pn6/9oADAMBAAIRAxEAPwD9/KKKKACiiigAooooAKKKKACiiigAooooAKKKKACiiigAooooAKKKKACiiigAooooAKKKKACiiigAooooAKKKKACiiigAooooAKKKKACiiigAooooAKKKKACiiigAooooAKKKKACiiigAooooAKKKKACiiigAooooAKKKKACiiigAooooAKKKKACiiigAooooAKKKKACiiigAooooAKKKKACiiigAooooAKKKKACiiigAooooAKKKKACiiigAooooAKKKKACiiigAooooAKKKKACiiigAooooAKKKKACiiigAooooAKKKKACiiigAooooAKKKKACiiigAooooAKKKKACiiigAooooAKKKKACiiigAooooAKKKKACiiigAooooAKKKKACiiigAooooAKKKKACiiigAooooAKKKKACiiigAooooAKKKKACiiigAooooAKKKKACiiigAooooAKKKKACiiigAooooAKKKKACiiigAooooAKKKKACiiigAooooAKKKKACiiigAooooAKKKKACiiigAooooAKKKKACiiigAooooAKKKKACiiigAooooAKKKKACiiigAooooAKKKKACiiigAooooAKKKKACiiigAooooAKKKKACiiigAooooAKKKKACiiigAooooAKKKKACiiigAooooAKKKKACiiigAooooAKKKKACiiigAooooAKKKKACiiigAooooAKKKKACiiigAooooAKKKKACiiigAooooAKKKKACiiigAooooAKKKKACiiigAor4P/wCCoX/JftI/7E+3/wDSq7r5vr9Oyfw5/tbK6OM+tcvtI3tyXtq1vzK+3Y+AzTjn+zcwq4X6vzcjtfmtfbpyvufsBRX4/wBFel/xCj/qM/8AKf8A9ucH/ERv+oX/AMn/APtT9gKK/H+ij/iFH/UZ/wCU/wD7cP8AiI3/AFC/+T//AGp+wFFfj/RR/wAQo/6jP/Kf/wBuH/ERv+oX/wAn/wDtT9gKK/H+ij/iFH/UZ/5T/wDtw/4iN/1C/wDk/wD9qfsBRX4/0Uf8Qo/6jP8Ayn/9uH/ERv8AqF/8n/8AtT9gKK/H+ij/AIhR/wBRn/lP/wC3D/iI3/UL/wCT/wD2p+wFFfj/AEUf8Qo/6jP/ACn/APbh/wARG/6hf/J//tT9gKK/H+ij/iFH/UZ/5T/+3D/iI3/UL/5P/wDan7AUV+P9FH/EKP8AqM/8p/8A24f8RG/6hf8Ayf8A+1P2Aor8f6KP+IUf9Rn/AJT/APtw/wCIjf8AUL/5P/8Aan7AUV+P9FH/ABCj/qM/8p//AG4f8RG/6hf/ACf/AO1P2Aor8f6KP+IUf9Rn/lP/AO3D/iI3/UL/AOT/AP2p+wFFfj/RR/xCj/qM/wDKf/24f8RG/wCoX/yf/wC1P2Aor8f6KP8AiFH/AFGf+U//ALcP+Ijf9Qv/AJP/APan7AUV+P8ARR/xCj/qM/8AKf8A9uH/ABEb/qF/8n/+1P2Aor8f6KP+IUf9Rn/lP/7cP+Ijf9Qv/k//ANqfsBRX4/0Uf8Qo/wCoz/yn/wDbh/xEb/qF/wDJ/wD7U/YCivx/oo/4hR/1Gf8AlP8A+3D/AIiN/wBQv/k//wBqfsBRX4/0Uf8AEKP+oz/yn/8Abh/xEb/qF/8AJ/8A7U/YCivx/oo/4hR/1Gf+U/8A7cP+Ijf9Qv8A5P8A/an7AUV+P9FH/EKP+oz/AMp//bh/xEb/AKhf/J//ALU/YCivx/oo/wCIUf8AUZ/5T/8Atw/4iN/1C/8Ak/8A9qfsBRX4/wBFH/EKP+oz/wAp/wD24f8AERv+oX/yf/7U/YCivx/oo/4hR/1Gf+U//tw/4iN/1C/+T/8A2p+wFFfj/RR/xCj/AKjP/Kf/ANuH/ERv+oX/AMn/APtT9gKK/H+ij/iFH/UZ/wCU/wD7cP8AiI3/AFC/+T//AGp+wFFfj/RR/wAQo/6jP/Kf/wBuH/ERv+oX/wAn/wDtT9gKK/H+ij/iFH/UZ/5T/wDtw/4iN/1C/wDk/wD9qfsBRX4/0Uf8Qo/6jP8Ayn/9uH/ERv8AqF/8n/8AtT9gKK/H+ij/AIhR/wBRn/lP/wC3D/iI3/UL/wCT/wD2p+wFFfj/AEUf8Qo/6jP/ACn/APbh/wARG/6hf/J//tT9gKK/H+ij/iFH/UZ/5T/+3D/iI3/UL/5P/wDan7AUV+P9FH/EKP8AqM/8p/8A24f8RG/6hf8Ayf8A+1P2Aor8f6KP+IUf9Rn/AJT/APtw/wCIjf8AUL/5P/8Aan7AUV+P9FH/ABCj/qM/8p//AG4f8RG/6hf/ACf/AO1P2Aor8f6KP+IUf9Rn/lP/AO3D/iI3/UL/AOT/AP2p+wFFfj/RR/xCj/qM/wDKf/24f8RG/wCoX/yf/wC1P2Aor8f6KP8AiFH/AFGf+U//ALcP+Ijf9Qv/AJP/APan7AUV+P8ARR/xCj/qM/8AKf8A9uH/ABEb/qF/8n/+1P2Aor8f6KP+IUf9Rn/lP/7cP+Ijf9Qv/k//ANqfsBRX4/0Uf8Qo/wCoz/yn/wDbh/xEb/qF/wDJ/wD7U/YCivx/oo/4hR/1Gf8AlP8A+3D/AIiN/wBQv/k//wBqfsBRX4/0Uf8AEKP+oz/yn/8Abh/xEb/qF/8AJ/8A7U/YCivx/oo/4hR/1Gf+U/8A7cP+Ijf9Qv8A5P8A/an7AUV+P9FH/EKP+oz/AMp//bh/xEb/AKhf/J//ALU/YCivx/oo/wCIUf8AUZ/5T/8Atw/4iN/1C/8Ak/8A9qfsBRX4/wBFH/EKP+oz/wAp/wD24f8AERv+oX/yf/7U/YCivx/oo/4hR/1Gf+U//tw/4iN/1C/+T/8A2p+wFFfj/RR/xCj/AKjP/Kf/ANuH/ERv+oX/AMn/APtT9gKK/H+ij/iFH/UZ/wCU/wD7cP8AiI3/AFC/+T//AGp+wFFfj/RR/wAQo/6jP/Kf/wBuH/ERv+oX/wAn/wDtT9gKK/H+ij/iFH/UZ/5T/wDtw/4iN/1C/wDk/wD9qfsBRXj/AOwT/wAmneFP+37/ANL7ivYK/K8xwn1DH1cNe/JKUb7X5W1e3S5+iYLE/XMFTxFrc8VK29rq9gooorjOoKKKKACiiigAooooAKKKKACiiigAooooAKKKKACiiigAooooAKKKKACiiigAooooAKKKKAPg/wD4Khf8l+0j/sT7f/0qu6+b6+kP+CoX/JftI/7E+3/9Kruvm+v6c4P/AOSXwn+BfnI/AOJ/+ShxP+N/lEKKKK+kPCCiiigAooooAKKKKACiiigAooooAKKKKACiiigAooooAKKKKACiiigAooooAKKKKACiiigAooooAKKKKACiiigAooooAKKKKACiiigAooooAKKKKACiiigAooooAKKKKACiiigAooooAKKKKACiiigAooooAKKKKACiiigAooooAKKKKACiiigAooooAKKKKACiiigAooooAKKKKACiiigAooooAKKKKACiiigAooooAKKKKACiiigAooooAKKKKACiiigAooooAKKKKAP0g/YJ/wCTTvCn/b9/6X3FewV4/wDsE/8AJp3hT/t+/wDS+4r2Cv5X4h/5H+L/AOvk/wD0pn9EZJ/yJsN/17h/6Sgooorxz1AooooAKKKKACiiigAooooAKKKKACiiigAooooAKKKKACiiigAooooAKKKKACiiigAooooA+D/+CoX/ACX7SP8AsT7f/wBKruvm+vpD/gqF/wAl+0j/ALE+3/8ASq7r5vr+nOD/APkl8J/gX5yPwDif/kocT/jf5RCiiivpDwgooooAKKKKACiiigAooooAKKKKACiiigAooooAKKKKACiiigAooooAKKKKACiiigAooooAKKKKACiiigAooooAKKKKACiiigAooooAKKKKACiiigAooooAKKKKACiiigAooooAKKKKACiiigAooooAKKKKACiiigAooooAKKKKACiiigAooooAKKKKACiiigAooooAKKKKACiiigAooooAKKKKACiiigAooooAKKKKACiiigAooooAKKKKACiiigAooooAKKKKACiiigD9IP2Cf+TTvCn/AG/f+l9xXsFeP/sE/wDJp3hT/t+/9L7ivYK/lfiH/kf4v/r5P/0pn9EZJ/yJsN/17h/6Sgooorxz1AooooAKKKKACiiigAooooAKKKKACiiigAooooAKKKKACiiigAooooAKKKKACiiigAooooA+D/8AgqF/yX7SP+xPt/8A0qu6+b6+kP8AgqF/yX7SP+xPt/8A0qu6+b6/pzg//kl8J/gX5yPwDif/AJKHE/43+UQooor6Q8IKKKKACiiigAooooAKKKKACiiigAooooAKKKKACiiigAooooAKKKKACiiigAooooAKKKKACiiigAooooAKKKKACiiigAooooAKKKKACiiigAooooAKKKKACiiigAooooAKKKKACiiigAooooAKKKKACiiigAooooAKKKKACiiigAooooAKKKKACiiigAooooAKKKKACiiigAooooAKKKKACiiigAooooAKKKKACiiigAooooAKKKKACiiigAooooAKKKKACiiigAooooA/SD9gn/k07wp/2/f+l9xXsFeP/sE/8mneFP8At+/9L7ivYK/lfiH/AJH+L/6+T/8ASmf0Rkn/ACJsN/17h/6Sgooorxz1AooooAKKKKACiiigAooooAKKKKACiiigAooooAKKKKACiiigAooooAKKKKACiiigAooooA+D/wDgqF/yX7SP+xPt/wD0qu6+b6+kP+CoX/JftI/7E+3/APSq7r5vr+nOD/8Akl8J/gX5yPwDif8A5KHE/wCN/lEKKKK+kPCCiiigAooooAKKKKACiiigAooooAKKKKACiiigAooooAKKKKACiiigAooooAKKKKACiiigAooooAKKKKACiiigAooooAKKKKACiiigAooooAKKKKACiiigAooooAKKKKACiiigAooooAKKKKACiiigAooooAKKKKACiiigAooooAKKKKACiiigAooooAKKKKACiiigAooooAKKKKACiiigAooooAKKKKACiiigAooooAKKKKACiiigAooooAKKKKACiiigAooooAKKKKAP0g/YJ/5NO8Kf9v3/AKX3FewV4/8AsE/8mneFP+37/wBL7ivYK/lfiH/kf4v/AK+T/wDSmf0Rkn/Imw3/AF7h/wCkoKKKK8c9QKKKKACiiigAooooAKKKKACiiigAooooAKKKKACiiigAooooAKKKKACiiigAooooAKKKKAPg/wD4Khf8l+0j/sT7f/0qu6+b6+kP+CoX/JftI/7E+3/9Kruvm+v6c4P/AOSXwn+BfnI/AOJ/+ShxP+N/lEKKKK+kPCCiiigAooooAKKKKACiiigAooooAKKKKACiiigAooooAKKKKACiiigAooooAKKKKACiiigAooooAKKKKACiiigAooooAKKKKACiiigAooooAKKKKACiiigAooooAKKKKACiiigAooooAKKKKACiiigAooooAKKKKACiiigAooooAKKKKACiiigAooooAKKKKACiiigAooooAKKKKACiiigAooooAKKKKACiiigAooooAKKKKACiiigAooooAKKKKACiiigAooooAKKKKAP0g/YJ/wCTTvCn/b9/6X3FewV4/wDsE/8AJp3hT/t+/wDS+4r2Cv5X4h/5H+L/AOvk/wD0pn9EZJ/yJsN/17h/6Sgooorxz1AooooAKKKKACiiigAooooAKKKKACiiigAooooAKKKKACiiigAooooAKKKKACiiigAooooA+D/+CoX/ACX7SP8AsT7f/wBKruvm+vpD/gqF/wAl+0j/ALE+3/8ASq7r5vr+nOD/APkl8J/gX5yPwDif/kocT/jf5RCiiivpDwgooooAKKKKACiiigAooooAKKKKACiiigAooooAKKKKACiiigAooooAKKKKACiiigAooooAKKKKACiiigAooooAKKKKACiiigAooooAKKKKACiiigAooooAKKKKACiiigAooooAKKKKACiiigAooooAKKKKACiiigAooooAKKKKACiiigAooooAKKKKACiiigAooooAKKKKACiiigAooooAKKKKACiiigAooooAKKKKACiiigAooooAKKKKACiiigAooooAKKKKACiiigD9IP2Cf+TTvCn/AG/f+l9xXsFeP/sE/wDJp3hT/t+/9L7ivYK/lfiH/kf4v/r5P/0pn9EZJ/yJsN/17h/6Sgooorxz1AooooAKKKKACiiigAooooAKKKKACiiigAooooAKKKKACiiigAooooAKKKKACiiigAooooA+D/8AgqF/yX7SP+xPt/8A0qu6+b6+kP8AgqF/yX7SP+xPt/8A0qu6+b6/pzg//kl8J/gX5yPwDif/AJKHE/43+UQooor6Q8IKKKKACiiigAooooAKKKKACiiigAooooAKKKKACiiigAooooAKKKKACiiigAooooAKKKKACiiigAooooAKKKKACiiigAooooAKKKKACiiigAooooAKKKKACiiigAooooAKKKKACiiigAooooAKKKKACiiigAooooAKKKKACiiigAooooAKKKKACiiigAooooAKKKKACiiigAooooAKKKKACiiigAooooAKKKKACiiigAooooAKKKKACiiigAooooAKKKKACiiigAooooA/SD9gn/k07wp/2/f+l9xXsFeP/sE/8mneFP8At+/9L7ivYK/lfiH/AJH+L/6+T/8ASmf0Rkn/ACJsN/17h/6Sgooorxz1AooooAKKKKACiiigAooooAKKKKACiiigAooooAKKKKACiiigAooooAKKKKACiiigAooooA+D/wDgqF/yX7SP+xPt/wD0qu6+b6+kP+CoX/JftI/7E+3/APSq7r5vr+nOD/8Akl8J/gX5yPwDif8A5KHE/wCN/lEKKKK+kPCCiiigAooooAKKKKACiiigAooooAKKKKACiiigAooooAKKKKACiiigAooooAKKKKACiiigAooooAKKKKACiiigAooooAKKKKACiiigAooooAKKKKACiiigAooooAKKKKACiiigAooooAKKKKACiiigAooooAKKKKACiiigAooooAKKKKACiiigAooooAKKKKACiiigAooooAKKKKACiiigAooooAKKKKACiiigAooooAKKKKACiiigAooooAKKKKACiiigAooooAKKKKAP0g/YJ/5NO8Kf9v3/AKX3FewV4/8AsE/8mneFP+37/wBL7ivYK/lfiH/kf4v/AK+T/wDSmf0Rkn/Imw3/AF7h/wCkoKKKK8c9QKKKKACiiigAooooAKKKKACiiigAooooAKKKKACiiigAooooAKKKKACiiigAooooAKKKKAPg/wD4Khf8l+0j/sT7f/0qu6+b6+kP+CoX/JftI/7E+3/9Kruvm+v6c4P/AOSXwn+BfnI/AOJ/+ShxP+N/lEKKKK+kPCCiiigAooooAKKKKACiiigAooooAKKKKACiiigAooooAKKKKACiiigAooooAKKKKACiiigAooooAKKKKACiiigAooooAKKKKACiiigAooooAKKKKACiiigAooooAKKKKACiiigAooooAKKKKACiiigAooooAKKKKACiiigAooooAKKKKACiiigAooooAKKKKACiiigAooooAKKKKACiiigAooooAKKKKACiiigAooooAKKKKACiiigAooooAKKKKACiiigAooooAKKKKAP0g/YJ/wCTTvCn/b9/6X3FewV4/wDsE/8AJp3hT/t+/wDS+4r2Cv5X4h/5H+L/AOvk/wD0pn9EZJ/yJsN/17h/6Sgooorxz1AooooAKKKKACiiigAooooAKKKKACiiigAooooAKKKKACiiigAooooAKKKKACiiigAooooA+D/+CoX/ACX7SP8AsT7f/wBKruvm+vpD/gqF/wAl+0j/ALE+3/8ASq7r5vr+nOD/APkl8J/gX5yPwDif/kocT/jf5RCiiivpDwgooooAKKKKACiiigAooooAKKKKACiiigAooooAKKKKACiiigAooooAKKKKACiiigAooooAKKKKACiiigAooooAKKKKACiiigAooooAKKKKACiiigAooooAKKKKACiiigAooooAKKKKACiiigAooooAKKKKACiiigAooooAKKKKACiiigAooooAKKKKACiiigAooooAKKKKACiiigAooooAKKKKACiiigAooooAKKKKACiiigAooooAKKKKACiiigAooooAKKKKACiiigD9IP2Cf+TTvCn/AG/f+l9xXsFeP/sE/wDJp3hT/t+/9L7ivYK/lfiH/kf4v/r5P/0pn9EZJ/yJsN/17h/6Sgooorxz1AooooAKKKKACiiigAooooAKKKKACiiigAooooAKKKKACiiigAooooAKKKKACiiigAooooA+D/8AgqF/yX7SP+xPt/8A0qu6+b6+kP8AgqF/yX7SP+xPt/8A0qu6+b6/pzg//kl8J/gX5yPwDif/AJKHE/43+UQooor6Q8IKKKKACiiigAooooAKKKKACiiigAooooAKKKKACiiigAooooAKKKKACiiigAooooAKKKKACiiigAooooAKKKKACiiigAooooAKKKKACiiigAooooAKKKKACiiigAooooAKKKKACiiigAooooAKKKKACiiigAooooAKKKKACiiigAooooAKKKKACiiigAooooAKKKKACiiigAooooAKKKKACiiigAooooAKKKKACiiigAooooAKKKKACiiigAooooAKKKKACiiigAooooA/SD9gn/k07wp/2/f+l9xXsFeP/sE/8mneFP8At+/9L7ivYK/lfiH/AJH+L/6+T/8ASmf0Rkn/ACJsN/17h/6Sgooorxz1AooooAKKKKACiiigAooooAKKKKACiiigAooooAKKKKACiiigAooooAKKKKACiiigAooooA+D/wDgqF/yX7SP+xPt/wD0qu6+b6+kP+CoX/JftI/7E+3/APSq7r5vr+nOD/8Akl8J/gX5yPwDif8A5KHE/wCN/lEKKKK+kPCCiiigAooooAKKKKACiiigAooooAKKKKACiiigAooooAKKKKACiiigAooooAKKKKACiiigAooooAKKKKACiiigAooooAKKKKACiiigAooooAKKKKACiiigAooooAKKKKACiiigAooooAKKKKACiiigAooooAKKKKACiiigAooooAKKKKACiiigAooooAKKKKACiiigAooooAKKKKACiiigAooooAKKKKACiiigAooooAKKKKACiiigAooooAKKKKACiiigAooooAKKKKAP0g/YJ/5NO8Kf9v3/AKX3FewV4/8AsE/8mneFP+37/wBL7ivYK/lfiH/kf4v/AK+T/wDSmf0Rkn/Imw3/AF7h/wCkoKKKK8c9QKKKKACiiigAooooAKKKKACiiigAooooAKKKKACiiigAooooAKKKKACiiigAooooAKKKKAPg/wD4Khf8l+0j/sT7f/0qu6+b6+kP+CoX/JftI/7E+3/9Kruvm+v6c4P/AOSXwn+BfnI/AOJ/+ShxP+N/lEKKKK+kPCCiiigAooooAKKKKACiiigAooooAKKKKACiiigAooooAKKKKACiiigAooooAKKKKACiiigAooooAKKKKACiiigAooooAKKKKACiiigAooooAKKKKACiiigAooooAKKKKACiiigAooooAKKKKACiiigAooooAKKKKACiiigAooooAKKKKACiiigAooooAKKKKACiiigAooooAKKKKACiiigAooooAKKKKACiiigAooooAKKKKACiiigAooooAKKKKACiiigAooooAKKKKAP0g/YJ/wCTTvCn/b9/6X3FewV4/wDsE/8AJp3hT/t+/wDS+4r2Cv5X4h/5H+L/AOvk/wD0pn9EZJ/yJsN/17h/6Sgooorxz1AooooAKKKKACiiigAooooAKKKKACiiigAooooAKKKKACiiigAooooAKKKKACiiigAooooA+D/+CoX/ACX7SP8AsT7f/wBKruvm+vpD/gqF/wAl+0j/ALE+3/8ASq7r5vr+nOD/APkl8J/gX5yPwDif/kocT/jf5RCiiivpDwgooooAKKKKACiiigAooooAKKKKACiiigAooooAKKKKACiiigAooooAKKKKACiiigAooooAKKKKACiiigAooooAKKKKACiiigAooooAKKKKACiiigAooooAKKKKACiiigAooooAKKKKACiiigAooooAKKKKACiiigAooooAKKKKACiiigAooooAKKKKACiiigAooooAKKKKACiiigAooooAKKKKACiiigAooooAKKKKACiiigAooooAKKKKACiiigAooooAKKKKACiiigD9IP2Cf+TTvCn/AG/f+l9xXsFeP/sE/wDJp3hT/t+/9L7ivYK/lfiH/kf4v/r5P/0pn9EZJ/yJsN/17h/6Sgooorxz1AooooAKKKKACiiigAooooAKKKKACiiigAooooAKKKKACiiigAooooAKKKKACiiigAooooA+D/8AgqF/yX7SP+xPt/8A0qu6+b6+kP8AgqF/yX7SP+xPt/8A0qu6+b6/pzg//kl8J/gX5yPwDif/AJKHE/43+UQooor6Q8IKKKKACiiigAooooAKKKKACiiigAooooAKKKKACiiigAooooAKKKKACiiigAooooAKKKKACiiigAooooAKKKKACiiigAooooAKKKKACiiigAooooAKKKKACiiigAooooAKKKKACiiigAooooAKKKKACiiigAooooAKKKKACiiigAooooAKKKKACiiigAooooAKKKKACiiigAooooAKKKKACiiigAooooAKKKKACiiigAooooAKKKKACiiigAooooAKKKKACiiigAooooA/SD9gn/k07wp/2/f+l9xXsFeP/sE/8mneFP8At+/9L7ivYK/lfiH/AJH+L/6+T/8ASmf0Rkn/ACJsN/17h/6Sgooorxz1AooooAKKKKACiiigAooooAKKKKACiiigAooooAKKKKACiiigAooooAKKKKACiiigAooooA+D/wDgqF/yX7SP+xPt/wD0qu6+b6+kP+CoX/JftI/7E+3/APSq7r5vr+nOD/8Akl8J/gX5yPwDif8A5KHE/wCN/lEKKKK+kPCCiiigAooooAKKKKACiiigAooooAKKKKACiiigAooooAKKKKACiiigAooooAKKKKACiiigAooooAKKKKACiiigAooooAKKKKACiiigAooooAKKKKACiiigAooooAKKKKACiiigAooooAKKKKACiiigAooooAKKKKACiiigAooooAKKKKACiiigAooooAKKKKACiiigAooooAKKKKACiiigAooooAKKKKACiiigAooooAKKKKACiiigAooooAKKKKACiiigAooooAKKKKAP0g/YJ/5NO8Kf9v3/AKX3FewV4/8AsE/8mneFP+37/wBL7ivYK/lfiH/kf4v/AK+T/wDSmf0Rkn/Imw3/AF7h/wCkoKKKK8c9QKKKKACiiigAooooAKKKKACiiigAooooAKKKKACiiigAooooAKKKKACiiigAooooAKKKKAPg/wD4Khf8l+0j/sT7f/0qu6+b6+kP+CoX/JftI/7E+3/9Kruvm+v6c4P/AOSXwn+BfnI/AOJ/+ShxP+N/lEKKKK+kPCCiiigAooooAKKKKACiiigAooooAKKKKACiiigAooooAKKKKACiiigAooooAKKKKACiiigAooooAKKKKACiiigAooooAKKKKACiiigAooooAKKKKACiiigAooooAKKKKACiiigAooooAKKKKACiiigAooooAKKKKACiiigAooooAKKKKACiiigAooooAKKKKACiiigAooooAKKKKACiiigAooooAKKKKACiiigAooooAKKKKACiiigAooooAKKKKACiiigAooooAKKKKAP0g/YJ/wCTTvCn/b9/6X3FewV4/wDsE/8AJp3hT/t+/wDS+4r2Cv5X4h/5H+L/AOvk/wD0pn9EZJ/yJsN/17h/6Sgooorxz1AooooAKKKKACiiigAooooAKKKKACiiigAooooAKKKKACiiigAooooAKKKKACiiigAooooA+D/+CoX/ACX7SP8AsT7f/wBKruvm+v1i8UfCz4Y+ONQTVvGvw40HWLqOEQx3OqaPBcSLGCWCBpFJCgsxx0yx9azf+GevgF/0Q7wf/wCEza//ABuv1jJPEXA5VlFHBzw85OnGzalFJ6t9dep+cZtwPi8xzKrio1opTd7NSutF29D8r6K/VD/hnr4Bf9EO8H/+Eza//G6P+GevgF/0Q7wf/wCEza//ABuvU/4irl3/AECz/wDAof5Hnf8AEOsd/wBBEP8AwGR+V9Ffqh/wz18Av+iHeD//AAmbX/43R/wz18Av+iHeD/8AwmbX/wCN0f8AEVcu/wCgWf8A4FD/ACD/AIh1jv8AoIh/4DI/K+iv1Q/4Z6+AX/RDvB//AITNr/8AG6P+GevgF/0Q7wf/AOEza/8Axuj/AIirl3/QLP8A8Ch/kH/EOsd/0EQ/8BkflfRX6of8M9fAL/oh3g//AMJm1/8AjdH/AAz18Av+iHeD/wDwmbX/AON0f8RVy7/oFn/4FD/IP+IdY7/oIh/4DI/K+iv1Q/4Z6+AX/RDvB/8A4TNr/wDG6P8Ahnr4Bf8ARDvB/wD4TNr/APG6P+Iq5d/0Cz/8Ch/kH/EOsd/0EQ/8BkflfRX6of8ADPXwC/6Id4P/APCZtf8A43R/wz18Av8Aoh3g/wD8Jm1/+N0f8RVy7/oFn/4FD/IP+IdY7/oIh/4DI/K+iv1Q/wCGevgF/wBEO8H/APhM2v8A8bo/4Z6+AX/RDvB//hM2v/xuj/iKuXf9As//AAKH+Qf8Q6x3/QRD/wABkflfRX6of8M9fAL/AKId4P8A/CZtf/jdH/DPXwC/6Id4P/8ACZtf/jdH/EVcu/6BZ/8AgUP8g/4h1jv+giH/AIDI/K+iv1Q/4Z6+AX/RDvB//hM2v/xuj/hnr4Bf9EO8H/8AhM2v/wAbo/4irl3/AECz/wDAof5B/wAQ6x3/AEEQ/wDAZH5X0V+qH/DPXwC/6Id4P/8ACZtf/jdH/DPXwC/6Id4P/wDCZtf/AI3R/wARVy7/AKBZ/wDgUP8AIP8AiHWO/wCgiH/gMj8r6K/VD/hnr4Bf9EO8H/8AhM2v/wAbo/4Z6+AX/RDvB/8A4TNr/wDG6P8AiKuXf9As/wDwKH+Qf8Q6x3/QRD/wGR+V9Ffqh/wz18Av+iHeD/8AwmbX/wCN0f8ADPXwC/6Id4P/APCZtf8A43R/xFXLv+gWf/gUP8g/4h1jv+giH/gMj8r6K/VD/hnr4Bf9EO8H/wDhM2v/AMbo/wCGevgF/wBEO8H/APhM2v8A8bo/4irl3/QLP/wKH+Qf8Q6x3/QRD/wGR+V9Ffqh/wAM9fAL/oh3g/8A8Jm1/wDjdH/DPXwC/wCiHeD/APwmbX/43R/xFXLv+gWf/gUP8g/4h1jv+giH/gMj8r6K/VD/AIZ6+AX/AEQ7wf8A+Eza/wDxuj/hnr4Bf9EO8H/+Eza//G6P+Iq5d/0Cz/8AAof5B/xDrHf9BEP/AAGR+V9Ffqh/wz18Av8Aoh3g/wD8Jm1/+N0f8M9fAL/oh3g//wAJm1/+N0f8RVy7/oFn/wCBQ/yD/iHWO/6CIf8AgMj8r6K/VD/hnr4Bf9EO8H/+Eza//G6P+GevgF/0Q7wf/wCEza//ABuj/iKuXf8AQLP/AMCh/kH/ABDrHf8AQRD/AMBkflfRX6of8M9fAL/oh3g//wAJm1/+N0f8M9fAL/oh3g//AMJm1/8AjdH/ABFXLv8AoFn/AOBQ/wAg/wCIdY7/AKCIf+AyPyvor9UP+GevgF/0Q7wf/wCEza//ABuj/hnr4Bf9EO8H/wDhM2v/AMbo/wCIq5d/0Cz/APAof5B/xDrHf9BEP/AZH5X0V+qH/DPXwC/6Id4P/wDCZtf/AI3R/wAM9fAL/oh3g/8A8Jm1/wDjdH/EVcu/6BZ/+BQ/yD/iHWO/6CIf+AyPyvor9UP+GevgF/0Q7wf/AOEza/8Axuj/AIZ6+AX/AEQ7wf8A+Eza/wDxuj/iKuXf9As//Aof5B/xDrHf9BEP/AZH5X0V+qH/AAz18Av+iHeD/wDwmbX/AON0f8M9fAL/AKId4P8A/CZtf/jdH/EVcu/6BZ/+BQ/yD/iHWO/6CIf+AyPyvor9UP8Ahnr4Bf8ARDvB/wD4TNr/APG6P+GevgF/0Q7wf/4TNr/8bo/4irl3/QLP/wACh/kH/EOsd/0EQ/8AAZH5X0V+qH/DPXwC/wCiHeD/APwmbX/43R/wz18Av+iHeD//AAmbX/43R/xFXLv+gWf/AIFD/IP+IdY7/oIh/wCAyPyvor9UP+GevgF/0Q7wf/4TNr/8bo/4Z6+AX/RDvB//AITNr/8AG6P+Iq5d/wBAs/8AwKH+Qf8AEOsd/wBBEP8AwGR+V9Ffqh/wz18Av+iHeD//AAmbX/43R/wz18Av+iHeD/8AwmbX/wCN0f8AEVcu/wCgWf8A4FD/ACD/AIh1jv8AoIh/4DI/K+iv1Q/4Z6+AX/RDvB//AITNr/8AG6P+GevgF/0Q7wf/AOEza/8Axuj/AIirl3/QLP8A8Ch/kH/EOsd/0EQ/8BkflfRX6of8M9fAL/oh3g//AMJm1/8AjdH/AAz18Av+iHeD/wDwmbX/AON0f8RVy7/oFn/4FD/IP+IdY7/oIh/4DI/K+iv1Q/4Z6+AX/RDvB/8A4TNr/wDG6P8Ahnr4Bf8ARDvB/wD4TNr/APG6P+Iq5d/0Cz/8Ch/kH/EOsd/0EQ/8BkflfRX6of8ADPXwC/6Id4P/APCZtf8A43R/wz18Av8Aoh3g/wD8Jm1/+N0f8RVy7/oFn/4FD/IP+IdY7/oIh/4DI/K+iv1Q/wCGevgF/wBEO8H/APhM2v8A8bo/4Z6+AX/RDvB//hM2v/xuj/iKuXf9As//AAKH+Qf8Q6x3/QRD/wABkflfRX6of8M9fAL/AKId4P8A/CZtf/jdH/DPXwC/6Id4P/8ACZtf/jdH/EVcu/6BZ/8AgUP8g/4h1jv+giH/AIDI/K+iv1Q/4Z6+AX/RDvB//hM2v/xuj/hnr4Bf9EO8H/8AhM2v/wAbo/4irl3/AECz/wDAof5B/wAQ6x3/AEEQ/wDAZH5X0V+qH/DPXwC/6Id4P/8ACZtf/jdH/DPXwC/6Id4P/wDCZtf/AI3R/wARVy7/AKBZ/wDgUP8AIP8AiHWO/wCgiH/gMj8r6K/VD/hnr4Bf9EO8H/8AhM2v/wAbo/4Z6+AX/RDvB/8A4TNr/wDG6P8AiKuXf9As/wDwKH+Qf8Q6x3/QRD/wGR+V9Ffqh/wz18Av+iHeD/8AwmbX/wCN0f8ADPXwC/6Id4P/APCZtf8A43R/xFXLv+gWf/gUP8g/4h1jv+giH/gMj8r6K/VD/hnr4Bf9EO8H/wDhM2v/AMbo/wCGevgF/wBEO8H/APhM2v8A8bo/4irl3/QLP/wKH+Qf8Q6x3/QRD/wGR+V9Ffqh/wAM9fAL/oh3g/8A8Jm1/wDjdH/DPXwC/wCiHeD/APwmbX/43R/xFXLv+gWf/gUP8g/4h1jv+giH/gMj8r6K/VD/AIZ6+AX/AEQ7wf8A+Eza/wDxuj/hnr4Bf9EO8H/+Eza//G6P+Iq5d/0Cz/8AAof5B/xDrHf9BEP/AAGR+V9Ffqh/wz18Av8Aoh3g/wD8Jm1/+N0f8M9fAL/oh3g//wAJm1/+N0f8RVy7/oFn/wCBQ/yD/iHWO/6CIf8AgMj8r6K/VD/hnr4Bf9EO8H/+Eza//G6P+GevgF/0Q7wf/wCEza//ABuj/iKuXf8AQLP/AMCh/kH/ABDrHf8AQRD/AMBkflfRX6of8M9fAL/oh3g//wAJm1/+N0f8M9fAL/oh3g//AMJm1/8AjdH/ABFXLv8AoFn/AOBQ/wAg/wCIdY7/AKCIf+AyPyvor9UP+GevgF/0Q7wf/wCEza//ABuj/hnr4Bf9EO8H/wDhM2v/AMbo/wCIq5d/0Cz/APAof5B/xDrHf9BEP/AZH5X0V+qH/DPXwC/6Id4P/wDCZtf/AI3R/wAM9fAL/oh3g/8A8Jm1/wDjdH/EVcu/6BZ/+BQ/yD/iHWO/6CIf+AyPyvor9UP+GevgF/0Q7wf/AOEza/8Axuj/AIZ6+AX/AEQ7wf8A+Eza/wDxuj/iKuXf9As//Aof5B/xDrHf9BEP/AZH5X0V+qH/AAz18Av+iHeD/wDwmbX/AON0f8M9fAL/AKId4P8A/CZtf/jdH/EVcu/6BZ/+BQ/yD/iHWO/6CIf+AyPyvor9UP8Ahnr4Bf8ARDvB/wD4TNr/APG6P+GevgF/0Q7wf/4TNr/8bo/4irl3/QLP/wACh/kH/EOsd/0EQ/8AAZH5X0V+qH/DPXwC/wCiHeD/APwmbX/43R/wz18Av+iHeD//AAmbX/43R/xFXLv+gWf/AIFD/IP+IdY7/oIh/wCAyPyvor9UP+GevgF/0Q7wf/4TNr/8bo/4Z6+AX/RDvB//AITNr/8AG6P+Iq5d/wBAs/8AwKH+Qf8AEOsd/wBBEP8AwGR+V9Ffqh/wz18Av+iHeD//AAmbX/43R/wz18Av+iHeD/8AwmbX/wCN0f8AEVcu/wCgWf8A4FD/ACD/AIh1jv8AoIh/4DI/K+iv1Q/4Z6+AX/RDvB//AITNr/8AG6P+GevgF/0Q7wf/AOEza/8Axuj/AIirl3/QLP8A8Ch/kH/EOsd/0EQ/8BkflfRX6of8M9fAL/oh3g//AMJm1/8AjdH/AAz18Av+iHeD/wDwmbX/AON0f8RVy7/oFn/4FD/IP+IdY7/oIh/4DI4/9gn/AJNO8Kf9v3/pfcV7BVPQPD2geFNJi0Dwvodnpthb7vIsrC2SGGPcxZtqIAoyxJOByST3q5X5DmeLjj8xrYmKspzlKz3V23Y/TcBhpYPA0qEndwjGN+9lYKKKK4TrCiiigAooooAKKKKACvlL9tDxL48+I37bfwQ/Yph+KXiLwV4M8a+HPFXiPxPqHhPWJdM1LXpdK/s5INJgvoSs9qpF9LcymB0mZLZVV1Xfn6trhPj3+zR8Ev2m/D9h4c+NXgkaomkaiuoaHf2mo3Nhf6TeKrILmzvbSSK5tJdjuvmQyIxVmUnBIoA8Z+M+o+L/ANhzQfBHwk/Zz8Wa1ruufGH4pW3hjw1dfF7xZqfiOy8NN/Zl9f3Fy0tzcG+uk+z6bNstmuwXmkQK8alq49P+Cg37Q3w61TVPD/xn8P8Agy7X4YfH7RvAfxc8ReH9Ou7ezn0nW9MtJtN1ezjluZWsXju9U02O5gme4VIxO4kAKsPa5P2AP2V7v4a3vwr1rwRrOrWF/rNtq8+qa7461m/1ldQtsfZ7uPVrm7e/hmiAxHJHOrRgsFIDHN/TP2IP2XtK/Z/8UfswRfDI3Hg3xuLw+MLTUNbvrq91qW6QJPc3OoTTteTXLKqAXLTGZfLj2uuxMAHzV8Q/+Cpvxf03wja+KvBngrTm0/4i/HvV/A3wm1iz8B634iMWj6RY3LX2sXOn6SXu9SaS70zURBDbLApgaCR5AiSSmCb/AIKK/tsaj8PvBuh6B8IdH0/xd4i/aOtvhzD4k8d/DLxH4b0vWtHn0O61Ia3aaXqTw30BjeLyWgkkkVpLSdFl2yJMn1De/sW/szXvwA8M/swn4ZLB4N8FwWcfhGysdWvLa70Z7WMxwT219FMt3DcKhYfaElEzeY+5zvbLNB/Ys/Z60DSfDmkNoPiDVR4T8br4u0K98T+PNZ1e8h1lbOWyW5e6vruWefFvNJGI5XeMBs7MgEAHyz8dP+CkH7XXw4+Lfjn4D+BPDun+IfEfwm8O6bLrsmjfs7eNNbt/Gur3Vmb0WdpJo73MWgRGJoEWW6lvX8yV8x7Itzu/aq/a4/al+P3wp+Pnhb4L+E/CfhLw98PPgVBqvjHRPiNo16da1G51XQ7m+ksY3juIU0s29uFQzTQ3O6cyIYkEZY/Unxe/Yr/Z6+N3jk/EzxjoXiGw8QS6fFYX2seDvHus+HbjUbSNnaK3u30q7tzeRIZJCiT+Yq+Y+0Dc2cj41f8ABOz9kD9oTVZNZ+Kvwuu7ya78Mx+HdXTTvFuq6dFrOlR+Z5VlqEVndRJqMKebKUS6WUIZGK4LE0AaH7Iejr4i/YO+F/h99SvLIX3wj0S3N5p1wYbiDfpcK+ZFIOUdc5Vh0IB7V86fs1fET4lfs7fss/tlazofj7xd41vfhH8RPFT+CT478UXuuXaJaeF9LvobXzruSSQxm4eRhGCFBlbaBmvsvw98OPCPhP4a2Pwi8M2NxYaDpmhxaPp9taajOkttZxwiGNEnD+crLGABIH8wEBt27mvMv2ef+Cfv7M37LfinxD4x+EOn+Nhd+KxMfEsPij4t+JPEFpqUswgWS5mtdV1C4ge5ZLaGP7QU87y08vfsLKQD5V0Hxr8V/wBjvXvg54x8E/HXx18SJ/ih8AfFXiHxjpvjTxdeaxb6lq2m6VY6lb6pZwzSMmnK0s8lu0FoIrcrdxARhkVq0v2WdV+Jfwq+If7IvjOP9ozx142n/aF8CX9z8TbfxT4uutSsLy6/sGPWE1SytZnaHS1jnUwLFZrDCY7xVZGZUYfUfwE/YO/ZW/Zl8TyeMPg18Nbiwv8A+xjo9g+o+JdR1KPSdMMiyHT9PivbiWPTbMukbG2tVihJjj+T5Fw34GfsE/so/s3eNh8Qvg78MJtN1KDTZ9O0kXXiPUb620SxmlSWa00y2u7iSDS7d3jjZobRIY28tMqdq4APOv2sh4j+Mn7dnwj/AGQdW+JPi3wv4J1j4eeLfFut/wDCGeK73Q73XL7TrrRbS1s/t1jLFcxxRrqlxcPHFKvmGOLflVKn5tuZf27Pj5+yFpfiHwX8UvGesQ+Ab74qeEYfF+j/ABGj8OzSatpWvvp3hzxNq1wZoEvrC3trC7N3EfOWV5fMa1uOifcPxG/Yq/Z8+LPgrwz4I8faP4lvR4Omkl8M+IE+IWtwa9p7yI0cpTWIrxdQ/eIxSQG4IkXCtuCgDWX9lf8AZ/i/Z+t/2V7T4a2lt8Prayhs18L2dxNBbyW8cqy+TKY3DzRyMv75HZhcB5FmEiyOGAPm79nH9uuHxZ8eL/xv8VofG6af4qutC0DwrHFbiHQ9Atr0Svpct7bvOso1DVX/ANI3LBILeC4sLeVoZPN3+g/8FCP+R0/Zt/7OQ0v/ANM2s16H4p/Y6/Zz8afHTTv2kPEfw/kn8W6Y1rJBdJrd7FaTTWyyra3E9jHMtpdTwCeUQzzRPLEHOxl4xH+0p8AdY+Oeu/C3V9J8QW1gvw/+KNp4qvEuImY3cMNjfWxhTH3XJu1bJ4wh9RQB59/wVm/awb9j/wDYf8UeOtD8c6X4d8UeJZ7Xwl4F1fWdRjtLay1nVJRaW93JNIypHHbCSS7kZmAEdrISRivmj9kr/goR4p+Ff7EXxa0LwN+0JpHx31D9l34hW6+KPG914g/t+68S/D+e4jv/AO0vtlrORJfQ6XLeR7yXBn0mRXQ7uPvr4h/Ab4TfFjxr4O+IPxE8IpquqeAdUuNS8JSXF3N5NjeTWsto8/kK4ilk8iaZFaRHMfmMU2kk1TvP2ZvgVf8AxQ1f4yXXw6tG8Q+IPBq+FNduhNKItQ0hZpZltZrcP5MoV55trshdRNIoYK7AgHzH8df+Conj3wDYfFjx98NfBWla/wCEvDPxB8K/DjwDqNno+o6jJqPiTUGhOo3ciWHmzXdnapfWkawWsBmlntrmJXJdPL5XxV/wUy/bK8G/s/fEzxLa/B+01fxF4S8VeAbDwZ4t8U/BzxV4H0TxIniDxDbaVc2psdZP2qK4tBI5aWOaeP8A0m2k2nDw19R+AP2DP2Sfhh+y5H+xf4N+DVpD8NYmlkTw7d6hdXbedJdm8NwbmeV7kzi5PnLMZTIjqjIylFxHZfsG/s1weBNS+G2saN4r1/SdW1vR9Wvl8X/E3X9auGutKv4tQsGW5v76aaNIrqGOQRI6xtt2urKSpAPFP2rv2vP2ov2ZNOs/BE/x6+Gmr/EK08LXniDUvD+gfs7+L9de/thNItuTb6RqFzLpFsfLaE3twZkeRJGWJQhjDvAn7e37SH7WHiHwdpv7Kug+BfDcF/8As7eGfizrx+INnd3pu49cN19j0m2a2uLf7Nt+w3Pm3zidY98WLd/mA9x+OP7Dn7M37RnjmP4kfFjwPqN1rI0E6He3Ok+LtU0tdT0rzHl/s++isbmGPULXfLKwguVljBlkwvztnxv9qH/gnj/aHhDwH4C/ZX/Z28BT2ngn4fHwZot94n+LXiXQJdL0iKOGK1sZxpkMz69YBYgZLK9lVJCuWYmR2oA8h8Ff8Fev2hvir8NfghY6D4Z03Q/Fnj/4D2HxG8Xa3pnwP8WeNbCB7uUwRWNtp2hu08CtJHOzXFxcYjVYwEmZzs+vPgf+014m8afsV6f+1R8ZPg5rvg7VofCN1q3iXwdf6Xc295aS2qy+fGkN3HFOFcws0QljR2R4yyqTiuS+F3/BMr9n7wf+zX8JfgN4wOt32p/CXwJaeGdJ8beGfFOp+G9WkhjghjuALvSrqC4SGd4Uka380xkqmQSoNe6+CPAfhj4eeC7H4feGLW4Gl6da/Z7eLUNQnvZWTnPmTXDvLMxySXkZmYkkk0AfKVr+2X+1x8NP2FNa/wCCjHxyg+G+p+Gp/hN/wl3h74deEtGvoL2xuLiKGeytrjWJ72WG6i2S7Jpks4Ap+dQyjB579ob9vT9s79jrwz8VvC/xptPhh4m8W+Hf2bfEHxS8F6r4W0DUbHTop9KaKGfTb62nvppZk826tWS4jmgMqCYeVEUBP0B8O/8Agn5+yd8K9O1nw34O+HWoL4e17QLvQ73wZqfjDVr/AMPQ6bclTPaW2kXV1JY2cL7QpS3gjG3KjCkg0NF/4Jsfsa6J4C8Z/DY/C/UdS0z4geEm8LeKZPEHjbWNUvLjQykif2bFeXl3Lc2lqqyybYbeSNELblCnBoA8K+N/7UP7dHhvS/iX8BPHvij4cab4i1X9mjWfiH4M8ReFfDWoqNAezkigu9PnWTUN17IFuoTDextagOGZrbChG89/ZW8e6Z+wJ4A+D9prPwU+FF9G/wCyf4z+Jmsa/wCBPhqdF1eY2EPhiRrcSteXLSzXSTA3c7km6mtbVysfl7T92+Nv2XfgX8RvFU/jbxl4G+2anc+ANQ8Ez3P9p3Ue7Qr14ZLq02pKqje0ER80DzV2fK6gnLdO/ZX+Ael6/wCFPE1t8PIWu/BPgW88G+GjcXtxNHbaHdfYvtFm0ckhSdX/ALPs8vKrviLAYB33AHxDr3xs/ac039sb9mX4+/tXT+Ar/Trz4Q+PvFthp/w60u8gn02NdK024msHNzdTjUCEeMJdRi3DtuBgQFSew/ZC/wCCl/7UPx18a/D+88V/B29vPDXxJ8M3mqS/2Z8CPGWi2/gZ105r+1W61vVYVsNYglVGt/PgW13TPCY0kSTI97+En/BNj9jP4HfETQvir8OfhZfwa54W0y70zwvcan4z1fUYtG0+5RUlsbSC8u5Yra1KooW3jRYkxlEU1q/Cz9hP9mr4KeIotf8Ahl4c8R6ZDaW81vpvh7/hYeuTaHpkUqMjx2eky3jWNmu1mVRBAgQHC7aAPnP9kT/goJ+2N430b9mf4l/tK6P8NpPD/wC0d4JuNQg0jwRoWowXvh+9h0NtXVzPcXk63kU8ME48kQxPAzRp5lxgu3UfCn9tj9p29/Yf1D/gqB8Wo/AbfDSb4QX/AMQdK+G3hrw/enXbWxSwbULWGXVXvmt55mgULKq2USxyMQHYIS3vHhD9j/8AZ18B6L8K/D3hT4efZLP4J2RtPhjD/a93J/Y0J059N25eUm4/0SR4szmQ87s7wGrM+G37CX7MHwi13UNY+H3gbU7Gz1O3vILjwq/jHVZ/D0cd2xa5WHRZrptOthIWbd5Vumd7DoxyAeL/ALF/7dH7T3xj+OOg/Dv4sfDG+1DQvFHhC61aXxBpXwD8ZeFLTwrfwm3ZNOuLvXohDqaTRzTeXcw+Qd1qQbcCVSuR/wAFDvF/xA1v9sXwX8HvCWj/ABi8daZB8Lta1rV/hr8EfHbeFtSt7k3drFZavc6gb/T0mt/kuoFtTcli7bxbzgHy/on4JfsY/AT9njxCviP4VWHiq1aHT2sbDTdU+I2uanpum2xKnybOxvbyW1skGxQFgijCqoUYHFTfHT9jz4B/tF+JNN8a/Enw/rUOu6RYT2Fj4g8J+NNW8P6iLOZkeW0e60q6t5pbdmRGMLu0ZZc7c80AfKOp+NvCmt/8Ed/CP7Zv7Rfxe8f+NPFHhL4YDF34C+KHifwo3iLXnK2sVjNFpd1YNcXMl+IrTdNEGErOQse9lr6r/Ym+DnxD/Z//AGS/h/8AB/4vfEvW/GPi3RPDNvH4q8S+IdcuNSur/UnXzLpzcXDvLIgmeRY9zMVjVFzhRU8/7H/7Ns3wv8FfBSP4VWVv4T+Hetabq/hDQLK5nt7axvNPk820lZI3Xz/LlxLtm3q0irIwZ1DDtdX8HaRrfiXSPFl7eaql1ojTtZRWeu3dvbSGaPy3+0W0Uqw3YC8oJ0kEbfMm1vmoA+NdN+COlQf8FW/CPwx+Bvxb+L0WjfDXwXd+MfivBq/x18Vazp9/c6k0llouly2l/qU9uFPlajelNgI+yW/8L4NzUvC974d/b88E/DX9lD43fFDxH4i0fxBNrHx/fxF8RtS1fw/pXh64srowWE1pczPZ2l9NcvaPaw2kUMyxQySyYiwJfqjwH8Efhh8NPG/jH4keC/DH2XXfH+rW+peLtTlvZ55L+4gtIbOH/WuwijSCCNFij2RqdzBdzuzea/CL/gnB+y18B/Hlz8RfhNb/ABE0e+vvEt14g1Gyi+NviuTTb7Urly89xcafJqbWk7OxywkiZTgcfKMAHyR4w+I/7aH7GnijxdrXxL8deJdPvvEPhfxTPqWveJfGH9u6VHHbai183ivTdMWaU6bYaXou9HtvKthcXdxYWxSRn+0N9p/si/F7wr4+8DXXw10rQvHGkav8PDZaJrulfEi8jutaRmsbe5gnubmO4uFuWmgmjkMoldi5dX2yI6L0/iP9n34OeMfEviPxb4v8CW2rXvizwovhnXzqcslxFc6QDMWsxFIxjiic3EvmCNV835PM3+Wm2r8Af2aPg1+zF4d1Dwz8HPDt9Zw6tqAvtVu9X8Q32rXt7OsEVujTXd/NNcShIYIYkVpCsccSIgVVAoA7yiiigAooooAKKKKACiiigAooooAKKKKACiiigAooooAKKKKACiiigAooooAKKKKACiiigAooooAKKKKACiiigAooooAKKKKACiiigAooooAKKKKACiiigAooooAKKKKACiiigAooooAKKKKACiiigAooooAKKKKACiiigAooooAKKKKACiiigAooooAKKKKACiiigAooooAKKKKAPK/26fEOv+Ef2JPjH4s8J65eaXqul/CvxDd6bqWnXLwXFpcR6bcPHNFIhDRurKGVlIIIBBBFfBfwX/ac/aG8CW/7Nv7G3xl+NXie+8Zad8YvDV9B4nvNamF1478E6p4d1u5tZLyTcDePBdQtZ3IfcGlsYJ3GZ0Nfph8Q/APhP4q+ANc+F/j7Sft+heJNHudK1qx8+SL7RaXETQzR742V03I7DcrBhnIIODXAeLv2H/2WfHfjb4W/EjxX8Jre6134LBx8M9U/tK7SXRleBIGTKSj7QhjjQFZ/MXKhsbhuoA+fPAP/AAUH/ab17Svh9+014g8PeA/+FT/Ez4yP4E0nwnZ6deL4j0uKTUrrTLPUZr1rlre4dri3V5rNbWMwxyt+/kMRDb//AASB1v8Aa28XfBjxT4n/AGjfj5oPjOyj+K/jvTNNjt/Cl/bX9tLaeLNUtjuu7rVbsNaBYtlvarEhtoRFF5svl7m9Y8PfsBfsl+Ffi/H8cdC+FssWt2+v3Wu2Vq/iPUZNJstWuRILjUbfSnuDYW15L50xe5igWVjLIS5LsT0Xwl/Zd+DPwM8a+JfHfws0jWNLufF2p3Oo63pv/CXanPpbXlzO1xc3MOnTXD2drNLM7ySSQQxtIzsWJLHIB86eBfD2v/tu/tt/H/wl8ZfjN8QNE8PfB/xHo3h3wf4F8C+P9T8NAR3Gi2moyavdy6XPb3F208t28UaySGFEtCBGWLsej8WfFH9qnR/j9J+w7+yt4v8AC73vgL4T6f4r1vxj8Y7O81e41n7bfX9pZWS/Y7i0KHOm3BmvWM2wPF+5lYsa9Q+MP7EH7N/xx+IUfxc8Y+Ftb07xWunJp83ibwV441jw3qF3ZozMltc3Gk3dtJdQqzuVimZ0Uu2ANxzm+P8A/gnf+yH8StK0PSPEPwyvrVPDugS6Fp9z4e8X6rpFzJpcjB5bC5uLG6hlvbZ3G94bhpI3YszKSzEgHg3hr/gsEdP+HejftDfFzwFZ6P4G8cfsyD4m+BrO38xr6XVbLH9q6I0pYpcuwvNMNqY442kDzna4A25vxI/4KLfti+EvHlh+zrP4T0bSviD4a+EOgeJ/iHd6Z8CPGXjHTrvWtS+1qNLtYtBMr6bAj2Mw+13UsrNvAjgl8qXb9QfFv9h/9lL45eG/h/4N+JnwW0y90n4Wa9Yax4A0y1lms4NIubJAlsqJbPGrwIoUfZpA0DBE3RtsXFn40fsf/Ab4+eK7Tx9470TXrPxBZaedPj8Q+DvG+r+HdQksvMMn2SW50m6tpZ4A5ZxDIzRhnYhQWJIB4N8NP2yf20v2iv2mPCPwg8D/AA+8LfDPS9Q+AHhr4ieL9P8AiL4V1G71zSL6+1C9trnRjAl3ZhHC2pUTSAGJ42ZophIEj4f9mr/gqx+0V+0F468B+NNE+Curah4F8f8AjKXSj4d0/wCAvjGC68OaY0k8Vvq8/iOeH+ybtQ0cJnhjSJIlnfZcTGE7/sjwZ+zp8Hfh/wDECL4p+FPCkkHiCHwRp/hFNSm1W6nc6PZSzTW1swllZWKSXEzGUgyvv+Z2AGOY8LfsM/s3eBviUPil4L8OeItIvBq82qjRdN+IGtwaEL6Z2kluRoyXg04SvI7yM/2fLO7OcsSaAPiz4sftF/tOftReH/2av2i/FEXgKy+G3jH9qzR4fDPhmw0+8j1zS4La71GK3muryS5eC7klS3ZpLeO3gMBcASTbGJ+m/wDgoZ4l8ZX3i/4C/s86H491zwrofxW+Lz6J4w17w3q0un3xsLbQNX1UWUF5AyzWr3M+nwRGWF0lCGRUZS2RuL/wTL/YoT4l2HxXT4Q3a6ppHjM+LdFtB4w1YaZpettK8sl/a6d9q+x2s0kkkjStFCnnGRvM37jn0j45fAL4TftIeBx8PPjF4WbU9Ni1CDULN7bUbiyu7C8gffDdWt3ayR3FrOjcrNDIjrkgNgnIB45/wT08S+MrLxb8ef2edc8ea54p0P4U/F5dE8H694k1abUL7+z7nQdI1U2U95OzTXT20+oTxCWZ3lKCNXZiuT80/E/4l/GQ/C74z/t923x58c2njH4b/tKjwv4X8I2viy7i0AaLaa9YaV/Zc2kq4tbl72CWSU3EkbXCyXkbRyIERa+5fhz+yl8EPhH4Bsvhr8NdC1fRtMsvEo8QSSWXi7U1vNR1LzvOe4vrw3P2nUTI+PNW6klWZQFkDqAtYfiD9gf9k/xT8az+0Drnwull8RPrlprd1EniLUY9LvNVtURLbUbjS0uBY3F5EscQjupYGmTyoyrgouAD5g+KOu/ttfs1ftT6l8SpZPEOq3HinxLrul+FbXWviB53hrxBDdQxPotpb6Ss7Np7adHDdXd/drbwsbe0umEty0qInvf/AAT2/aJ8F/FT4Z2Hw303WfHmpa1pnhDSfE0uu/EOONb3xLpmsNdyWutRCOeYQ29zLbXmy1YxParEsRghRYlr2PUvhP8AD7WfiZYfGDV/DwuvEOlaLdaTpl9cXMrra2lzJFJcJHCW8pGkaCHdIF3ssaqW2jFcr+zt+x9+zx+ykmpp8CPAc2j/ANrW9pa3LXWu32oNHZ2glFpYwG8mlNtZwCabybSHZBD5r+XGu5sgHplFFFABRRRQAUUUUAFFFFABRRRQAUUUUAFFFFABRRRQAUUUUAFFFFABRRRQAUUUUAFFFFABRRRQAUUUUAFFFFABRRRQAUUUUAFFFFABRRRQAUUUUAFFFFABRRRQAUUUUAFFFFABRRRQAUUUUAFFFFABRRRQAUUUUAFFFFABRRRQAUUUUAFFFFABRRRQAUUUUAFFFFABRRRQAUUUUAFFFFABRRRQAUUUUAFFFFABRRRQAUUUUAFFFFABRRRQAUUUUAFFFFABRRRQAUUUUAFFFFABRRRQAUUUUAFFFFABRRRQAUUUUAFFFFABRRRQAUUUUAFFFFABRRRQAUUUUAFFFFABRRRQAUUUUAFFFFABRRRQAUUUUAf/2Q=='></td></tr>"
     },
     "execution_count": 23,
     "metadata": {},
     "output_type": "execute_result"
    }
   ],
   "source": [
    "# Get the links to the excels\n",
    "all_html_link = '<a href={} target=\"_blank\">All.xlsx</a>'.format('All.xlsx')\n",
    "escalated_html_link = '<a href={} target=\"_blank\">Escalated_sample.xlsx</a>'.format('Escalated_sample.xlsx')\n",
    "not_escalated_html_link = '<a href={} target=\"_blank\">NotEscalated_sample.xlsx</a>'.format('NotEscalated_sample.xlsx')\n",
    "\n",
    "# Embed the links in HTML table format\n",
    "link_html = '<tr><th colspan=\"4\"><div align=\"left\"><a id=\"file_list\"></a>View the lists here: {}&nbsp;&nbsp;&nbsp;{}&nbsp;&nbsp;&nbsp;{}</div></th></tr>'.format(all_html_link, escalated_html_link, not_escalated_html_link)\n",
    "\n",
    "if 100-effective_perc > 0:\n",
    "    escalated_bar = coverage_barh(escalated_covered, esc_avg_conf, '', True, 15, width_bar(100-effective_perc))\n",
    "else:\n",
    "    escalated_bar = ''\n",
    "\n",
    "if effective_perc > 0: \n",
    "    non_escalated_bar = coverage_barh(not_escalated_covered, not_esc_avg_conf, '' , True , 15,width_bar(effective_perc))\n",
    "else:\n",
    "    non_escalated_bar = ''\n",
    "\n",
    "# Plot the results\n",
    "HTML('<tr><th colspan=\"4\"><div align=\"left\"><h2>Breakdown by effectiveness<hr/></h2></div></th></tr>\\\n",
    "'+ link_html + '<tr><td style= \"border-right: 1px solid black; border-bottom: 1px solid black; width : 400px\"><div align=\"left\"><strong>Effectiveness (Escalated)&nbsp;</br>\\\n",
    "<font size=\"5\">{ef_escalated}%</strong></font size></br></div></td>\\\n",
    "    <td style=\"width:1000px; height=100;\">{one}</td></tr>\\\n",
    "<tr><td style= \"border-right: 1px solid black; border-bottom: 1px solid black; width : 400px;\"><div align=\"left\"><strong>Effectiveness (Not escalated)&nbsp;</br>\\\n",
    "<font size=\"5\">{effective_perc}%</strong></font size></br></div></td>\\\n",
    "    <td style=\"width:1000px; height=100;border-bottom: 1px solid black;\">{two}</td>\\\n",
    "</tr>'.format(ef_escalated= ef_escalated,\n",
    "              one = escalated_bar, \n",
    "              effective_perc = effective_perc, \n",
    "              two = non_escalated_bar)) \n"
   ]
  },
  {
   "cell_type": "markdown",
   "metadata": {},
   "source": [
    "You can download all the analyzed data from `All.xlsx`. A sample of escalated and non-escalated conversations are available in `Escalated_sample.xlsx` and `NotEscalated_sample.xlsx` respectively."
   ]
  },
  {
   "cell_type": "markdown",
   "metadata": {},
   "source": [
    "<a id=\"root_cause\"></a>\n",
    "## 7. Root cause analysis of non coverage\n",
    "Let us take a look at the reasons for non-coverage of messages"
   ]
  },
  {
   "cell_type": "code",
   "execution_count": 24,
   "metadata": {},
   "outputs": [
    {
     "data": {
      "text/plain": "Empty DataFrame\nColumns: [Messages, Total]\nIndex: []",
      "text/html": "<div>\n<style scoped>\n    .dataframe tbody tr th:only-of-type {\n        vertical-align: middle;\n    }\n\n    .dataframe tbody tr th {\n        vertical-align: top;\n    }\n\n    .dataframe thead th {\n        text-align: right;\n    }\n</style>\n<table border=\"1\" class=\"dataframe\">\n  <thead>\n    <tr style=\"text-align: right;\">\n      <th></th>\n      <th>Messages</th>\n      <th>Total</th>\n    </tr>\n  </thead>\n  <tbody>\n  </tbody>\n</table>\n</div>"
     },
     "execution_count": 24,
     "metadata": {},
     "output_type": "execute_result"
    }
   ],
   "source": [
    "# Count the causes for non-coverage and store results in dataframe\n",
    "not_covered = pd.DataFrame(df_coverage['Not Covered cause'].value_counts().reset_index())\n",
    "# Name the columns in the dataframe\n",
    "not_covered.columns = ['Messages', 'Total']\n",
    "not_covered"
   ]
  },
  {
   "cell_type": "markdown",
   "metadata": {},
   "source": [
    "<a id=\"abandoned_resolved_intents\"></a>\n",
    "## 8. Abandoned and resolved intent analysis\n",
    "\n",
    "When users engage in a conversation session, an assistant identifies the intent of each message from the user. Based on the logic flow defined in a dialog tree, the assistant communicates with users and performs actions. The assistant may succeed or fail to satisfy users' intent.  One way to identify patterns of success or failure is by analyzing which intents most often lead to a dialog node associated with resolution, and which intents most often lead to users abandoning the session.  Analyzing resolved and abandoned intents can help you identify issues in your assistant to improve, such as a problematic dialog flow or imprecise intents. In this section, we demonstrate a method of conducting intent analysis using context variables.\n",
    "\n",
    "We introduce two context variables: `response_context_IntentStarted` and `response_context_IntentCompleted`.  You will need to modify your dialog skill definition (workspace) to introduce these variables in your dialog flow.  After you modify your dialog skill definition, your logs will be marked such that when users trigger a conversation with an intent, the assistant will use `response_context_IntentStarted` to record the intent. During the conversation, the assistant will use `response_context_IntentCompleted` to record if the intent is satisfied. Follow the steps below to add the context variables for an intent in your dialog skill definition.\n",
    "\n",
    "1. Open Dialog Overview page, see <a href=\"https://cloud.ibm.com/docs/services/assistant?topic=assistant-dialog-overview\" target=\"_blank\">Dialog Overview</a> for more information.\n",
    "2. Click the entry point node of the dialog node that is associated with the intent you want to analyze\n",
    "3. Open the context editor, see <a href=\"https://cloud.ibm.com/docs/services/assistant?topic=assistant-dialog-runtime#dialog-runtime-context-variables\" target=\"_blank\">Context Variables</a> for more information\n",
    "4. Add `response_context_IntentStarted` as a variable and \\[intent_name\\] as the value\n",
    "5. Follow the dialog flow to locate the satisfying node of the intent\n",
    "6. Open the context editor\n",
    "7. Add `response_context_IntentCompleted` as variable and \\[intent_name\\] as the value\n",
    "8. Repeat step 5-7 to mark all satisfying nodes of the intent if necessary\n",
    "\n",
    "Then repeat the above steps for every intent you want to analyze in this way.\n",
    "\n",
    "After completing the above steps, run the following code for intent analysis. Note that the analysis requires logs generated after the above changes. You will need to reload the updated assistant definition and logs."
   ]
  },
  {
   "cell_type": "markdown",
   "metadata": {},
   "source": [
    "###  8.1 Count of all started intents<a id=\"started_intents\"></a>"
   ]
  },
  {
   "cell_type": "code",
   "execution_count": 25,
   "metadata": {},
   "outputs": [
    {
     "data": {
      "text/plain": "<IPython.core.display.HTML object>",
      "text/html": "<table border=\"1\" class=\"dataframe\">\n  <thead>\n    <tr style=\"text-align: right;\">\n      <th></th>\n      <th>Intent</th>\n      <th>Count</th>\n    </tr>\n  </thead>\n  <tbody>\n    <tr>\n      <th>0</th>\n      <td>locate_amenity</td>\n      <td>7</td>\n    </tr>\n    <tr>\n      <th>1</th>\n      <td>turn_on</td>\n      <td>6</td>\n    </tr>\n    <tr>\n      <th>2</th>\n      <td>phone</td>\n      <td>3</td>\n    </tr>\n    <tr>\n      <th>3</th>\n      <td>turn_up</td>\n      <td>2</td>\n    </tr>\n    <tr>\n      <th>4</th>\n      <td>turn_down</td>\n      <td>1</td>\n    </tr>\n    <tr>\n      <th>5</th>\n      <td>turn_off</td>\n      <td>1</td>\n    </tr>\n  </tbody>\n</table>"
     },
     "metadata": {},
     "output_type": "display_data"
    }
   ],
   "source": [
    "# Define context variables\n",
    "start_intent_variable = 'response_context_IntentStarted'\n",
    "\n",
    "if start_intent_variable in df_formated:\n",
    "    # Group dataframe by conversation_id and start_intent_variable\n",
    "    df_intent_started = df_formated.groupby(['response.context.conversation_id', start_intent_variable]).count().reset_index()\n",
    "    # Refactors data to show only columns of conversation_id and start_intent_variable\n",
    "    df_intent_started = df_intent_started[['response.context.conversation_id', start_intent_variable]]\n",
    "\n",
    "    # Count the number of conversation_ids with each start_intent_variable\n",
    "    intent_started = df_intent_started[start_intent_variable].value_counts().reset_index()\n",
    "    intent_started.columns = ['Intent', 'Count']\n",
    "    display(HTML(intent_started.to_html()))\n",
    "else:\n",
    "    print('Cannot find \\'response_context_IntentStarted\\' and \\'response_context_IntentCompleted\\' in logs. Please check step 4 and make sure updated logs are reloaded.')"
   ]
  },
  {
   "cell_type": "markdown",
   "metadata": {},
   "source": [
    "###  8.2 Analyze resolved intents<a id=\"resolved_intents\"></a>"
   ]
  },
  {
   "cell_type": "code",
   "execution_count": 26,
   "metadata": {},
   "outputs": [
    {
     "name": "stdout",
     "output_type": "stream",
     "text": [
      "\n",
      "Count of resolved intents in all conversations\n",
      "================================================\n",
      "\n",
      "Most resolved intents (%)\n",
      "===========================\n"
     ]
    },
    {
     "data": {
      "text/plain": "<IPython.core.display.HTML object>",
      "text/html": "<table border=\"1\" class=\"dataframe\">\n  <thead>\n    <tr style=\"text-align: right;\">\n      <th></th>\n      <th>Intent</th>\n      <th>Count</th>\n    </tr>\n  </thead>\n  <tbody>\n    <tr>\n      <th>0</th>\n      <td>turn_on</td>\n      <td>5</td>\n    </tr>\n    <tr>\n      <th>1</th>\n      <td>phone</td>\n      <td>3</td>\n    </tr>\n    <tr>\n      <th>2</th>\n      <td>locate_amenity</td>\n      <td>3</td>\n    </tr>\n  </tbody>\n</table>"
     },
     "metadata": {},
     "output_type": "display_data"
    },
    {
     "data": {
      "text/plain": "<IPython.core.display.HTML object>",
      "text/html": "<table border=\"1\" class=\"dataframe\">\n  <thead>\n    <tr style=\"text-align: right;\">\n      <th></th>\n      <th>Intent</th>\n      <th>Percentage</th>\n    </tr>\n  </thead>\n  <tbody>\n    <tr>\n      <th>0</th>\n      <td>phone</td>\n      <td>100.0%</td>\n    </tr>\n    <tr>\n      <th>1</th>\n      <td>turn_on</td>\n      <td>83.3%</td>\n    </tr>\n    <tr>\n      <th>2</th>\n      <td>locate_amenity</td>\n      <td>42.9%</td>\n    </tr>\n  </tbody>\n</table>"
     },
     "metadata": {},
     "output_type": "display_data"
    }
   ],
   "source": [
    "end_intent_variable = 'response_context_IntentCompleted'\n",
    "\n",
    "if end_intent_variable in df_formated:\n",
    "\n",
    "    # Group dataframe by conversation_id and end_intent_variable\n",
    "    df_intent_completed = df_formated.groupby(['response.context.conversation_id',end_intent_variable]).count().reset_index()\n",
    "    # Refactor data to show columns of conversation_id and end_intent_variable only\n",
    "    df_intent_completed = df_intent_completed[['response.context.conversation_id',end_intent_variable]]\n",
    "    # Count the number of conversation_ids with each end_intent_variable\n",
    "    intent_completed = df_intent_completed[end_intent_variable].value_counts().reset_index()\n",
    "    intent_completed.columns = ['Intent', 'Count']\n",
    "\n",
    "    # Show counts of resolved intents\n",
    "    intent_completed_title = '\\nCount of resolved intents in all conversations\\n'\n",
    "    print(intent_completed_title, \"=\" * len(intent_completed_title),'', sep = '')\n",
    "    display(HTML(intent_completed.to_html()))\n",
    "\n",
    "    # Convert dataframe to a list\n",
    "    res_intent_list = intent_completed.values.tolist()\n",
    "    # Get list of started intents\n",
    "    all_intent = df_intent_started[start_intent_variable].value_counts().reset_index().values.tolist()\n",
    "\n",
    "    # Loop over resolved intents list. Each element contains a pair of intent and count\n",
    "    data = []\n",
    "    for pair_ab in res_intent_list:\n",
    "        # Loop over each row of started intents. Each row contains a pair of intent and count\n",
    "        for pair_all in all_intent:\n",
    "            # Check if the intent name matches in started and resolved intents\n",
    "            if pair_ab[0] == pair_all[0]:\n",
    "                # Then acccesses the count from that matched intent, and calculate percentage\n",
    "                perc = (pair_ab[1]/pair_all[1])*100\n",
    "                # Add the matched intent name and percentage to data list\n",
    "                data.append([pair_ab[0],perc])\n",
    "\n",
    "    # Create a new dataframe with data list\n",
    "    resolved_percentage = pd.DataFrame(data=data).reset_index(drop=True)\n",
    "\n",
    "    # Format the dataframe, and orders data in descending order (shows highest percentage first)\n",
    "    resolved_percentage.columns = ['Intent','Percentage']\n",
    "    resolved_percentage.sort_values(ascending=False,inplace=True, by='Percentage')\n",
    "    # Format the data in the percentage column to include '%', and 1 decimal point\n",
    "    resolved_percentage['Percentage'] = resolved_percentage['Percentage'].apply(lambda x: \"{0:.1f}%\".format(x))\n",
    "    resolved_percentage.reset_index(drop=True, inplace=True)\n",
    "\n",
    "    # Show most resolved intents\n",
    "    most_resolved_intents = \"\\nMost resolved intents (%)\\n\"\n",
    "    print(most_resolved_intents, \"=\" * len(most_resolved_intents),'', sep = '')\n",
    "    display(HTML(resolved_percentage.to_html()))\n",
    "\n",
    "else:\n",
    "    print('Cannot find \\'response_context_IntentStarted\\' and \\'response_context_IntentCompleted\\' in logs. Please check step 4 and make sure updated logs are reloaded.')\n",
    "    "
   ]
  },
  {
   "cell_type": "markdown",
   "metadata": {},
   "source": [
    "###  8.3 Analyze abandoned intents<a id=\"abandoned_intents\"></a>"
   ]
  },
  {
   "cell_type": "code",
   "execution_count": 27,
   "metadata": {},
   "outputs": [
    {
     "name": "stdout",
     "output_type": "stream",
     "text": [
      "\n",
      "Count of abandoned intents in all conversations\n",
      "=================================================\n",
      "\n",
      "Most abandoned intents (%)\n",
      "============================\n"
     ]
    },
    {
     "data": {
      "text/plain": "<IPython.core.display.HTML object>",
      "text/html": "<table border=\"1\" class=\"dataframe\">\n  <thead>\n    <tr style=\"text-align: right;\">\n      <th></th>\n      <th>Intent</th>\n      <th>Count</th>\n    </tr>\n  </thead>\n  <tbody>\n    <tr>\n      <th>0</th>\n      <td>locate_amenity</td>\n      <td>4</td>\n    </tr>\n    <tr>\n      <th>1</th>\n      <td>turn_up</td>\n      <td>2</td>\n    </tr>\n    <tr>\n      <th>2</th>\n      <td>turn_on</td>\n      <td>2</td>\n    </tr>\n    <tr>\n      <th>3</th>\n      <td>turn_down</td>\n      <td>1</td>\n    </tr>\n    <tr>\n      <th>4</th>\n      <td>turn_off</td>\n      <td>1</td>\n    </tr>\n  </tbody>\n</table>"
     },
     "metadata": {},
     "output_type": "display_data"
    },
    {
     "data": {
      "text/plain": "<IPython.core.display.HTML object>",
      "text/html": "<table border=\"1\" class=\"dataframe\">\n  <thead>\n    <tr style=\"text-align: right;\">\n      <th></th>\n      <th>Intent</th>\n      <th>Percentage</th>\n    </tr>\n  </thead>\n  <tbody>\n    <tr>\n      <th>0</th>\n      <td>turn_up</td>\n      <td>100.0%</td>\n    </tr>\n    <tr>\n      <th>1</th>\n      <td>turn_down</td>\n      <td>100.0%</td>\n    </tr>\n    <tr>\n      <th>2</th>\n      <td>turn_off</td>\n      <td>100.0%</td>\n    </tr>\n    <tr>\n      <th>3</th>\n      <td>locate_amenity</td>\n      <td>57.1%</td>\n    </tr>\n    <tr>\n      <th>4</th>\n      <td>turn_on</td>\n      <td>33.3%</td>\n    </tr>\n  </tbody>\n</table>"
     },
     "metadata": {},
     "output_type": "display_data"
    }
   ],
   "source": [
    "if start_intent_variable in df_formated and end_intent_variable in df_formated:\n",
    "\n",
    "    # Create lists of started and end_intent_variable\n",
    "    intent_complete_list = df_intent_completed.values.tolist()\n",
    "    intent_started_list = df_intent_started.values.tolist()\n",
    "\n",
    "    # Looping over completed intents list. Each element contains a pair of conversation id and end_intent_variable\n",
    "    for pair in intent_complete_list:\n",
    "        # Checks if any element is found in list of started intents\n",
    "        if pair in intent_started_list:\n",
    "            # If found, remove that pair from the list of started intents\n",
    "            intent_started_list.remove(pair)\n",
    "\n",
    "    # Create a new dataframe with updated dataset. \n",
    "    # This updated dataset contains intents that have been started but not completed, thus categorised as abandoned\n",
    "    df_intent_abandoned = pd.DataFrame(data=intent_started_list)\n",
    "\n",
    "    # Group each pair (conversation id, intent abandoned), and show number of occurances of each abandoned intent\n",
    "    final_intent_abandoned = df_intent_abandoned[1].value_counts().reset_index()\n",
    "    final_intent_abandoned.columns = ['Intent','Count']\n",
    "\n",
    "    # Show counts of abandoned intents\n",
    "    intent_abandoned_title = '\\nCount of abandoned intents in all conversations\\n'\n",
    "    print(intent_abandoned_title, \"=\" * len(intent_abandoned_title),'', sep = '')\n",
    "    display(HTML(final_intent_abandoned.to_html()))\n",
    "\n",
    "    # Convert dataframe to a list\n",
    "    aban_intent_list = final_intent_abandoned.values.tolist()\n",
    "    # Get list of started intents\n",
    "    all_intent = df_intent_started[start_intent_variable].value_counts().reset_index().values.tolist()\n",
    "\n",
    "    # Loop over resolved intents list. Each element contains a pair of intent and count\n",
    "    data = []\n",
    "    for pair_ab in aban_intent_list:\n",
    "        # Loop over each row of started intents. Each row contains a pair of intent and count\n",
    "        for pair_all in all_intent:\n",
    "            # Check if the intent name matches in started and resolved intents\n",
    "            if pair_ab[0] == pair_all[0]:\n",
    "                # Then acccesse the count from that matched intent, and calculate percentage\n",
    "                perc = (pair_ab[1]/pair_all[1])*100\n",
    "                # Add the matched intent name and percentage to data list\n",
    "                data.append([pair_ab[0],perc])\n",
    "\n",
    "    # Create a new dataframe with data list\n",
    "    abandoned_percentage = pd.DataFrame(data=data).reset_index(drop=True)\n",
    "\n",
    "    # Format the dataframe, and orders data in descending order (shows highest percentage first)\n",
    "    abandoned_percentage.columns = ['Intent','Percentage']\n",
    "    abandoned_percentage.sort_values(ascending=False,inplace=True, by='Percentage')\n",
    "    abandoned_percentage.reset_index(drop=True, inplace=True)\n",
    "\n",
    "    # Format the data in the percentage column to include '%', and 1 decimal point\n",
    "    abandoned_percentage['Percentage'] = abandoned_percentage['Percentage'].apply(lambda x: \"{0:.1f}%\".format(x))\n",
    "\n",
    "    # Show most abandoned intents\n",
    "    most_abandoned_intents = \"\\nMost abandoned intents (%)\\n\"\n",
    "    print(most_abandoned_intents, \"=\" * len(most_abandoned_intents),'', sep = '')\n",
    "    display(HTML(abandoned_percentage.to_html()))\n",
    "\n",
    "else:\n",
    "    print('Cannot find \\'response_context_IntentStarted\\' and \\'response_context_IntentCompleted\\' in logs. Please check step 4 and make sure updated logs are reloaded.')"
   ]
  },
  {
   "cell_type": "markdown",
   "metadata": {},
   "source": [
    "Finally, we generate an Excel file that lists all conversations for which there are abandoned and resolved intents for further analysis."
   ]
  },
  {
   "cell_type": "code",
   "execution_count": 28,
   "metadata": {},
   "outputs": [
    {
     "data": {
      "text/plain": "<IPython.core.display.HTML object>",
      "text/html": "Abandoned and resolved intents: <b><a href=Abandoned_Resolved.xlsx target=\"_blank\">Abandoned_Resolved.xlsx</a></b>"
     },
     "metadata": {},
     "output_type": "display_data"
    }
   ],
   "source": [
    "if 'df_intent_abandoned' in locals() and df_intent_abandoned is not None and df_intent_completed is not None:\n",
    "    # Rename columns\n",
    "    df_intent_abandoned.columns = ['Conversation_id','Intent']\n",
    "    df_intent_completed.columns = ['Conversation_id','Intent']\n",
    "\n",
    "    # Generate excel file\n",
    "    file_name = 'Abandoned_Resolved.xlsx'\n",
    "    generate_excel_measure([df_intent_abandoned,df_intent_completed], ['Abandoned', 'Resolved'], filename= file_name, project_io=None)\n",
    "    link_html = 'Abandoned and resolved intents: <b><a href={} target=\"_blank\">Abandoned_Resolved.xlsx</a></b>'.format(file_name)\n",
    "\n",
    "    display(HTML(link_html))\n",
    "    \n",
    "else:\n",
    "    print('Cannot find \\'response_context_IntentStarted\\' and \\'response_context_IntentCompleted\\' in logs. Please check step 4 and make sure updated logs are reloaded.')"
   ]
  },
  {
   "cell_type": "markdown",
   "metadata": {},
   "source": [
    "<a id=\"summary\"></a>\n",
    "## 9. Summary and next steps\n",
    "\n",
    "The metrics described above help you narrow your immediate focus of improvement. We suggest the following two strategies: \n",
    "\n",
    "- **Toward improving Effectiveness**\n",
    "\n",
    "    We suggest focusing on a group of problematic conversations, e.g., escalated conversations, then performing a deeper analysis on these conversation as follows. <br>\n",
    "    1. Choose to download either the complete conversations ([All.xlsx](#file_list)), or sampled escalated conversations [Escalated_sample.xlsx](#file_list), or non-escalated conversations [NotEscalated_sample.xlsx](#file_list).<br>\n",
    "    2. Perform a manual assessment of these conversations.<br>\n",
    "    3. Analyze the results using our [Analyze Watson Assistant Effectiveness](https://github.com/watson-developer-cloud/assistant-improve-recommendations-notebook/blob/master/notebook/Effectiveness%20Notebook.ipynb) Jupyter Notebook.\n",
    "\n",
    "\n",
    "- **Toward improving Coverage**\n",
    "\n",
    "    For utterances where an intent was found but no response was given. We suggest performing a deeper analysis to identify  root causes, e.g., missing entities or lacking of dialog logic. \n",
    "\n",
    "    For utterances where no intent was found, we suggest expanding intent coverage as follows.\n",
    "\n",
    "    1. Examine utterances from the production log, especially focus on the utterances that are below the confidence (0.2 by default).\n",
    "    2. If you set a confidence threshold significantly higher than 0.2, we suggest looking at utterances that are below but close to the threshold.\n",
    "    3. Once you select a collection of utterances, intent expansion, you can focus on intent expansion by two methods:\n",
    "        - One-by-One: examine each utterance to either change to an existing intent or add a new intent.\n",
    "        - Unsupervised Learning: perform semantic clustering to generate utterance clusters; examine each cluster to decide (1) adding utterances of an existing intent or (2) creating a new intent.\n",
    "\n",
    "For more information, please check <a href=\"https://github.com/watson-developer-cloud/assistant-improve-recommendations-notebook/raw/master/notebook/IBM%20Watson%20Assistant%20Continuous%20Improvement%20Best%20Practices.pdf\" target=\"_blank\" rel=\"noopener noreferrer\">Watson Assistant Continuous Improvement Best Practices</a>."
   ]
  },
  {
   "cell_type": "markdown",
   "metadata": {},
   "source": [
    "### <a id=\"authors\"></a>Authors\n",
    "\n",
    "**Zhe Zhang**, Ph.D. in Computer Science, is a Data Scientist for IBM Watson AI. Zhe has a research background in Natural Language Processing, Sentiment Analysis, Text Mining, and Machine Learning. His research has been published at leading  conferences and journals including ACL and EMNLP.\n",
    "\n",
    "**Sherin Varughese** is a Data Scientist for IBM Watson AI. Sherin has her graduate degree in Business Intelligence and Data Analytics and has experience in Data Analysis, Warehousing and Machine Learning."
   ]
  },
  {
   "cell_type": "markdown",
   "metadata": {},
   "source": [
    "### <a id=\"acknowledgement\"></a> Acknowledgement\n",
    "\n",
    "The authors would like to thank the following members of the IBM Research and Watson Assistant teams for their contributions and reviews of the notebook:  Matt Arnold, Adam Benvie, Kyle Croutwater, Eric Wayne."
   ]
  },
  {
   "cell_type": "markdown",
   "metadata": {},
   "source": [
    "Copyright © 2020 IBM. This notebook and its source code are released under the terms of the MIT License."
   ]
  }
 ],
 "metadata": {
  "kernelspec": {
   "display_name": "Python 3",
   "language": "python",
   "name": "python3"
  },
  "language_info": {
   "codemirror_mode": {
    "name": "ipython",
    "version": 3
   },
   "file_extension": ".py",
   "mimetype": "text/x-python",
   "name": "python",
   "nbconvert_exporter": "python",
   "pygments_lexer": "ipython3",
   "version": "3.6.8"
  }
 },
 "nbformat": 4,
 "nbformat_minor": 4
}