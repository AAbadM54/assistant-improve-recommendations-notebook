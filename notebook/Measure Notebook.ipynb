{
 "cells": [
  {
   "cell_type": "markdown",
   "metadata": {},
   "source": [
    "# Measure Watson Assistant Performance "
   ]
  },
  {
   "cell_type": "markdown",
   "metadata": {},
   "source": [
    "![overall_measure.png](https://raw.githubusercontent.com/watson-developer-cloud/assistant-improve-recommendations-notebook/master/notebook/imgs/measure_overall.png)\n",
    "\n",
    "## Introduction\n",
    "\n",
    "This notebook demonstrates how to setup automated metrics that help you measure, monitor, and understand the behavior of your Watson Assistant system. As described in <a href=\"https://github.com/watson-developer-cloud/assistant-improve-recommendations-notebook/raw/master/notebook/IBM%20Watson%20Assistant%20Continuous%20Improvement%20Best%20Practices.pdf\" target=\"_blank\" rel=\"noopener noreferrer\">Watson Assistant Continuous Improvement Best Practices</a>, this is the first step of your continuous improvement process. The goal of this step is to understand where your assistant is doing well vs where it isn’t and to potentially focus your improvement effort to one of the problem areas identified. We define two measures to achieve this goal: **Coverage** and **Effectiveness**.\n",
    "\n",
    "- **Coverage** is the portion of total user messages your assistant is attempting to respond to.\n",
    "\n",
    "- **Effectiveness** refers to how well your assistant is handling the conversations it is attempting to respond to.\n",
    "\n",
    "The pre-requisite for running this notebook is Watson Assistant (formerly Watson Conversation). This notebook assumes familiarity with Watson Assistant and concepts such as workspaces, intents and training examples. \n",
    "\n",
    "### Programming language and environment\n",
    "Some familiarity with Python is recommended. This notebook runs on Python 3.5 with Default Python 3.5 XS environment.\n",
    "***"
   ]
  },
  {
   "cell_type": "markdown",
   "metadata": {},
   "source": [
    "## Table of contents"
   ]
  },
  {
   "cell_type": "markdown",
   "metadata": {},
   "source": [
    "1. [Configuration and setup](#setup)<br>\n",
    "    1.1 [Import and apply global CSS styles](#css)<br>\n",
    "    1.2 [Install required Python libraries](#python)<br>\n",
    "    1.3 [Import functions used in the notebook](#function)<br>\n",
    "2. [Load and format data](#load)<br>\n",
    "    2.1 [Option one: from a Watson Assistant instance](#load_remote)<br>\n",
    "    2.2 [Option two: from JSON files](#load_local)<br>\n",
    "    2.3 [Format the log data](#format_data)<br>\n",
    "3. [Define coverage and effectiveness metrics](#set_metrics)<br>\n",
    "    3.1 [Customize coverage](#set_coverage)<br>\n",
    "    3.2 [Customize effectiveness](#set_effectiveness)<br>\n",
    "4. [Calculate overall coverage and effectiveness](#overall)<br>\n",
    "    4.1 [Calculate overall metrics](#overall1)<br>\n",
    "    4.2 [Display overall results](#overall2)<br>\n",
    "5. [Analyze coverage](#msg_analysis)<br>\n",
    "    5.1 [Display overall coverage](#msg_analysis1)<br>\n",
    "    5.2 [Calculate coverage over time](#msg_analysis2)<br>\n",
    "6. [Analyze effectiveness](#conv_analysis)<br>\n",
    "    6.1 [Generate excel file and upload to our project](#conv_analysis1)<br>\n",
    "    6.2 [Plot breakdown by effectiveness graph](#conv_analysis2)<br>\n",
    "7. [Root cause analysis of non coverage](#root_cause)<br>\n",
    "8. [Abandoned and resolved intent analysis](#abandoned_resolved_intents)<br>\n",
    "    8.1 [Count of all started intents](#started_intents)<br>\n",
    "    8.2 [Analyze resolved intents](#resolved_intents)<br>\n",
    "    8.3 [Analyze abandoned intents](#abandoned_intents)<br>\n",
    "9. [Summary and next steps](#summary)<br>"
   ]
  },
  {
   "cell_type": "markdown",
   "metadata": {},
   "source": [
    "<a id=\"setup\"></a>\n",
    "## 1. Configuration and Setup\n",
    "\n",
    "In this section, we add data and workspace access credentials, import required libraries and functions."
   ]
  },
  {
   "cell_type": "markdown",
   "metadata": {},
   "source": [
    "### <a id=\"css\"></a> 1.1 Import and apply global CSS styles"
   ]
  },
  {
   "cell_type": "code",
   "execution_count": 1,
   "metadata": {},
   "outputs": [
    {
     "name": "stdout",
     "output_type": "stream",
     "text": [
      "  % Total    % Received % Xferd  Average Speed   Time    Time     Time  Current\n",
      "                                 Dload  Upload   Total   Spent    Left  Speed\n",
      "100   348  100   348    0     0    348      0  0:00:01 --:--:--  0:00:01   465\n"
     ]
    },
    {
     "data": {
      "text/html": [
       "<style>\n",
       "    h1 {\n",
       "        font-family: \"HelveticaNeue-Light\", \"Helvetica Neue Light\", \"Helvetica Neue\";\n",
       "    }\n",
       "    div.text_cell_render{\n",
       "        font-family: \"HelveticaNeue-Light\", \"Helvetica Neue Light\", \"Helvetica Neue\";\n",
       "        line-height: 145%;\n",
       "        font-size: 120%;\n",
       "    }\n",
       "    .warning{\n",
       "        color: rgb( 240, 20, 20 )\n",
       "        }  \n",
       "</style>\n"
      ],
      "text/plain": [
       "<IPython.core.display.HTML object>"
      ]
     },
     "execution_count": 1,
     "metadata": {},
     "output_type": "execute_result"
    }
   ],
   "source": [
    "from IPython.display import HTML\n",
    "!curl -O https://raw.githubusercontent.com/watson-developer-cloud/assistant-improve-recommendations-notebook/master/src/main/css/custom.css\n",
    "HTML(open('custom.css', 'r').read())"
   ]
  },
  {
   "cell_type": "markdown",
   "metadata": {},
   "source": [
    "### <a id=\"python\"></a> 1.2 Install required Python libraries"
   ]
  },
  {
   "cell_type": "code",
   "execution_count": 2,
   "metadata": {},
   "outputs": [
    {
     "name": "stdout",
     "output_type": "stream",
     "text": [
      "Requirement already up-to-date: ibm-watson==4.1.0 in /Users/zhezhang/.local/lib/python3.6/site-packages (4.1.0)\n",
      "Requirement already satisfied, skipping upgrade: python-dateutil>=2.5.3 in /Users/zhezhang/.local/lib/python3.6/site-packages (from ibm-watson==4.1.0) (2.8.1)\n",
      "Requirement already satisfied, skipping upgrade: ibm-cloud-sdk-core==1.0.0 in /Users/zhezhang/.local/lib/python3.6/site-packages (from ibm-watson==4.1.0) (1.0.0)\n",
      "Requirement already satisfied, skipping upgrade: requests<3.0,>=2.0 in /Users/zhezhang/.local/lib/python3.6/site-packages (from ibm-watson==4.1.0) (2.22.0)\n",
      "Requirement already satisfied, skipping upgrade: websocket-client==0.48.0 in /Users/zhezhang/.local/lib/python3.6/site-packages (from ibm-watson==4.1.0) (0.48.0)\n",
      "Requirement already satisfied, skipping upgrade: six>=1.5 in /Users/zhezhang/.local/lib/python3.6/site-packages (from python-dateutil>=2.5.3->ibm-watson==4.1.0) (1.14.0)\n",
      "Requirement already satisfied, skipping upgrade: PyJWT>=1.7.1 in /Users/zhezhang/.local/lib/python3.6/site-packages (from ibm-cloud-sdk-core==1.0.0->ibm-watson==4.1.0) (1.7.1)\n",
      "Requirement already satisfied, skipping upgrade: urllib3!=1.25.0,!=1.25.1,<1.26,>=1.21.1 in /Users/zhezhang/.local/lib/python3.6/site-packages (from requests<3.0,>=2.0->ibm-watson==4.1.0) (1.25.8)\n",
      "Requirement already satisfied, skipping upgrade: certifi>=2017.4.17 in /Users/zhezhang/.local/lib/python3.6/site-packages (from requests<3.0,>=2.0->ibm-watson==4.1.0) (2019.11.28)\n",
      "Requirement already satisfied, skipping upgrade: idna<2.9,>=2.5 in /Users/zhezhang/.local/lib/python3.6/site-packages (from requests<3.0,>=2.0->ibm-watson==4.1.0) (2.8)\n",
      "Requirement already satisfied, skipping upgrade: chardet<3.1.0,>=3.0.2 in /Users/zhezhang/.local/lib/python3.6/site-packages (from requests<3.0,>=2.0->ibm-watson==4.1.0) (3.0.4)\n",
      "\u001b[33mYou are using pip version 18.1, however version 20.0.2 is available.\n",
      "You should consider upgrading via the 'pip install --upgrade pip' command.\u001b[0m\n"
     ]
    }
   ],
   "source": [
    "# # install watson-developer-cloud python SDK\n",
    "# # After running this cell once, comment out the following code. Packages only need to be installed once.\n",
    "# !pip3 install --upgrade \"watson-developer-cloud>=1.0,<2.0\";\n",
    "\n",
    "!pip3 install --user --upgrade \"ibm-watson==4.1.0\";\n",
    "\n",
    "# # Import required libraries\n",
    "import pandas as pd\n",
    "import matplotlib.pyplot as plt\n",
    "import json\n",
    "from pandas.io.json import json_normalize\n",
    "from ibm_watson import AssistantV1\n",
    "import matplotlib.dates as mdates\n",
    "import re\n",
    "from IPython.display import display"
   ]
  },
  {
   "cell_type": "markdown",
   "metadata": {},
   "source": [
    "### <a id=\"function\"></a> 1.3 Import functions used in the notebook"
   ]
  },
  {
   "cell_type": "code",
   "execution_count": 3,
   "metadata": {},
   "outputs": [
    {
     "name": "stdout",
     "output_type": "stream",
     "text": [
      "  % Total    % Received % Xferd  Average Speed   Time    Time     Time  Current\n",
      "                                 Dload  Upload   Total   Spent    Left  Speed\n",
      "100  7240  100  7240    0     0   7240      0  0:00:01 --:--:--  0:00:01 10854\n",
      "  % Total    % Received % Xferd  Average Speed   Time    Time     Time  Current\n",
      "                                 Dload  Upload   Total   Spent    Left  Speed\n",
      "100  6422  100  6422    0     0   6422      0  0:00:01 --:--:--  0:00:01 10308\n",
      "  % Total    % Received % Xferd  Average Speed   Time    Time     Time  Current\n",
      "                                 Dload  Upload   Total   Spent    Left  Speed\n",
      "100 10169  100 10169    0     0  10169      0  0:00:01 --:--:--  0:00:01 19631\n",
      "  % Total    % Received % Xferd  Average Speed   Time    Time     Time  Current\n",
      "                                 Dload  Upload   Total   Spent    Left  Speed\n",
      "100 16775  100 16775    0     0  16775      0  0:00:01 --:--:--  0:00:01 22248\n"
     ]
    }
   ],
   "source": [
    "# Import function module files\n",
    "!curl -O https://raw.githubusercontent.com/watson-developer-cloud/assistant-improve-recommendations-notebook/master/src/main/python/cos_op.py\n",
    "!curl -O https://raw.githubusercontent.com/watson-developer-cloud/assistant-improve-recommendations-notebook/master/src/main/python/watson_assistant_func.py\n",
    "!curl -O https://raw.githubusercontent.com/watson-developer-cloud/assistant-improve-recommendations-notebook/master/src/main/python/visualize_func.py\n",
    "!curl -O https://raw.githubusercontent.com/watson-developer-cloud/assistant-improve-recommendations-notebook/master/src/main/python/computation_func.py\n",
    "    \n",
    "# Import the visualization related functions\n",
    "from visualize_func import make_pie\n",
    "from visualize_func import coverage_barh\n",
    "from visualize_func import width_bar\n",
    "\n",
    "# Import Cloud Object Storage related functions   \n",
    "from cos_op import generate_link\n",
    "from cos_op import generate_excel_measure\n",
    "\n",
    "# Import Watson Assistant related functions\n",
    "from ibm_cloud_sdk_core.authenticators import IAMAuthenticator\n",
    "from watson_assistant_func import get_logs_jupyter\n",
    "\n",
    "# Import Dataframe computation related functions\n",
    "from computation_func import get_effective_df\n",
    "from computation_func import get_coverage_df\n",
    "from computation_func import chk_is_valid_node\n",
    "from computation_func import format_data"
   ]
  },
  {
   "cell_type": "markdown",
   "metadata": {},
   "source": [
    "## <a id=\"load\"></a> 2. Load and format data "
   ]
  },
  {
   "cell_type": "markdown",
   "metadata": {},
   "source": [
    "### <a id=\"load_remote\"></a> 2.1 Option one: from a Watson Assistant instance\n",
    "\n",
    "#### 2.1.1 Add Watson Assistant configuration\n",
    "\n",
    "Provide your Watson Assistant credentials and the workspace id that you want to fetch data from.   \n",
    "\n",
    "- For more information about obtaining Watson Assistant credentials, see [Service credentials for Watson services](https://console.bluemix.net/docs/services/watson/getting-started-credentials.html#creating-credentials).\n",
    "- API requests require a version parameter that takes a date in the format version=YYYY-MM-DD. For more information about version, see [Versioning](https://www.ibm.com/watson/developercloud/assistant/api/v1/curl.html?curl#versioning).\n"
   ]
  },
  {
   "cell_type": "code",
   "execution_count": 4,
   "metadata": {},
   "outputs": [],
   "source": [
    "# Provide credentials to connect to assistant\n",
    "authenticator = IAMAuthenticator('API Key')\n",
    "assistant = AssistantV1(version='2018-07-10', authenticator=authenticator)\n",
    "assistant.set_service_url('URL')"
   ]
  },
  {
   "cell_type": "markdown",
   "metadata": {},
   "source": [
    "#### 2.1.2 Fetch and load a workspace\n",
    "\n",
    "Fetch the workspace for the workspace id given in `workspace_id` variable."
   ]
  },
  {
   "cell_type": "code",
   "execution_count": 5,
   "metadata": {},
   "outputs": [],
   "source": [
    "# Provide the workspace id you want to analyze\n",
    "workspace_id = ''\n",
    "\n",
    "if len(workspace_id) > 0:\n",
    "    # Fetch the worksapce info. for the input workspace id\n",
    "    print('Loading workspace data using workspace id: {}'.format(workspace_id))\n",
    "    workspace = assistant.get_workspace(workspace_id = workspace_id, export=True).get_result()\n",
    "\n",
    "    # Store the workspace details in a dataframe\n",
    "    df_workspace = json_normalize(workspace)\n",
    "\n",
    "    # Get all intents present in current version of workspace\n",
    "    workspace_intents= [intent['intent'] for intent in df_workspace['intents'].values[0]] \n",
    "\n",
    "    # Get all dialog nodes present in current version of workspace\n",
    "    workspace_nodes= pd.DataFrame(df_workspace['dialog_nodes'].values[0])\n",
    "\n",
    "    # Mark that the workspace has been loaded\n",
    "    workspace_loaded = True\n",
    "else:\n",
    "    workspace_loaded = False\n"
   ]
  },
  {
   "cell_type": "markdown",
   "metadata": {},
   "source": [
    "#### 2.1.3 Fetch and load workspace logs\n",
    "\n",
    "Fetch the logs for the workspace id given in `workspace_id` variable. Any necessary filter can be specified in the `filter` variable.<br>\n",
    "Note that if the logs were already fetched in a previous run, it will be read from the a cache file."
   ]
  },
  {
   "cell_type": "code",
   "execution_count": 6,
   "metadata": {
    "scrolled": false
   },
   "outputs": [],
   "source": [
    "if len(workspace_id) > 0:\n",
    "    print('Loading log data using workspace id: {}'.format(workspace_id))\n",
    "\n",
    "    # Filter to be applied while fetching logs, e.g., removing empty input 'meta.summary.input_text_length_i>0', 'response_timestamp>=2018-09-18'\n",
    "    filter = 'meta.summary.input_text_length_i>0'\n",
    "    \n",
    "    # Send this info into the get_logs function\n",
    "    workspace_creds={'sdk_object':assistant, 'ws_id':workspace['workspace_id'], 'ws_name':workspace['name']}\n",
    "\n",
    "    # Fetch the logs for the workspace\n",
    "    df = get_logs_jupyter(num_logs=10000, log_list=[], workspace_creds=workspace_creds, log_filter=filter)\n",
    "\n",
    "    # Mark that logs have been loaded\n",
    "    logs_loaded = True\n",
    "else:\n",
    "    logs_loaded = False \n"
   ]
  },
  {
   "cell_type": "markdown",
   "metadata": {},
   "source": [
    "### <a id=\"load_local\"></a> 2.2 Option two: from JSON files\n",
    "\n",
    "#### 2.2.1 Load a workspace JSON file"
   ]
  },
  {
   "cell_type": "code",
   "execution_count": 7,
   "metadata": {},
   "outputs": [
    {
     "name": "stdout",
     "output_type": "stream",
     "text": [
      "Loading workspace data from Watson developer cloud Github repo ... completed!\n"
     ]
    }
   ],
   "source": [
    "if not workspace_loaded:\n",
    "    \n",
    "    # The following code is for using demo workspace\n",
    "    import requests\n",
    "    print('Loading workspace data from Watson developer cloud Github repo ... ', end='')\n",
    "    workspace_data = requests.get(\"https://raw.githubusercontent.com/watson-developer-cloud/assistant-improve-recommendations-notebook/master/notebook/data/workspace.json\").text    \n",
    "    df_workspace = json_normalize(json.loads(workspace_data))\n",
    "    \n",
    "    # Specify a workspace JSON file\n",
    "    # workspace_file = 'workspace.json'\n",
    "    # print('Loading workspace data from {}'.format(workspace_file))\n",
    "\n",
    "    # Store the workspace details in a dataframe\n",
    "    # df_workspace = json_normalize(json.load(open(workspace_file)))\n",
    "\n",
    "    # Get all intents present in current version of workspace\n",
    "    workspace_intents = [intent['intent'] for intent in df_workspace['intents'].values[0]] \n",
    "\n",
    "    # Get all dialog nodes present in current version of workspace\n",
    "    workspace_nodes = pd.DataFrame(df_workspace['dialog_nodes'].values[0])\n",
    "    print('completed!')\n",
    "else:\n",
    "    print('Workspace has been loaded in Section 2.1.2.')"
   ]
  },
  {
   "cell_type": "markdown",
   "metadata": {},
   "source": [
    "#### 2.2.2 Load a log JSON file"
   ]
  },
  {
   "cell_type": "code",
   "execution_count": 8,
   "metadata": {
    "scrolled": false
   },
   "outputs": [
    {
     "name": "stdout",
     "output_type": "stream",
     "text": [
      "Loading demo log data from Watson developer cloud Github repo ... completed!\n"
     ]
    }
   ],
   "source": [
    "if not logs_loaded:\n",
    "    \n",
    "    # The following code is for using demo logs\n",
    "    import requests\n",
    "    print('Loading demo log data from Watson developer cloud Github repo ... ', end='')\n",
    "    log_raw_data = requests.get(\"https://raw.githubusercontent.com/watson-developer-cloud/assistant-improve-recommendations-notebook/master/notebook/data/sample_logs.json\").text\n",
    "    print('completed!')\n",
    "    df = pd.DataFrame.from_records(json.loads(log_raw_data))\n",
    "\n",
    "#     # The following code is for loading your log file\n",
    "#     # Specify a log JSON file\n",
    "#     log_file = 'sample_logs.json'\n",
    "#     print('Loading log data from {}'.format(log_file)) \n",
    "    \n",
    "#     # Create a dataframe for logs\n",
    "#     df = pd.DataFrame.from_records(json.load(open(log_file)))\n",
    "#     print('completed!')\n",
    "else:\n",
    "    print('Logs have been loaded in Section 2.1.3.')"
   ]
  },
  {
   "cell_type": "markdown",
   "metadata": {},
   "source": [
    "### <a id=\"format_data\"></a> 2.3 Format the log data"
   ]
  },
  {
   "cell_type": "code",
   "execution_count": 9,
   "metadata": {},
   "outputs": [],
   "source": [
    "# Format the logs data from the workspace\n",
    "df_formated = format_data(df)\n"
   ]
  },
  {
   "cell_type": "markdown",
   "metadata": {},
   "source": [
    "<a id=\"set_metrics\"></a>\n",
    "## 3. Define effectiveness and coverage metrics\n",
    "As described in Watson Assistant Continuous Improvement Best Practices, **Effectiveness** and **Coverage** are the two measures that provide a reliable understanding of your assistant’s overall performance. Both of the two measures are customizable based on your preferences. In this section, we provide a guideline for setting each of them."
   ]
  },
  {
   "cell_type": "markdown",
   "metadata": {},
   "source": [
    "### <a id=\"set_coverage\"></a> 3.1 Customize coverage\n",
    "\n",
    "Coverage measures your Watson Assistant system at the utterance level. You may include automated metrics that help identify utterences that your service is not answering. Example metrics include: \n",
    "\n",
    "- Confidence threshold\n",
    "- Dialog information\n",
    "\n",
    "For Confidence threshold, you can set a threshold to include utterances with confidence values below this threshold. For more information regarding Confidence, see [Absolute scoring](https://console.bluemix.net/docs/services/conversation/intents.html#absolute-scoring-and-mark-as-irrelevant).\n",
    "\n",
    "For Dialog information, you can specify what the notebook should look for in your logs to determine that a message is not covered by your assistant.\n",
    "\n",
    "- Use the node_ids list to include the identifiers of any dialog nodes you've used to model that a message is out of scope.  \n",
    "- Similarly, use the node_names list to include any dialog nodes.\n",
    "- Use node_conditions for dialog conditions that indicate a message is out of scope.\n",
    "    \n",
    "Note that these lists are treated as \"OR\" conditions - any occurrence of any of them will signify that a message is not covered. \n",
    "\n",
    "__Where to find node id, node name, and node condition__?\n",
    "\n",
    "You can find the values of these variables from your workspace JSON file based on following mappings.\n",
    "\n",
    "- node id: `dialog_node`\n",
    "- node name: `title`\n",
    "- node condition: `conditions`\n",
    "\n",
    "You can also find node name, and node condition in your workspace dialog editor. For more information, see [Dialog Nodes].(https://console.bluemix.net/docs/services/conversation/dialog-overview.html#dialog-nodes)\n",
    "\n",
    "Below we provide example code for identifying coverage based on confidence and dialog node. "
   ]
  },
  {
   "cell_type": "code",
   "execution_count": 10,
   "metadata": {},
   "outputs": [
    {
     "data": {
      "text/html": [
       "<div>\n",
       "<style>\n",
       "    .dataframe thead tr:only-child th {\n",
       "        text-align: right;\n",
       "    }\n",
       "\n",
       "    .dataframe thead th {\n",
       "        text-align: left;\n",
       "    }\n",
       "\n",
       "    .dataframe tbody tr th {\n",
       "        vertical-align: top;\n",
       "    }\n",
       "</style>\n",
       "<table border=\"1\" class=\"dataframe\">\n",
       "  <thead>\n",
       "    <tr style=\"text-align: right;\">\n",
       "      <th></th>\n",
       "      <th>Condition</th>\n",
       "      <th>Node ID</th>\n",
       "      <th>Node Name</th>\n",
       "      <th>Valid</th>\n",
       "    </tr>\n",
       "  </thead>\n",
       "  <tbody>\n",
       "    <tr>\n",
       "      <th>0</th>\n",
       "      <td>true</td>\n",
       "      <td>node_1_1467910920863</td>\n",
       "      <td>NaN</td>\n",
       "      <td>True</td>\n",
       "    </tr>\n",
       "    <tr>\n",
       "      <th>1</th>\n",
       "      <td>true</td>\n",
       "      <td>node_1_1467919680248</td>\n",
       "      <td>NaN</td>\n",
       "      <td>True</td>\n",
       "    </tr>\n",
       "    <tr>\n",
       "      <th>2</th>\n",
       "      <td>#out_of_scope || #off_topic</td>\n",
       "      <td>node_1_1467743415843</td>\n",
       "      <td>NaN</td>\n",
       "      <td>True</td>\n",
       "    </tr>\n",
       "    <tr>\n",
       "      <th>3</th>\n",
       "      <td>anything_else</td>\n",
       "      <td>node_2_1487280430136</td>\n",
       "      <td>NaN</td>\n",
       "      <td>True</td>\n",
       "    </tr>\n",
       "  </tbody>\n",
       "</table>\n",
       "</div>"
      ],
      "text/plain": [
       "                     Condition               Node ID Node Name Valid\n",
       "0                         true  node_1_1467910920863       NaN  True\n",
       "1                         true  node_1_1467919680248       NaN  True\n",
       "2  #out_of_scope || #off_topic  node_1_1467743415843       NaN  True\n",
       "3                anything_else  node_2_1487280430136       NaN  True"
      ]
     },
     "execution_count": 10,
     "metadata": {},
     "output_type": "execute_result"
    }
   ],
   "source": [
    "#Specify the confidence threhold you want to look for in the logs\n",
    "confidence_threshold = .20\n",
    "\n",
    "# Add coverage node ids, if any, to list\n",
    "node_ids = ['node_1_1467910920863', 'node_1_1467919680248']\n",
    "\n",
    "# Add coverage node names, if any, to list\n",
    "node_names = []\n",
    "\n",
    "# Add coverage node conditions, if any, to list\n",
    "node_conditions = ['#out_of_scope || #off_topic', 'anything_else']\n",
    "\n",
    "# Check if the dialog nodes are present in the current version of workspace\n",
    "df_coverage_nodes = chk_is_valid_node(node_ids, node_names, node_conditions, workspace_nodes)\n",
    "df_coverage_nodes"
   ]
  },
  {
   "cell_type": "markdown",
   "metadata": {},
   "source": [
    "### <a id=\"set_effectiveness\"></a> 3.2 Customize effectiveness\n",
    "\n",
    "Effectiveness measures your Watson Assistant system at the conversation level. You may include automated metrics that help identify problematic conversations. Example metrics include:\n",
    "\n",
    "- Escalations to live agent: conversations escalated to a human agent for quality reasons.\n",
    "- Poor NPS: conversations that received a poor NPS (Net Promoter Score), or other explicit user feedback.\n",
    "- Task not completed: conversations failed to complete the task the user was attempting.\n",
    "- Implicit feedback: conversations containing implicit feedback that suggests failure, such as links provided not being clicked. \n",
    "\n",
    "Below we provide example code for identifying escalation based on intents and dialog information."
   ]
  },
  {
   "cell_type": "markdown",
   "metadata": {},
   "source": [
    "#### <a id=\"set_escalation_intent\"></a> 3.2.1 Specify intents to identify escalations\n",
    "If you have specific intents that point to escalation or any other effectiveness measure, specify those in `chk_effective_intents` lists below. <br>\n",
    "**Note:** If you don't have specific intents to capture effectiveness, leave chk_effective_intents list empty."
   ]
  },
  {
   "cell_type": "code",
   "execution_count": 11,
   "metadata": {},
   "outputs": [
    {
     "data": {
      "text/html": [
       "<div>\n",
       "<style>\n",
       "    .dataframe thead tr:only-child th {\n",
       "        text-align: right;\n",
       "    }\n",
       "\n",
       "    .dataframe thead th {\n",
       "        text-align: left;\n",
       "    }\n",
       "\n",
       "    .dataframe tbody tr th {\n",
       "        vertical-align: top;\n",
       "    }\n",
       "</style>\n",
       "<table border=\"1\" class=\"dataframe\">\n",
       "  <thead>\n",
       "    <tr style=\"text-align: right;\">\n",
       "      <th></th>\n",
       "      <th>Intent</th>\n",
       "      <th>Valid</th>\n",
       "      <th>Count</th>\n",
       "    </tr>\n",
       "  </thead>\n",
       "  <tbody>\n",
       "    <tr>\n",
       "      <th>0</th>\n",
       "      <td>connect_to_agent</td>\n",
       "      <td>True</td>\n",
       "      <td>73</td>\n",
       "    </tr>\n",
       "  </tbody>\n",
       "</table>\n",
       "</div>"
      ],
      "text/plain": [
       "             Intent  Valid  Count\n",
       "0  connect_to_agent   True     73"
      ]
     },
     "execution_count": 11,
     "metadata": {},
     "output_type": "execute_result"
    }
   ],
   "source": [
    "# Add your escalation intents to the list\n",
    "chk_effective_intents=['connect_to_agent']\n",
    "\n",
    "# Store the intents in a dataframe\n",
    "df_chk_effective_intents = pd.DataFrame(chk_effective_intents, columns = ['Intent'])\n",
    "\n",
    "# Add a 'valid' flag to the dataframe\n",
    "df_chk_effective_intents['Valid']= True\n",
    "\n",
    "# Add count column for selected intents\n",
    "df_chk_effective_intents['Count']= 0\n",
    "\n",
    "# Checking the validity of the specified intents. Look out for the `valid` column in the table displayed below.\n",
    "for intent in chk_effective_intents:\n",
    "    # Check if intent is present in workspace\n",
    "    if intent not in workspace_intents:\n",
    "        # If not present, mark it as 'not valid'\n",
    "        df_chk_effective_intents.loc[df_chk_effective_intents['Intent']==intent,['Valid']] = False\n",
    "        # Remove intent from the chk_effective_intents list \n",
    "        chk_effective_intents.remove(intent)\n",
    "    else:\n",
    "        # Calculate number of times each intent is hit\n",
    "        count = df_formated.loc[df_formated['response.top_intent_intent']==intent]['log_id'].nunique()\n",
    "        df_chk_effective_intents.loc[df_chk_effective_intents['Intent']==intent,['Count']] = count\n",
    "# Display intents and validity\n",
    "df_chk_effective_intents"
   ]
  },
  {
   "cell_type": "markdown",
   "metadata": {},
   "source": [
    "#### <a id=\"set_escalation_dialog\"></a> 3.2.2 Specify  dialog nodes to identify escalations\n",
    "If you have specific dialog nodes that point to escalation or any other effectiveness measure, you can automated capture them based on three variables: node id, node name, and node condition.\n",
    "\n",
    "- Use the node_ids list to include the identifiers of any dialog nodes you've used to model that a message indicates an escalation.  \n",
    "- Similarly, use the node_names list to include dialog nodes.\n",
    "- Use node_conditions for dialog conditions that indicate a message is out of scope.\n",
    "\n",
    "Note that these lists are treated as \"OR\" conditions - any occurrence of any of them will signify that a message is not covered. \n",
    "\n",
    "__Where to find node id, node name, and node condition__?\n",
    "\n",
    "You can find the values of these variables from your workspace JSON file based on following mappings.\n",
    "\n",
    "- node id: `dialog_node`\n",
    "- node name: `title`\n",
    "- node condition: `conditions`\n",
    "\n",
    "You can also find node name, and node condition in your workspace dialog editor. For more information, see [Dialog Nodes](https://console.bluemix.net/docs/services/conversation/dialog-overview.html#dialog-nodes).\n",
    "\n",
    "**Note:** If your assistant does not incorporate escalations and you do not have any other automated conversation-level quality metrics to identify problematic conversations (e.g., poor NPS, task not completed), you can simply track coverage and average confidence over a recent sample of your entire production logs. Leave an empty list for node_ids, node_names and node_conditions.  "
   ]
  },
  {
   "cell_type": "code",
   "execution_count": 12,
   "metadata": {},
   "outputs": [
    {
     "data": {
      "text/html": [
       "<div>\n",
       "<style>\n",
       "    .dataframe thead tr:only-child th {\n",
       "        text-align: right;\n",
       "    }\n",
       "\n",
       "    .dataframe thead th {\n",
       "        text-align: left;\n",
       "    }\n",
       "\n",
       "    .dataframe tbody tr th {\n",
       "        vertical-align: top;\n",
       "    }\n",
       "</style>\n",
       "<table border=\"1\" class=\"dataframe\">\n",
       "  <thead>\n",
       "    <tr style=\"text-align: right;\">\n",
       "      <th></th>\n",
       "      <th>Condition</th>\n",
       "      <th>Node ID</th>\n",
       "      <th>Node Name</th>\n",
       "      <th>Valid</th>\n",
       "    </tr>\n",
       "  </thead>\n",
       "  <tbody>\n",
       "    <tr>\n",
       "      <th>0</th>\n",
       "      <td>#connect_to_agent</td>\n",
       "      <td>node_2_1537212368188</td>\n",
       "      <td>NaN</td>\n",
       "      <td>True</td>\n",
       "    </tr>\n",
       "    <tr>\n",
       "      <th>1</th>\n",
       "      <td>#answer_not_helpful</td>\n",
       "      <td>node_1_1537212185418</td>\n",
       "      <td>NaN</td>\n",
       "      <td>True</td>\n",
       "    </tr>\n",
       "    <tr>\n",
       "      <th>2</th>\n",
       "      <td>#not_trained</td>\n",
       "      <td>node_1_1537297843450</td>\n",
       "      <td>not_trained</td>\n",
       "      <td>True</td>\n",
       "    </tr>\n",
       "  </tbody>\n",
       "</table>\n",
       "</div>"
      ],
      "text/plain": [
       "             Condition               Node ID    Node Name Valid\n",
       "0    #connect_to_agent  node_2_1537212368188          NaN  True\n",
       "1  #answer_not_helpful  node_1_1537212185418          NaN  True\n",
       "2         #not_trained  node_1_1537297843450  not_trained  True"
      ]
     },
     "execution_count": 12,
     "metadata": {},
     "output_type": "execute_result"
    }
   ],
   "source": [
    "# Add effectiveness node ids, if any, to list\n",
    "node_ids = []\n",
    "\n",
    "# Add effectiveness node names, if any, to list\n",
    "node_names = ['not_trained']\n",
    "\n",
    "# Add effectiveness node conditions, if any, to list\n",
    "node_conditions = ['#connect_to_agent', '#answer_not_helpful']\n",
    "\n",
    "# If your assistant does not incorporate escalations and you do not have any other automated conversation-level quality metrics, uncomment lines below \n",
    "# node_ids = [] \n",
    "# node_names = [] \n",
    "# node_conditions = [] \n",
    "\n",
    "# Check if the dialog nodes are present in the current version of workspace\n",
    "df_chk_effective_nodes = chk_is_valid_node(node_ids, node_names, node_conditions, workspace_nodes)\n",
    "df_chk_effective_nodes"
   ]
  },
  {
   "cell_type": "markdown",
   "metadata": {},
   "source": [
    "## 4. Calculate overall coverage and effectiveness<a id=\"overall\"></a>"
   ]
  },
  {
   "cell_type": "markdown",
   "metadata": {},
   "source": [
    "The combination of effectiveness and coverage is very powerful for diagnostics.\n",
    "If your effectiveness and coverage metrics are high, it means that your assistant is responding to most inquiries and responding well. If either effectiveness or coverage are low, the metrics provide you with the information you need to start improving your assistant. \n"
   ]
  },
  {
   "cell_type": "markdown",
   "metadata": {},
   "source": [
    "###  4.1 Calculate overall metrics<a id=\"overall1\"></a>"
   ]
  },
  {
   "cell_type": "code",
   "execution_count": 13,
   "metadata": {},
   "outputs": [],
   "source": [
    "df_formated_copy = df_formated.copy(deep = True)\n",
    "\n",
    "# Mark if a message is covered and store results in df_coverage dataframe\n",
    "df_coverage = get_coverage_df(df_formated_copy , df_coverage_nodes, confidence_threshold)\n",
    "\n",
    "# Mark if a conversation is effective and store results in df_coverage dataframe\n",
    "# Note: set filter_non_intent_node to True for filtering nodes with no intents\n",
    "df_effective = get_effective_df(df_formated_copy, chk_effective_intents, df_chk_effective_nodes, filter_non_intent_node=False, workspace_nodes=workspace_nodes)\n",
    "\n",
    "# Calculate average confidence\n",
    "avg_conf = float(\"{0:.2f}\".format(df_coverage[df_coverage['Covered']==True]['response.top_intent_confidence'].mean()*100))\n",
    "\n",
    "# Calculate coverage\n",
    "coverage = float(\"{0:.2f}\".format((df_coverage['Covered'].value_counts().to_frame()['Covered'][True]/df_coverage['Covered'].value_counts().sum())*100))\n",
    "\n",
    "# Calculate effectiveness\n",
    "effective_perc = float(\"{0:.2f}\".format((df_effective.loc[df_effective['Escalated_conversation']==False]['response.context.conversation_id'].nunique()/df_effective['response.context.conversation_id'].nunique())*100))              \n",
    "\n",
    "# Plot pie graphs for coverage and effectiveness\n",
    "coverage_pie = make_pie(coverage, \"Percent of total messages covered\")\n",
    "effective_pie = make_pie(effective_perc, 'Percent of non-escalated conversations')"
   ]
  },
  {
   "cell_type": "markdown",
   "metadata": {},
   "source": [
    "Messages to be displayed with coverage and effectiveness metrics are given below"
   ]
  },
  {
   "cell_type": "code",
   "execution_count": 14,
   "metadata": {},
   "outputs": [],
   "source": [
    "# Messages to be displayed with effectiveness and coverage\n",
    "coverage_msg = '<h2>Coverage</h2></br>A message that is not covered would either be a \\\n",
    "message your assistant responded to with some form \\\n",
    "of “I’m not trained” or that it immediately handed over \\\n",
    "to a human agent without attempting to respond'\n",
    "\n",
    "effectiveness_msg = '<h2>Effectiveness</h2></br>This notebook provides a list of metrics customers \\\n",
    "can use to assess how effective their assistant is at \\\n",
    "responding to conversation and metrics '"
   ]
  },
  {
   "cell_type": "markdown",
   "metadata": {},
   "source": [
    "###  4.2 Display overall results<a id=\"overall2\"></a>\n"
   ]
  },
  {
   "cell_type": "code",
   "execution_count": 15,
   "metadata": {},
   "outputs": [
    {
     "data": {
      "text/html": [
       "<tr><th colspan=\"4\"><div align=\"center\"><h2>Coverage and Effectiveness<hr/></h2></div></th></tr><tr>    <td style=\"width:500px\"><img class=\"colimg\" src='data:image/png;base64,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'></td>    <td style=\"width:450px\"><div align=\"left\"> <h2>Coverage</h2></br>A message that is not covered would either be a message your assistant responded to with some form of “I’m not trained” or that it immediately handed over to a human agent without attempting to respond </div></td>    <td style=\"width:500px\"><img class=\"colimg\" src='data:image/png;base64,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'></td>    <td style=\"width:450px\"><div align=\"left\"> <h2>Effectiveness</h2></br>This notebook provides a list of metrics customers can use to assess how effective their assistant is at responding to conversation and metrics   </div></td></tr>"
      ],
      "text/plain": [
       "<IPython.core.display.HTML object>"
      ]
     },
     "execution_count": 15,
     "metadata": {},
     "output_type": "execute_result"
    }
   ],
   "source": [
    "# Display the coverage and effectiveness pie charts\n",
    "HTML('<tr><th colspan=\"4\"><div align=\"center\"><h2>Coverage and Effectiveness<hr/></h2></div></th></tr>\\\n",
    "<tr>\\\n",
    "    <td style=\"width:500px\">{c_pie}</td>\\\n",
    "    <td style=\"width:450px\"><div align=\"left\"> {c_msg} </div></td>\\\n",
    "    <td style=\"width:500px\">{e_pie}</td>\\\n",
    "    <td style=\"width:450px\"><div align=\"left\"> {e_msg}  </div></td>\\\n",
    "</tr>'\n",
    "    .format(c_pie=coverage_pie, c_msg = coverage_msg, e_pie = effective_pie, e_msg = effectiveness_msg))"
   ]
  },
  {
   "cell_type": "markdown",
   "metadata": {},
   "source": [
    "Here, we can see our assistant's coverage and effectiveness. We will have to take a deeper look at both of these metrics to understand the nuances and decide where we should focus next. \n",
    "\n",
    "Note that the distinction between a user message and a conversation. A conversation in Watson Assistant represents a session of one or more messages from a user and the associated responses returned to the user from the assistant. A conversation includes a Conversation id for the purposes of grouping a sequence of messages and responses. "
   ]
  },
  {
   "cell_type": "markdown",
   "metadata": {},
   "source": [
    "<a id=\"msg_analysis\"></a>\n",
    "## 5.  Analyze coverage\n",
    "\n",
    "Here, we take a deeper look at the Coverage of our Watson Assistant."
   ]
  },
  {
   "cell_type": "markdown",
   "metadata": {},
   "source": [
    "\n",
    "###  5.1 Display overall coverage<a id=\"msg_analysis1\"></a>\n"
   ]
  },
  {
   "cell_type": "code",
   "execution_count": 16,
   "metadata": {},
   "outputs": [
    {
     "name": "stdout",
     "output_type": "stream",
     "text": [
      "Overall messages\n",
      "================\n",
      "Total Conversations: 4319\n",
      "Total Messages: 7706\n",
      "\n",
      "\n"
     ]
    },
    {
     "data": {
      "image/png": "[encoded data removed]",
      "text/plain": [
       "<Figure size 1080x108 with 1 Axes>"
      ]
     },
     "metadata": {},
     "output_type": "display_data"
    }
   ],
   "source": [
    "%matplotlib inline  \n",
    "\n",
    "# Compute the number of conversations in the log\n",
    "convs = df_coverage['response.context.conversation_id'].nunique()\n",
    "\n",
    "# Compute the number of messages in the log\n",
    "msgs = df_coverage['response.context.conversation_id'].size\n",
    "\n",
    "#Display the results\n",
    "print('Overall messages\\n', \"=\" * len('Overall messages'), '\\nTotal Conversations: ', convs, '\\nTotal Messages: ', msgs, '\\n\\n', sep = '')\n",
    "\n",
    "#Display the coverage bar chart\n",
    "display(coverage_barh(coverage, avg_conf, 'Coverage & Average confidence', False))"
   ]
  },
  {
   "cell_type": "markdown",
   "metadata": {},
   "source": [
    "Here, we see the percentage of messages covered and their average confidence. Now, let us take a look at the coverage over time."
   ]
  },
  {
   "cell_type": "markdown",
   "metadata": {},
   "source": [
    "\n",
    "###  5.2 Calculate coverage over time<a id=\"msg_analysis2\"></a>\n"
   ]
  },
  {
   "cell_type": "code",
   "execution_count": 17,
   "metadata": {},
   "outputs": [],
   "source": [
    "# Make a copy of df_coverage dataframe\n",
    "df_Tbot_raw1 = df_coverage.copy(deep=True)\n",
    "\n",
    "# Group by date and covered and compute the count\n",
    "covered_counts = df_Tbot_raw1[['Date','Covered']].groupby(['Date','Covered']).agg({'Covered': 'count'})\n",
    "\n",
    "# Convert numbers to percentage\n",
    "coverage_grp = covered_counts.groupby(level=0).apply(lambda x:round(100 * x / float(x.sum()),2)).rename(columns = {'Covered':'Coverage'}).reset_index()\n",
    "\n",
    "# Get only covered messages\n",
    "coverage_time = coverage_grp[coverage_grp['Covered']==True].reset_index(drop = True)\n",
    "\n",
    "# Determine the number of xticks required\n",
    "xticks = [d for d in coverage_time['Date']]"
   ]
  },
  {
   "cell_type": "code",
   "execution_count": 18,
   "metadata": {},
   "outputs": [
    {
     "data": {
      "image/png": "[encoded data removed]",
      "text/plain": [
       "<Figure size 2160x576 with 1 Axes>"
      ]
     },
     "metadata": {
      "needs_background": "light"
     },
     "output_type": "display_data"
    }
   ],
   "source": [
    "# Plot the coverage over time graph\n",
    "fig, ax = plt.subplots(figsize=(30,8))\n",
    "\n",
    "# Format the date on x-axis\n",
    "ax.xaxis.set_major_formatter(mdates.DateFormatter('%Y-%m-%d'))\n",
    "ax.xaxis_date()\n",
    "ax.set_xticks(xticks)\n",
    "# Rotate x-axis labels\n",
    "for ax in fig.axes:\n",
    "    plt.sca(ax)\n",
    "    plt.xticks(rotation = 315)\n",
    "\n",
    "# Plot a line plot if there are more data points\n",
    "if len(coverage_time) >1:\n",
    "    ax.plot_date(coverage_time['Date'], coverage_time['Coverage'], fmt = '-', color = '#4fa8f6', linewidth=6)\n",
    "# Plot a scatter plot if there is only one date on x-axis\n",
    "else:\n",
    "    ax.plot_date(coverage_time['Date'], coverage_time['Coverage'], color = '#4fa8f6', linewidth=6)\n",
    "\n",
    "# Set axis labels and title\n",
    "ax.set_xlabel(\"Time\", fontsize=20, fontweight='bold')\n",
    "ax.set_ylabel(\"Coverage %\", fontsize=20, fontweight='bold')\n",
    "ax.set_title('Coverage over time', fontsize=25, fontweight = 'bold')\n",
    "ax.tick_params(axis='both', labelsize=15)\n",
    "\n",
    "# Hide the right and top spines\n",
    "ax.spines['right'].set_visible(False)\n",
    "ax.spines['top'].set_visible(False)"
   ]
  },
  {
   "cell_type": "markdown",
   "metadata": {},
   "source": [
    "**Note:** Compare the coverage over time with any major updates to your assistant, to see if the changes affected the performance."
   ]
  },
  {
   "cell_type": "markdown",
   "metadata": {
    "collapsed": true
   },
   "source": [
    "<a id=\"conv_analysis\"></a>\n",
    "## 6. Analyze effectiveness"
   ]
  },
  {
   "cell_type": "markdown",
   "metadata": {},
   "source": [
    "Here, we will take a deeper look at effectiveness of the assistant"
   ]
  },
  {
   "cell_type": "code",
   "execution_count": 19,
   "metadata": {},
   "outputs": [],
   "source": [
    "# Get the escalated conversations\n",
    "df_effective_true = df_effective.loc[df_effective['Escalated_conversation']==True]\n",
    "\n",
    "# Get the non-escalated conversations\n",
    "df_not_effective = df_effective.loc[df_effective['Escalated_conversation']==False]\n",
    "\n",
    "# Calculate percentage of escalated conversations\n",
    "ef_escalated = float(\"{0:.2f}\".format(100-effective_perc))\n",
    "\n",
    "# Calculate coverage and non-coverage in escalated conversations\n",
    "if len(df_effective_true) > 0:\n",
    "    escalated_covered = float(\"{0:.2f}\".format((df_effective_true['Covered'].value_counts().to_frame()['Covered'][True]/df_effective_true['Covered'].value_counts().sum())*100))\n",
    "    escalated_not_covered = float(\"{0:.2f}\".format(100- escalated_covered))\n",
    "else:\n",
    "    escalated_covered = 0\n",
    "    escalated_not_covered = 0\n",
    "\n",
    "# Calculate coverage and non-coverage in non-escalated conversations\n",
    "if len(df_not_effective) > 0:\n",
    "    not_escalated_covered = float(\"{0:.2f}\".format((df_not_effective['Covered'].value_counts().to_frame()['Covered'][True]/df_not_effective['Covered'].value_counts().sum())*100))\n",
    "    not_escalated_not_covered = float(\"{0:.2f}\".format(100 - not_escalated_covered))\n",
    "else:\n",
    "    not_escalated_covered = 0\n",
    "    not_escalated_not_covered = 0\n",
    "\n",
    "# Calculate average confidence of escalated conversations\n",
    "if len(df_effective_true) > 0:\n",
    "    esc_avg_conf = float(\"{0:.2f}\".format(df_effective_true[df_effective_true['Covered']==True]['response.top_intent_confidence'].mean()*100))\n",
    "else:\n",
    "    esc_avg_conf = 0\n",
    "    \n",
    "# Calculate average confidence of non-escalated conversations\n",
    "if len(df_not_effective) > 0:\n",
    "    not_esc_avg_conf = float(\"{0:.2f}\".format(df_not_effective[df_not_effective['Covered']==True]['response.top_intent_confidence'].mean()*100))\n",
    "else:\n",
    "    not_esc_avg_conf = 0"
   ]
  },
  {
   "cell_type": "markdown",
   "metadata": {},
   "source": [
    "###  6.1 Generate excel file and upload to our project<a id=\"conv_analysis1\"></a>"
   ]
  },
  {
   "cell_type": "code",
   "execution_count": 20,
   "metadata": {},
   "outputs": [],
   "source": [
    "# Copy the effective dataframe\n",
    "df_excel = df_effective.copy(deep=True)\n",
    "# Rename columns to generate excel\n",
    "df_excel = df_excel.rename(columns={'log_id':'Log ID', 'response.context.conversation_id':'Conversation ID',\n",
    "                           'response.timestamp':'Response Timestamp',\n",
    "                           'request_input':'Utterance Text',\n",
    "                           'response_text':'Response Text', 'response.top_intent_intent':'Detected top intent',\n",
    "                           'response.top_intent_confidence':'Detected top intent confidence',\n",
    "                           'Intent 2 intent': 'Intent 2', 'Intent 2 confidence':'Intent 2 Confidence', \n",
    "                           'Intent 3 intent': 'Intent 3', 'Intent 3 confidence':'Intent 3 Confidence',\n",
    "                           'response_entities':'Detected Entities', 'Escalated_conversation':'Escalated conversation?',\n",
    "                           'Covered':'Covered?', 'Not Covered cause':'Not covered - cause',\n",
    "                           'response.output.nodes_visited_s':'Dialog Flow', 'response_dialog_stack':'Dialog stack',\n",
    "                           'response_dialog_request_counter':'Dialog request counter', 'response_dialog_turn_counter':'Dialog turn counter'\n",
    "                           })\n",
    "\n",
    "existing_columns = ['Log ID', 'Conversation ID', 'Response Timestamp', 'Customer ID (must retain for delete)',\n",
    "                    'Utterance Text', 'Response Text', 'Detected top intent', 'Detected top intent confidence',\n",
    "                    'Intent 2', 'Intent 2 Confidence', 'Confidence gap (between 1 and 2)', 'Intent 3', 'Intent 3 Confidence',\n",
    "                    'Detected Entities', 'Escalated conversation?', 'Covered?', 'Not covered - cause',\n",
    "                    'Dialog Flow', 'Dialog stack', 'Dialog request counter', 'Dialog turn counter']\n",
    "# Add new columns for annotating problematic logs\n",
    "new_columns_excel = ['Response Correct (Y/N)?', 'Response Helpful (Y/N)?', 'Root cause (Problem with Intent, entity, dialog)',\n",
    "                     'Wrong intent? If yes, put the correct intent. Otherwise leave it blank', 'New intent needed? (A new intent. Otherwise leave blank)',\n",
    "                     'Add Utterance to Training data (Y/N)', 'Entity missed? If yes, put the missed entity value. Otherwise leave it blank', 'New entity needed? If yes, put the entity name',\n",
    "                     'New entity value? If yes, put the entity value', 'New dialog logic needed?', 'Wrong dialog node? If yes, put the node name. Otherwise leave it blank','No dialog node triggered']\n",
    "\n",
    "# Add the new columns to the dataframe\n",
    "df_excel = df_excel.reindex(columns=[*existing_columns, *new_columns_excel], fill_value='')"
   ]
  },
  {
   "cell_type": "code",
   "execution_count": 21,
   "metadata": {},
   "outputs": [],
   "source": [
    "# Set maximum sampling size\n",
    "SAMPLE_SIZE = 200\n",
    "\n",
    "# Set output filename\n",
    "all_file = 'All.xlsx'\n",
    "escalated_sample_file = 'Escalated_sample.xlsx'\n",
    "non_escalated_sample_file = 'NotEscalated_sample.xlsx'\n",
    "\n",
    "# Generate all covered sample file\n",
    "df_covered = df_excel[df_excel['Covered?']==True].reset_index(drop=True)\n",
    "\n",
    "# Generate all not covered sample file\n",
    "df_not_covered = df_excel[df_excel['Covered?']==False].reset_index(drop=True)\n",
    "\n",
    "# Convert to Excel format and upload to COS\n",
    "generate_excel_measure([df_covered,df_not_covered], ['Covered', 'Not_Covered'], filename=all_file, project_io=None)\n",
    "\n",
    "# Generate escalated and covered sample file\n",
    "df_escalated_true = df_excel.loc[df_excel['Escalated conversation?']==True]\n",
    "df_escalated_covered = df_escalated_true[df_escalated_true['Covered?']==True]\n",
    "if len(df_escalated_covered) > 0:\n",
    "    df_escalated_covered = df_escalated_covered.sample(n=min(len(df_escalated_covered), SAMPLE_SIZE), random_state=1).reset_index(drop=True)\n",
    "\n",
    "# Generate escalated but not covered sample file\n",
    "df_escalated_not_covered = df_escalated_true[df_escalated_true['Covered?']==False]\n",
    "if len(df_escalated_not_covered) > 0:\n",
    "    df_escalated_not_covered = df_escalated_not_covered.sample(n=min(len(df_escalated_not_covered), SAMPLE_SIZE), random_state=1).reset_index(drop=True)\n",
    "\n",
    "# Covert to Excel format and upload to COS\n",
    "generate_excel_measure([df_escalated_covered,df_escalated_not_covered], ['Covered', 'Not_Covered'], filename=escalated_sample_file, project_io=None)\n",
    "\n",
    "# Generate not escalated but covered sample file\n",
    "df_not_escalated = df_excel.loc[df_excel['Escalated conversation?']==False]\n",
    "df_not_escalated_covered = df_not_escalated[df_not_escalated['Covered?']==True]\n",
    "if len(df_not_escalated_covered) > 0:\n",
    "    df_not_escalated_covered = df_not_escalated_covered.sample(n=min(len(df_not_escalated_covered), SAMPLE_SIZE), random_state=1).reset_index(drop=True)\n",
    "\n",
    "# Generate not escalated and not covered sample file\n",
    "df_not_escalated_not_covered = df_not_escalated[df_not_escalated['Covered?']==False]\n",
    "if len(df_not_escalated_not_covered) > 0:\n",
    "    df_not_escalated_not_covered = df_not_escalated_covered.sample(n=min(len(df_not_escalated_not_covered), SAMPLE_SIZE), random_state=1).reset_index(drop=True)\n",
    "        \n",
    "# Covert to Excel format and upload to COS\n",
    "generate_excel_measure([df_not_escalated_covered,df_not_escalated_not_covered], ['Covered', 'Not_Covered'], filename=non_escalated_sample_file, project_io=None)"
   ]
  },
  {
   "cell_type": "markdown",
   "metadata": {},
   "source": [
    "###  6.2 Plot breakdown by effectiveness graph<a id=\"conv_analysis2\"></a>"
   ]
  },
  {
   "cell_type": "code",
   "execution_count": 22,
   "metadata": {},
   "outputs": [
    {
     "data": {
      "text/html": [
       "<tr><th colspan=\"4\"><div align=\"left\"><h2>Breakdown by effectiveness<hr/></h2></div></th></tr><tr><th colspan=\"4\"><div align=\"left\"><a id=\"file_list\"></a>View the lists here: <a href=All.xlsx target=\"_blank\">All.xlsx</a>&nbsp;&nbsp;&nbsp;<a href=Escalated_sample.xlsx target=\"_blank\">Escalated_sample.xlsx</a>&nbsp;&nbsp;&nbsp;<a href=NotEscalated_sample.xlsx target=\"_blank\">NotEscalated_sample.xlsx</a></div></th></tr><tr><td style= \"border-right: 1px solid black; border-bottom: 1px solid black; width : 400px\"><div align=\"left\"><strong>Effectiveness (Escalated)&nbsp;</br><font size=\"5\">3.13%</strong></font size></br></div></td>    <td style=\"width:1000px; height=100;\"><img class=\"colimg\" src='data:image/png;base64,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'></td></tr><tr><td style= \"border-right: 1px solid black; border-bottom: 1px solid black; width : 400px;\"><div align=\"left\"><strong>Effectiveness (Not escalated)&nbsp;</br><font size=\"5\">96.87%</strong></font size></br></div></td>    <td style=\"width:1000px; height=100;border-bottom: 1px solid black;\"><img class=\"colimg\" src='data:image/png;base64,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'></td></tr>"
      ],
      "text/plain": [
       "<IPython.core.display.HTML object>"
      ]
     },
     "execution_count": 22,
     "metadata": {},
     "output_type": "execute_result"
    }
   ],
   "source": [
    "#### Get the links to the excels\n",
    "all_html_link = '<a href={} target=\"_blank\">All.xlsx</a>'.format(all_file)\n",
    "escalated_html_link = '<a href={} target=\"_blank\">Escalated_sample.xlsx</a>'.format(escalated_sample_file)\n",
    "not_escalated_html_link = '<a href={} target=\"_blank\">NotEscalated_sample.xlsx</a>'.format(non_escalated_sample_file)\n",
    "\n",
    "# Embed the links in HTML table format\n",
    "link_html = '<tr><th colspan=\"4\"><div align=\"left\"><a id=\"file_list\"></a>View the lists here: {}&nbsp;&nbsp;&nbsp;{}&nbsp;&nbsp;&nbsp;{}</div></th></tr>'.format(all_html_link, escalated_html_link, not_escalated_html_link)\n",
    "\n",
    "if 100-effective_perc > 0:\n",
    "    escalated_bar = coverage_barh(escalated_covered, esc_avg_conf, '', True, 15, width_bar(100-effective_perc))\n",
    "else:\n",
    "    escalated_bar = ''\n",
    "\n",
    "if effective_perc > 0: \n",
    "    non_escalated_bar = coverage_barh(not_escalated_covered, not_esc_avg_conf, '' , True , 15,width_bar(effective_perc))\n",
    "else:\n",
    "    non_escalated_bar = ''\n",
    "\n",
    "# Plot the results\n",
    "HTML('<tr><th colspan=\"4\"><div align=\"left\"><h2>Breakdown by effectiveness<hr/></h2></div></th></tr>\\\n",
    "'+ link_html + '<tr><td style= \"border-right: 1px solid black; border-bottom: 1px solid black; width : 400px\"><div align=\"left\"><strong>Effectiveness (Escalated)&nbsp;</br>\\\n",
    "<font size=\"5\">{ef_escalated}%</strong></font size></br></div></td>\\\n",
    "    <td style=\"width:1000px; height=100;\">{one}</td></tr>\\\n",
    "<tr><td style= \"border-right: 1px solid black; border-bottom: 1px solid black; width : 400px;\"><div align=\"left\"><strong>Effectiveness (Not escalated)&nbsp;</br>\\\n",
    "<font size=\"5\">{effective_perc}%</strong></font size></br></div></td>\\\n",
    "    <td style=\"width:1000px; height=100;border-bottom: 1px solid black;\">{two}</td>\\\n",
    "</tr>'.format(ef_escalated= ef_escalated,\n",
    "              one = escalated_bar, \n",
    "              effective_perc = effective_perc, \n",
    "              two = non_escalated_bar)) \n"
   ]
  },
  {
   "cell_type": "markdown",
   "metadata": {},
   "source": [
    "You can download all the analyzed data from `All.xlsx`. A sample of escalated and non-escalated conversations are available in `Escalated_sample.xlsx` and `NotEscalated_sample.xlsx` respectively.\n"
   ]
  },
  {
   "cell_type": "markdown",
   "metadata": {},
   "source": [
    "<a id=\"root_cause\"></a>\n",
    "## 7. Root cause analysis of non coverage\n",
    "Lets us take a look at the reasons for non-coverage of messages"
   ]
  },
  {
   "cell_type": "code",
   "execution_count": 23,
   "metadata": {
    "scrolled": true
   },
   "outputs": [
    {
     "data": {
      "text/html": [
       "<div>\n",
       "<style>\n",
       "    .dataframe thead tr:only-child th {\n",
       "        text-align: right;\n",
       "    }\n",
       "\n",
       "    .dataframe thead th {\n",
       "        text-align: left;\n",
       "    }\n",
       "\n",
       "    .dataframe tbody tr th {\n",
       "        vertical-align: top;\n",
       "    }\n",
       "</style>\n",
       "<table border=\"1\" class=\"dataframe\">\n",
       "  <thead>\n",
       "    <tr style=\"text-align: right;\">\n",
       "      <th></th>\n",
       "      <th>Messages</th>\n",
       "      <th>Total</th>\n",
       "    </tr>\n",
       "  </thead>\n",
       "  <tbody>\n",
       "    <tr>\n",
       "      <th>0</th>\n",
       "      <td>'anything_else' node</td>\n",
       "      <td>724</td>\n",
       "    </tr>\n",
       "    <tr>\n",
       "      <th>1</th>\n",
       "      <td>'#out_of_scope || #off_topic' node</td>\n",
       "      <td>186</td>\n",
       "    </tr>\n",
       "  </tbody>\n",
       "</table>\n",
       "</div>"
      ],
      "text/plain": [
       "                             Messages  Total\n",
       "0                'anything_else' node    724\n",
       "1  '#out_of_scope || #off_topic' node    186"
      ]
     },
     "execution_count": 23,
     "metadata": {},
     "output_type": "execute_result"
    }
   ],
   "source": [
    "# Count the causes for non-coverage and store results in dataframe\n",
    "not_covered = pd.DataFrame(df_coverage['Not Covered cause'].value_counts().reset_index())\n",
    "# Name the columns in the dataframe\n",
    "not_covered.columns = ['Messages', 'Total']\n",
    "not_covered"
   ]
  },
  {
   "cell_type": "markdown",
   "metadata": {},
   "source": [
    "<a id=\"abandoned_resolved_intents\"></a>\n",
    "## 8. Abandoned and resolved intent analysis\n",
    "\n",
    "When users engage in a conversation session, an assistant identifies the intent of each message from the user. Based on the logic flow defined in a dialog tree, the assistant communicates with users and performs actions. The assistant may succeed or fail to satisfy users' intent.  One way to identify patterns of success or failure is by analyzing which intents most often lead to a dialog node associated with resolution, and which intents most often lead to users abandoning the session.  Analyzing resolved and abandoned intents can help you identify issues in your assistant to improve, such as a problematic dialog flow or imprecise intents. In this section, we demonstrate a method of conducting intent analysis using context variables.\n",
    "\n",
    "We introduce two context variables: `response_context_IntentStarted` and `response_context_IntentCompleted`.  You will need to modify your dialog skill definition (workspace) to introduce these variables in your dialog flow.  After you modify your dialog skill definition, your logs will be marked such that when users trigger a conversation with an intent, the assistant will use `response_context_IntentStarted` to record the intent. During the conversation, the assistant will use `response_context_IntentCompleted` to record if the intent is satisfied. Follow the steps below to add the context variables for an intent in your dialog skill definition.\n",
    "\n",
    "1. Open Dialog Overview page, see <a href=\"https://cloud.ibm.com/docs/services/assistant?topic=assistant-dialog-overview\" target=\"_blank\">Dialog Overview</a> for more information.\n",
    "2. Click the entry point node of the dialog node that is associated with the intent you want to analyze\n",
    "3. Open the context editor, see <a href=\"https://cloud.ibm.com/docs/services/assistant?topic=assistant-dialog-runtime#dialog-runtime-context-variables\" target=\"_blank\">Context Variables</a> for more information\n",
    "4. Add `response_context_IntentStarted` as a variable and \\[intent_name\\] as the value\n",
    "5. Follow the dialog flow to locate the satisfying node of the intent\n",
    "6. Open the context editor\n",
    "7. Add `response_context_IntentCompleted` as variable and \\[intent_name\\] as the value\n",
    "8. Repeat step 5-7 to mark all satisfying nodes of the intent if necessary\n",
    "\n",
    "Then repeat the above steps for every intent you want to analyze in this way.\n",
    "\n",
    "After completing the above steps, run the following code for intent analysis. Note that the analysis requires logs generated after the above changes. You will need to reload the updated workspace and logs."
   ]
  },
  {
   "cell_type": "markdown",
   "metadata": {},
   "source": [
    "###  8.1 Count of all started intents<a id=\"started_intents\"></a>"
   ]
  },
  {
   "cell_type": "code",
   "execution_count": 24,
   "metadata": {},
   "outputs": [
    {
     "data": {
      "text/html": [
       "<table border=\"1\" class=\"dataframe\">\n",
       "  <thead>\n",
       "    <tr style=\"text-align: right;\">\n",
       "      <th></th>\n",
       "      <th>Intent</th>\n",
       "      <th>Count</th>\n",
       "    </tr>\n",
       "  </thead>\n",
       "  <tbody>\n",
       "    <tr>\n",
       "      <th>0</th>\n",
       "      <td>locate_amenity</td>\n",
       "      <td>7</td>\n",
       "    </tr>\n",
       "    <tr>\n",
       "      <th>1</th>\n",
       "      <td>turn_on</td>\n",
       "      <td>6</td>\n",
       "    </tr>\n",
       "    <tr>\n",
       "      <th>2</th>\n",
       "      <td>phone</td>\n",
       "      <td>3</td>\n",
       "    </tr>\n",
       "    <tr>\n",
       "      <th>3</th>\n",
       "      <td>turn_up</td>\n",
       "      <td>2</td>\n",
       "    </tr>\n",
       "    <tr>\n",
       "      <th>4</th>\n",
       "      <td>turn_down</td>\n",
       "      <td>1</td>\n",
       "    </tr>\n",
       "    <tr>\n",
       "      <th>5</th>\n",
       "      <td>turn_off</td>\n",
       "      <td>1</td>\n",
       "    </tr>\n",
       "  </tbody>\n",
       "</table>"
      ],
      "text/plain": [
       "<IPython.core.display.HTML object>"
      ]
     },
     "metadata": {},
     "output_type": "display_data"
    }
   ],
   "source": [
    "# Define context variables\n",
    "start_intent_variable = 'response_context_IntentStarted'\n",
    "\n",
    "if start_intent_variable in df_formated:\n",
    "    # Group dataframe by conversation_id and start_intent_variable\n",
    "    df_intent_started = df_formated.groupby(['response.context.conversation_id', start_intent_variable]).count().reset_index()\n",
    "    # Refactors data to show only columns of conversation_id and start_intent_variable\n",
    "    df_intent_started = df_intent_started[['response.context.conversation_id', start_intent_variable]]\n",
    "\n",
    "    # Count the number of conversation_ids with each start_intent_variable\n",
    "    intent_started = df_intent_started[start_intent_variable].value_counts().reset_index()\n",
    "    intent_started.columns = ['Intent', 'Count']\n",
    "    display(HTML(intent_started.to_html()))\n",
    "else:\n",
    "    print('Cannot find \\'response_context_IntentStarted\\' and \\'response_context_IntentCompleted\\' in logs. Please check step 4 and make sure updated logs are reloaded.')\n"
   ]
  },
  {
   "cell_type": "markdown",
   "metadata": {},
   "source": [
    "###  8.2 Analyze resolved intents<a id=\"resolved_intents\"></a>"
   ]
  },
  {
   "cell_type": "code",
   "execution_count": 25,
   "metadata": {},
   "outputs": [
    {
     "name": "stdout",
     "output_type": "stream",
     "text": [
      "\n",
      "Count of resolved intents in all conversations\n",
      "================================================\n"
     ]
    },
    {
     "data": {
      "text/html": [
       "<table border=\"1\" class=\"dataframe\">\n",
       "  <thead>\n",
       "    <tr style=\"text-align: right;\">\n",
       "      <th></th>\n",
       "      <th>Intent</th>\n",
       "      <th>Count</th>\n",
       "    </tr>\n",
       "  </thead>\n",
       "  <tbody>\n",
       "    <tr>\n",
       "      <th>0</th>\n",
       "      <td>turn_on</td>\n",
       "      <td>5</td>\n",
       "    </tr>\n",
       "    <tr>\n",
       "      <th>1</th>\n",
       "      <td>phone</td>\n",
       "      <td>3</td>\n",
       "    </tr>\n",
       "    <tr>\n",
       "      <th>2</th>\n",
       "      <td>locate_amenity</td>\n",
       "      <td>3</td>\n",
       "    </tr>\n",
       "  </tbody>\n",
       "</table>"
      ],
      "text/plain": [
       "<IPython.core.display.HTML object>"
      ]
     },
     "metadata": {},
     "output_type": "display_data"
    },
    {
     "name": "stdout",
     "output_type": "stream",
     "text": [
      "\n",
      "Most resolved intents (%)\n",
      "===========================\n"
     ]
    },
    {
     "data": {
      "text/html": [
       "<table border=\"1\" class=\"dataframe\">\n",
       "  <thead>\n",
       "    <tr style=\"text-align: right;\">\n",
       "      <th></th>\n",
       "      <th>Intent</th>\n",
       "      <th>Percentage</th>\n",
       "    </tr>\n",
       "  </thead>\n",
       "  <tbody>\n",
       "    <tr>\n",
       "      <th>0</th>\n",
       "      <td>phone</td>\n",
       "      <td>100.0%</td>\n",
       "    </tr>\n",
       "    <tr>\n",
       "      <th>1</th>\n",
       "      <td>turn_on</td>\n",
       "      <td>83.3%</td>\n",
       "    </tr>\n",
       "    <tr>\n",
       "      <th>2</th>\n",
       "      <td>locate_amenity</td>\n",
       "      <td>42.9%</td>\n",
       "    </tr>\n",
       "  </tbody>\n",
       "</table>"
      ],
      "text/plain": [
       "<IPython.core.display.HTML object>"
      ]
     },
     "metadata": {},
     "output_type": "display_data"
    }
   ],
   "source": [
    "end_intent_variable = 'response_context_IntentCompleted'\n",
    "\n",
    "if end_intent_variable in df_formated:\n",
    "\n",
    "    # Group dataframe by conversation_id and end_intent_variable\n",
    "    df_intent_completed = df_formated.groupby(['response.context.conversation_id',end_intent_variable]).count().reset_index()\n",
    "    # Refactor data to show columns of conversation_id and end_intent_variable only\n",
    "    df_intent_completed = df_intent_completed[['response.context.conversation_id',end_intent_variable]]\n",
    "    # Count the number of conversation_ids with each end_intent_variable\n",
    "    intent_completed = df_intent_completed[end_intent_variable].value_counts().reset_index()\n",
    "    intent_completed.columns = ['Intent', 'Count']\n",
    "\n",
    "    # Show counts of resolved intents\n",
    "    intent_completed_title = '\\nCount of resolved intents in all conversations\\n'\n",
    "    print(intent_completed_title, \"=\" * len(intent_completed_title),'', sep = '')\n",
    "    display(HTML(intent_completed.to_html()))\n",
    "\n",
    "    # Convert dataframe to a list\n",
    "    res_intent_list = intent_completed.values.tolist()\n",
    "    # Get list of started intents\n",
    "    all_intent = df_intent_started[start_intent_variable].value_counts().reset_index().values.tolist()\n",
    "\n",
    "    # Loop over resolved intents list. Each element contains a pair of intent and count\n",
    "    data = []\n",
    "    for pair_ab in res_intent_list:\n",
    "        # Loop over each row of started intents. Each row contains a pair of intent and count\n",
    "        for pair_all in all_intent:\n",
    "            # Check if the intent name matches in started and resolved intents\n",
    "            if pair_ab[0] == pair_all[0]:\n",
    "                # Then acccesses the count from that matched intent, and calculate percentage\n",
    "                perc = (pair_ab[1]/pair_all[1])*100\n",
    "                # Add the matched intent name and percentage to data list\n",
    "                data.append([pair_ab[0],perc])\n",
    "\n",
    "    # Create a new dataframe with data list\n",
    "    resolved_percentage = pd.DataFrame(data=data).reset_index(drop=True)\n",
    "\n",
    "    # Format the dataframe, and orders data in descending order (shows highest percentage first)\n",
    "    resolved_percentage.columns = ['Intent','Percentage']\n",
    "    resolved_percentage.sort_values(ascending=False,inplace=True, by='Percentage')\n",
    "    # Format the data in the percentage column to include '%', and 1 decimal point\n",
    "    resolved_percentage['Percentage'] = resolved_percentage['Percentage'].apply(lambda x: \"{0:.1f}%\".format(x))\n",
    "    resolved_percentage.reset_index(drop=True, inplace=True)\n",
    "\n",
    "    # Show most resolved intents\n",
    "    most_resolved_intents = \"\\nMost resolved intents (%)\\n\"\n",
    "    print(most_resolved_intents, \"=\" * len(most_resolved_intents),'', sep = '')\n",
    "    display(HTML(resolved_percentage.to_html()))\n",
    "\n",
    "else:\n",
    "    print('Cannot find \\'response_context_IntentStarted\\' and \\'response_context_IntentCompleted\\' in logs. Please check step 4 and make sure updated logs are reloaded.')\n"
   ]
  },
  {
   "cell_type": "markdown",
   "metadata": {},
   "source": [
    "###  8.3 Analyze abandoned intents<a id=\"abandoned_intents\"></a>"
   ]
  },
  {
   "cell_type": "code",
   "execution_count": 26,
   "metadata": {},
   "outputs": [
    {
     "name": "stdout",
     "output_type": "stream",
     "text": [
      "\n",
      "Count of abandoned intents in all conversations\n",
      "=================================================\n"
     ]
    },
    {
     "data": {
      "text/html": [
       "<table border=\"1\" class=\"dataframe\">\n",
       "  <thead>\n",
       "    <tr style=\"text-align: right;\">\n",
       "      <th></th>\n",
       "      <th>Intent</th>\n",
       "      <th>Count</th>\n",
       "    </tr>\n",
       "  </thead>\n",
       "  <tbody>\n",
       "    <tr>\n",
       "      <th>0</th>\n",
       "      <td>locate_amenity</td>\n",
       "      <td>4</td>\n",
       "    </tr>\n",
       "    <tr>\n",
       "      <th>1</th>\n",
       "      <td>turn_on</td>\n",
       "      <td>2</td>\n",
       "    </tr>\n",
       "    <tr>\n",
       "      <th>2</th>\n",
       "      <td>turn_up</td>\n",
       "      <td>2</td>\n",
       "    </tr>\n",
       "    <tr>\n",
       "      <th>3</th>\n",
       "      <td>turn_down</td>\n",
       "      <td>1</td>\n",
       "    </tr>\n",
       "    <tr>\n",
       "      <th>4</th>\n",
       "      <td>turn_off</td>\n",
       "      <td>1</td>\n",
       "    </tr>\n",
       "  </tbody>\n",
       "</table>"
      ],
      "text/plain": [
       "<IPython.core.display.HTML object>"
      ]
     },
     "metadata": {},
     "output_type": "display_data"
    },
    {
     "name": "stdout",
     "output_type": "stream",
     "text": [
      "\n",
      "Most abandoned intents (%)\n",
      "============================\n"
     ]
    },
    {
     "data": {
      "text/html": [
       "<table border=\"1\" class=\"dataframe\">\n",
       "  <thead>\n",
       "    <tr style=\"text-align: right;\">\n",
       "      <th></th>\n",
       "      <th>Intent</th>\n",
       "      <th>Percentage</th>\n",
       "    </tr>\n",
       "  </thead>\n",
       "  <tbody>\n",
       "    <tr>\n",
       "      <th>0</th>\n",
       "      <td>turn_up</td>\n",
       "      <td>100.0%</td>\n",
       "    </tr>\n",
       "    <tr>\n",
       "      <th>1</th>\n",
       "      <td>turn_down</td>\n",
       "      <td>100.0%</td>\n",
       "    </tr>\n",
       "    <tr>\n",
       "      <th>2</th>\n",
       "      <td>turn_off</td>\n",
       "      <td>100.0%</td>\n",
       "    </tr>\n",
       "    <tr>\n",
       "      <th>3</th>\n",
       "      <td>locate_amenity</td>\n",
       "      <td>57.1%</td>\n",
       "    </tr>\n",
       "    <tr>\n",
       "      <th>4</th>\n",
       "      <td>turn_on</td>\n",
       "      <td>33.3%</td>\n",
       "    </tr>\n",
       "  </tbody>\n",
       "</table>"
      ],
      "text/plain": [
       "<IPython.core.display.HTML object>"
      ]
     },
     "metadata": {},
     "output_type": "display_data"
    }
   ],
   "source": [
    "if start_intent_variable in df_formated and end_intent_variable in df_formated:\n",
    "\n",
    "    # Create lists of started and end_intent_variable\n",
    "    intent_complete_list = df_intent_completed.values.tolist()\n",
    "    intent_started_list = df_intent_started.values.tolist()\n",
    "\n",
    "    # Looping over completed intents list. Each element contains a pair of conversation id and end_intent_variable\n",
    "    for pair in intent_complete_list:\n",
    "        # Checks if any element is found in list of started intents\n",
    "        if pair in intent_started_list:\n",
    "            # If found, remove that pair from the list of started intents\n",
    "            intent_started_list.remove(pair)\n",
    "\n",
    "    # Create a new dataframe with updated dataset. \n",
    "    # This updated dataset contains intents that have been started but not completed, thus categorised as abandoned\n",
    "    df_intent_abandoned = pd.DataFrame(data=intent_started_list)\n",
    "\n",
    "    # Group each pair (conversation id, intent abandoned), and show number of occurances of each abandoned intent\n",
    "    final_intent_abandoned = df_intent_abandoned[1].value_counts().reset_index()\n",
    "    final_intent_abandoned.columns = ['Intent','Count']\n",
    "\n",
    "    # Show counts of abandoned intents\n",
    "    intent_abandoned_title = '\\nCount of abandoned intents in all conversations\\n'\n",
    "    print(intent_abandoned_title, \"=\" * len(intent_abandoned_title),'', sep = '')\n",
    "    display(HTML(final_intent_abandoned.to_html()))\n",
    "\n",
    "    # Convert dataframe to a list\n",
    "    aban_intent_list = final_intent_abandoned.values.tolist()\n",
    "    # Get list of started intents\n",
    "    all_intent = df_intent_started[start_intent_variable].value_counts().reset_index().values.tolist()\n",
    "\n",
    "    # Loop over resolved intents list. Each element contains a pair of intent and count\n",
    "    data = []\n",
    "    for pair_ab in aban_intent_list:\n",
    "        # Loop over each row of started intents. Each row contains a pair of intent and count\n",
    "        for pair_all in all_intent:\n",
    "            # Check if the intent name matches in started and resolved intents\n",
    "            if pair_ab[0] == pair_all[0]:\n",
    "                # Then acccesse the count from that matched intent, and calculate percentage\n",
    "                perc = (pair_ab[1]/pair_all[1])*100\n",
    "                # Add the matched intent name and percentage to data list\n",
    "                data.append([pair_ab[0],perc])\n",
    "\n",
    "    # Create a new dataframe with data list\n",
    "    abandoned_percentage = pd.DataFrame(data=data).reset_index(drop=True)\n",
    "\n",
    "    # Format the dataframe, and orders data in descending order (shows highest percentage first)\n",
    "    abandoned_percentage.columns = ['Intent','Percentage']\n",
    "    abandoned_percentage.sort_values(ascending=False,inplace=True, by='Percentage')\n",
    "    abandoned_percentage.reset_index(drop=True, inplace=True)\n",
    "\n",
    "    # Format the data in the percentage column to include '%', and 1 decimal point\n",
    "    abandoned_percentage['Percentage'] = abandoned_percentage['Percentage'].apply(lambda x: \"{0:.1f}%\".format(x))\n",
    "\n",
    "    # Show most abandoned intents\n",
    "    most_abandoned_intents = \"\\nMost abandoned intents (%)\\n\"\n",
    "    print(most_abandoned_intents, \"=\" * len(most_abandoned_intents),'', sep = '')\n",
    "    display(HTML(abandoned_percentage.to_html()))\n",
    "\n",
    "else:\n",
    "    print('Cannot find \\'response_context_IntentStarted\\' and \\'response_context_IntentCompleted\\' in logs. Please check step 4 and make sure updated logs are reloaded.')\n"
   ]
  },
  {
   "cell_type": "markdown",
   "metadata": {},
   "source": [
    "Finally, we generate an Excel file that lists all conversations for which there are abandoned and resolved intents for further analysis."
   ]
  },
  {
   "cell_type": "code",
   "execution_count": 27,
   "metadata": {},
   "outputs": [
    {
     "data": {
      "text/html": [
       "Abandoned and resolved intents: <b><a href=Abandoned_Resolved.xlsx target=\"_blank\">Abandoned_Resolved.xlsx</a></b>"
      ],
      "text/plain": [
       "<IPython.core.display.HTML object>"
      ]
     },
     "metadata": {},
     "output_type": "display_data"
    }
   ],
   "source": [
    "if df_intent_abandoned is not None and df_intent_completed is not None:\n",
    "    \n",
    "    # Rename columns\n",
    "    df_intent_abandoned.columns = ['Conversation_id','Intent']\n",
    "    df_intent_completed.columns = ['Conversation_id','Intent']\n",
    "\n",
    "    # Generate excel file\n",
    "    file_name = 'Abandoned_Resolved.xlsx'\n",
    "    generate_excel_measure([df_intent_abandoned,df_intent_completed], ['Abandoned', 'Resolved'], filename= file_name, project_io=None)\n",
    "    link_html = 'Abandoned and resolved intents: <b><a href={} target=\"_blank\">Abandoned_Resolved.xlsx</a></b>'.format(file_name)\n",
    "\n",
    "    display(HTML(link_html))\n",
    "    \n",
    "else:\n",
    "    print('Cannot find \\'response_context_IntentStarted\\' and \\'response_context_IntentCompleted\\' in logs. Please check step 4 and make sure updated logs are reloaded.')\n"
   ]
  },
  {
   "cell_type": "markdown",
   "metadata": {},
   "source": [
    "<a id=\"summary\"></a>\n",
    "## 9. Summary and next steps\n",
    "\n",
    "The metrics described above help you narrow your immediate focus of improvement. We suggest the following two strategies: \n",
    "\n",
    "- **Toward improving Effectiveness**\n",
    "\n",
    "    We suggest focusing on a group of problematic conversations, e.g., escalated conversations, then performing a deeper analysis on these conversation as follows. <br>\n",
    "    1. Choose to download either the complete conversations ([All.xlsx](#file_list)), or sampled escalated conversations [Escalated_sample.xlsx](#file_list), or non-escalated conversations [NotEscalated_sample.xlsx](#file_list).<br>\n",
    "    2. Perform a manual assessment of these conversations.<br>\n",
    "    3. Analyze the results using our __Analyze Watson Assistant Effectiveness__ Jupyter Notebook.\n",
    "\n",
    "\n",
    "- **Toward improving Coverage**\n",
    "\n",
    "    For utterances where an intent was found but no response was given. We suggest performing a deeper analysis to identify  root causes, e.g., missing entities or lacking of dialog logic. \n",
    "\n",
    "    For utterances where no intent was found, we suggest expanding intent coverage as follows.\n",
    "\n",
    "    1. Examine utterances from the production log, especially focus on the utterances that are below the confidence (0.2 by default).\n",
    "    2. If you set a confidence threshold significantly higher than 0.2, we suggest looking at utterances that are below but close to the threshold.\n",
    "    3. Once you select a collection of utterances, intent expansion, you can focus on intent expansion by two methods:\n",
    "        - One-by-One: examine each utterance to either change to an existing intent or add a new intent.\n",
    "        - Unsupervised Learning: perform semantic clustering to generate utterance clusters; examine each cluster to decide (1) adding utterances of an existing intent or (2) creating a new intent.\n",
    "\n",
    "For more information, please check <a href=\"https://github.com/watson-developer-cloud/assistant-improve-recommendations-notebook/raw/master/notebook/IBM%20Watson%20Assistant%20Continuous%20Improvement%20Best%20Practices.pdf\" target=\"_blank\" rel=\"noopener noreferrer\">Watson Assistant Continuous Improvement Best Practices</a>."
   ]
  },
  {
   "cell_type": "markdown",
   "metadata": {},
   "source": [
    "### <a id=\"authors\"></a>Authors\n",
    "\n",
    "**Zhe Zhang**, Ph.D. in Computer Science, is a Data Scientist for IBM Watson AI. Zhe has a research background in Natural Language Processing, Sentiment Analysis, Text Mining, and Machine Learning. His research has been published at leading  conferences and journals including ACL and EMNLP.\n",
    "\n",
    "**Sherin Varughese** is a Data Scientist for IBM Watson AI. Sherin has her graduate degree in Business Intelligence and Data Analytics and has experience in Data Analysis, Warehousing and Machine Learning."
   ]
  },
  {
   "cell_type": "markdown",
   "metadata": {},
   "source": [
    "### <a id=\"acknowledgement\"></a> Acknowledgement\n",
    "\n",
    "The authors would like to thank the following members of the IBM Research and Watson Assistant teams for their contributions and reviews of the notebook:  Matt Arnold, Adam Benvie, Kyle Croutwater, Eric Wayne."
   ]
  },
  {
   "cell_type": "markdown",
   "metadata": {},
   "source": [
    "Copyright © 2020 IBM. This notebook and its source code are released under the terms of the MIT License."
   ]
  }
 ],
 "metadata": {
  "kernelspec": {
   "display_name": "Python 3",
   "language": "python",
   "name": "python3"
  },
  "language_info": {
   "codemirror_mode": {
    "name": "ipython",
    "version": 3
   },
   "file_extension": ".py",
   "mimetype": "text/x-python",
   "name": "python",
   "nbconvert_exporter": "python",
   "pygments_lexer": "ipython3",
   "version": "3.6.8"
  }
 },
 "nbformat": 4,
 "nbformat_minor": 1
}
