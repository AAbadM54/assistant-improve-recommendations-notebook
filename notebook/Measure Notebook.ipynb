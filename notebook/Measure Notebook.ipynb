{
 "cells": [
  {
   "cell_type": "markdown",
   "metadata": {},
   "source": [
    "# Measure Watson Assistant Performance "
   ]
  },
  {
   "cell_type": "markdown",
   "metadata": {},
   "source": [
    "![overall_measure.png](https://raw.githubusercontent.com/watson-developer-cloud/assistant-improve-recommendations-notebook/master/notebook/imgs/measure_overall.png)\n",
    "\n",
    "## Introduction\n",
    "\n",
    "This notebook demonstrates how to setup automated metrics that help you measure, monitor, and understand the behavior of your Watson Assistant system.As described in <a href=\"https://github.com/watson-developer-cloud/assistant-improve-recommendations-notebook/raw/master/notebook/IBM%20Watson%20Assistant%20Continuous%20Improvement%20Best%20Practices.pdf\" target=\"_blank\" rel=\"noopener noreferrer\">Watson Assistant Continuous Improvement Best Practices</a>, this is the first step of your continuous improvement process. The goal of this step is to understand where your assistant is doing well vs where it isn’t and to potentially focus your improvement effort to one of the problem areas identified. We define two measures to achieve this goal: **Coverage** and **Effectiveness**.\n",
    "\n",
    "- **Coverage** is the portion of total user messages your assistant is attempting to respond to.\n",
    "\n",
    "- **Effectiveness** refers to how well your assistant is handling the conversations it is attempting to respond to.\n",
    "\n",
    "The pre-requisite for running this notebook is Watson Assistant (formerly Watson Conversation). This notebook assumes familiarity with Watson Assistant and concepts such as workspaces, intents and training examples. \n",
    "\n",
    "### Programming language and environment\n",
    "Some familiarity with Python is recommended. This notebook runs on Python 3.5 with Default Python 3.5 XS environment.\n",
    "***"
   ]
  },
  {
   "cell_type": "markdown",
   "metadata": {},
   "source": [
    "## Table of contents"
   ]
  },
  {
   "cell_type": "markdown",
   "metadata": {},
   "source": [
    "1. [Configuration and setup](#setup)<br>\n",
    "    1.1 [Import and apply global CSS styles](#css)<br>\n",
    "    1.2 [Install required Python libraries](#python)<br>\n",
    "    1.3 [Import functions used in the notebook](#function)<br>\n",
    "2. [Load and format data](#load)<br>\n",
    "    2.1 [Option one: from a Watson Assistant instance](#load_remote)<br>\n",
    "    2.2 [Option two: from JSON files](#load_local)<br>\n",
    "    2.3 [Format the log data](#format_data)<br>\n",
    "3. [Define coverage and effectiveness metrics](#set_metrics)<br>\n",
    "    3.1 [Customize coverage](#set_coverage)<br>\n",
    "    3.2 [Customize effectiveness](#set_effectiveness)<br>\n",
    "4. [Calculate overall coverage and effectiveness](#overall)<br>\n",
    "    4.1 [Calculate overall metrics](#overall1)<br>\n",
    "    4.2 [Display overall results](#overall2)<br>\n",
    "5. [Analyze coverage](#msg_analysis)<br>\n",
    "    5.1 [Display overall coverage](#msg_analysis1)<br>\n",
    "    5.2 [Calculate coverage over time](#msg_analysis2)<br>\n",
    "6. [Analyze effectiveness](#conv_analysis)<br>\n",
    "    6.1 [Generate excel file and upload to our project](#conv_analysis1)<br>\n",
    "    6.2 [Plot breakdown by effectiveness graph](#conv_analysis2)<br>\n",
    "7. [Root cause analysis of non coverage](#root_cause)<br>\n",
    "8. [Summary and next steps](#summary)<br>"
   ]
  },
  {
   "cell_type": "markdown",
   "metadata": {},
   "source": [
    "<a id=\"setup\"></a>\n",
    "## 1. Configuration and Setup\n",
    "\n",
    "In this section, we add data and workspace access credentials, import required libraries and functions."
   ]
  },
  {
   "cell_type": "markdown",
   "metadata": {},
   "source": [
    "### <a id=\"css\"></a> 1.1 Import and apply global CSS styles"
   ]
  },
  {
   "cell_type": "code",
   "execution_count": 1,
   "metadata": {},
   "outputs": [
    {
     "name": "stdout",
     "output_type": "stream",
     "text": [
      "  % Total    % Received % Xferd  Average Speed   Time    Time     Time  Current\n",
      "                                 Dload  Upload   Total   Spent    Left  Speed\n",
      "100   348  100   348    0     0      0      0 --:--:-- --:--:-- --:--:--     0  348      0  0:00:01 --:--:--  0:00:01   768\n"
     ]
    },
    {
     "data": {
      "text/html": [
       "<style>\n",
       "    h1 {\n",
       "        font-family: \"HelveticaNeue-Light\", \"Helvetica Neue Light\", \"Helvetica Neue\";\n",
       "    }\n",
       "    div.text_cell_render{\n",
       "        font-family: \"HelveticaNeue-Light\", \"Helvetica Neue Light\", \"Helvetica Neue\";\n",
       "        line-height: 145%;\n",
       "        font-size: 120%;\n",
       "    }\n",
       "    .warning{\n",
       "        color: rgb( 240, 20, 20 )\n",
       "        }  \n",
       "</style>\n"
      ],
      "text/plain": [
       "<IPython.core.display.HTML object>"
      ]
     },
     "execution_count": 1,
     "metadata": {},
     "output_type": "execute_result"
    }
   ],
   "source": [
    "from IPython.display import HTML\n",
    "!curl -O https://raw.githubusercontent.com/watson-developer-cloud/assistant-improve-recommendations-notebook/master/src/main/css/custom.css\n",
    "HTML(open('custom.css', 'r').read())"
   ]
  },
  {
   "cell_type": "markdown",
   "metadata": {},
   "source": [
    "### <a id=\"python\"></a> 1.2 Install required Python libraries"
   ]
  },
  {
   "cell_type": "code",
   "execution_count": 2,
   "metadata": {},
   "outputs": [
    {
     "name": "stdout",
     "output_type": "stream",
     "text": [
      "Requirement already up-to-date: watson-developer-cloud<2.0,>=1.0 in /usr/local/lib/python3.6/site-packages (1.7.1)\n",
      "Requirement not upgraded as not directly required: requests<3.0,>=2.0 in /usr/local/lib/python3.6/site-packages (from watson-developer-cloud<2.0,>=1.0) (2.18.4)\n",
      "Requirement not upgraded as not directly required: python-dateutil>=2.5.3 in /usr/local/lib/python3.6/site-packages (from watson-developer-cloud<2.0,>=1.0) (2.6.1)\n",
      "Requirement not upgraded as not directly required: autobahn>=0.10.9 in /usr/local/lib/python3.6/site-packages (from watson-developer-cloud<2.0,>=1.0) (18.6.1)\n",
      "Requirement not upgraded as not directly required: pyOpenSSL>=16.2.0 in /usr/local/lib/python3.6/site-packages (from watson-developer-cloud<2.0,>=1.0) (18.0.0)\n",
      "Requirement not upgraded as not directly required: Twisted>=13.2.0 in /usr/local/lib/python3.6/site-packages (from watson-developer-cloud<2.0,>=1.0) (18.4.0)\n",
      "Requirement not upgraded as not directly required: service-identity>=17.0.0 in /usr/local/lib/python3.6/site-packages (from watson-developer-cloud<2.0,>=1.0) (17.0.0)\n",
      "Requirement not upgraded as not directly required: certifi>=2017.4.17 in /usr/local/lib/python3.6/site-packages (from requests<3.0,>=2.0->watson-developer-cloud<2.0,>=1.0) (2017.11.5)\n",
      "Requirement not upgraded as not directly required: idna<2.7,>=2.5 in /usr/local/lib/python3.6/site-packages (from requests<3.0,>=2.0->watson-developer-cloud<2.0,>=1.0) (2.6)\n",
      "Requirement not upgraded as not directly required: chardet<3.1.0,>=3.0.2 in /usr/local/lib/python3.6/site-packages (from requests<3.0,>=2.0->watson-developer-cloud<2.0,>=1.0) (3.0.4)\n",
      "Requirement not upgraded as not directly required: urllib3<1.23,>=1.21.1 in /usr/local/lib/python3.6/site-packages (from requests<3.0,>=2.0->watson-developer-cloud<2.0,>=1.0) (1.22)\n",
      "Requirement not upgraded as not directly required: six>=1.5 in /usr/local/lib/python3.6/site-packages (from python-dateutil>=2.5.3->watson-developer-cloud<2.0,>=1.0) (1.11.0)\n",
      "Requirement not upgraded as not directly required: txaio>=2.10.0 in /usr/local/lib/python3.6/site-packages (from autobahn>=0.10.9->watson-developer-cloud<2.0,>=1.0) (2.10.0)\n",
      "Requirement not upgraded as not directly required: cryptography>=2.2.1 in /usr/local/lib/python3.6/site-packages (from pyOpenSSL>=16.2.0->watson-developer-cloud<2.0,>=1.0) (2.2.2)\n",
      "Requirement not upgraded as not directly required: Automat>=0.3.0 in /usr/local/lib/python3.6/site-packages (from Twisted>=13.2.0->watson-developer-cloud<2.0,>=1.0) (0.7.0)\n",
      "Requirement not upgraded as not directly required: hyperlink>=17.1.1 in /usr/local/lib/python3.6/site-packages (from Twisted>=13.2.0->watson-developer-cloud<2.0,>=1.0) (18.0.0)\n",
      "Requirement not upgraded as not directly required: zope.interface>=4.4.2 in /usr/local/lib/python3.6/site-packages (from Twisted>=13.2.0->watson-developer-cloud<2.0,>=1.0) (4.5.0)\n",
      "Requirement not upgraded as not directly required: constantly>=15.1 in /usr/local/lib/python3.6/site-packages (from Twisted>=13.2.0->watson-developer-cloud<2.0,>=1.0) (15.1.0)\n",
      "Requirement not upgraded as not directly required: incremental>=16.10.1 in /usr/local/lib/python3.6/site-packages (from Twisted>=13.2.0->watson-developer-cloud<2.0,>=1.0) (17.5.0)\n",
      "Requirement not upgraded as not directly required: pyasn1 in /usr/local/lib/python3.6/site-packages (from service-identity>=17.0.0->watson-developer-cloud<2.0,>=1.0) (0.1.9)\n",
      "Requirement not upgraded as not directly required: attrs in /usr/local/lib/python3.6/site-packages (from service-identity>=17.0.0->watson-developer-cloud<2.0,>=1.0) (18.1.0)\n",
      "Requirement not upgraded as not directly required: pyasn1-modules in /usr/local/lib/python3.6/site-packages (from service-identity>=17.0.0->watson-developer-cloud<2.0,>=1.0) (0.2.2)\n",
      "Requirement not upgraded as not directly required: asn1crypto>=0.21.0 in /usr/local/lib/python3.6/site-packages (from cryptography>=2.2.1->pyOpenSSL>=16.2.0->watson-developer-cloud<2.0,>=1.0) (0.24.0)\n",
      "Requirement not upgraded as not directly required: cffi>=1.7; platform_python_implementation != \"PyPy\" in /usr/local/lib/python3.6/site-packages (from cryptography>=2.2.1->pyOpenSSL>=16.2.0->watson-developer-cloud<2.0,>=1.0) (1.11.5)\n",
      "Requirement not upgraded as not directly required: setuptools in /usr/local/lib/python3.6/site-packages (from zope.interface>=4.4.2->Twisted>=13.2.0->watson-developer-cloud<2.0,>=1.0) (39.0.1)\n",
      "Requirement not upgraded as not directly required: pycparser in /usr/local/lib/python3.6/site-packages (from cffi>=1.7; platform_python_implementation != \"PyPy\"->cryptography>=2.2.1->pyOpenSSL>=16.2.0->watson-developer-cloud<2.0,>=1.0) (2.18)\n",
      "\u001b[31mpyasn1-modules 0.2.2 has requirement pyasn1<0.5.0,>=0.4.1, but you'll have pyasn1 0.1.9 which is incompatible.\u001b[0m\n",
      "\u001b[33mYou are using pip version 10.0.1, however version 18.1 is available.\n",
      "You should consider upgrading via the 'pip install --upgrade pip' command.\u001b[0m\n"
     ]
    },
    {
     "name": "stderr",
     "output_type": "stream",
     "text": [
      ":0: UserWarning: You do not have a working installation of the service_identity module: 'cannot import name 'opentype''.  Please install it from <https://pypi.python.org/pypi/service_identity> and make sure all of its dependencies are satisfied.  Without the service_identity module, Twisted can perform only rudimentary TLS client hostname verification.  Many valid certificate/hostname mappings may be rejected.\n"
     ]
    }
   ],
   "source": [
    "# install watson-developer-cloud python SDK\n",
    "# After running this cell once, comment out the following code. Packages only need to be installed once.\n",
    "!pip3 install --upgrade \"watson-developer-cloud>=1.0,<2.0\";\n",
    "\n",
    "# Import required libraries\n",
    "import pandas as pd\n",
    "import matplotlib.pyplot as plt\n",
    "import json\n",
    "from pandas.io.json import json_normalize\n",
    "from watson_developer_cloud import AssistantV1\n",
    "import matplotlib.dates as mdates\n",
    "import re\n",
    "from IPython.display import display"
   ]
  },
  {
   "cell_type": "markdown",
   "metadata": {},
   "source": [
    "### <a id=\"function\"></a> 1.3 Import functions used in the notebook"
   ]
  },
  {
   "cell_type": "code",
   "execution_count": 3,
   "metadata": {},
   "outputs": [
    {
     "name": "stdout",
     "output_type": "stream",
     "text": [
      "  % Total    % Received % Xferd  Average Speed   Time    Time     Time  Current\n",
      "                                 Dload  Upload   Total   Spent    Left  Speed\n",
      "100  7170  100  7170    0     0   7170      0  0:00:01 --:--:--  0:00:01 22547\n",
      "  % Total    % Received % Xferd  Average Speed   Time    Time     Time  Current\n",
      "                                 Dload  Upload   Total   Spent    Left  Speed\n",
      "100  6987  100  6987    0     0   6987      0  0:00:01 --:--:--  0:00:01 22180\n",
      "  % Total    % Received % Xferd  Average Speed   Time    Time     Time  Current\n",
      "                                 Dload  Upload   Total   Spent    Left  Speed\n",
      "100 10166  100 10166    0     0  10166      0  0:00:01 --:--:--  0:00:01 28005\n",
      "  % Total    % Received % Xferd  Average Speed   Time    Time     Time  Current\n",
      "                                 Dload  Upload   Total   Spent    Left  Speed\n",
      "100 14524  100 14524    0     0  14524      0  0:00:01 --:--:--  0:00:01 39254\n"
     ]
    }
   ],
   "source": [
    "# Import function module files\n",
    "!curl -O https://raw.githubusercontent.com/watson-developer-cloud/assistant-improve-recommendations-notebook/master/src/main/python/cos_op.py\n",
    "!curl -O https://raw.githubusercontent.com/watson-developer-cloud/assistant-improve-recommendations-notebook/master/src/main/python/watson_assistant_func.py\n",
    "!curl -O https://raw.githubusercontent.com/watson-developer-cloud/assistant-improve-recommendations-notebook/master/src/main/python/visualize_func.py\n",
    "!curl -O https://raw.githubusercontent.com/watson-developer-cloud/assistant-improve-recommendations-notebook/master/src/main/python/computation_func.py\n",
    "    \n",
    "# Import the visualization related functions\n",
    "from visualize_func import make_pie\n",
    "from visualize_func import coverage_barh\n",
    "from visualize_func import width_bar\n",
    "\n",
    "# Import Cloud Object Storage related functions   \n",
    "from cos_op import generate_link\n",
    "from cos_op import generate_excel_measure\n",
    "\n",
    "# Import Watson Assistant related functions\n",
    "from watson_assistant_func import get_logs\n",
    "\n",
    "# Import Dataframe computation related functions\n",
    "from computation_func import get_effective_df\n",
    "from computation_func import get_coverage_df\n",
    "from computation_func import chk_is_valid_node\n",
    "from computation_func import format_data"
   ]
  },
  {
   "cell_type": "markdown",
   "metadata": {},
   "source": [
    "## <a id=\"load\"></a> 2. Load and format data "
   ]
  },
  {
   "cell_type": "markdown",
   "metadata": {},
   "source": [
    "### <a id=\"load_remote\"></a> 2.1 Option one: from a Watson Assistant instance\n",
    "\n",
    "#### 2.1.1 Add Watson Assistant configuration\n",
    "\n",
    "Provide your Watson Assistant credentials and the workspace id that you want to fetch data from.   \n",
    "\n",
    "- For more information about obtaining Watson Assistant credentials, see [Service credentials for Watson services](https://console.bluemix.net/docs/services/watson/getting-started-credentials.html#creating-credentials).\n",
    "- API requests require a version parameter that takes a date in the format version=YYYY-MM-DD. For more information about version, see [Versioning](https://www.ibm.com/watson/developercloud/assistant/api/v1/curl.html?curl#versioning).\n"
   ]
  },
  {
   "cell_type": "code",
   "execution_count": 4,
   "metadata": {},
   "outputs": [],
   "source": [
    "# Provide credentials to connect to assistant\n",
    "creds = {'username':'YOUR_USERNAME',\n",
    "         'password':'YOUR_PASSWORD',\n",
    "         'version':'2018-05-03'}\n",
    "\n",
    "# Connect to Watson Assistant\n",
    "conversation = AssistantV1(username=creds['username'], \n",
    "                           password=creds['password'], \n",
    "                           version=creds['version'])"
   ]
  },
  {
   "cell_type": "markdown",
   "metadata": {},
   "source": [
    "#### 2.1.2 Fetch and load a workspace\n",
    "\n",
    "Fetch the workspace for the workspace id given in `workspace_id` variable."
   ]
  },
  {
   "cell_type": "code",
   "execution_count": 5,
   "metadata": {},
   "outputs": [],
   "source": [
    "# Provide the workspace id you want to analyze\n",
    "workspace_id = ''\n",
    "\n",
    "if len(workspace_id) > 0:\n",
    "    # Fetch the worksapce info. for the input workspace id\n",
    "    workspace = conversation.get_workspace(workspace_id = workspace_id, export=True)\n",
    "\n",
    "    # Store the workspace details in a dataframe\n",
    "    df_workspace = json_normalize(workspace)\n",
    "\n",
    "    # Get all intents present in current version of workspace\n",
    "    workspace_intents= [intent['intent'] for intent in df_workspace['intents'].values[0]] \n",
    "\n",
    "    # Get all dialog nodes present in current version of workspace\n",
    "    workspace_nodes= pd.DataFrame(df_workspace['dialog_nodes'].values[0])\n",
    "\n",
    "    # Mark the workspace loaded\n",
    "    workspace_loaded = True\n",
    "else:\n",
    "    workspace_loaded = False"
   ]
  },
  {
   "cell_type": "markdown",
   "metadata": {},
   "source": [
    "#### 2.1.3 Fetch and load workspace logs\n",
    "\n",
    "Fetch the logs for the workspace id given in `workspace_id` variable. Any necessary filter can be specified in the `filter` variable.<br>\n",
    "Note that if the logs were already fetched in a previous run, it will be read from the a cache file."
   ]
  },
  {
   "cell_type": "code",
   "execution_count": 6,
   "metadata": {
    "scrolled": true
   },
   "outputs": [],
   "source": [
    "if len(workspace_id) > 0:\n",
    "    # Filter to be applied while fetching logs, e.g., removing empty input 'meta.summary.input_text_length_i>0', 'response_timestamp>=2018-09-18'\n",
    "    filter = 'meta.summary.input_text_length_i>0'\n",
    "\n",
    "    # Send this info into the get_logs function\n",
    "    project_creds={'project':project,'sdk_object':conversation, 'ws_id':workspace['workspace_id'], 'ws_name':workspace['name']}\n",
    "\n",
    "    # Fetch the logs for the workspace\n",
    "    df = get_logs(num_logs=10000, log_list=[], project_creds=project_creds, log_filter=filter)\n",
    "\n",
    "    # Mark the logs loaded\n",
    "    logs_loaded = True\n",
    "else:\n",
    "    logs_loaded = False   "
   ]
  },
  {
   "cell_type": "markdown",
   "metadata": {},
   "source": [
    "### <a id=\"load_local\"></a> 2.2 Option two: from JSON files\n",
    "\n",
    "#### 2.2.1 Load a workspace JSON file"
   ]
  },
  {
   "cell_type": "code",
   "execution_count": 7,
   "metadata": {},
   "outputs": [
    {
     "name": "stdout",
     "output_type": "stream",
     "text": [
      "Loading workspace data from Watson developer cloud Github repo ... completed!\n"
     ]
    }
   ],
   "source": [
    "if not workspace_loaded:\n",
    "    \n",
    "    # The following code is for using demo workspace\n",
    "    import requests\n",
    "    print('Loading workspace data from Watson developer cloud Github repo ... ', end='')\n",
    "    workspace_data = requests.get(\"https://raw.githubusercontent.com/watson-developer-cloud/assistant-improve-recommendations-notebook/master/notebook/data/workspace.json\").text    \n",
    "    print('completed!')\n",
    "    df_workspace = json_normalize(json.loads(workspace_data))\n",
    "    \n",
    "#     # Specify a workspace JSON file\n",
    "#     workspace_file = 'workspace.json'\n",
    "\n",
    "#     # Store the workspace details in a dataframe\n",
    "#     df_workspace = json_normalize(json.load(open(workspace_file)))\n",
    "\n",
    "    # Get all intents present in current version of workspace\n",
    "    workspace_intents = [intent['intent'] for intent in df_workspace['intents'].values[0]] \n",
    "\n",
    "    # Get all dialog nodes present in current version of workspace\n",
    "    workspace_nodes = pd.DataFrame(df_workspace['dialog_nodes'].values[0])"
   ]
  },
  {
   "cell_type": "markdown",
   "metadata": {},
   "source": [
    "#### 2.2.2 Load a log JSON file"
   ]
  },
  {
   "cell_type": "code",
   "execution_count": 8,
   "metadata": {
    "scrolled": false
   },
   "outputs": [
    {
     "name": "stdout",
     "output_type": "stream",
     "text": [
      "Loading demo log data from Watson developer cloud Github repo ... completed!\n"
     ]
    }
   ],
   "source": [
    "if not logs_loaded:\n",
    "    \n",
    "    # The following code is for using demo logs\n",
    "    import requests\n",
    "    print('Loading demo log data from Watson developer cloud Github repo ... ', end='')\n",
    "    log_raw_data = requests.get(\"https://raw.githubusercontent.com/watson-developer-cloud/assistant-improve-recommendations-notebook/master/notebook/data/sample_logs.json\").text\n",
    "    print('completed!')\n",
    "    df = pd.DataFrame.from_records(json.loads(log_raw_data))\n",
    "    \n",
    "#     # Specify a log JSON file\n",
    "#     log_file = 'sample_logs.json'\n",
    "    \n",
    "#     # Create a dataframe for logs\n",
    "#     df = pd.DataFrame.from_records(json.load(open(log_file)))"
   ]
  },
  {
   "cell_type": "markdown",
   "metadata": {},
   "source": [
    "### <a id=\"format_data\"></a> 2.3 Format the log data"
   ]
  },
  {
   "cell_type": "code",
   "execution_count": 9,
   "metadata": {},
   "outputs": [],
   "source": [
    "# Format the logs data from the workspace\n",
    "df_formated = format_data(df)"
   ]
  },
  {
   "cell_type": "markdown",
   "metadata": {},
   "source": [
    "<a id=\"set_metrics\"></a>\n",
    "## 3. Define effectiveness and coverage metrics\n",
    "As described in Watson Assistant Continuous Improvement Best Practices, **Effectiveness** and **Coverage** are the two measures that provide a reliable understanding of your assistant’s overall performance. Both of the two measures are customizable based on your preferences. In this section, we provide a guideline for setting each of them."
   ]
  },
  {
   "cell_type": "markdown",
   "metadata": {},
   "source": [
    "### <a id=\"set_coverage\"></a> 3.1 Customize coverage\n",
    "\n",
    "Coverage measures your Watson Assistant system at the utterance level. You may include automated metrics that help identify utterences that your service is not answering. Example metrics include: \n",
    "\n",
    "- Confidence threshold\n",
    "- Dialog information\n",
    "\n",
    "For Confidence threshold, you can set a threshold to include utterances with confidence values below this threshold. For more information regarding Confidence, see [Absolute scoring](https://console.bluemix.net/docs/services/conversation/intents.html#absolute-scoring-and-mark-as-irrelevant).\n",
    "\n",
    "For Dialog information, you can specify what the notebook should look for in your logs to determine that a message is not covered by your assistant.\n",
    "\n",
    "- Use the node_ids list to include the identifiers of any dialog nodes you've used to model that a message is out of scope.  \n",
    "- Similarly, use the node_names list to include any dialog nodes.\n",
    "- Use node_conditions for dialog conditions that indicate a message is out of scope.\n",
    "    \n",
    "Note that these lists are treated as \"OR\" conditions - any occurrence of any of them will signify that a message is not covered. \n",
    "\n",
    "__Where to find node id, node name, and node condition__?\n",
    "\n",
    "You can find the values of these variables from your workspace JSON file based on following mappings.\n",
    "\n",
    "- node id: `dialog_node`\n",
    "- node name: `title`\n",
    "- node condition: `conditions`\n",
    "\n",
    "You can also find node name, and node condition in your workspace dialog editor. For more information, see [Dialog Nodes].(https://console.bluemix.net/docs/services/conversation/dialog-overview.html#dialog-nodes)\n",
    "\n",
    "Below we provide example code for identifying coverage based on confidence and dialog node. "
   ]
  },
  {
   "cell_type": "code",
   "execution_count": 10,
   "metadata": {},
   "outputs": [
    {
     "data": {
      "text/html": [
       "<div>\n",
       "<style>\n",
       "    .dataframe thead tr:only-child th {\n",
       "        text-align: right;\n",
       "    }\n",
       "\n",
       "    .dataframe thead th {\n",
       "        text-align: left;\n",
       "    }\n",
       "\n",
       "    .dataframe tbody tr th {\n",
       "        vertical-align: top;\n",
       "    }\n",
       "</style>\n",
       "<table border=\"1\" class=\"dataframe\">\n",
       "  <thead>\n",
       "    <tr style=\"text-align: right;\">\n",
       "      <th></th>\n",
       "      <th>Condition</th>\n",
       "      <th>Node ID</th>\n",
       "      <th>Node Name</th>\n",
       "      <th>Valid</th>\n",
       "    </tr>\n",
       "  </thead>\n",
       "  <tbody>\n",
       "    <tr>\n",
       "      <th>0</th>\n",
       "      <td>true</td>\n",
       "      <td>node_1_1467910920863</td>\n",
       "      <td>NaN</td>\n",
       "      <td>True</td>\n",
       "    </tr>\n",
       "    <tr>\n",
       "      <th>1</th>\n",
       "      <td>true</td>\n",
       "      <td>node_1_1467919680248</td>\n",
       "      <td>NaN</td>\n",
       "      <td>True</td>\n",
       "    </tr>\n",
       "    <tr>\n",
       "      <th>2</th>\n",
       "      <td>#out_of_scope || #off_topic</td>\n",
       "      <td>node_1_1467743415843</td>\n",
       "      <td>NaN</td>\n",
       "      <td>True</td>\n",
       "    </tr>\n",
       "    <tr>\n",
       "      <th>3</th>\n",
       "      <td>anything_else</td>\n",
       "      <td>node_2_1487280430136</td>\n",
       "      <td>NaN</td>\n",
       "      <td>True</td>\n",
       "    </tr>\n",
       "  </tbody>\n",
       "</table>\n",
       "</div>"
      ],
      "text/plain": [
       "                     Condition               Node ID Node Name Valid\n",
       "0                         true  node_1_1467910920863       NaN  True\n",
       "1                         true  node_1_1467919680248       NaN  True\n",
       "2  #out_of_scope || #off_topic  node_1_1467743415843       NaN  True\n",
       "3                anything_else  node_2_1487280430136       NaN  True"
      ]
     },
     "execution_count": 10,
     "metadata": {},
     "output_type": "execute_result"
    }
   ],
   "source": [
    "#Specify the confidence threhold you want to look for in the logs\n",
    "confidence_threshold = .20\n",
    "\n",
    "# Add coverage node ids, if any, to list\n",
    "node_ids = ['node_1_1467910920863', 'node_1_1467919680248']\n",
    "\n",
    "# Add coverage node names, if any, to list\n",
    "node_names = []\n",
    "\n",
    "# Add coverage node conditions, if any, to list\n",
    "node_conditions = ['#out_of_scope || #off_topic', 'anything_else']\n",
    "\n",
    "# Check if the dialog nodes are present in the current version of workspace\n",
    "df_coverage_nodes = chk_is_valid_node(node_ids, node_names, node_conditions, workspace_nodes)\n",
    "df_coverage_nodes"
   ]
  },
  {
   "cell_type": "markdown",
   "metadata": {},
   "source": [
    "### <a id=\"set_effectiveness\"></a> 3.2 Customize effectiveness\n",
    "\n",
    "Effectiveness measures your Watson Assistant system at the conversation level. You may include automated metrics that help identify problematic conversations. Example metrics include:\n",
    "\n",
    "- Escalations to live agent: conversations escalated to a human agent for quality reasons.\n",
    "- Poor NPS: conversations that received a poor NPS (Net Promoter Score), or other explicit user feedback.\n",
    "- Task not completed: conversations failed to complete the task the user was attempting.\n",
    "- Implicit feedback: conversations containing implicit feedback that suggests failure, such as links provided not being clicked. \n",
    "\n",
    "Below we provide example code for identifying escalation based on intents and dialog information."
   ]
  },
  {
   "cell_type": "markdown",
   "metadata": {},
   "source": [
    "#### <a id=\"set_escalation_intent\"></a> 3.2.1 Specify intents to identify escalations\n",
    "If you have specific intents that point to escalation or any other effectiveness measure, specify those in `chk_effective_intents` lists below. <br>\n",
    "**Note:** If you don't have specific intents to capture effectiveness, leave chk_effective_intents list empty."
   ]
  },
  {
   "cell_type": "code",
   "execution_count": 11,
   "metadata": {},
   "outputs": [
    {
     "data": {
      "text/html": [
       "<div>\n",
       "<style>\n",
       "    .dataframe thead tr:only-child th {\n",
       "        text-align: right;\n",
       "    }\n",
       "\n",
       "    .dataframe thead th {\n",
       "        text-align: left;\n",
       "    }\n",
       "\n",
       "    .dataframe tbody tr th {\n",
       "        vertical-align: top;\n",
       "    }\n",
       "</style>\n",
       "<table border=\"1\" class=\"dataframe\">\n",
       "  <thead>\n",
       "    <tr style=\"text-align: right;\">\n",
       "      <th></th>\n",
       "      <th>Intent</th>\n",
       "      <th>Valid</th>\n",
       "    </tr>\n",
       "  </thead>\n",
       "  <tbody>\n",
       "    <tr>\n",
       "      <th>0</th>\n",
       "      <td>connect_to_agent</td>\n",
       "      <td>True</td>\n",
       "    </tr>\n",
       "  </tbody>\n",
       "</table>\n",
       "</div>"
      ],
      "text/plain": [
       "             Intent  Valid\n",
       "0  connect_to_agent   True"
      ]
     },
     "execution_count": 11,
     "metadata": {},
     "output_type": "execute_result"
    }
   ],
   "source": [
    "# Add your escalation intents to the list\n",
    "chk_effective_intents=['connect_to_agent']\n",
    "\n",
    "# Store the intents in a dataframe\n",
    "df_chk_effective_intents = pd.DataFrame(chk_effective_intents, columns = ['Intent'])\n",
    "\n",
    "# Add a 'valid' flag to the dataframe\n",
    "df_chk_effective_intents['Valid']= True\n",
    "\n",
    "# Checking the validity of the specified intents. Look out for the `valid` column in the table displayed below.\n",
    "for intent in chk_effective_intents:\n",
    "    # Check if intent is present in workspace\n",
    "    if intent not in workspace_intents:\n",
    "        # If not present, mark it as 'not valid'\n",
    "        df_chk_effective_intents.loc[df_chk_effective_intents['Intent']==intent,['Valid']] = False\n",
    "        # Remove intent from the chk_effective_intents list \n",
    "        chk_effective_intents.remove(intent)\n",
    "# Display intents and validity\n",
    "df_chk_effective_intents"
   ]
  },
  {
   "cell_type": "markdown",
   "metadata": {},
   "source": [
    "#### <a id=\"set_escalation_dialog\"></a> 3.2.2 Specify  dialog nodes to identify escalations\n",
    "If you have specific dialog nodes that point to escalation or any other effectiveness measure, you can automated capture them based on three variables: node id, node name, and node condition.\n",
    "\n",
    "- Use the node_ids list to include the identifiers of any dialog nodes you've used to model that a message indicates an escalation.  \n",
    "- Similarly, use the node_names list to include dialog nodes.\n",
    "- Use node_conditions for dialog conditions that indicate a message is out of scope.\n",
    "\n",
    "Note that these lists are treated as \"OR\" conditions - any occurrence of any of them will signify that a message is not covered. \n",
    "\n",
    "__Where to find node id, node name, and node condition__?\n",
    "\n",
    "You can find the values of these variables from your workspace JSON file based on following mappings.\n",
    "\n",
    "- node id: `dialog_node`\n",
    "- node name: `title`\n",
    "- node condition: `conditions`\n",
    "\n",
    "You can also find node name, and node condition in your workspace dialog editor. For more information, see [Dialog Nodes](https://console.bluemix.net/docs/services/conversation/dialog-overview.html#dialog-nodes).\n",
    "\n",
    "**Note:** If your assistant does not incorporate escalations and you do not have any other automated conversation-level quality metrics to identify problematic conversations (e.g., poor NPS, task not completed), you can simply track coverage and average confidence over a recent sample of your entire production logs. Leave an empty list for node_ids, node_names and node_conditions.  "
   ]
  },
  {
   "cell_type": "code",
   "execution_count": 12,
   "metadata": {},
   "outputs": [
    {
     "data": {
      "text/html": [
       "<div>\n",
       "<style>\n",
       "    .dataframe thead tr:only-child th {\n",
       "        text-align: right;\n",
       "    }\n",
       "\n",
       "    .dataframe thead th {\n",
       "        text-align: left;\n",
       "    }\n",
       "\n",
       "    .dataframe tbody tr th {\n",
       "        vertical-align: top;\n",
       "    }\n",
       "</style>\n",
       "<table border=\"1\" class=\"dataframe\">\n",
       "  <thead>\n",
       "    <tr style=\"text-align: right;\">\n",
       "      <th></th>\n",
       "      <th>Condition</th>\n",
       "      <th>Node ID</th>\n",
       "      <th>Node Name</th>\n",
       "      <th>Valid</th>\n",
       "    </tr>\n",
       "  </thead>\n",
       "  <tbody>\n",
       "    <tr>\n",
       "      <th>0</th>\n",
       "      <td>#connect_to_agent</td>\n",
       "      <td>node_2_1537212368188</td>\n",
       "      <td>NaN</td>\n",
       "      <td>True</td>\n",
       "    </tr>\n",
       "    <tr>\n",
       "      <th>1</th>\n",
       "      <td>#answer_not_helpful</td>\n",
       "      <td>node_1_1537212185418</td>\n",
       "      <td>NaN</td>\n",
       "      <td>True</td>\n",
       "    </tr>\n",
       "    <tr>\n",
       "      <th>2</th>\n",
       "      <td>#not_trained</td>\n",
       "      <td>node_1_1537297843450</td>\n",
       "      <td>not_trained</td>\n",
       "      <td>True</td>\n",
       "    </tr>\n",
       "  </tbody>\n",
       "</table>\n",
       "</div>"
      ],
      "text/plain": [
       "             Condition               Node ID    Node Name Valid\n",
       "0    #connect_to_agent  node_2_1537212368188          NaN  True\n",
       "1  #answer_not_helpful  node_1_1537212185418          NaN  True\n",
       "2         #not_trained  node_1_1537297843450  not_trained  True"
      ]
     },
     "execution_count": 12,
     "metadata": {},
     "output_type": "execute_result"
    }
   ],
   "source": [
    "# Add effectiveness node ids, if any, to list\n",
    "node_ids = []\n",
    "\n",
    "# Add effectiveness node names, if any, to list\n",
    "node_names = ['not_trained']\n",
    "\n",
    "# Add effectiveness node conditions, if any, to list\n",
    "node_conditions = ['#connect_to_agent', '#answer_not_helpful']\n",
    "\n",
    "# If your assistant does not incorporate escalations and you do not have any other automated conversation-level quality metrics, uncomment lines below \n",
    "# node_ids = [] \n",
    "# node_names = [] \n",
    "# node_conditions = [] \n",
    "\n",
    "# Check if the dialog nodes are present in the current version of workspace\n",
    "df_chk_effective_nodes = chk_is_valid_node(node_ids, node_names, node_conditions, workspace_nodes)\n",
    "df_chk_effective_nodes"
   ]
  },
  {
   "cell_type": "markdown",
   "metadata": {},
   "source": [
    "## 4. Calculate overall coverage and effectiveness<a id=\"overall\"></a>"
   ]
  },
  {
   "cell_type": "markdown",
   "metadata": {},
   "source": [
    "The combination of effectiveness and coverage is very powerful for diagnostics.\n",
    "If your effectiveness and coverage metrics are high, it means that your assistant is responding to most inquiries and responding well. If either effectiveness or coverage are low, the metrics provide you with the information you need to start improving your assistant. \n"
   ]
  },
  {
   "cell_type": "markdown",
   "metadata": {},
   "source": [
    "###  4.1 Calculate overall metrics<a id=\"overall1\"></a>"
   ]
  },
  {
   "cell_type": "code",
   "execution_count": 13,
   "metadata": {},
   "outputs": [],
   "source": [
    "df_formated_copy = df_formated.copy(deep = True)\n",
    "\n",
    "# Mark if a message is covered and store results in df_coverage dataframe\n",
    "df_coverage = get_coverage_df(df_formated_copy , df_coverage_nodes, confidence_threshold)\n",
    "\n",
    "# Mark if a conversation is effective and store results in df_coverage dataframe\n",
    "df_effective = get_effective_df(df_formated_copy, chk_effective_intents, df_chk_effective_nodes, filter_non_intent_node=True, workspace_nodes=workspace_nodes)\n",
    "\n",
    "# Calculate average confidence\n",
    "avg_conf = float(\"{0:.2f}\".format(df_coverage[df_coverage['Covered']==True]['response.top_intent_confidence'].mean()*100))\n",
    "\n",
    "# Calculate coverage\n",
    "coverage = float(\"{0:.2f}\".format((df_coverage['Covered'].value_counts().to_frame()['Covered'][True]/df_coverage['Covered'].value_counts().sum())*100))\n",
    "\n",
    "# Calculate effectiveness\n",
    "effective_perc = float(\"{0:.2f}\".format((df_effective.loc[df_effective['Escalated_conversation']==False]['response.context.conversation_id'].nunique()/df_effective['response.context.conversation_id'].nunique())*100))              \n",
    "\n",
    "# Plot pie graphs for coverage and effectiveness\n",
    "coverage_pie = make_pie(coverage, \"Percent of total messages covered\")\n",
    "effective_pie = make_pie(effective_perc, 'Percent of non-escalated conversations')"
   ]
  },
  {
   "cell_type": "markdown",
   "metadata": {},
   "source": [
    "Messages to be displayed with coverage and effectiveness metrics are given below"
   ]
  },
  {
   "cell_type": "code",
   "execution_count": 14,
   "metadata": {},
   "outputs": [],
   "source": [
    "# Messages to be displayed with effectiveness and coverage\n",
    "coverage_msg = '<h2>Coverage</h2></br>A message that is not covered would either be a \\\n",
    "message your assistant responded to with some form \\\n",
    "of “I’m not trained” or that it immediately handed over \\\n",
    "to a human agent without attempting to respond'\n",
    "\n",
    "effectiveness_msg = '<h2>Effectiveness</h2></br>This notebook provides a list of metrics customers \\\n",
    "can use to assess how effective their assistant is at \\\n",
    "responding to conversation and metrics '"
   ]
  },
  {
   "cell_type": "markdown",
   "metadata": {},
   "source": [
    "###  4.2 Display overall results<a id=\"overall2\"></a>\n"
   ]
  },
  {
   "cell_type": "code",
   "execution_count": 15,
   "metadata": {},
   "outputs": [
    {
     "data": {
      "text/html": [
       "<tr><th colspan=\"4\"><div align=\"center\"><h2>Coverage and Effectiveness<hr/></h2></div></th></tr><tr>    <td style=\"width:500px\"><img class=\"colimg\" src='data:image/png;base64,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'></td>    <td style=\"width:450px\"><div align=\"left\"> <h2>Coverage</h2></br>A message that is not covered would either be a message your assistant responded to with some form of “I’m not trained” or that it immediately handed over to a human agent without attempting to respond </div></td>    <td style=\"width:500px\"><img class=\"colimg\" src='data:image/png;base64,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'></td>    <td style=\"width:450px\"><div align=\"left\"> <h2>Effectiveness</h2></br>This notebook provides a list of metrics customers can use to assess how effective their assistant is at responding to conversation and metrics   </div></td></tr>"
      ],
      "text/plain": [
       "<IPython.core.display.HTML object>"
      ]
     },
     "execution_count": 15,
     "metadata": {},
     "output_type": "execute_result"
    }
   ],
   "source": [
    "# Display the coverage and effectiveness pie charts\n",
    "HTML('<tr><th colspan=\"4\"><div align=\"center\"><h2>Coverage and Effectiveness<hr/></h2></div></th></tr>\\\n",
    "<tr>\\\n",
    "    <td style=\"width:500px\">{c_pie}</td>\\\n",
    "    <td style=\"width:450px\"><div align=\"left\"> {c_msg} </div></td>\\\n",
    "    <td style=\"width:500px\">{e_pie}</td>\\\n",
    "    <td style=\"width:450px\"><div align=\"left\"> {e_msg}  </div></td>\\\n",
    "</tr>'\n",
    "    .format(c_pie=coverage_pie, c_msg = coverage_msg, e_pie = effective_pie, e_msg = effectiveness_msg))"
   ]
  },
  {
   "cell_type": "markdown",
   "metadata": {},
   "source": [
    "Here, we can see our assistant's coverage and effectiveness. We will have to take a deeper look at both of these metrics to understand the nuances and decide where we should focus next. \n",
    "\n",
    "Note that the distinction between a user message and a conversation. A conversation in Watson Assistant represents a session of one or more messages from a user and the associated responses returned to the user from the assistant. A conversation includes a Conversation id for the purposes of grouping a sequence of messages and responses. "
   ]
  },
  {
   "cell_type": "markdown",
   "metadata": {},
   "source": [
    "<a id=\"msg_analysis\"></a>\n",
    "## 5.  Analyze coverage\n",
    "\n",
    "Here, we take a deeper look at the Coverage of our Watson Assistant."
   ]
  },
  {
   "cell_type": "markdown",
   "metadata": {},
   "source": [
    "\n",
    "###  5.1 Display overall coverage<a id=\"msg_analysis1\"></a>\n"
   ]
  },
  {
   "cell_type": "code",
   "execution_count": 16,
   "metadata": {},
   "outputs": [
    {
     "name": "stdout",
     "output_type": "stream",
     "text": [
      "Overall messages\n",
      "================\n",
      "Total Conversations: 4298\n",
      "Total Messages: 7619\n",
      "\n",
      "\n"
     ]
    },
    {
     "data": {
      "image/png": "[encoded data removed]",
      "text/plain": [
       "<matplotlib.figure.Figure at 0x1059785c0>"
      ]
     },
     "metadata": {},
     "output_type": "display_data"
    }
   ],
   "source": [
    "%matplotlib inline  \n",
    "\n",
    "# Compute the number of conversations in the log\n",
    "convs = df_coverage['response.context.conversation_id'].nunique()\n",
    "\n",
    "# Compute the number of messages in the log\n",
    "msgs = df_coverage['response.context.conversation_id'].size\n",
    "\n",
    "#Display the results\n",
    "print('Overall messages\\n', \"=\" * len('Overall messages'), '\\nTotal Conversations: ', convs, '\\nTotal Messages: ', msgs, '\\n\\n', sep = '')\n",
    "\n",
    "#Display the coverage bar chart\n",
    "display(coverage_barh(coverage, avg_conf, 'Coverage & Average confidence', False))"
   ]
  },
  {
   "cell_type": "markdown",
   "metadata": {},
   "source": [
    "Here, we see the percentage of messages covered and their average confidence. Now, let us take a look at the coverage over time."
   ]
  },
  {
   "cell_type": "markdown",
   "metadata": {},
   "source": [
    "\n",
    "###  5.2 Calculate coverage over time<a id=\"msg_analysis2\"></a>\n"
   ]
  },
  {
   "cell_type": "code",
   "execution_count": 17,
   "metadata": {},
   "outputs": [],
   "source": [
    "# Make a copy of df_coverage dataframe\n",
    "df_Tbot_raw1 = df_coverage.copy(deep=True)\n",
    "\n",
    "# Group by date and covered and compute the count\n",
    "covered_counts = df_Tbot_raw1[['Date','Covered']].groupby(['Date','Covered']).agg({'Covered': 'count'})\n",
    "\n",
    "# Convert numbers to percentage\n",
    "coverage_grp = covered_counts.groupby(level=0).apply(lambda x:round(100 * x / float(x.sum()),2)).rename(columns = {'Covered':'Coverage'}).reset_index()\n",
    "\n",
    "# Get only covered messages\n",
    "coverage_time = coverage_grp[coverage_grp['Covered']==True].reset_index(drop = True)\n",
    "\n",
    "# Determine the number of xticks required\n",
    "xticks = [d for d in coverage_time['Date']]"
   ]
  },
  {
   "cell_type": "code",
   "execution_count": 18,
   "metadata": {},
   "outputs": [
    {
     "data": {
      "image/png": "[encoded data removed]",
      "text/plain": [
       "<matplotlib.figure.Figure at 0x110b71358>"
      ]
     },
     "metadata": {},
     "output_type": "display_data"
    }
   ],
   "source": [
    "# Plot the coverage over time graph\n",
    "fig, ax = plt.subplots(figsize=(30,8))\n",
    "\n",
    "# Format the date on x-axis\n",
    "ax.xaxis.set_major_formatter(mdates.DateFormatter('%Y-%m-%d'))\n",
    "ax.xaxis_date()\n",
    "ax.set_xticks(xticks)\n",
    "\n",
    "# Plot a line plot if there are more data points\n",
    "if len(coverage_time) >1:\n",
    "    ax.plot_date(coverage_time['Date'], coverage_time['Coverage'], fmt = '-', color = '#4fa8f6', linewidth=6)\n",
    "# Plot a scatter plot if there is only one date on x-axis\n",
    "else:\n",
    "    ax.plot_date(coverage_time['Date'], coverage_time['Coverage'], color = '#4fa8f6', linewidth=6)\n",
    "\n",
    "# Set axis labels and title\n",
    "ax.set_xlabel(\"Time\", fontsize=20, fontweight='bold')\n",
    "ax.set_ylabel(\"Coverage %\", fontsize=20, fontweight='bold')\n",
    "ax.set_title('Coverage over time', fontsize=25, fontweight = 'bold')\n",
    "ax.tick_params(axis='both', labelsize=15)\n",
    "\n",
    "# Hide the right and top spines\n",
    "ax.spines['right'].set_visible(False)\n",
    "ax.spines['top'].set_visible(False)"
   ]
  },
  {
   "cell_type": "markdown",
   "metadata": {},
   "source": [
    "**Note:** Compare the coverage over time with any major updates to your assistant, to see if the changes affected the performance."
   ]
  },
  {
   "cell_type": "markdown",
   "metadata": {
    "collapsed": true
   },
   "source": [
    "<a id=\"conv_analysis\"></a>\n",
    "## 6. Analyze effectiveness"
   ]
  },
  {
   "cell_type": "markdown",
   "metadata": {},
   "source": [
    "Here, we will take a deeper look at effectiveness of the assistant"
   ]
  },
  {
   "cell_type": "code",
   "execution_count": 19,
   "metadata": {},
   "outputs": [],
   "source": [
    "# Get the escalated conversations\n",
    "df_effective_true = df_effective.loc[df_effective['Escalated_conversation']==True]\n",
    "\n",
    "# Get the non-escalated conversations\n",
    "df_not_effective = df_effective.loc[df_effective['Escalated_conversation']==False]\n",
    "\n",
    "# Calculate percentage of escalated conversations\n",
    "ef_escalated = float(\"{0:.2f}\".format(100-effective_perc))\n",
    "\n",
    "# Calculate coverage and non-coverage in escalated conversations\n",
    "if len(df_effective_true) > 0:\n",
    "    escalated_covered = float(\"{0:.2f}\".format((df_effective_true['Covered'].value_counts().to_frame()['Covered'][True]/df_effective_true['Covered'].value_counts().sum())*100))\n",
    "    escalated_not_covered = float(\"{0:.2f}\".format(100- escalated_covered))\n",
    "else:\n",
    "    escalated_covered = 0\n",
    "    escalated_not_covered = 0\n",
    "\n",
    "# Calculate coverage and non-coverage in non-escalated conversations\n",
    "if len(df_not_effective) > 0:\n",
    "    not_escalated_covered = float(\"{0:.2f}\".format((df_not_effective['Covered'].value_counts().to_frame()['Covered'][True]/df_not_effective['Covered'].value_counts().sum())*100))\n",
    "    not_escalated_not_covered = float(\"{0:.2f}\".format(100 - not_escalated_covered))\n",
    "else:\n",
    "    not_escalated_covered = 0\n",
    "    not_escalated_not_covered = 0\n",
    "\n",
    "# Calculate average confidence of escalated conversations\n",
    "if len(df_effective_true) > 0:\n",
    "    esc_avg_conf = float(\"{0:.2f}\".format(df_effective_true[df_effective_true['Covered']==True]['response.top_intent_confidence'].mean()*100))\n",
    "else:\n",
    "    esc_avg_conf = 0\n",
    "    \n",
    "# Calculate average confidence of non-escalated conversations\n",
    "if len(df_not_effective) > 0:\n",
    "    not_esc_avg_conf = float(\"{0:.2f}\".format(df_not_effective[df_not_effective['Covered']==True]['response.top_intent_confidence'].mean()*100))\n",
    "else:\n",
    "    not_esc_avg_conf = 0"
   ]
  },
  {
   "cell_type": "markdown",
   "metadata": {},
   "source": [
    "###  6.1 Generate excel file and upload to our project<a id=\"conv_analysis1\"></a>"
   ]
  },
  {
   "cell_type": "code",
   "execution_count": 20,
   "metadata": {},
   "outputs": [],
   "source": [
    "# Copy the effective dataframe\n",
    "df_excel = df_effective.copy(deep=True)\n",
    "# Rename columns to generate excel\n",
    "df_excel = df_excel.rename(columns={'log_id':'Log ID', 'response.context.conversation_id':'Conversation ID',\n",
    "                           'response.timestamp':'Response Timestamp',\n",
    "                           'request_input':'Utterance Text',\n",
    "                           'response_text':'Response Text', 'response.top_intent_intent':'Detected top intent',\n",
    "                           'response.top_intent_confidence':'Detected top intent confidence',\n",
    "                           'Intent 2 intent': 'Intent 2', 'Intent 2 confidence':'Intent 2 Confidence', \n",
    "                           'Intent 3 intent': 'Intent 3', 'Intent 3 confidence':'Intent 3 Confidence',\n",
    "                           'response_entities':'Detected Entities', 'Escalated_conversation':'Escalated conversation?',\n",
    "                           'Covered':'Covered?', 'Not Covered cause':'Not covered - cause',\n",
    "                           'response.output.nodes_visited_s':'Dialog Flow', 'response_dialog_stack':'Dialog stack',\n",
    "                           'response_dialog_request_counter':'Dialog request counter', 'response_dialog_turn_counter':'Dialog turn counter'\n",
    "                           })\n",
    "\n",
    "existing_columns = ['Log ID', 'Conversation ID', 'Response Timestamp', 'Customer ID (must retain for delete)',\n",
    "                    'Utterance Text', 'Response Text', 'Detected top intent', 'Detected top intent confidence',\n",
    "                    'Intent 2', 'Intent 2 Confidence', 'Confidence gap (between 1 and 2)', 'Intent 3', 'Intent 3 Confidence',\n",
    "                    'Detected Entities', 'Escalated conversation?', 'Covered?', 'Not covered - cause',\n",
    "                    'Dialog Flow', 'Dialog stack', 'Dialog request counter', 'Dialog turn counter']\n",
    "# Add new columns for annotating problematic logs\n",
    "new_columns_excel = ['Response Correct (Y/N)?', 'Response Helpful (Y/N)?', 'Root cause (Problem with Intent, entity, dialog)',\n",
    "                     'Wrong intent? If yes, put the correct intent. Otherwise leave it blank', 'New intent needed? (A new intent. Otherwise leave blank)',\n",
    "                     'Add Utterance to Training data (Y/N)', 'Entity missed? If yes, put the missed entity value. Otherwise leave it blank', 'New entity needed? If yes, put the entity name',\n",
    "                     'New entity value? If yes, put the entity value', 'New dialog logic needed?', 'Wrong dialog node? If yes, put the node name. Otherwise leave it blank','No dialog node triggered']\n",
    "\n",
    "# Add the new columns to the dataframe\n",
    "df_excel = df_excel.reindex(columns=[*existing_columns, *new_columns_excel], fill_value='')"
   ]
  },
  {
   "cell_type": "code",
   "execution_count": 21,
   "metadata": {},
   "outputs": [],
   "source": [
    "# Set maximum sampling size\n",
    "SAMPLE_SIZE = 200\n",
    "\n",
    "# Set output filename\n",
    "all_file = 'All.xlsx'\n",
    "escalated_sample_file = 'Escalated_sample.xlsx'\n",
    "non_escalated_sample_file = 'NotEscalated_sample.xlsx'\n",
    "\n",
    "# Generate all covered sample file\n",
    "df_covered = df_excel[df_excel['Covered?']==True].reset_index(drop=True)\n",
    "\n",
    "# Generate all not covered sample file\n",
    "df_not_covered = df_excel[df_excel['Covered?']==False].reset_index(drop=True)\n",
    "\n",
    "# Convert to Excel format and upload to COS\n",
    "generate_excel_measure([df_covered,df_not_covered], ['Covered', 'Not_Covered'], filename=all_file, project_io=None)\n",
    "\n",
    "# Generate escalated and covered sample file\n",
    "df_escalated_true = df_excel.loc[df_excel['Escalated conversation?']==True]\n",
    "df_escalated_covered = df_escalated_true[df_escalated_true['Covered?']==True]\n",
    "if len(df_escalated_covered) > 0:\n",
    "    df_escalated_covered = df_escalated_covered.sample(n=min(len(df_escalated_covered), SAMPLE_SIZE), random_state=1).reset_index(drop=True)\n",
    "\n",
    "# Generate escalated but not covered sample file\n",
    "df_escalated_not_covered = df_escalated_true[df_escalated_true['Covered?']==False]\n",
    "if len(df_escalated_not_covered) > 0:\n",
    "    df_escalated_not_covered = df_escalated_not_covered.sample(n=min(len(df_escalated_not_covered), SAMPLE_SIZE), random_state=1).reset_index(drop=True)\n",
    "\n",
    "# Covert to Excel format and upload to COS\n",
    "generate_excel_measure([df_escalated_covered,df_escalated_not_covered], ['Covered', 'Not_Covered'], filename=escalated_sample_file, project_io=None)\n",
    "\n",
    "# Generate not escalated but covered sample file\n",
    "df_not_escalated = df_excel.loc[df_excel['Escalated conversation?']==False]\n",
    "df_not_escalated_covered = df_not_escalated[df_not_escalated['Covered?']==True]\n",
    "if len(df_not_escalated_covered) > 0:\n",
    "    df_not_escalated_covered = df_not_escalated_covered.sample(n=min(len(df_not_escalated_covered), SAMPLE_SIZE), random_state=1).reset_index(drop=True)\n",
    "\n",
    "# Generate not escalated and not covered sample file\n",
    "df_not_escalated_not_covered = df_not_escalated[df_not_escalated['Covered?']==False]\n",
    "if len(df_not_escalated_not_covered) > 0:\n",
    "    df_not_escalated_not_covered = df_not_escalated_covered.sample(n=min(len(df_not_escalated_not_covered), SAMPLE_SIZE), random_state=1).reset_index(drop=True)\n",
    "        \n",
    "# Covert to Excel format and upload to COS\n",
    "generate_excel_measure([df_not_escalated_covered,df_not_escalated_not_covered], ['Covered', 'Not_Covered'], filename=non_escalated_sample_file, project_io=None)"
   ]
  },
  {
   "cell_type": "markdown",
   "metadata": {},
   "source": [
    "###  6.2 Plot breakdown by effectiveness graph<a id=\"conv_analysis2\"></a>"
   ]
  },
  {
   "cell_type": "code",
   "execution_count": 22,
   "metadata": {},
   "outputs": [
    {
     "data": {
      "text/html": [
       "<tr><th colspan=\"4\"><div align=\"left\"><h2>Breakdown by effectiveness<hr/></h2></div></th></tr><tr><th colspan=\"4\"><div align=\"left\"><a id=\"file_list\"></a>View the lists here: <a href=All.xlsx target=\"_blank\">All.xlsx</a>&nbsp;&nbsp;&nbsp;<a href=Escalated_sample.xlsx target=\"_blank\">Escalated_sample.xlsx</a>&nbsp;&nbsp;&nbsp;<a href=NotEscalated_sample.xlsx target=\"_blank\">NotEscalated_sample.xlsx</a></div></th></tr><tr><td style= \"border-right: 1px solid black; border-bottom: 1px solid black; width : 400px\"><div align=\"left\"><strong>Effectiveness (Escalated)&nbsp;</br><font size=\"5\">2.56%</strong></font size></br></div></td>    <td style=\"width:1000px; height=100;\"><img class=\"colimg\" src='data:image/png;base64,/9j/4AAQSkZJRgABAQAAAQABAAD/2wBDAAIBAQEBAQIBAQECAgICAgQDAgICAgUEBAMEBgUGBgYFBgYGBwkIBgcJBwYGCAsICQoKCgoKBggLDAsKDAkKCgr/2wBDAQICAgICAgUDAwUKBwYHCgoKCgoKCgoKCgoKCgoKCgoKCgoKCgoKCgoKCgoKCgoKCgoKCgoKCgoKCgoKCgoKCgr/wAARCABsBDgDASIAAhEBAxEB/8QAHwAAAQUBAQEBAQEAAAAAAAAAAAECAwQFBgcICQoL/8QAtRAAAgEDAwIEAwUFBAQAAAF9AQIDAAQRBRIhMUEGE1FhByJxFDKBkaEII0KxwRVS0fAkM2JyggkKFhcYGRolJicoKSo0NTY3ODk6Q0RFRkdISUpTVFVWV1hZWmNkZWZnaGlqc3R1dnd4eXqDhIWGh4iJipKTlJWWl5iZmqKjpKWmp6ipqrKztLW2t7i5usLDxMXGx8jJytLT1NXW19jZ2uHi4+Tl5ufo6erx8vP09fb3+Pn6/8QAHwEAAwEBAQEBAQEBAQAAAAAAAAECAwQFBgcICQoL/8QAtREAAgECBAQDBAcFBAQAAQJ3AAECAxEEBSExBhJBUQdhcRMiMoEIFEKRobHBCSMzUvAVYnLRChYkNOEl8RcYGRomJygpKjU2Nzg5OkNERUZHSElKU1RVVldYWVpjZGVmZ2hpanN0dXZ3eHl6goOEhYaHiImKkpOUlZaXmJmaoqOkpaanqKmqsrO0tba3uLm6wsPExcbHyMnK0tPU1dbX2Nna4uPk5ebn6Onq8vP09fb3+Pn6/9oADAMBAAIRAxEAPwD9/KKKKACiiigAooooAKKKKACiiigAooooAKKKKACiiigAooooAKKKKACiiigAooooAKKKKACiiigAooooAKKKKACiiigAooooAKKKKACiiigAooooAKKKKACiiigAooooAKKKKACiiigAooooAKKKKACiiigAooooAKKKKACiiigAooooAKKKKACiiigAooooAKKKKACiiigAooooAKKKKACiiigAooooAKKKKACiiigAooooAKKKKACiiigAooooAKKKKACiiigAooooAKKKKACiiigAooooAKKKKACiiigAooooAKKKKACiiigAooooAKKKKACiiigAooooAKKKKACiiigAooooAKKKKACiiigAooooAKKKKACiiigAooooAKKKKACiiigAooooAKKKKACiiigAooooA8H/AGof22v+GbfH9n4G/wCFZ/219r0eO/8AtX9tfZtu6WWPZt8l848rOc/xYxxz5v8A8PXP+qC/+XT/APctcf8A8FQv+S/aR/2J9v8A+lV3XzfX7rw3wbw5j8hw2Jr0LznFNvmkru8uilboj8gz3ijPcHnNehRq2jGVkuWLsrLur9T7A/4euf8AVBf/AC6f/uWj/h65/wBUF/8ALp/+5a+P6K9v/ULhP/oH/wDJ5/8AyR5P+uXEf/P/AP8AJY//ACJ9gf8AD1z/AKoL/wCXT/8ActH/AA9c/wCqC/8Al0//AHLXx/RR/qFwn/0D/wDk8/8A5IP9cuI/+f8A/wCSx/8AkT7A/wCHrn/VBf8Ay6f/ALlo/wCHrn/VBf8Ay6f/ALlr4/oo/wBQuE/+gf8A8nn/APJB/rlxH/z/AP8AyWP/AMifYH/D1z/qgv8A5dP/ANy0f8PXP+qC/wDl0/8A3LXx/RR/qFwn/wBA/wD5PP8A+SD/AFy4j/5//wDksf8A5E+wP+Hrn/VBf/Lp/wDuWj/h65/1QX/y6f8A7lr4/oo/1C4T/wCgf/yef/yQf65cR/8AP/8A8lj/APIn2B/w9c/6oL/5dP8A9y0f8PXP+qC/+XT/APctfH9FH+oXCf8A0D/+Tz/+SD/XLiP/AJ//APksf/kT7A/4euf9UF/8un/7lo/4euf9UF/8un/7lr4/oo/1C4T/AOgf/wAnn/8AJB/rlxH/AM//APyWP/yJ9gf8PXP+qC/+XT/9y0f8PXP+qC/+XT/9y18f0Uf6hcJ/9A//AJPP/wCSD/XLiP8A5/8A/ksf/kT7A/4euf8AVBf/AC6f/uWj/h65/wBUF/8ALp/+5a+P6KP9QuE/+gf/AMnn/wDJB/rlxH/z/wD/ACWP/wAifYH/AA9c/wCqC/8Al0//AHLR/wAPXP8Aqgv/AJdP/wBy18f0Uf6hcJ/9A/8A5PP/AOSD/XLiP/n/AP8Aksf/AJE+wP8Ah65/1QX/AMun/wC5aP8Ah65/1QX/AMun/wC5a+P6KP8AULhP/oH/APJ5/wDyQf65cR/8/wD/AMlj/wDIn2B/w9c/6oL/AOXT/wDctH/D1z/qgv8A5dP/ANy18f0Uf6hcJ/8AQP8A+Tz/APkg/wBcuI/+f/8A5LH/AORPsD/h65/1QX/y6f8A7lo/4euf9UF/8un/AO5a+P6KP9QuE/8AoH/8nn/8kH+uXEf/AD//APJY/wDyJ9gf8PXP+qC/+XT/APctH/D1z/qgv/l0/wD3LXx/RR/qFwn/ANA//k8//kg/1y4j/wCf/wD5LH/5E+wP+Hrn/VBf/Lp/+5aP+Hrn/VBf/Lp/+5a+P6KP9QuE/wDoH/8AJ5//ACQf65cR/wDP/wD8lj/8ifYH/D1z/qgv/l0//ctH/D1z/qgv/l0//ctfH9FH+oXCf/QP/wCTz/8Akg/1y4j/AOf/AP5LH/5E+wP+Hrn/AFQX/wAun/7lo/4euf8AVBf/AC6f/uWvj+ij/ULhP/oH/wDJ5/8AyQf65cR/8/8A/wAlj/8AIn2B/wAPXP8Aqgv/AJdP/wBy0f8AD1z/AKoL/wCXT/8ActfH9FH+oXCf/QP/AOTz/wDkg/1y4j/5/wD/AJLH/wCRPsD/AIeuf9UF/wDLp/8AuWj/AIeuf9UF/wDLp/8AuWvj+ij/AFC4T/6B/wDyef8A8kH+uXEf/P8A/wDJY/8AyJ9gf8PXP+qC/wDl0/8A3LR/w9c/6oL/AOXT/wDctfH9FH+oXCf/AED/APk8/wD5IP8AXLiP/n//AOSx/wDkT7A/4euf9UF/8un/AO5aP+Hrn/VBf/Lp/wDuWvj+ij/ULhP/AKB//J5//JB/rlxH/wA//wDyWP8A8ifYH/D1z/qgv/l0/wD3LR/w9c/6oL/5dP8A9y18f0Uf6hcJ/wDQP/5PP/5IP9cuI/8An/8A+Sx/+RPsD/h65/1QX/y6f/uWj/h65/1QX/y6f/uWvj+ij/ULhP8A6B//ACef/wAkH+uXEf8Az/8A/JY//In2B/w9c/6oL/5dP/3LR/w9c/6oL/5dP/3LXx/RR/qFwn/0D/8Ak8//AJIP9cuI/wDn/wD+Sx/+RPsD/h65/wBUF/8ALp/+5aP+Hrn/AFQX/wAun/7lr4/oo/1C4T/6B/8Ayef/AMkH+uXEf/P/AP8AJY//ACJ9gf8AD1z/AKoL/wCXT/8ActH/AA9c/wCqC/8Al0//AHLXx/RR/qFwn/0D/wDk8/8A5IP9cuI/+f8A/wCSx/8AkT7A/wCHrn/VBf8Ay6f/ALlo/wCHrn/VBf8Ay6f/ALlr4/oo/wBQuE/+gf8A8nn/APJB/rlxH/z/AP8AyWP/AMifYH/D1z/qgv8A5dP/ANy0f8PXP+qC/wDl0/8A3LXx/RR/qFwn/wBA/wD5PP8A+SD/AFy4j/5//wDksf8A5E+wP+Hrn/VBf/Lp/wDuWj/h65/1QX/y6f8A7lr4/oo/1C4T/wCgf/yef/yQf65cR/8AP/8A8lj/APIn2B/w9c/6oL/5dP8A9y0f8PXP+qC/+XT/APctfH9FH+oXCf8A0D/+Tz/+SD/XLiP/AJ//APksf/kT7A/4euf9UF/8un/7lo/4euf9UF/8un/7lr4/oo/1C4T/AOgf/wAnn/8AJB/rlxH/AM//APyWP/yJ9gf8PXP+qC/+XT/9y0f8PXP+qC/+XT/9y18f0Uf6hcJ/9A//AJPP/wCSD/XLiP8A5/8A/ksf/kT7A/4euf8AVBf/AC6f/uWj/h65/wBUF/8ALp/+5a+P6KP9QuE/+gf/AMnn/wDJB/rlxH/z/wD/ACWP/wAifYH/AA9c/wCqC/8Al0//AHLR/wAPXP8Aqgv/AJdP/wBy18f0Uf6hcJ/9A/8A5PP/AOSD/XLiP/n/AP8Aksf/AJE+wP8Ah65/1QX/AMun/wC5aP8Ah65/1QX/AMun/wC5a+P6KP8AULhP/oH/APJ5/wDyQf65cR/8/wD/AMlj/wDIn2B/w9c/6oL/AOXT/wDctH/D1z/qgv8A5dP/ANy18f0Uf6hcJ/8AQP8A+Tz/APkg/wBcuI/+f/8A5LH/AORPsD/h65/1QX/y6f8A7lo/4euf9UF/8un/AO5a+P6KP9QuE/8AoH/8nn/8kH+uXEf/AD//APJY/wDyJ9gf8PXP+qC/+XT/APctH/D1z/qgv/l0/wD3LXx/RR/qFwn/ANA//k8//kg/1y4j/wCf/wD5LH/5E+wP+Hrn/VBf/Lp/+5aP+Hrn/VBf/Lp/+5a+P6KP9QuE/wDoH/8AJ5//ACQf65cR/wDP/wD8lj/8ifYH/D1z/qgv/l0//ctH/D1z/qgv/l0//ctfH9FH+oXCf/QP/wCTz/8Akg/1y4j/AOf/AP5LH/5E+wP+Hrn/AFQX/wAun/7lo/4euf8AVBf/AC6f/uWvj+ij/ULhP/oH/wDJ5/8AyQf65cR/8/8A/wAlj/8AIn2B/wAPXP8Aqgv/AJdP/wBy0f8AD1z/AKoL/wCXT/8ActfH9FH+oXCf/QP/AOTz/wDkg/1y4j/5/wD/AJLH/wCRPsD/AIeuf9UF/wDLp/8AuWj/AIeuf9UF/wDLp/8AuWvj+ij/AFC4T/6B/wDyef8A8kH+uXEf/P8A/wDJY/8AyJ9gf8PXP+qC/wDl0/8A3LR/w9c/6oL/AOXT/wDctfH9FH+oXCf/AED/APk8/wD5IP8AXLiP/n//AOSx/wDkT7A/4euf9UF/8un/AO5aP+Hrn/VBf/Lp/wDuWvj+ij/ULhP/AKB//J5//JB/rlxH/wA//wDyWP8A8ifYH/D1z/qgv/l0/wD3LR/w9c/6oL/5dP8A9y18f0Uf6hcJ/wDQP/5PP/5IP9cuI/8An/8A+Sx/+RPsD/h65/1QX/y6f/uWj/h65/1QX/y6f/uWvj+ij/ULhP8A6B//ACef/wAkH+uXEf8Az/8A/JY//In2B/w9c/6oL/5dP/3LR/w9c/6oL/5dP/3LXx/RR/qFwn/0D/8Ak8//AJIP9cuI/wDn/wD+Sx/+RPsD/h65/wBUF/8ALp/+5aP+Hrn/AFQX/wAun/7lr4/oo/1C4T/6B/8Ayef/AMkH+uXEf/P/AP8AJY//ACJ9gf8AD1z/AKoL/wCXT/8ActeQ/FH/AIOB/wDhW3jq+8Ff8Mk/bfsXlf6T/wAJ75e/fEkn3fsDYxux1PSvHa+Qv2ov+S665/26/wDpLFTXAPCbf+7/APk8/wD5Ia4x4jb/AI//AJLH/wCRPv8A/wCIkD/qzX/zIn/3vo/4iQP+rNf/ADIn/wB76/MGiq/1A4T/AOgf/wAnn/8AJFf64cRf8/8A/wAlj/8AIn6ff8RIH/Vmv/mRP/vfR/xEgf8AVmv/AJkT/wC99fmDRR/qBwn/ANA//k8//kg/1w4i/wCf/wD5LH/5E/T7/iJA/wCrNf8AzIn/AN766j4I/wDBfj/hcnxo8IfCH/hk7+zf+Eq8Uafo/wDaP/Cd+d9l+03McHm+X9hXft37tu5c4xkZzX5M16f+xF/yeh8If+yoaB/6cYK5sbwJwrRwVWpDD2cYya96e6jJr7XdI3wvFvEFTFU4SraOUU/djs5RT6dmf0W0UUV/Op+1hRRRQAUUUUAFFFFABRRRQAUUUUAFFFFABRRRQAUUUUAFFFFABRRRQAUUUUAFFFFABRRRQB8H/wDBUL/kv2kf9ifb/wDpVd18319If8FQv+S/aR/2J9v/AOlV3XzfX9OcH/8AJL4T/AvzkfgHE/8AyUOJ/wAb/KIUUUV9IeEFFFFABRRRQAUUUUAFFFFABRRRQAUUUUAFFFFABRRRQAUUUUAFFFFABRRRQAUUUUAFFFFABRRRQAUUUUAFFFFABRRRQAUUUUAFFFFABRRRQAUUUUAFFFFABRRRQAUUUUAFFFFABRRRQAUUUUAFFFFABRRRQAUUUUAFFFFABRRRQAUUUUAFFFFABRRRQAUUUUAFFFFABRRRQAUUUUAFFFFABRRRQAUUUUAFFFFABRRRQAUUUUAFFFFABRRRQAUUUUAFfIX7UX/Jddc/7df/AElir69r5C/ai/5Lrrn/AG6/+ksVVHccdzgKKKKosKKKKACvT/2Iv+T0PhD/ANlQ0D/04wV5hXp/7EX/ACeh8If+yoaB/wCnGCuPMf8AkXV/8E//AEiZ04L/AH2l/ij/AOlRP6LaKKK/kc/o8KKKKACiiigAooooAKKKKACiiigAooooAKKKKACiiigAooooAKKKKACiiigAooooAKKKKAPg/wD4Khf8l+0j/sT7f/0qu6+b6+kP+CoX/JftI/7E+3/9Kruvm+v6c4P/AOSXwn+BfnI/AOJ/+ShxP+N/lEKKKK+kPCCiiigAooooAKKKKACiiigAooooAKKKKACiiigAooooAKKKKACiiigAooooAKKKKACiiigAooooAKKKKACiiigAooooAKKKKACiiigAooooAKKKKACiiigAooooAKKKKACiiigAooooAKKKKACiiigAooooAKKKKACiiigAooooAKKKKACiiigAooooAKKKKACiiigAooooAKKKKACiiigAooooAKKKKACiiigAooooAKKKKACiiigAooooAKKKKACvkL9qL/kuuuf9uv8A6SxV9e18hftRf8l11z/t1/8ASWKqjuOO5wFFFFUWFFFFABXp/wCxF/yeh8If+yoaB/6cYK8wr0/9iL/k9D4Q/wDZUNA/9OMFceY/8i6v/gn/AOkTOnBf77S/xR/9Kif0W0UUV/I5/R4UUUUAFFFFABRRRQAUUUUAFFFFABRRRQAUUUUAFFFFABRRRQAUUUUAFFFFABRRRQAUUUUAfB//AAVC/wCS/aR/2J9v/wClV3XzfX3V+2T+xt8Tv2h/ifYeNfBWu6Da2troMVlJHql1OkhkWeeQkCOFxtxIvfOQePXyX/h178ff+hv8H/8Agwuv/kav3/hjifh7B8PYahXxMIzjBJpt3TvL+6+5+McQcP53is7xFWlh5SjKV01azVl5nzfRX0h/w69+Pv8A0N/g/wD8GF1/8jUf8Ovfj7/0N/g//wAGF1/8jV7v+uHC/wD0Fw+9/wDyJ4/+rHEP/QNP7l/8kfN9FfSH/Dr34+/9Df4P/wDBhdf/ACNR/wAOvfj7/wBDf4P/APBhdf8AyNR/rhwv/wBBcPvf/wAiH+rHEP8A0DT+5f8AyR830V9If8Ovfj7/ANDf4P8A/Bhdf/I1H/Dr34+/9Df4P/8ABhdf/I1H+uHC/wD0Fw+9/wDyIf6scQ/9A0/uX/yR830V9If8Ovfj7/0N/g//AMGF1/8AI1H/AA69+Pv/AEN/g/8A8GF1/wDI1H+uHC//AEFw+9//ACIf6scQ/wDQNP7l/wDJHzfRX0h/w69+Pv8A0N/g/wD8GF1/8jUf8Ovfj7/0N/g//wAGF1/8jUf64cL/APQXD73/APIh/qxxD/0DT+5f/JHzfRX0h/w69+Pv/Q3+D/8AwYXX/wAjUf8ADr34+/8AQ3+D/wDwYXX/AMjUf64cL/8AQXD73/8AIh/qxxD/ANA0/uX/AMkfN9FfSH/Dr34+/wDQ3+D/APwYXX/yNR/w69+Pv/Q3+D//AAYXX/yNR/rhwv8A9BcPvf8A8iH+rHEP/QNP7l/8kfN9FfSH/Dr34+/9Df4P/wDBhdf/ACNR/wAOvfj7/wBDf4P/APBhdf8AyNR/rhwv/wBBcPvf/wAiH+rHEP8A0DT+5f8AyR830V9If8Ovfj7/ANDf4P8A/Bhdf/I1H/Dr34+/9Df4P/8ABhdf/I1H+uHC/wD0Fw+9/wDyIf6scQ/9A0/uX/yR830V9If8Ovfj7/0N/g//AMGF1/8AI1H/AA69+Pv/AEN/g/8A8GF1/wDI1H+uHC//AEFw+9//ACIf6scQ/wDQNP7l/wDJHzfRX0h/w69+Pv8A0N/g/wD8GF1/8jUf8Ovfj7/0N/g//wAGF1/8jUf64cL/APQXD73/APIh/qxxD/0DT+5f/JHzfRX0h/w69+Pv/Q3+D/8AwYXX/wAjUf8ADr34+/8AQ3+D/wDwYXX/AMjUf64cL/8AQXD73/8AIh/qxxD/ANA0/uX/AMkfN9FfSH/Dr34+/wDQ3+D/APwYXX/yNR/w69+Pv/Q3+D//AAYXX/yNR/rhwv8A9BcPvf8A8iH+rHEP/QNP7l/8kfN9FfSH/Dr34+/9Df4P/wDBhdf/ACNR/wAOvfj7/wBDf4P/APBhdf8AyNR/rhwv/wBBcPvf/wAiH+rHEP8A0DT+5f8AyR830V9If8Ovfj7/ANDf4P8A/Bhdf/I1H/Dr34+/9Df4P/8ABhdf/I1H+uHC/wD0Fw+9/wDyIf6scQ/9A0/uX/yR830V9If8Ovfj7/0N/g//AMGF1/8AI1H/AA69+Pv/AEN/g/8A8GF1/wDI1H+uHC//AEFw+9//ACIf6scQ/wDQNP7l/wDJHzfRX0h/w69+Pv8A0N/g/wD8GF1/8jUf8Ovfj7/0N/g//wAGF1/8jUf64cL/APQXD73/APIh/qxxD/0DT+5f/JHzfRX0h/w69+Pv/Q3+D/8AwYXX/wAjUf8ADr34+/8AQ3+D/wDwYXX/AMjUf64cL/8AQXD73/8AIh/qxxD/ANA0/uX/AMkfN9FfSH/Dr34+/wDQ3+D/APwYXX/yNR/w69+Pv/Q3+D//AAYXX/yNR/rhwv8A9BcPvf8A8iH+rHEP/QNP7l/8kfN9FfSH/Dr34+/9Df4P/wDBhdf/ACNR/wAOvfj7/wBDf4P/APBhdf8AyNR/rhwv/wBBcPvf/wAiH+rHEP8A0DT+5f8AyR830V9If8Ovfj7/ANDf4P8A/Bhdf/I1H/Dr34+/9Df4P/8ABhdf/I1H+uHC/wD0Fw+9/wDyIf6scQ/9A0/uX/yR830V9If8Ovfj7/0N/g//AMGF1/8AI1H/AA69+Pv/AEN/g/8A8GF1/wDI1H+uHC//AEFw+9//ACIf6scQ/wDQNP7l/wDJHzfRX0h/w69+Pv8A0N/g/wD8GF1/8jUf8Ovfj7/0N/g//wAGF1/8jUf64cL/APQXD73/APIh/qxxD/0DT+5f/JHzfRX0h/w69+Pv/Q3+D/8AwYXX/wAjUf8ADr34+/8AQ3+D/wDwYXX/AMjUf64cL/8AQXD73/8AIh/qxxD/ANA0/uX/AMkfN9FfSH/Dr34+/wDQ3+D/APwYXX/yNR/w69+Pv/Q3+D//AAYXX/yNR/rhwv8A9BcPvf8A8iH+rHEP/QNP7l/8kfN9FfSH/Dr34+/9Df4P/wDBhdf/ACNR/wAOvfj7/wBDf4P/APBhdf8AyNR/rhwv/wBBcPvf/wAiH+rHEP8A0DT+5f8AyR830V9If8Ovfj7/ANDf4P8A/Bhdf/I1H/Dr34+/9Df4P/8ABhdf/I1H+uHC/wD0Fw+9/wDyIf6scQ/9A0/uX/yR830V9If8Ovfj7/0N/g//AMGF1/8AI1H/AA69+Pv/AEN/g/8A8GF1/wDI1H+uHC//AEFw+9//ACIf6scQ/wDQNP7l/wDJHzfRX0h/w69+Pv8A0N/g/wD8GF1/8jUf8Ovfj7/0N/g//wAGF1/8jUf64cL/APQXD73/APIh/qxxD/0DT+5f/JHzfRX0h/w69+Pv/Q3+D/8AwYXX/wAjUf8ADr34+/8AQ3+D/wDwYXX/AMjUf64cL/8AQXD73/8AIh/qxxD/ANA0/uX/AMkfN9FfSH/Dr34+/wDQ3+D/APwYXX/yNR/w69+Pv/Q3+D//AAYXX/yNR/rhwv8A9BcPvf8A8iH+rHEP/QNP7l/8kfN9FfSH/Dr34+/9Df4P/wDBhdf/ACNR/wAOvfj7/wBDf4P/APBhdf8AyNR/rhwv/wBBcPvf/wAiH+rHEP8A0DT+5f8AyR830V9If8Ovfj7/ANDf4P8A/Bhdf/I1H/Dr34+/9Df4P/8ABhdf/I1H+uHC/wD0Fw+9/wDyIf6scQ/9A0/uX/yR830V9If8Ovfj7/0N/g//AMGF1/8AI1H/AA69+Pv/AEN/g/8A8GF1/wDI1H+uHC//AEFw+9//ACIf6scQ/wDQNP7l/wDJHzfRX0h/w69+Pv8A0N/g/wD8GF1/8jUf8Ovfj7/0N/g//wAGF1/8jUf64cL/APQXD73/APIh/qxxD/0DT+5f/JHzfRX0h/w69+Pv/Q3+D/8AwYXX/wAjUf8ADr34+/8AQ3+D/wDwYXX/AMjUf64cL/8AQXD73/8AIh/qxxD/ANA0/uX/AMkfN9FfSH/Dr34+/wDQ3+D/APwYXX/yNR/w69+Pv/Q3+D//AAYXX/yNR/rhwv8A9BcPvf8A8iH+rHEP/QNP7l/8kfN9FfSH/Dr34+/9Df4P/wDBhdf/ACNR/wAOvfj7/wBDf4P/APBhdf8AyNR/rhwv/wBBcPvf/wAiH+rHEP8A0DT+5f8AyR830V9If8Ovfj7/ANDf4P8A/Bhdf/I1H/Dr34+/9Df4P/8ABhdf/I1H+uHC/wD0Fw+9/wDyIf6scQ/9A0/uX/yR830V9If8Ovfj7/0N/g//AMGF1/8AI1H/AA69+Pv/AEN/g/8A8GF1/wDI1H+uHC//AEFw+9//ACIf6scQ/wDQNP7l/wDJHzfRX0h/w69+Pv8A0N/g/wD8GF1/8jUf8Ovfj7/0N/g//wAGF1/8jUf64cL/APQXD73/APIh/qxxD/0DT+5f/JHzfRX0h/w69+Pv/Q3+D/8AwYXX/wAjUf8ADr34+/8AQ3+D/wDwYXX/AMjUf64cL/8AQXD73/8AIh/qxxD/ANA0/uX/AMkfN9FfSH/Dr34+/wDQ3+D/APwYXX/yNR/w69+Pv/Q3+D//AAYXX/yNR/rhwv8A9BcPvf8A8iH+rHEP/QNP7l/8kfN9FfSH/Dr34+/9Df4P/wDBhdf/ACNR/wAOvfj7/wBDf4P/APBhdf8AyNR/rhwv/wBBcPvf/wAiH+rHEP8A0DT+5f8AyR830V9If8Ovfj7/ANDf4P8A/Bhdf/I1H/Dr34+/9Df4P/8ABhdf/I1H+uHC/wD0Fw+9/wDyIf6scQ/9A0/uX/yR830V9If8Ovfj7/0N/g//AMGF1/8AI1H/AA69+Pv/AEN/g/8A8GF1/wDI1H+uHC//AEFw+9//ACIf6scQ/wDQNP7l/wDJHzfRX0h/w69+Pv8A0N/g/wD8GF1/8jUf8Ovfj7/0N/g//wAGF1/8jUf64cL/APQXD73/APIh/qxxD/0DT+5f/JHzfRX0h/w69+Pv/Q3+D/8AwYXX/wAjUf8ADr34+/8AQ3+D/wDwYXX/AMjUf64cL/8AQXD73/8AIh/qxxD/ANA0/uX/AMkfN9FfSH/Dr34+/wDQ3+D/APwYXX/yNR/w69+Pv/Q3+D//AAYXX/yNR/rhwv8A9BcPvf8A8iH+rHEP/QNP7l/8kfN9fIX7UX/Jddc/7df/AElir9Tf+HXvx9/6G/wf/wCDC6/+Rq8J+Mv/AAQf/a7+InxJ1LxjovxG+G8VreeT5Ud1q+oLINkKIchbFh1U9+mKa4x4Wv8A75D73/8AIjXDHEF/92n9y/8Akj86aK+7/wDiHq/bQ/6Kb8L/APwdaj/8gUf8Q9X7aH/RTfhf/wCDrUf/AJAqv9ceFv8AoMh97/8AkSv9WeIP+gaX3L/5I+EKK+7/APiHq/bQ/wCim/C//wAHWo//ACBR/wAQ9X7aH/RTfhf/AODrUf8A5Ao/1x4W/wCgyH3v/wCRD/VniD/oGl9y/wDkj4Qr0/8AYi/5PQ+EP/ZUNA/9OMFfUH/EPV+2h/0U34X/APg61H/5Arsf2df+CFv7W3wj/aC8C/FfxJ8RPhzPp3hjxlperX8Njq9+08kFtdxTOsYayVS5VCACygnGSOtcuO4u4ZqYGrCOLg24SSV3q3GSX2e7R0YThvPoYunKWGkkpRb0WylFv7Xkfq5RRRX81H7oFFFFABRRRQAUUUUAFeWftJftbeAP2ar7wv4S1Pwt4j8V+L/HF9Pa+DPAvg2wiuNU1h7eMS3MiCaWGCGGGMq0k88sUSb0BcM6BvU6+af2ufg18cNK/at+FP7b/wACPh0vjq48CeH/ABB4a8UeBY9WtrK+vdM1VrCb7VYS3bx232mGfTosxzSxLJFK48xSqhgD0jwj+1H4bn+Huu/Ef47eAte+DVj4alRdab4q3Om2UFvGwUrML21vLiykjJYLuS4ba3yttOAd/wAKftB/APx5pXhvXfA3xv8ACGtWPjK4mt/CF5pPiW1uYtclhikmljs3jkIuWSKGaRljLFVidjgKSPnX9pnw7+09+054Z+HHxXj/AGO9V03/AIVb8ZtP8VSfDDxN4r0V9T8T2EWnX9o2Db3UunwzwT3sN3Akl2Ud7JdzxNsI8/1X9jT9pbxL8J/jB+0L4W+DaeE/iDqPx00z4rfCL4Yza3Yma0u9M07T7Oa3up4Jms4bnVorW/imMczRIuo5aYt5j0AfZniT4+/AnwZpfiXXPGHxq8JaVZeDLmK38YXmpeI7WCLQppYopo47x3kAtXeKeGRVkKlkmjYZDqTnzftUfsw2/wANtL+Ms/7R3gJPB+uTvBovit/GFkNN1CVY5ZWSC6MvlSsI4J3IViQsMh6IxHxX4r/4J/ftYat+zP8ACv4mMdasvihafGzUPiv8WPDPhPUNCk1GXUNSsr+BbWyl1iC50ua401Lmyt4jOPKaOwzHNHIIpRLoP/BP74l+I7H4feINV+FfxEv3uP2vbL4k+PdO+L+qeEHu7eGDw5c2X9pLB4fEenoDcrZkww+bM0oadsl3IAPsPU/2yv2QdEsvC+pa1+1X8N7O38cRLJ4KnuvHOnxp4gRmCq1kzTAXYJIAMW4EkYqn+1F+2N8B/wBlPwjqN/8AEb4p+EbHxKPDt/qfhnwdrfiy10++8QvbQPL5FrHKxkkLMmzMaOQT909K+Tf2vv2Hf2ifEf7UPxi8a2Fl8WfE/gX40+EtK0W60z4VT+AQ1ra29nJa3Gn3w8V2rSpbM0klwj2czfPdTEwq6h5Kvxy/Y6/aS8HaZ8cPAng39lW9+MNt8ZfgNovhDw7r2t+LNHWfQrmw0q5sjaatJdywO8LTSreCazjl3TzTExxYV6APsfTf2nvAWnfshWn7ZPxTmTwx4aX4dxeMNfMkrXA0yzNit5KNyoGm2IWHyoC5XhckCuV+D37dvhv4qePr/wCEWv8AwC+I3gbxjF4MbxZofhXxpp+nx3ev6QsixNcWhtb2eIMkskMbwTvDNG1xF5kaBs1a8LfAG317/gnfpX7MPxw+Gr6ylx8G7bw14r8IxahEj3jf2UttcWazrII1ZjujEokCgkMHAG6vnH9l/wDZK/ae0r9r2X9tr4i+G/izdp4C+DOp+EvBPhn4v+NfDdzrut3Nzc2tyIg2hlrC3t0Fksa3E8slzPJdF52CwJkA+j/g/wDtq6L8SPjof2avH3wL8c/DXxtN4Vn8S6TonjZ9ImbU9KguYLae5hk0nUL2NfLmubdTHK0ch80FVYBitv4/ftgaJ8EfiX4f+Cfhz4MeN/iL418R6Jf61aeF/Atvp/nwaZZyW8VxeTS6jeWlvGiy3dvGF80yO0mERsHHin7N/wAB/F2mftx3H7TPw1/4J5WHwE8O3ngXVrb4iJdw+GhrPjrWbi8tLizkA0a6uY1WDyr5mnmnR5mvFDxnYHSl+218CvjV8ffjN8NfjXr37N/xR1/wbY/DzVLS78DfDj4l6f4X8V6Brd7JaMTc39vq1ms9t5ETQyQ2+oSQ+ZGrmO4GxkAPaLH9tux8dfBHwZ8fv2e/2c/iJ8TdB8Z6ZLfRDwuNHsp9KjjKq63iaxqNkEkDl02RmRt0MnGAC3HeKP8AgrN+zbovwe8KfHPwt4T8a+KtA8TeC9V8YXkvh7SLcy+H9A0uWGHU9QvkuLiL5LaWdEaK38+dyrmKKVUZhw/hD4KfEfwN+wP8Mv2Uf2pf+Cblp8drex0F4tV8N6IPCkthobwyuLCCaHVLmyt5JI7WRI3ubVW/exyuqYcEu0X9hLxbcf8ABO7wd8P/AIw/s7+G/E/xP8KaHf6R4Z8MaZ4gew0nS9Pv78eTpN7LbSWy3+mWtqtit5AyyLdjTSwimkMYIB9ReDvjl4Q8ffFnxR8JPCVlf3s3g62sjr+txRRnT4Lu6jMyaeJN+5rpbcw3DoE2pFdQEtmQLWV8fv2g/wDhRviv4W+GP+ER/tT/AIWV8SE8J+f9v8j+zt2lalqH2nb5b+d/yD/L8vKf67du+Ta3zH4B/ZS/bD+A37UHh/w38Pbzxfq/hVPEmm6pqXxAm8ZW0Gk3dpJa3L+IF1PSvtCvdane6hKZ4pktpEiWSFEmt47fyn9U/b7/AOSr/st/9nIQf+or4koA9m+Ofxm8B/s6/BjxX8e/ijqbWfhzwb4eu9Z1q4RQXW2toWlcIpI3OQpCrkbmIA61xv7N/wC218Cf2lf2fvCf7Rei61N4W0vxfqr6PYaR45aDTtSttYS6ltJNJmhMrBb1biCWIwKzsWQ7d3WvPf8Agp98Av2lP2sfBPgP9m74F2+jWPh/WfH1lq3xL8TeJLYXmn2ulaW32+Gwmso7u2uLtby9htIWWGRQIRPvdQQG8Xsf+CfX7Z//AAj37SvwJ8c654V1Gx+JdxY/Ev4XeN/B+kHSbDw/4+hkWRohZXV/d3Uf+m6dpuoGQSGJ3nuhlC20gH3JrHxf+E3h2917TfEHxQ8O2Nx4W0qHU/E8F5rcET6RYzeb5N1dKzg28L/Z59skm1W8mTBOxsYeg/tV/sveKfhoPjR4Y/aR8A6j4ObU4dNXxZYeMbKbTDeyzRwRW32pJTF5zyyxRrHu3M8iKASwB+K/FH7Cv7Yv7Qv7IHiv4q/ErwtL4Q+M/wAQfjbo3jzxP4HsNa0q7kt9I0a6t4dP0KK5uIrvTpJEs7OO6Tzo5bc3krCTCs0i0PF37AHxm+MXwp8e32v/AAu+Lesa78Qviv8AC+88V6T8adV8CqdQ0vRPEVtcX1wkHhpY7MAWAkEhld550t4Y1XKKrAH2Teft6/sMafouheJNQ/bP+E8GneKJZovDN/P8RdMSHV3imaCVbVzPtuCkytGwjLbXUqcEEV1HxM/aG+APwV1HRdI+Mnxy8H+ErvxJcm38O2vibxNa2EmqTZUeXbLPIpnf5l+VMn5h6ivlb/gpF8Jf26Piv471v4bfBLwXr9z8OvEXwmk0i3k8Cr4Pjkn1mWW7Wa21uTxHDPIml+Q1rs+wQySh2uCw/wBXXmdl8H/jx+yt4TsviX8c/wBnrT/iCmp/sXeF/A/jKDVfF+jQ/wDCF32lQXzamb97y5RZNMuXvU86e0NzIWsBiKUGM0Afcni/9rb9lT4feANB+LHj39pr4e6J4W8VRRS+F/Eur+M7G20/WEkQPG1rcSSiO4DIyspjZgQwIyDXe2d5aajaRahp91HPbzxrJBPC4ZJEYZVlYcEEEEEda/Kn9nP9kH9q2w+BH7MX7RvgNPifcacv7HvhjwdqXhz4Zf8ACGDV9LuREt1K7xeL7Z7YwXEc0UcohlilDWUQdJlI8v7k+BX7MWp/Dv8A4J46b+yX4O1zxR4Zurf4d3Og6Pe+JdRs7vVNEaWCWODzJdPWO2Z7fegUQARqIlVSQASAd14I/am/Zj+Jni/XPh98OP2jPAfiDX/DMMkviTQ9E8X2V3eaTGjbHe5hilZ4FViFJcKATg81B4V/a7/ZP8deANf+LHgj9p74eaz4W8Kq7eKPEuleNbC40/RwilnN1cRymO3CqCT5jLgAk18qn9nf9o34s/8ABM/Wf+Ceifsdf8Ky13R/g4vhqw8QzeINIl8OazdQrbxvZWr2VzJfLaXgifzHuLWBgjncjtxXHftYfskftX/td+Cfjt458G/shXHw2vPEP7LN58N/DvgfUvEeiG88S6rJO08Dl7G7ktIbW2UNDA80yOftk2Y4VHzAH154/wD2+/2P/Avwb+Ivxvg/aL8Ea3pHwssZpvGg0PxhYXD6bOgYJZzbZsQ3Esi+VHFIVZ5GCAEnFc5+xV+3DJ+1x4c8L+KpLv4PwQ+KvDN9rVnp3gf40DxFfxxQS2Me0wrp9ureU120V0yuVtZxbxZm8/dH5v8AtV/safFHxH8YfiDqfwL+E1nF4e1r9jbX/h/pCafdWdpHLq7XGdO0/wAtpEKKsckwR2AhjDsC65xWZ8Sv2If2jPiV4i8LaNott/wjkf8Aww/4u+Gt34o/tKA/2J4j1F9AW1XbHIZX2/Y7qTzY1ZB5GNwLIGAPZNN/4KG/Ajx1+1N4G/Zr+B/jnwl49TxVpviSfWtd8KeNbW9Hh+40kWB+yzw2/mfvJftp4Z4ynkn5X3fL6J4I/ab/AGbfib4l13wX8N/2hPA/iDWPCyu3ibSdD8WWd3c6QFO1jdRRSM9vggg+YFwRiviLRP2UP2p/i/8AHL4RahH+xwfghY+A/wBnjxd8P9S8XweI9GuHtb+9tdNhsjZR2F08r2UT288kLyCOUM774YMgyQ/skfsI/tB+ENQ+HOifFzwh8ZodR+Enw61Tw/ok9/q3w8j8JZuNMNnJbWZ0ezt9WuLaR1ikRbtIcNFFJLl0OQD7e+GH7Vf7L3xu8SS+Dfgv+0j4B8X6vDpUGqTaV4X8YWWoXMdjMiPDdNFBKzCGRZI2WQjawkUgkMMy+Ev2nP2bPH3xL1T4LeBf2hPA+teMdDjkfWvCek+LLO51PT1RgrtPaxyGWIKxCksowSAetfI3wD/YN+NPw2+Gn7DvhjTvhrB4W1D4U/Cm/wBD+J17pl5ZeboV7d+F47ebmOXF0X1NA7NCZFaRBITj56k+E37NP7St/wD8E1dS/wCCYuofs13fw58R6d8DtS8G2nxfs9d0mfQ7/VHsDZ/2hbfZ7ptSDXcjG5lM1rE6lny7vhmAPrr4U/tHfs8/He+1XS/gf8efBnjK50GYQ65b+FPFFpqMmnSEkBJ1t5HMLEq3D4Pyn0rnP2k/2l/Fn7OthN4hs/2UviB450Ox0afUta8QeE9W8NW1rpcMIZpBP/a+sWMmQilyUR02/wAWcivnn9hv9lr4v+HP2jPDPxW+MvhD426TfeB/hte+F9Nl8Y6j8PF0EWs81k7WVpH4YtILu5hVrRHha6jhWII2I1aVhXr/APwUa+Dnxb/aU+BFh+zH8NtDkl0X4h+LdP0f4navHqEMB0vwnvM+qEB3V5GuIITYBY1dgb/eVCozKASad+2/4j8VfATwL+0V8Nv2Jvi14k0Pxz4Vj8QC2trzwvp91odpLEk0Qv01PW7VUdon34iaUKFIcocA9t+yd+0f4b/a9/Zx8IftN+DPBfiHw/o3jbR01TSNL8VW1vFfrayM3kyyLbzTRASRhZUKyNlJEJwSQOL/AOChPwq+Mfxg/ZRv/wBmr9nrRGt5PH19YeFdf1WyvILUeHfDdzMsWq3sYd0LOlgJ44o4sv5ssRC7VYj1TTorb4cf8Iv8MPA/wvvzoEdm1jDd6U9oljoNvbQAQJKks6TFWCrFGII5sEDfsX5qAPLP2Vv24Lz9rf7P4h8E/slfE7RfB17c6jBY+PvEd14cTTrh7O5ltZAIbbV5r5d00EirutV6AttBzR+zV+3BeftS6283gP8AZK+J1h4PXxDrmjJ8RdbuvDkelyXGlX11p9wRBFq8mobGurOaNCbQE/KzBUO4eHfCr9ljXz+198NPit8Bv+CdLfs5WnhrWNVvPip4m/tTQIR4ysrjT7uFNO8jRb24bUN19NbXf2i+WF4vsmUBaQrR4c/ZY1/Vf2ufh58TvgF/wTpb4AXPh/xzqGr/ABP+Iv8AamgQjxdps1rerLYeVpF7PPqX2m7uILjffxw+SYTIv7zCkA9c8C/8FOf2e/F8XibV9d0DxV4W0PQPDF94k0vxF4i06BbXxLo9pdtZz3unrbzyzMouAiLFPHDPJ58JSJhIpPvHgvxDd+LvB+leKr7wrqehT6np0F1NomtLEt5YNIgc284hkkjEqE7WCO67lOGYcn41/aI/4Jx69r/jDxpd/stfD228HPpvgq+1bwfqmo6+91b6t4zla6uNMiht5pZk03TrC+Yag8KQxxTXsttMI2+yNv8AZf2C/DPx98N+FfGL/Gfwx4u8PaTe+Llm8B+GPH/jOLxBrWl6aNNso5kub6K6ulkEl+l9NGpuJSkcyDKDEMQB7xRRRQAUUUUAFFFFABRRRQAUUUUAFFFFABRRRQAUUUUAFFFFABRRRQAUUUUAFFFFABRRRQAUUUUAFFFFABRRRQAUUUUAFFFFABRRRQAUUUUAFFFFABRRRQAUUUUAFFFFABRRRQAUUUUAFFFFABRRRQAUUUUAFFFFABRRRQAUUUUAFFFFABRRRQAUUUUAFFFFABXh/wAQP2//AIG/DD9uDwh+wT4zsNftPFfjjww2saBrjWMX9ju2+5VLB7jzd6Xci2d08aGPY6wsA+/CH3Cvj39q/wDYM8cftSftceLvE9zFLoei3vwJ0rTfBnj61uYGn0LxbYa/c6lZXUUW/wA3fbubabO0Ruu6MsdzLQB7P4P/AG3P2efEHw18W/GDxf43s/A/hrwV491jwlret+PNStNMtUvtOvXspnEzzGMRPLGfLLsrMCMqp+WsH48f8FL/ANir9nIfCzUvib8fvCtrofxf1m6sPCXioeKtNTSvLt7Ge7lvZbmW5RPsg8mODzo/MAnu7aMgeaCPlD9nv9lP9vHwn8P/AIZ/tD/Hf9l231Pxl4T/AGiPHHjjxd8JdE8U6XK06a0t9HBf6dPcXKWjzQPc740uJoWEU0uWSQBT0OifskftT/DrTvAn7QWn/s7XN3d6T+1f4g+Jl38IPDmv6Ut9o+i6n4f1TShbwzXF1BYPc/aLtL2aNbgR77m4CSSFQXAPtH4yftF/Bv4C/AzVP2kPiT42t7bwbpWmx30usWatdLcRSsiwCBYQzXDzPJGkSRhmkeRFUEsK5r4MftR+Kvit4lt9A8VfsffFr4fW99YyXWm6x410/SvstwiYJV/7P1C6ks5CDkJdJAxwRjcCtYH/AAUB/Z4+If7XX7Itx4H+GyWuj+MLPW/D/irw5p/iWYC2bUtK1S01SKxvGgMqiOR7XyHeMyBd+9d4UA838VdX/ay/bL/Z1+I37Ntx+yd4o+D1/wCMPhjruip4y8T+MdEubey1G6sZLeBrQaVeXU8yCSTcZJUtmVVyF3EKAD1jw5+2H+yR4x8PeJfFvhH9qX4c6rpXgxC/jDU9N8b2E9voSjOTeSJMVtQNrZMhX7p9K7HUfHngfSPFWn+BNW8ZaVa65q1jc3ulaNcajEl3eW1sYhcTRQsweSOIzwB3UEIZo9xG9c/Gvwy/ZS+I/wAfvjR4Q1H4y/sbQ/CXwP4S/Z+134ceK9Fm1vS7oeKk1NtNQWVsumzy/wDEtto7K4ZHufJlLXYCwJ+8J4D4Yf8ABPj9un40/s6/Gvwh+0zqkPhvx9/wpJ/gn8JPEsmsw3I1HSreKYyeIZWtmka3/tSZ7Xzo2AmRbFcxqcAgH274N/a0/ZW+Iug+JPFXw+/aY+H2u6X4Mgkm8Yalo3jOxurfQoo0d5HvJIpWW1VUjdiZCoARieAarP8Atmfsfx+Ddb+Ir/tWfDZfD3hrUEsPEevHxzp4stKu2AZbe5n87y4JSCCEchiCDjmviO4/Yd/aP+I3w6+J1zrfw4+N0XjH/hl/xZ8PfCNn451n4cW+i3T39tCINOtR4btraWSMTQIYZb0QRwr5mETznx6P+0/+xN8cV8Gfs0+JP2f7HxJpSfBLTZ7XU/B/w4fw1HqkTT6XFaR3FgNft5tMea3ZJY8OYm8q7mMcwPySAH1T4h/aW/Zx8I/Ca2+Pniz9oDwTpfgW8SN7TxpqPiuzg0mdZDiMpePIIWDEEKQ3OOK5v9kf9q3Q/wBrXRfG3iXwxo1pBpvhP4i6l4Y0/ULDWVvoNXhtVhdL+OREVVSVZgQoLgAAh2zXyl4L/Yy+NnwXi+E3x48H/An4jeNv+ER+K/ivxT4m+GvjnxB4Sj17z9asmh/tKzGnPa6LHLFOZZBAsyfLf3TiUudh9p/4JYfAj4s/Aj4afE+D4ufBaz+H9x4v+OfiTxVo3hmw1S1u47bTr6SGSH57VmjV+GDqMYcNgFdpIB2vhb9tXRviP8YtT+GHwi+AvxA8W6P4f8TyeHfE3xF0eDTI9C0rU4iFuLdjdX0N3cmBz5cr2ttOkbh0LbkcL6B8ZPiVqXwm8B3HjTR/hR4p8bXMM0UcPh3wbbW0t/cs7hcoLqeCFVGcszyooAJzX53+Bv8AgmR8YPhT8VNS8M+Bv2YBH4tm/adfx9ov7TKeJdPAsPC1zrq6reaSUNwNR8yS2e7sHsVtzZyvcNcNICzY/QHxj8V/H3hrwX4h8UaH+zL428Q3+jauLPTfDek6hocd5r0JMQN7aPdalDbpAPMc7bmaCb9xJ+65j8wA5r4aftdWPxw/ZC8JfthfAz4G+NvFun+NfD1hrOh+ENPfSbXWWtrpUZd/26/gs0ZFbc4+09FIUucA+f8Ahb/gqH4J1vQfiPfeI/2Yvin4c1X4a+M9E8I33hvU00G5utX17Vvs32TTrKWw1W5tXl/02z8wzTxJCLlTIyhZClL/AIJa6L+0X8CP+Cavgj4K/F/9lTxP4a8bfC34eWWi/wDCP6nr+hTDxDd2tko/0Oey1C4iSOSRfLVrloCCcsqrzWt+yR+xFZ6D+w5Y/Bn9qzw9FrHi3xjqUvjL4pNaX7xOfFV5ejU5pLe5t5FeNrW68qO3nidWjWzgZGUqCADrfht+3H8LPinD4Gs/DPhXxMuueN9a1vTf+EXubK3W/wBCk0a4mtNVlvws7Rxw2t3CLV5YpJVeW4gERkEqtXs9fnN4m/Yg/ap+HPgew+Jfwd+Eviy31bxGmtw3/gTwL8SoNN1TwxE6TS6FHLqc97GLxIr24vL/AFJvtE5ur3UJJCt5HDGh/QH4e2njKw8A6HY/EbU7a98Qw6PbR69e2UeyG4vREonkjXA2o0m4gYGARwKANiiiigAooooAKKKKACiiigAooooAKKKKACiiigAooooAKKKKACiiigAqtqGjaPq0trcarpVtcyWNz9osnuIFc282xk8xCR8j7XddwwcOw6E1ZooAKKKKACiiigArhvi3+zB+zT8ftW0rXvjt+zx4G8a32gszaHe+LfCVnqUunFiCTA9xE5hJKqTsIyVHpXc0UAIiJGgjjUKqjCqBgAUtFFABRRRQAUUUUAFFFFABRRRQAUUUUAFFFFABRRRQAUUUUAFFFFABRRRQAUUUUAFFFFABRRRQAUUUUAFFFFABRRRQAUUUUAFFFFABRRRQAUUUUAFFFFABRRRQAUUUUAFFFFABRRRQAUUUUAFFFFABRRRQAUUUUAFFFFABRRRQAUUUUAFFFFABRRRQAUUUUAFFFFABRRRQAUUUUAFFFFABRRRQAUUUUAFFFFABRRRQAUUUUAFFFFABRRRQAUUUUAFFFFABRRRQAUUUUAFFFFABRRRQAUUUUAFFFFABRRRQAUUUUAf/2Q=='></td></tr><tr><td style= \"border-right: 1px solid black; border-bottom: 1px solid black; width : 400px;\"><div align=\"left\"><strong>Effectiveness (Not escalated)&nbsp;</br><font size=\"5\">97.44%</strong></font size></br></div></td>    <td style=\"width:1000px; height=100;border-bottom: 1px solid black;\"><img class=\"colimg\" src='data:image/png;base64,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'></td></tr>"
      ],
      "text/plain": [
       "<IPython.core.display.HTML object>"
      ]
     },
     "execution_count": 22,
     "metadata": {},
     "output_type": "execute_result"
    }
   ],
   "source": [
    "#### Get the links to the excels\n",
    "all_html_link = '<a href={} target=\"_blank\">All.xlsx</a>'.format(all_file)\n",
    "escalated_html_link = '<a href={} target=\"_blank\">Escalated_sample.xlsx</a>'.format(escalated_sample_file)\n",
    "not_escalated_html_link = '<a href={} target=\"_blank\">NotEscalated_sample.xlsx</a>'.format(non_escalated_sample_file)\n",
    "\n",
    "# Embed the links in HTML table format\n",
    "link_html = '<tr><th colspan=\"4\"><div align=\"left\"><a id=\"file_list\"></a>View the lists here: {}&nbsp;&nbsp;&nbsp;{}&nbsp;&nbsp;&nbsp;{}</div></th></tr>'.format(all_html_link, escalated_html_link, not_escalated_html_link)\n",
    "\n",
    "if 100-effective_perc > 0:\n",
    "    escalated_bar = coverage_barh(escalated_covered, esc_avg_conf, '', True, 15, width_bar(100-effective_perc))\n",
    "else:\n",
    "    escalated_bar = ''\n",
    "\n",
    "if effective_perc > 0: \n",
    "    non_escalated_bar = coverage_barh(not_escalated_covered, not_esc_avg_conf, '' , True , 15,width_bar(effective_perc))\n",
    "else:\n",
    "    non_escalated_bar = ''\n",
    "\n",
    "# Plot the results\n",
    "HTML('<tr><th colspan=\"4\"><div align=\"left\"><h2>Breakdown by effectiveness<hr/></h2></div></th></tr>\\\n",
    "'+ link_html + '<tr><td style= \"border-right: 1px solid black; border-bottom: 1px solid black; width : 400px\"><div align=\"left\"><strong>Effectiveness (Escalated)&nbsp;</br>\\\n",
    "<font size=\"5\">{ef_escalated}%</strong></font size></br></div></td>\\\n",
    "    <td style=\"width:1000px; height=100;\">{one}</td></tr>\\\n",
    "<tr><td style= \"border-right: 1px solid black; border-bottom: 1px solid black; width : 400px;\"><div align=\"left\"><strong>Effectiveness (Not escalated)&nbsp;</br>\\\n",
    "<font size=\"5\">{effective_perc}%</strong></font size></br></div></td>\\\n",
    "    <td style=\"width:1000px; height=100;border-bottom: 1px solid black;\">{two}</td>\\\n",
    "</tr>'.format(ef_escalated= ef_escalated,\n",
    "              one = escalated_bar, \n",
    "              effective_perc = effective_perc, \n",
    "              two = non_escalated_bar)) \n"
   ]
  },
  {
   "cell_type": "markdown",
   "metadata": {},
   "source": [
    "You can download all the analyzed data from `All.xlsx`. A sample of escalated and non-escalated conversations are available in `Escalated_sample.xlsx` and `NotEscalated_sample.xlsx` respectively.\n"
   ]
  },
  {
   "cell_type": "markdown",
   "metadata": {},
   "source": [
    "<a id=\"root_cause\"></a>\n",
    "## 7. Root cause analysis of non coverage\n",
    "Lets us take a look at the reasons for non-coverage of messages"
   ]
  },
  {
   "cell_type": "code",
   "execution_count": 23,
   "metadata": {
    "scrolled": true
   },
   "outputs": [
    {
     "data": {
      "text/html": [
       "<div>\n",
       "<style>\n",
       "    .dataframe thead tr:only-child th {\n",
       "        text-align: right;\n",
       "    }\n",
       "\n",
       "    .dataframe thead th {\n",
       "        text-align: left;\n",
       "    }\n",
       "\n",
       "    .dataframe tbody tr th {\n",
       "        vertical-align: top;\n",
       "    }\n",
       "</style>\n",
       "<table border=\"1\" class=\"dataframe\">\n",
       "  <thead>\n",
       "    <tr style=\"text-align: right;\">\n",
       "      <th></th>\n",
       "      <th>Messages</th>\n",
       "      <th>Total</th>\n",
       "    </tr>\n",
       "  </thead>\n",
       "  <tbody>\n",
       "    <tr>\n",
       "      <th>0</th>\n",
       "      <td>'anything_else' node</td>\n",
       "      <td>715</td>\n",
       "    </tr>\n",
       "    <tr>\n",
       "      <th>1</th>\n",
       "      <td>'#out_of_scope || #off_topic' node</td>\n",
       "      <td>183</td>\n",
       "    </tr>\n",
       "  </tbody>\n",
       "</table>\n",
       "</div>"
      ],
      "text/plain": [
       "                             Messages  Total\n",
       "0                'anything_else' node    715\n",
       "1  '#out_of_scope || #off_topic' node    183"
      ]
     },
     "execution_count": 23,
     "metadata": {},
     "output_type": "execute_result"
    }
   ],
   "source": [
    "# Count the causes for non-coverage and store results in dataframe\n",
    "not_covered = pd.DataFrame(df_coverage['Not Covered cause'].value_counts().reset_index())\n",
    "# Name the columns in the dataframe\n",
    "not_covered.columns = ['Messages', 'Total']\n",
    "not_covered"
   ]
  },
  {
   "cell_type": "markdown",
   "metadata": {},
   "source": [
    "<a id=\"summary\"></a>\n",
    "## 8. Summary and next steps\n",
    "\n",
    "The metrics described above help you narrow your immediate focus of improvement. We suggest the following two strategies: \n",
    "\n",
    "- **Toward improving Effectiveness**\n",
    "\n",
    "    We suggest focusing on a group of problematic conversations, e.g., escalated conversations, then performing a deeper analysis on these conversation as follows. <br>\n",
    "    1. Choose to download either the complete conversations ([All.xlsx](#file_list)), or sampled escalated conversations [Escalated_sample.xlsx](#file_list), or non-escalated conversations [NotEscalated_sample.xlsx](#file_list).<br>\n",
    "    2. Perform a manual assessment of these conversations.<br>\n",
    "    3. Analyze the results using our __Analyze Watson Assistant Effectiveness__ Jupyter Notebook.\n",
    "\n",
    "\n",
    "- **Toward improving Coverage**\n",
    "\n",
    "    For utterances where an intent was found but no response was given. We suggest performing a deeper analysis to identify  root causes, e.g., missing entities or lacking of dialog logic. \n",
    "\n",
    "    For utterances where no intent was found, we suggest expanding intent coverage as follows.\n",
    "\n",
    "    1. Examine utterances from the production log, especially focus on the utterances that are below the confidence (0.2 by default).\n",
    "    2. If you set a confidence threshold significantly higher than 0.2, we suggest looking at utterances that are below but close to the threshold.\n",
    "    3. Once you select a collection of utterances, intent expansion, you can focus on intent expansion by two methods:\n",
    "        - One-by-One: examine each utterance to either change to an existing intent or add a new intent.\n",
    "        - Unsupervised Learning: perform semantic clustering to generate utterance clusters; examine each cluster to decide (1) adding utterances of an existing intent or (2) creating a new intent.\n",
    "\n",
    "For more information, please check <a href=\"https://github.com/watson-developer-cloud/assistant-improve-recommendations-notebook/raw/master/notebook/IBM%20Watson%20Assistant%20Continuous%20Improvement%20Best%20Practices.pdf\" target=\"_blank\" rel=\"noopener noreferrer\">Watson Assistant Continuous Improvement Best Practices</a>."
   ]
  },
  {
   "cell_type": "markdown",
   "metadata": {},
   "source": [
    "### <a id=\"authors\"></a>Authors\n",
    "\n",
    "**Zhe Zhang**, Ph.D. in Computer Science, is an Advisory Software Engineer for IBM Watson AI. Zhe has a research background in Natural Language Processing, Sentiment Analysis, Text Mining, and Machine Learning. His research has been published at leading  conferences and journals including ACL and EMNLP.\n",
    "\n",
    "**Sherin Varughese** is a Data Scientist for IBM Watson AI. Sherin has her graduate degree in Business Intelligence and Data Analytics and has experience in Data Analysis, Warehousing and Machine Learning."
   ]
  },
  {
   "cell_type": "markdown",
   "metadata": {},
   "source": [
    "### <a id=\"acknowledgement\"></a> Acknowledgement\n",
    "\n",
    "The authors would like to thank the following members of the IBM Research and Watson Assistant teams for their contributions and reviews of the notebook:  Matt Arnold, Adam Benvie, Kyle Croutwater, Eric Wayne."
   ]
  },
  {
   "cell_type": "markdown",
   "metadata": {},
   "source": [
    "Copyright © 2018 IBM. This notebook and its source code are released under the terms of the MIT License."
   ]
  }
 ],
 "metadata": {
  "kernelspec": {
   "display_name": "Python 3",
   "language": "python",
   "name": "python3"
  },
  "language_info": {
   "codemirror_mode": {
    "name": "ipython",
    "version": 3
   },
   "file_extension": ".py",
   "mimetype": "text/x-python",
   "name": "python",
   "nbconvert_exporter": "python",
   "pygments_lexer": "ipython3",
   "version": "3.6.5"
  }
 },
 "nbformat": 4,
 "nbformat_minor": 1
}
