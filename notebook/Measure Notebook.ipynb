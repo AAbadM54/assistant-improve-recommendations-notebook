{
 "cells": [
  {
   "cell_type": "markdown",
   "metadata": {},
   "source": [
    "# Measure Watson Assistant Performance\n",
    "\n",
    "<img src=\"https://raw.githubusercontent.com/watson-developer-cloud/assistant-improve-recommendations-notebook/master/notebook/imgs/measure_process.png\" alt=\"Measure Process\" width=\"600\"/>\n",
    "\n",
    "## Introduction\n",
    "\n",
    "This notebook demonstrates how to setup automated metrics that help you measure, monitor, and understand the behavior of your Watson Assistant system. As described in <a href=\"https://github.com/watson-developer-cloud/assistant-improve-recommendations-notebook/raw/master/notebook/IBM%20Watson%20Assistant%20Continuous%20Improvement%20Best%20Practices.pdf\" target=\"_blank\" rel=\"noopener noreferrer\">Watson Assistant Continuous Improvement Best Practices</a>, this is the first step of your continuous improvement process. The goal of this step is to understand where your assistant is doing well vs where it isn’t and to potentially focus your improvement effort to one of the problem areas identified. We define two measures to achieve this goal: **Coverage** and **Effectiveness**.\n",
    "\n",
    "- **Coverage** is the portion of total user messages your assistant is attempting to respond to.\n",
    "\n",
    "- **Effectiveness** refers to how well your assistant is handling the conversations it is attempting to respond to.\n",
    "\n",
    "The pre-requisite for running this notebook is Watson Assistant (formerly Watson Conversation). This notebook assumes familiarity with Watson Assistant and concepts such as skills, workspaces, intents and training examples. \n",
    "\n",
    "### Programming language and environment\n",
    "Some familiarity with Python is recommended. This notebook runs on Python 3.5+ environment.\n"
   ]
  },
  {
   "cell_type": "markdown",
   "metadata": {},
   "source": [
    "## Table of contents\n",
    "1. [Configuration and setup](#setup)<br>\n",
    "    1.1 [Import and apply global CSS styles](#css)<br>\n",
    "    1.2 [Install required Python libraries](#python)<br>\n",
    "    1.3 [Import functions used in the notebook](#function)<br>\n",
    "2. [Load and format data](#load)<br>\n",
    "    2.1 [Option one: from a Watson Assistant instance](#load_remote)<br>\n",
    "    2.2 [Option two: from JSON files](#load_local)<br>\n",
    "    2.3 [Format the log data](#format_data)<br>\n",
    "3. [Define coverage and effectiveness metrics](#set_metrics)<br>\n",
    "    3.1 [Customize coverage](#set_coverage)<br>\n",
    "    3.2 [Customize effectiveness](#set_effectiveness)<br>\n",
    "4. [Calculate overall coverage and effectiveness](#overall)<br>\n",
    "    4.1 [Calculate overall metrics](#overall1)<br>\n",
    "    4.2 [Display overall results](#overall2)<br>\n",
    "5. [Analyze coverage](#msg_analysis)<br>\n",
    "    5.1 [Display overall coverage](#msg_analysis1)<br>\n",
    "    5.2 [Calculate coverage over time](#msg_analysis2)<br>\n",
    "6. [Analyze effectiveness](#conv_analysis)<br>\n",
    "    6.1 [Generate excel file and upload to our project](#conv_analysis1)<br>\n",
    "    6.2 [Plot breakdown by effectiveness graph](#conv_analysis2)<br>\n",
    "7. [Root cause analysis of non coverage](#root_cause)<br>\n",
    "8. [Abandoned and resolved intent analysis](#abandoned_resolved_intents)<br>\n",
    "    8.1 [Count of all started intents](#started_intents)<br>\n",
    "    8.2 [Analyze resolved intents](#resolved_intents)<br>\n",
    "    8.3 [Analyze abandoned intents](#abandoned_intents)<br>\n",
    "9. [Summary and next steps](#summary)<br>"
   ]
  },
  {
   "cell_type": "markdown",
   "metadata": {},
   "source": [
    "<a id=\"setup\"></a>\n",
    "## 1. Configuration and Setup\n",
    "\n",
    "In this section, we install and import required libraries and functions and add project access token."
   ]
  },
  {
   "cell_type": "markdown",
   "metadata": {},
   "source": [
    "### <a id=\"css\"></a> 1.1 Import and apply global CSS styles"
   ]
  },
  {
   "cell_type": "code",
   "execution_count": 1,
   "metadata": {},
   "outputs": [
    {
     "name": "stdout",
     "output_type": "stream",
     "text": [
      "  % Total    % Received % Xferd  Average Speed   Time    Time     Time  Current\r\n",
      "                                 Dload  Upload   Total   Spent    Left  Speed\r\n",
      "100   348  100   348    0     0   1626      0 --:--:-- --:--:-- --:--:--  1626\r\n"
     ]
    },
    {
     "data": {
      "text/plain": "<IPython.core.display.HTML object>",
      "text/html": "<style>\n    h1 {\n        font-family: \"HelveticaNeue-Light\", \"Helvetica Neue Light\", \"Helvetica Neue\";\n    }\n    div.text_cell_render{\n        font-family: \"HelveticaNeue-Light\", \"Helvetica Neue Light\", \"Helvetica Neue\";\n        line-height: 145%;\n        font-size: 120%;\n    }\n    .warning{\n        color: rgb( 240, 20, 20 )\n        }  \n</style>\n"
     },
     "execution_count": 1,
     "metadata": {},
     "output_type": "execute_result"
    }
   ],
   "source": [
    "from IPython.display import HTML\n",
    "!curl -O https://raw.githubusercontent.com/watson-developer-cloud/assistant-improve-recommendations-notebook/master/src/main/css/custom.css\n",
    "HTML(open('custom.css', 'r').read())"
   ]
  },
  {
   "cell_type": "markdown",
   "metadata": {},
   "source": [
    "### <a id=\"python\"></a> 1.2 Install required Python libraries"
   ]
  },
  {
   "cell_type": "code",
   "execution_count": 2,
   "metadata": {
    "scrolled": true
   },
   "outputs": [
    {
     "name": "stdout",
     "output_type": "stream",
     "text": [
      "Requirement already up-to-date: ibm-watson==4.1.0 in /Users/zhezhang/.local/lib/python3.6/site-packages (4.1.0)\n",
      "Requirement already satisfied, skipping upgrade: websocket-client==0.48.0 in /Users/zhezhang/.local/lib/python3.6/site-packages (from ibm-watson==4.1.0) (0.48.0)\n",
      "Requirement already satisfied, skipping upgrade: python-dateutil>=2.5.3 in /Users/zhezhang/.local/lib/python3.6/site-packages (from ibm-watson==4.1.0) (2.8.1)\n",
      "Requirement already satisfied, skipping upgrade: ibm-cloud-sdk-core==1.0.0 in /Users/zhezhang/.local/lib/python3.6/site-packages (from ibm-watson==4.1.0) (1.0.0)\n",
      "Requirement already satisfied, skipping upgrade: requests<3.0,>=2.0 in /Users/zhezhang/.local/lib/python3.6/site-packages (from ibm-watson==4.1.0) (2.22.0)\n",
      "Requirement already satisfied, skipping upgrade: six in /Users/zhezhang/.local/lib/python3.6/site-packages (from websocket-client==0.48.0->ibm-watson==4.1.0) (1.14.0)\n",
      "Requirement already satisfied, skipping upgrade: PyJWT>=1.7.1 in /Users/zhezhang/.local/lib/python3.6/site-packages (from ibm-cloud-sdk-core==1.0.0->ibm-watson==4.1.0) (1.7.1)\n",
      "Requirement already satisfied, skipping upgrade: chardet<3.1.0,>=3.0.2 in /Users/zhezhang/.local/lib/python3.6/site-packages (from requests<3.0,>=2.0->ibm-watson==4.1.0) (3.0.4)\n",
      "Requirement already satisfied, skipping upgrade: urllib3!=1.25.0,!=1.25.1,<1.26,>=1.21.1 in /Users/zhezhang/.local/lib/python3.6/site-packages (from requests<3.0,>=2.0->ibm-watson==4.1.0) (1.25.8)\n",
      "Requirement already satisfied, skipping upgrade: idna<2.9,>=2.5 in /Users/zhezhang/.local/lib/python3.6/site-packages (from requests<3.0,>=2.0->ibm-watson==4.1.0) (2.8)\n",
      "Requirement already satisfied, skipping upgrade: certifi>=2017.4.17 in /Users/zhezhang/.local/lib/python3.6/site-packages (from requests<3.0,>=2.0->ibm-watson==4.1.0) (2019.11.28)\n",
      "\u001B[33mYou are using pip version 18.1, however version 20.1b1 is available.\n",
      "You should consider upgrading via the 'pip install --upgrade pip' command.\u001B[0m\n",
      "Requirement already up-to-date: pandas==1.0.3 in /Users/zhezhang/.local/lib/python3.6/site-packages (1.0.3)\n",
      "Requirement already satisfied, skipping upgrade: python-dateutil>=2.6.1 in /Users/zhezhang/.local/lib/python3.6/site-packages (from pandas==1.0.3) (2.8.1)\n",
      "Requirement already satisfied, skipping upgrade: pytz>=2017.2 in /Users/zhezhang/.pyenv/versions/3.6.8/lib/python3.6/site-packages (from pandas==1.0.3) (2019.3)\n",
      "Requirement already satisfied, skipping upgrade: numpy>=1.13.3 in /Users/zhezhang/.local/lib/python3.6/site-packages (from pandas==1.0.3) (1.18.2)\n",
      "Requirement already satisfied, skipping upgrade: six>=1.5 in /Users/zhezhang/.local/lib/python3.6/site-packages (from python-dateutil>=2.6.1->pandas==1.0.3) (1.14.0)\n",
      "\u001B[33mYou are using pip version 18.1, however version 20.1b1 is available.\n",
      "You should consider upgrading via the 'pip install --upgrade pip' command.\u001B[0m\n",
      "Requirement already up-to-date: matplotlib==3.2.1 in /Users/zhezhang/.local/lib/python3.6/site-packages (3.2.1)\n",
      "Requirement already satisfied, skipping upgrade: python-dateutil>=2.1 in /Users/zhezhang/.local/lib/python3.6/site-packages (from matplotlib==3.2.1) (2.8.1)\n",
      "Requirement already satisfied, skipping upgrade: pyparsing!=2.0.4,!=2.1.2,!=2.1.6,>=2.0.1 in /Users/zhezhang/.pyenv/versions/3.6.8/lib/python3.6/site-packages (from matplotlib==3.2.1) (2.4.6)\n",
      "Requirement already satisfied, skipping upgrade: kiwisolver>=1.0.1 in /Users/zhezhang/.pyenv/versions/3.6.8/lib/python3.6/site-packages (from matplotlib==3.2.1) (1.1.0)\n",
      "Requirement already satisfied, skipping upgrade: cycler>=0.10 in /Users/zhezhang/.pyenv/versions/3.6.8/lib/python3.6/site-packages (from matplotlib==3.2.1) (0.10.0)\n",
      "Requirement already satisfied, skipping upgrade: numpy>=1.11 in /Users/zhezhang/.local/lib/python3.6/site-packages (from matplotlib==3.2.1) (1.18.2)\n",
      "Requirement already satisfied, skipping upgrade: six>=1.5 in /Users/zhezhang/.local/lib/python3.6/site-packages (from python-dateutil>=2.1->matplotlib==3.2.1) (1.14.0)\n",
      "Requirement already satisfied, skipping upgrade: setuptools in /Users/zhezhang/.pyenv/versions/3.6.8/lib/python3.6/site-packages (from kiwisolver>=1.0.1->matplotlib==3.2.1) (40.6.2)\n",
      "\u001B[33mYou are using pip version 18.1, however version 20.1b1 is available.\n",
      "You should consider upgrading via the 'pip install --upgrade pip' command.\u001B[0m\n",
      "Requirement already up-to-date: numpy==1.18.2 in /Users/zhezhang/.local/lib/python3.6/site-packages (1.18.2)\n",
      "\u001B[33mYou are using pip version 18.1, however version 20.1b1 is available.\n",
      "You should consider upgrading via the 'pip install --upgrade pip' command.\u001B[0m\n",
      "Requirement already up-to-date: XlsxWriter==1.2.8 in /Users/zhezhang/.local/lib/python3.6/site-packages (1.2.8)\n",
      "\u001B[33mYou are using pip version 18.1, however version 20.1b1 is available.\n",
      "You should consider upgrading via the 'pip install --upgrade pip' command.\u001B[0m\n",
      "Requirement already up-to-date: bokeh==2.0.0 in /Users/zhezhang/.local/lib/python3.6/site-packages (2.0.0)\n",
      "Requirement already satisfied, skipping upgrade: PyYAML>=3.10 in /Users/zhezhang/.pyenv/versions/3.6.8/lib/python3.6/site-packages (from bokeh==2.0.0) (5.3)\n",
      "Requirement already satisfied, skipping upgrade: python-dateutil>=2.1 in /Users/zhezhang/.local/lib/python3.6/site-packages (from bokeh==2.0.0) (2.8.1)\n",
      "Requirement already satisfied, skipping upgrade: Jinja2>=2.7 in /Users/zhezhang/.pyenv/versions/3.6.8/lib/python3.6/site-packages (from bokeh==2.0.0) (2.11.1)\n",
      "Requirement already satisfied, skipping upgrade: numpy>=1.11.3 in /Users/zhezhang/.local/lib/python3.6/site-packages (from bokeh==2.0.0) (1.18.2)\n",
      "Requirement already satisfied, skipping upgrade: pillow>=4.0 in /Users/zhezhang/.local/lib/python3.6/site-packages (from bokeh==2.0.0) (7.1.1)\n",
      "Requirement already satisfied, skipping upgrade: packaging>=16.8 in /Users/zhezhang/.pyenv/versions/3.6.8/lib/python3.6/site-packages (from bokeh==2.0.0) (20.3)\n",
      "Requirement already satisfied, skipping upgrade: tornado>=5 in /Users/zhezhang/.pyenv/versions/3.6.8/lib/python3.6/site-packages (from bokeh==2.0.0) (6.0.3)\n",
      "Requirement already satisfied, skipping upgrade: typing_extensions>=3.7.4 in /Users/zhezhang/.pyenv/versions/3.6.8/lib/python3.6/site-packages (from bokeh==2.0.0) (3.7.4.1)\n",
      "Requirement already satisfied, skipping upgrade: six>=1.5 in /Users/zhezhang/.local/lib/python3.6/site-packages (from python-dateutil>=2.1->bokeh==2.0.0) (1.14.0)\n",
      "Requirement already satisfied, skipping upgrade: MarkupSafe>=0.23 in /Users/zhezhang/.pyenv/versions/3.6.8/lib/python3.6/site-packages (from Jinja2>=2.7->bokeh==2.0.0) (1.1.1)\n",
      "Requirement already satisfied, skipping upgrade: pyparsing>=2.0.2 in /Users/zhezhang/.pyenv/versions/3.6.8/lib/python3.6/site-packages (from packaging>=16.8->bokeh==2.0.0) (2.4.6)\n",
      "\u001B[33mYou are using pip version 18.1, however version 20.1b1 is available.\n",
      "You should consider upgrading via the 'pip install --upgrade pip' command.\u001B[0m\n"
     ]
    }
   ],
   "source": [
    "# Install watson-developer-cloud python SDK and required libraries\n",
    "# After running this cell once, comment out the following code. Packages only need to be installed once.\n",
    "!pip3 install --user --upgrade \"ibm-watson==4.1.0\";\n",
    "!pip3 install --user --upgrade \"pandas==1.0.3\";\n",
    "!pip3 install --user --upgrade \"matplotlib==3.2.1\";\n",
    "!pip3 install --user --upgrade \"numpy==1.18.2\";\n",
    "!pip3 install --user --upgrade \"XlsxWriter==1.2.8\";\n",
    "!pip3 install --user --upgrade \"bokeh==2.0.0\";"
   ]
  },
  {
   "cell_type": "code",
   "execution_count": 2,
   "outputs": [],
   "source": [
    "# Import required libraries\n",
    "import pandas as pd\n",
    "import json\n",
    "from pandas import json_normalize\n",
    "from ibm_watson import AssistantV1\n",
    "from IPython.display import display"
   ],
   "metadata": {
    "collapsed": false,
    "pycharm": {
     "name": "#%%\n"
    }
   }
  },
  {
   "cell_type": "markdown",
   "metadata": {},
   "source": [
    "### <a id=\"function\"></a> 1.3 Import functions used in the notebook"
   ]
  },
  {
   "cell_type": "code",
   "execution_count": 3,
   "metadata": {},
   "outputs": [
    {
     "name": "stdout",
     "output_type": "stream",
     "text": [
      "  % Total    % Received % Xferd  Average Speed   Time    Time     Time  Current\n",
      "                                 Dload  Upload   Total   Spent    Left  Speed\n",
      "100 14698  100 14698    0     0  14698      0  0:00:01 --:--:--  0:00:01  120k\n",
      "  % Total    % Received % Xferd  Average Speed   Time    Time     Time  Current\n",
      "                                 Dload  Upload   Total   Spent    Left  Speed\n",
      "100 14037  100 14037    0     0  14037      0  0:00:01 --:--:--  0:00:01 99553\n",
      "  % Total    % Received % Xferd  Average Speed   Time    Time     Time  Current\n",
      "                                 Dload  Upload   Total   Spent    Left  Speed\n",
      "100 15665  100 15665    0     0  15665      0  0:00:01 --:--:--  0:00:01  116k\n",
      "  % Total    % Received % Xferd  Average Speed   Time    Time     Time  Current\n",
      "                                 Dload  Upload   Total   Spent    Left  Speed\n",
      "100 17027  100 17027    0     0  17027      0  0:00:01 --:--:--  0:00:01  133k\n"
     ]
    }
   ],
   "source": [
    "# Import function module files\n",
    "!curl -O https://raw.githubusercontent.com/watson-developer-cloud/assistant-improve-recommendations-notebook/master/src/main/python/cos_op.py\n",
    "!curl -O https://raw.githubusercontent.com/watson-developer-cloud/assistant-improve-recommendations-notebook/master/src/main/python/watson_assistant_func.py\n",
    "!curl -O https://raw.githubusercontent.com/watson-developer-cloud/assistant-improve-recommendations-notebook/master/src/main/python/visualize_func.py\n",
    "!curl -O https://raw.githubusercontent.com/watson-developer-cloud/assistant-improve-recommendations-notebook/master/src/main/python/computation_func.py"
   ]
  },
  {
   "cell_type": "code",
   "execution_count": 16,
   "outputs": [],
   "source": [
    "# Import the visualization related functions\n",
    "from visualize_func import make_pie\n",
    "from visualize_func import coverage_barh\n",
    "from visualize_func import width_bar\n",
    "from visualize_func import show_coverage_over_time\n",
    "\n",
    "# Import Cloud Object Storage related functions   \n",
    "from cos_op import generate_link\n",
    "from cos_op import generate_excel_measure\n",
    "from cos_op import export_result_excel\n",
    "\n",
    "# Import Watson Assistant related functions\n",
    "from ibm_cloud_sdk_core.authenticators import IAMAuthenticator\n",
    "from ibm_cloud_sdk_core.authenticators import BasicAuthenticator\n",
    "from watson_assistant_func import get_logs\n",
    "from watson_assistant_func import get_assistant_definition\n",
    "from watson_assistant_func import load_logs_from_file\n",
    "\n",
    "# Import Dataframe computation related functions\n",
    "from computation_func import get_effective_df\n",
    "from computation_func import get_coverage_df\n",
    "from computation_func import chk_is_valid_node\n",
    "from computation_func import format_data"
   ],
   "metadata": {
    "collapsed": false,
    "pycharm": {
     "name": "#%%\n"
    }
   }
  },
  {
   "cell_type": "markdown",
   "metadata": {},
   "source": [
    "## <a id=\"load\"></a> 2. Load and format data "
   ]
  },
  {
   "cell_type": "markdown",
   "metadata": {},
   "source": [
    "### <a id=\"load_remote\"></a> 2.1 Option one: from a Watson Assistant instance\n",
    "\n",
    "#### 2.1.1 Add Watson Assistant configuration\n",
    "\n",
    "This notebook uses the Watson Assistant v1 API to access your skill definition and your logs. Provide your Watson Assistant credentials and the workspace id that you want to fetch data from.\n",
    "\n",
    "You can access the values you need for this configuration from the Watson Assistant user interface. Go to the Skills page and select View API Details from the menu of a skill tile.\n",
    "\n",
    "- The string to set in the call to `IAMAuthenticator` is your Api Key under Service Credentials\n",
    "- The string to set for version is a date in the format version=YYYY-MM-DD. The version date string determines which version of the Watson Assistant V1 API will be called. For more information about version, see [Versioning](https://cloud.ibm.com/apidocs/assistant/assistant-v1#versioning).\n",
    "- The string to pass into `assistant.set_service_url` is the portion of the Legacy v1 Workspace URL that ends with `/api`. For example, `https://gateway.watsonplatform.net/assistant/api`. This value will be different depending on the location of your service instance. Do not pass in the entire Workspace URL."
   ]
  },
  {
   "cell_type": "code",
   "execution_count": 17,
   "metadata": {},
   "outputs": [],
   "source": [
    "# Provide credentials to connect to assistant\n",
    "authenticator = BasicAuthenticator('apikey', 'LUbYW_TaiUQEgdXcQmYzUiMrzhuiUX__SF-6L1-LFjIb')\n",
    "sdk_object = AssistantV1(version='2020-02-05', authenticator=authenticator)\n",
    "sdk_object.set_service_url('https://api.us-south.assistant.dev.watson.cloud.ibm.com/')"
   ]
  },
  {
   "cell_type": "markdown",
   "metadata": {},
   "source": [
    "Add the information of your assistant. To load the skill of an assistant in the next section, you need to provide either Workspace ID or Skill ID. The values can be found on the View API Details page. If you are using versioning in Watson Assistant, this ID represents the Development version of your skill definition.\n",
    "\n",
    "For more information about authentication and finding credentials in the Watson Assistant UI, please see [Watson Assistant v1 API](https://cloud.ibm.com/apidocs/assistant/assistant-v1) in the offering documentation."
   ]
  },
  {
   "cell_type": "code",
   "execution_count": 18,
   "metadata": {},
   "outputs": [],
   "source": [
    "assistant_information = {'workspace_id' : '',\n",
    "                         'skill_id' : '06934d39-8071-48cf-8d1b-9d4702516d52',\n",
    "                         'assistant_id' : '6bf66de8-0baf-4c1d-8ec8-7ad823726efe'}"
   ]
  },
  {
   "cell_type": "markdown",
   "metadata": {},
   "source": [
    "#### 2.1.2 Fetch and load the definition of your assistant \n",
    "\n",
    "Fetch assistant definition and load into a dataframe. Note that assistant definition will be saved into a cached file and reloaded from the file. Set `reset` to True to reload assistant definition."
   ]
  },
  {
   "cell_type": "code",
   "execution_count": 19,
   "metadata": {},
   "outputs": [
    {
     "name": "stdout",
     "output_type": "stream",
     "text": [
      "Loading skill definition using skill id: 06934d39-8071-48cf-8d1b-9d4702516d52\n",
      "Definition assistant_definition_skill_06934d39-8071-48cf-8d1b-9d4702516d52.json exported\n"
     ]
    }
   ],
   "source": [
    "df_assistant = get_assistant_definition(sdk_object, assistant_information, reset=True)\n",
    "\n",
    "if df_assistant is not None:\n",
    "    # Get all intents\n",
    "    assistant_intents = [intent['intent'] for intent in df_assistant['intents'].values[0]] \n",
    "    # Get all dialog nodes\n",
    "    assistant_nodes = pd.DataFrame(df_assistant['dialog_nodes'].values[0])\n",
    "    assistant_loaded = True\n",
    "else:\n",
    "    assistant_loaded = False"
   ]
  },
  {
   "cell_type": "markdown",
   "metadata": {},
   "source": [
    "#### 2.1.3 Fetch and load logs\n",
    "\n",
    "Fetch user generated logs. You can apply filters while fetching logs, e.g.,\n",
    "- removing empty input: `meta.summary.input_text_length_i>0`\n",
    "- fetching logs generated after a timestamp: `response_timestamp>=2018-09-18`"
   ]
  },
  {
   "cell_type": "code",
   "execution_count": 7,
   "metadata": {},
   "outputs": [
    {
     "name": "stdout",
     "output_type": "stream",
     "text": [
      "Please provide a valid Workspace ID, Assistant ID, or Skill ID!\n"
     ]
    }
   ],
   "source": [
    "# Filter to be applied while fetching logs\n",
    "filters = ['language::en',\n",
    "           'meta.summary.input_text_length_i>0']\n",
    "\n",
    "# Fetch the logs, set `reset` to True to reload logs\n",
    "logs = get_logs(sdk_object,\n",
    "                assistant_information,\n",
    "                num_logs=20000,\n",
    "                filters=filters)"
   ]
  },
  {
   "cell_type": "markdown",
   "metadata": {},
   "source": [
    "### <a id=\"load_local\"></a> 2.2 Option two: from JSON files\n",
    "\n",
    "#### 2.2.1 Load a workspace JSON file"
   ]
  },
  {
   "cell_type": "code",
   "execution_count": 20,
   "metadata": {},
   "outputs": [
    {
     "name": "stdout",
     "output_type": "stream",
     "text": [
      "Assistant definition has been loaded in Section 2.1.2.\n"
     ]
    }
   ],
   "source": [
    "if not assistant_loaded:\n",
    "    \n",
    "    # The following code is for using demo workspace\n",
    "    import requests\n",
    "    print('Loading workspace data from Watson developer cloud Github repo ... ', end='')\n",
    "    workspace_data = requests.get(\"https://raw.githubusercontent.com/watson-developer-cloud/assistant-improve-recommendations-notebook/master/notebook/data/workspace.json\").text    \n",
    "    df_assistant = json_normalize(json.loads(workspace_data))\n",
    "    \n",
    "#    # Specify assistant definition JSON file\n",
    "#     assistant_definition_file = 'SPECIFY_FILE_NAME'\n",
    "#     print('Loading assistant definition from {}'.format(assistant_definition_file))\n",
    "\n",
    "#    # Store assistant definition in a dataframe\n",
    "#     df_assistant = json_normalize(json.load(open(assistant_definition_file)))\n",
    "\n",
    "    # Get all intents\n",
    "    assistant_intents = [intent['intent'] for intent in df_assistant['intents'].values[0]] \n",
    "\n",
    "    # Get all dialog nodes\n",
    "    assistant_nodes = pd.DataFrame(df_assistant['dialog_nodes'].values[0])\n",
    "    print('completed!')\n",
    "else:\n",
    "    print('Assistant definition has been loaded in Section 2.1.2.')"
   ]
  },
  {
   "cell_type": "markdown",
   "metadata": {},
   "source": [
    "#### 2.2.2 Load a log JSON file"
   ]
  },
  {
   "cell_type": "code",
   "execution_count": 21,
   "metadata": {},
   "outputs": [
    {
     "name": "stdout",
     "output_type": "stream",
     "text": [
      "Logs have been loaded in Section 2.1.3.\n"
     ]
    }
   ],
   "source": [
    "if 'logs' not in locals():\n",
    "    # The following code is for using demo logs\n",
    "    #import requests\n",
    "    #print('Loading demo log data from Watson developer cloud Github repo ... ', end='')\n",
    "    #log_raw_data = requests.get(\"https://raw.githubusercontent.com/watson-developer-cloud/assistant-improve-recommendations-notebook/master/notebook/data/sample_logs.json\").text\n",
    "    #print('completed!')\n",
    "    #df_logs = pd.DataFrame.from_records(json.loads(log_raw_data))\n",
    "\n",
    "\n",
    "    # The following code is for loading your log file\n",
    "    # Specify a log JSON file\n",
    "    logs = load_logs_from_file(filename='logs.json')\n",
    "\n",
    "#     # Create a dataframe for logs\n",
    "#     df = pd.DataFrame.from_records(json.load(open(log_file)))\n",
    "#     print('completed!')\n",
    "else:\n",
    "    print('Logs have been loaded in Section 2.1.3.')"
   ]
  },
  {
   "cell_type": "markdown",
   "metadata": {},
   "source": [
    "### <a id=\"format_data\"></a> 2.3 Format the log data\n",
    "\n",
    "The logs returned from `logs` API are stored in a nested structure. In this step, we expand the nested structure and extract the fields used for analysis."
   ]
  },
  {
   "cell_type": "code",
   "execution_count": 22,
   "metadata": {},
   "outputs": [
    {
     "name": "stdout",
     "output_type": "stream",
     "text": [
      "Extracting request and response ...\n",
      "Extracting context and output ...\n",
      "Extracting intents ...\n",
      "Completed!\n"
     ]
    }
   ],
   "source": [
    "df_logs = pd.DataFrame(logs)\n",
    "# Format the logs data from the workspace\n",
    "df_formated = format_data(df_logs)"
   ]
  },
  {
   "cell_type": "markdown",
   "metadata": {},
   "source": [
    "<a id=\"set_metrics\"></a>\n",
    "## 3. Define effectiveness and coverage metrics\n",
    "As described in Watson Assistant Continuous Improvement Best Practices, **Effectiveness** and **Coverage** are the two measures that provide a reliable understanding of your assistant’s overall performance. Both of the two measures are customizable based on your preferences. In this section, we provide a guideline for setting each of them."
   ]
  },
  {
   "cell_type": "markdown",
   "metadata": {},
   "source": [
    "### <a id=\"set_coverage\"></a> 3.1 Customize coverage\n",
    "\n",
    "Coverage measures your Watson Assistant system at the utterance level. You may include automated metrics that help identify utterences that your service is not answering. Example metrics include: \n",
    "\n",
    "- Confidence threshold\n",
    "- Dialog information\n",
    "\n",
    "For Confidence threshold, you can set a threshold to include utterances with confidence values below this threshold. For more information regarding Confidence, see [Absolute scoring](https://cloud.ibm.com/docs/services/assistant?topic=assistant-intents#intents-absolute-scoring).\n",
    "\n",
    "For Dialog information, you can specify what the notebook should look for in your logs to determine that a message is not covered by your assistant.\n",
    "\n",
    "- Use the node_ids list to include the identifiers of any dialog nodes you've used to model that a message is out of scope.  \n",
    "- Similarly, use the node_names list to include any dialog nodes.\n",
    "- Use node_conditions for dialog conditions that indicate a message is out of scope.\n",
    "    \n",
    "Note that these lists are treated as \"OR\" conditions - any occurrence of any of them will signify that a message is not covered. \n",
    "\n",
    "__Where to find node id, node name, and node condition__?\n",
    "\n",
    "You can find the values of these variables from your assistant definition JSON file based on following mappings.\n",
    "\n",
    "- node id: `dialog_node`\n",
    "- node name: `title`\n",
    "- node condition: `conditions`\n",
    "\n",
    "You can also find node name, and node condition in your dialog editor. For more information, see [Dialog Nodes](https://cloud.ibm.com/docs/services/assistant?topic=assistant-dialog-overview#dialog-overview-nodes).\n",
    "\n",
    "Below we provide example code for identifying coverage based on confidence and dialog node. "
   ]
  },
  {
   "cell_type": "code",
   "execution_count": 23,
   "metadata": {},
   "outputs": [
    {
     "data": {
      "text/plain": "                     Condition               Node ID      Node Name  Valid\n0                               node_1_1467910920863                 False\n1                               node_1_1467919680248                 False\n2  #out_of_scope || #off_topic                                       False\n3                anything_else         Anything else  Anything else   True",
      "text/html": "<div>\n<style scoped>\n    .dataframe tbody tr th:only-of-type {\n        vertical-align: middle;\n    }\n\n    .dataframe tbody tr th {\n        vertical-align: top;\n    }\n\n    .dataframe thead th {\n        text-align: right;\n    }\n</style>\n<table border=\"1\" class=\"dataframe\">\n  <thead>\n    <tr style=\"text-align: right;\">\n      <th></th>\n      <th>Condition</th>\n      <th>Node ID</th>\n      <th>Node Name</th>\n      <th>Valid</th>\n    </tr>\n  </thead>\n  <tbody>\n    <tr>\n      <th>0</th>\n      <td></td>\n      <td>node_1_1467910920863</td>\n      <td></td>\n      <td>False</td>\n    </tr>\n    <tr>\n      <th>1</th>\n      <td></td>\n      <td>node_1_1467919680248</td>\n      <td></td>\n      <td>False</td>\n    </tr>\n    <tr>\n      <th>2</th>\n      <td>#out_of_scope || #off_topic</td>\n      <td></td>\n      <td></td>\n      <td>False</td>\n    </tr>\n    <tr>\n      <th>3</th>\n      <td>anything_else</td>\n      <td>Anything else</td>\n      <td>Anything else</td>\n      <td>True</td>\n    </tr>\n  </tbody>\n</table>\n</div>"
     },
     "execution_count": 23,
     "metadata": {},
     "output_type": "execute_result"
    }
   ],
   "source": [
    "#Specify the confidence threhold you want to look for in the logs\n",
    "confidence_threshold = .20\n",
    "\n",
    "# Add coverage node ids, if any, to list\n",
    "node_ids = ['node_1_1467910920863', 'node_1_1467919680248']\n",
    "\n",
    "# Add coverage node names, if any, to list\n",
    "node_names = []\n",
    "\n",
    "# Add coverage node conditions, if any, to list\n",
    "node_conditions = ['#out_of_scope || #off_topic', 'anything_else']\n",
    "\n",
    "# Check if the dialog nodes are present in assistant definition\n",
    "df_coverage_nodes = chk_is_valid_node(node_ids, node_names, node_conditions, assistant_nodes)\n",
    "df_coverage_nodes"
   ]
  },
  {
   "cell_type": "markdown",
   "metadata": {},
   "source": [
    "### <a id=\"set_effectiveness\"></a> 3.2 Customize effectiveness\n",
    "\n",
    "Effectiveness measures your Watson Assistant system at the conversation level. You may include automated metrics that help identify problematic conversations. Example metrics include:\n",
    "\n",
    "- Escalations to live agent: conversations escalated to a human agent for quality reasons.\n",
    "- Poor NPS: conversations that received a poor NPS (Net Promoter Score), or other explicit user feedback.\n",
    "- Task not completed: conversations failed to complete the task the user was attempting.\n",
    "- Implicit feedback: conversations containing implicit feedback that suggests failure, such as links provided not being clicked. \n",
    "\n",
    "Below we provide example code for identifying escalation based on intents and dialog information."
   ]
  },
  {
   "cell_type": "markdown",
   "metadata": {},
   "source": [
    "#### <a id=\"set_escalation_intent\"></a> 3.2.1 Specify intents to identify escalations\n",
    "If you have specific intents that point to escalation or any other effectiveness measure, specify those in `chk_effective_intents` lists below. <br>\n",
    "**Note:** If you don't have specific intents to capture effectiveness, leave chk_effective_intents list empty."
   ]
  },
  {
   "cell_type": "code",
   "execution_count": 24,
   "metadata": {},
   "outputs": [
    {
     "data": {
      "text/plain": "             Intent  Valid  Count\n0  connect_to_agent  False      0",
      "text/html": "<div>\n<style scoped>\n    .dataframe tbody tr th:only-of-type {\n        vertical-align: middle;\n    }\n\n    .dataframe tbody tr th {\n        vertical-align: top;\n    }\n\n    .dataframe thead th {\n        text-align: right;\n    }\n</style>\n<table border=\"1\" class=\"dataframe\">\n  <thead>\n    <tr style=\"text-align: right;\">\n      <th></th>\n      <th>Intent</th>\n      <th>Valid</th>\n      <th>Count</th>\n    </tr>\n  </thead>\n  <tbody>\n    <tr>\n      <th>0</th>\n      <td>connect_to_agent</td>\n      <td>False</td>\n      <td>0</td>\n    </tr>\n  </tbody>\n</table>\n</div>"
     },
     "execution_count": 24,
     "metadata": {},
     "output_type": "execute_result"
    }
   ],
   "source": [
    "# Add your escalation intents to the list\n",
    "chk_effective_intents=['connect_to_agent']\n",
    "\n",
    "# Store the intents in a dataframe\n",
    "df_chk_effective_intents = pd.DataFrame(chk_effective_intents, columns = ['Intent'])\n",
    "\n",
    "# Add a 'valid' flag to the dataframe\n",
    "df_chk_effective_intents['Valid']= True\n",
    "\n",
    "# Add count column for selected intents\n",
    "df_chk_effective_intents['Count']= 0\n",
    "\n",
    "# Checking the validity of the specified intents. Look out for the `valid` column in the table displayed below.\n",
    "for intent in chk_effective_intents:\n",
    "    # Check if intent is present in assistant definition\n",
    "    if intent not in assistant_intents:\n",
    "        # If not present, mark it as 'not valid'\n",
    "        df_chk_effective_intents.loc[df_chk_effective_intents['Intent']==intent,['Valid']] = False\n",
    "        # Remove intent from the chk_effective_intents list \n",
    "        chk_effective_intents.remove(intent)\n",
    "    else:\n",
    "        # Calculate number of times each intent is hit\n",
    "        count = df_formated.loc[df_formated['response.top_intent_intent']==intent]['log_id'].nunique()\n",
    "        df_chk_effective_intents.loc[df_chk_effective_intents['Intent']==intent,['Count']] = count\n",
    "# Display intents and validity\n",
    "df_chk_effective_intents"
   ]
  },
  {
   "cell_type": "markdown",
   "metadata": {},
   "source": [
    "#### <a id=\"set_escalation_dialog\"></a> 3.2.2 Specify  dialog nodes to identify escalations\n",
    "If you have specific dialog nodes that point to escalation or any other effectiveness measure, you can automated capture them based on three variables: node id, node name, and node condition.\n",
    "\n",
    "- Use the node_ids list to include the identifiers of any dialog nodes you've used to model that a message indicates an escalation.  \n",
    "- Similarly, use the node_names list to include dialog nodes.\n",
    "- Use node_conditions for dialog conditions that indicate a message is out of scope.\n",
    "\n",
    "Note that these lists are treated as \"OR\" conditions - any occurrence of any of them will signify that a message is not covered. \n",
    "\n",
    "__Where to find node id, node name, and node condition__?\n",
    "\n",
    "You can find the values of these variables from your assistant definition JSON file based on following mappings.\n",
    "\n",
    "- node id: `dialog_node`\n",
    "- node name: `title`\n",
    "- node condition: `conditions`\n",
    "\n",
    "You can also find node name, and node condition in your dialog editor. For more information, see [Dialog Nodes](https://cloud.ibm.com/docs/services/assistant?topic=assistant-dialog-overview#dialog-overview-nodes).\n",
    "\n",
    "**Note:** If your assistant does not incorporate escalations and you do not have any other automated conversation-level quality metrics to identify problematic conversations (e.g., poor NPS, task not completed), you can simply track coverage and average confidence over a recent sample of your entire production logs. Leave an empty list for node_ids, node_names and node_conditions.  "
   ]
  },
  {
   "cell_type": "code",
   "execution_count": 25,
   "metadata": {},
   "outputs": [
    {
     "data": {
      "text/plain": "             Condition Node ID    Node Name  Valid\n0    #connect_to_agent                       False\n1  #answer_not_helpful                       False\n2                               not_trained  False",
      "text/html": "<div>\n<style scoped>\n    .dataframe tbody tr th:only-of-type {\n        vertical-align: middle;\n    }\n\n    .dataframe tbody tr th {\n        vertical-align: top;\n    }\n\n    .dataframe thead th {\n        text-align: right;\n    }\n</style>\n<table border=\"1\" class=\"dataframe\">\n  <thead>\n    <tr style=\"text-align: right;\">\n      <th></th>\n      <th>Condition</th>\n      <th>Node ID</th>\n      <th>Node Name</th>\n      <th>Valid</th>\n    </tr>\n  </thead>\n  <tbody>\n    <tr>\n      <th>0</th>\n      <td>#connect_to_agent</td>\n      <td></td>\n      <td></td>\n      <td>False</td>\n    </tr>\n    <tr>\n      <th>1</th>\n      <td>#answer_not_helpful</td>\n      <td></td>\n      <td></td>\n      <td>False</td>\n    </tr>\n    <tr>\n      <th>2</th>\n      <td></td>\n      <td></td>\n      <td>not_trained</td>\n      <td>False</td>\n    </tr>\n  </tbody>\n</table>\n</div>"
     },
     "execution_count": 25,
     "metadata": {},
     "output_type": "execute_result"
    }
   ],
   "source": [
    "# Add effectiveness node ids, if any, to list\n",
    "node_ids = []\n",
    "\n",
    "# Add effectiveness node names, if any, to list\n",
    "node_names = ['not_trained']\n",
    "\n",
    "# Add effectiveness node conditions, if any, to list\n",
    "node_conditions = ['#connect_to_agent', '#answer_not_helpful']\n",
    "\n",
    "# If your assistant does not incorporate escalations and you do not have any other automated conversation-level quality metrics, uncomment lines below \n",
    "# node_ids = [] \n",
    "# node_names = [] \n",
    "# node_conditions = [] \n",
    "\n",
    "# Check if the dialog nodes are present in assistant definition\n",
    "df_chk_effective_nodes = chk_is_valid_node(node_ids, node_names, node_conditions, assistant_nodes)\n",
    "df_chk_effective_nodes"
   ]
  },
  {
   "cell_type": "markdown",
   "metadata": {},
   "source": [
    "## 4. Calculate overall coverage and effectiveness<a id=\"overall\"></a>\n",
    "The combination of effectiveness and coverage is very powerful for diagnostics.\n",
    "If your effectiveness and coverage metrics are high, it means that your assistant is responding to most inquiries and responding well. If either effectiveness or coverage are low, the metrics provide you with the information you need to start improving your assistant. "
   ]
  },
  {
   "cell_type": "markdown",
   "metadata": {},
   "source": [
    "###  4.1 Calculate overall metrics<a id=\"overall1\"></a>"
   ]
  },
  {
   "cell_type": "code",
   "execution_count": 26,
   "metadata": {},
   "outputs": [],
   "source": [
    "df_formated_copy = df_formated.copy(deep = True)\n",
    "\n",
    "# Mark if a message is covered and store results in df_coverage dataframe\n",
    "df_coverage = get_coverage_df(df_formated_copy , df_coverage_nodes, confidence_threshold)\n",
    "\n",
    "# Mark if a conversation is effective and store results in df_coverage dataframe\n",
    "# Set filter_non_intent_node to True to filter out utterances whose last visited node does not contain any intents\n",
    "df_effective = get_effective_df(df_formated_copy, chk_effective_intents, df_chk_effective_nodes, filter_non_intent_node=False, assistant_nodes=assistant_nodes)\n",
    "\n",
    "# Calculate average confidence\n",
    "avg_conf = float(\"{0:.2f}\".format(df_coverage[df_coverage['Covered']==True]['response.top_intent_confidence'].mean()*100))\n",
    "\n",
    "# Calculate coverage\n",
    "coverage = float(\"{0:.2f}\".format((df_coverage['Covered'].value_counts().to_frame()['Covered'][True]/df_coverage['Covered'].value_counts().sum())*100))\n",
    "\n",
    "# Calculate effectiveness\n",
    "effective_perc = float(\"{0:.2f}\".format((df_effective.loc[df_effective['Escalated_conversation']==False]['response.context.conversation_id'].nunique()/df_effective['response.context.conversation_id'].nunique())*100))              "
   ]
  },
  {
   "cell_type": "markdown",
   "metadata": {},
   "source": [
    "###  4.2 Display overall results<a id=\"overall2\"></a>"
   ]
  },
  {
   "cell_type": "code",
   "execution_count": 27,
   "metadata": {},
   "outputs": [
    {
     "data": {
      "text/plain": "<IPython.core.display.HTML object>",
      "text/html": "<tr><th colspan=\"4\"><div align=\"center\"><h2>Coverage and Effectiveness<hr/></h2></div></th></tr><tr>    <td style=\"width:500px\"><img class=\"colimg\" src='data:image/png;base64,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'></td>    <td style=\"width:450px\"><div align=\"left\"> <h2>Coverage</h2></br>A message that is not covered would either be a message your assistant responded to with some form of “I’m not trained” or that it immediately handed over to a human agent without attempting to respond </div></td>    <td style=\"width:500px\"><img class=\"colimg\" src='data:image/png;base64,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'></td>    <td style=\"width:450px\"><div align=\"left\"> <h2>Effectiveness</h2></br>This notebook provides a list of metrics customers can use to assess how effective their assistant is at responding to conversation and metrics   </div></td></tr>"
     },
     "execution_count": 27,
     "metadata": {},
     "output_type": "execute_result"
    }
   ],
   "source": [
    "# Plot pie graphs for coverage and effectiveness\n",
    "coverage_pie = make_pie(coverage, \"Percent of total messages covered\")\n",
    "effective_pie = make_pie(effective_perc, 'Percent of non-escalated conversations')\n",
    "\n",
    "# Messages to be displayed with effectiveness and coverage\n",
    "coverage_msg = '<h2>Coverage</h2></br>A message that is not covered would either be a \\\n",
    "message your assistant responded to with some form \\\n",
    "of “I’m not trained” or that it immediately handed over \\\n",
    "to a human agent without attempting to respond'\n",
    "\n",
    "effectiveness_msg = '<h2>Effectiveness</h2></br>This notebook provides a list of metrics customers \\\n",
    "can use to assess how effective their assistant is at \\\n",
    "responding to conversation and metrics '\n",
    "\n",
    "# Display the coverage and effectiveness pie charts\n",
    "HTML('<tr><th colspan=\"4\"><div align=\"center\"><h2>Coverage and Effectiveness<hr/></h2></div></th></tr>\\\n",
    "<tr>\\\n",
    "    <td style=\"width:500px\">{c_pie}</td>\\\n",
    "    <td style=\"width:450px\"><div align=\"left\"> {c_msg} </div></td>\\\n",
    "    <td style=\"width:500px\">{e_pie}</td>\\\n",
    "    <td style=\"width:450px\"><div align=\"left\"> {e_msg}  </div></td>\\\n",
    "</tr>'\n",
    "    .format(c_pie=coverage_pie, c_msg = coverage_msg, e_pie = effective_pie, e_msg = effectiveness_msg))"
   ]
  },
  {
   "cell_type": "markdown",
   "metadata": {},
   "source": [
    "Here, we can see our assistant's coverage and effectiveness. We will have to take a deeper look at both of these metrics to understand the nuances and decide where we should focus next. \n",
    "\n",
    "Note that the distinction between a user message and a conversation. A conversation in Watson Assistant represents a session of one or more messages from a user and the associated responses returned to the user from the assistant. A conversation includes a Conversation id for the purposes of grouping a sequence of messages and responses. "
   ]
  },
  {
   "cell_type": "markdown",
   "metadata": {},
   "source": [
    "<a id=\"msg_analysis\"></a>\n",
    "## 5.  Analyze coverage\n",
    "\n",
    "Now, we take a deeper look at the Coverage of your Assistant."
   ]
  },
  {
   "cell_type": "markdown",
   "metadata": {},
   "source": [
    "###  5.1 Display overall coverage<a id=\"msg_analysis1\"></a>"
   ]
  },
  {
   "cell_type": "code",
   "execution_count": 28,
   "metadata": {},
   "outputs": [
    {
     "name": "stdout",
     "output_type": "stream",
     "text": [
      "Overall messages\n",
      "================\n",
      "Total Conversations: 44\n",
      "Total Messages: 7140\n",
      "\n",
      "\n"
     ]
    },
    {
     "data": {
      "text/plain": "<Figure size 1080x108 with 1 Axes>",
      "image/png": "[encoded data removed]"
     },
     "metadata": {},
     "output_type": "display_data"
    }
   ],
   "source": [
    "# Compute the number of conversations in the log\n",
    "convs = df_coverage['response.context.conversation_id'].nunique()\n",
    "\n",
    "# Compute the number of messages in the log\n",
    "msgs = df_coverage['response.context.conversation_id'].size\n",
    "\n",
    "#Display the results\n",
    "print('Overall messages\\n', \"=\" * len('Overall messages'), '\\nTotal Conversations: ', convs, '\\nTotal Messages: ', msgs, '\\n\\n', sep = '')\n",
    "\n",
    "#Display the coverage bar chart\n",
    "display(coverage_barh(coverage, avg_conf, 'Coverage & Average confidence', False))"
   ]
  },
  {
   "cell_type": "markdown",
   "metadata": {},
   "source": [
    "###  5.2 Calculate coverage over time<a id=\"msg_analysis2\"></a>\n",
    "\n",
    "Compare the coverage over time with any major updates to your assistant, to see if the changes affected the performance. Use the interval parameter to set a time interval.  You can choose from:  {\"minute\", \"5-minute\", \"15-minute\", \"30-minute\", \"hour\", \"day\", \"week\", \"month\"}. Move your cursor over the bars to check the coverage value."
   ]
  },
  {
   "cell_type": "code",
   "execution_count": 30,
   "metadata": {},
   "outputs": [
    {
     "data": {
      "application/javascript": "\n(function(root) {\n  function now() {\n    return new Date();\n  }\n\n  var force = true;\n\n  if (typeof root._bokeh_onload_callbacks === \"undefined\" || force === true) {\n    root._bokeh_onload_callbacks = [];\n    root._bokeh_is_loading = undefined;\n  }\n\n  var JS_MIME_TYPE = 'application/javascript';\n  var HTML_MIME_TYPE = 'text/html';\n  var EXEC_MIME_TYPE = 'application/vnd.bokehjs_exec.v0+json';\n  var CLASS_NAME = 'output_bokeh rendered_html';\n\n  /**\n   * Render data to the DOM node\n   */\n  function render(props, node) {\n    var script = document.createElement(\"script\");\n    node.appendChild(script);\n  }\n\n  /**\n   * Handle when an output is cleared or removed\n   */\n  function handleClearOutput(event, handle) {\n    var cell = handle.cell;\n\n    var id = cell.output_area._bokeh_element_id;\n    var server_id = cell.output_area._bokeh_server_id;\n    // Clean up Bokeh references\n    if (id != null && id in Bokeh.index) {\n      Bokeh.index[id].model.document.clear();\n      delete Bokeh.index[id];\n    }\n\n    if (server_id !== undefined) {\n      // Clean up Bokeh references\n      var cmd = \"from bokeh.io.state import curstate; print(curstate().uuid_to_server['\" + server_id + \"'].get_sessions()[0].document.roots[0]._id)\";\n      cell.notebook.kernel.execute(cmd, {\n        iopub: {\n          output: function(msg) {\n            var id = msg.content.text.trim();\n            if (id in Bokeh.index) {\n              Bokeh.index[id].model.document.clear();\n              delete Bokeh.index[id];\n            }\n          }\n        }\n      });\n      // Destroy server and session\n      var cmd = \"import bokeh.io.notebook as ion; ion.destroy_server('\" + server_id + \"')\";\n      cell.notebook.kernel.execute(cmd);\n    }\n  }\n\n  /**\n   * Handle when a new output is added\n   */\n  function handleAddOutput(event, handle) {\n    var output_area = handle.output_area;\n    var output = handle.output;\n\n    // limit handleAddOutput to display_data with EXEC_MIME_TYPE content only\n    if ((output.output_type != \"display_data\") || (!output.data.hasOwnProperty(EXEC_MIME_TYPE))) {\n      return\n    }\n\n    var toinsert = output_area.element.find(\".\" + CLASS_NAME.split(' ')[0]);\n\n    if (output.metadata[EXEC_MIME_TYPE][\"id\"] !== undefined) {\n      toinsert[toinsert.length - 1].firstChild.textContent = output.data[JS_MIME_TYPE];\n      // store reference to embed id on output_area\n      output_area._bokeh_element_id = output.metadata[EXEC_MIME_TYPE][\"id\"];\n    }\n    if (output.metadata[EXEC_MIME_TYPE][\"server_id\"] !== undefined) {\n      var bk_div = document.createElement(\"div\");\n      bk_div.innerHTML = output.data[HTML_MIME_TYPE];\n      var script_attrs = bk_div.children[0].attributes;\n      for (var i = 0; i < script_attrs.length; i++) {\n        toinsert[toinsert.length - 1].firstChild.setAttribute(script_attrs[i].name, script_attrs[i].value);\n        toinsert[toinsert.length - 1].firstChild.textContent = bk_div.children[0].textContent\n      }\n      // store reference to server id on output_area\n      output_area._bokeh_server_id = output.metadata[EXEC_MIME_TYPE][\"server_id\"];\n    }\n  }\n\n  function register_renderer(events, OutputArea) {\n\n    function append_mime(data, metadata, element) {\n      // create a DOM node to render to\n      var toinsert = this.create_output_subarea(\n        metadata,\n        CLASS_NAME,\n        EXEC_MIME_TYPE\n      );\n      this.keyboard_manager.register_events(toinsert);\n      // Render to node\n      var props = {data: data, metadata: metadata[EXEC_MIME_TYPE]};\n      render(props, toinsert[toinsert.length - 1]);\n      element.append(toinsert);\n      return toinsert\n    }\n\n    /* Handle when an output is cleared or removed */\n    events.on('clear_output.CodeCell', handleClearOutput);\n    events.on('delete.Cell', handleClearOutput);\n\n    /* Handle when a new output is added */\n    events.on('output_added.OutputArea', handleAddOutput);\n\n    /**\n     * Register the mime type and append_mime function with output_area\n     */\n    OutputArea.prototype.register_mime_type(EXEC_MIME_TYPE, append_mime, {\n      /* Is output safe? */\n      safe: true,\n      /* Index of renderer in `output_area.display_order` */\n      index: 0\n    });\n  }\n\n  // register the mime type if in Jupyter Notebook environment and previously unregistered\n  if (root.Jupyter !== undefined) {\n    var events = require('base/js/events');\n    var OutputArea = require('notebook/js/outputarea').OutputArea;\n\n    if (OutputArea.prototype.mime_types().indexOf(EXEC_MIME_TYPE) == -1) {\n      register_renderer(events, OutputArea);\n    }\n  }\n\n  \n  if (typeof (root._bokeh_timeout) === \"undefined\" || force === true) {\n    root._bokeh_timeout = Date.now() + 5000;\n    root._bokeh_failed_load = false;\n  }\n\n  var NB_LOAD_WARNING = {'data': {'text/html':\n     \"<div style='background-color: #fdd'>\\n\"+\n     \"<p>\\n\"+\n     \"BokehJS does not appear to have successfully loaded. If loading BokehJS from CDN, this \\n\"+\n     \"may be due to a slow or bad network connection. Possible fixes:\\n\"+\n     \"</p>\\n\"+\n     \"<ul>\\n\"+\n     \"<li>re-rerun `output_notebook()` to attempt to load from CDN again, or</li>\\n\"+\n     \"<li>use INLINE resources instead, as so:</li>\\n\"+\n     \"</ul>\\n\"+\n     \"<code>\\n\"+\n     \"from bokeh.resources import INLINE\\n\"+\n     \"output_notebook(resources=INLINE)\\n\"+\n     \"</code>\\n\"+\n     \"</div>\"}};\n\n  function display_loaded() {\n    var el = document.getElementById(null);\n    if (el != null) {\n      el.textContent = \"BokehJS is loading...\";\n    }\n    if (root.Bokeh !== undefined) {\n      if (el != null) {\n        el.textContent = \"BokehJS \" + root.Bokeh.version + \" successfully loaded.\";\n      }\n    } else if (Date.now() < root._bokeh_timeout) {\n      setTimeout(display_loaded, 100)\n    }\n  }\n\n\n  function run_callbacks() {\n    try {\n      root._bokeh_onload_callbacks.forEach(function(callback) {\n        if (callback != null)\n          callback();\n      });\n    } finally {\n      delete root._bokeh_onload_callbacks\n    }\n    console.debug(\"Bokeh: all callbacks have finished\");\n  }\n\n  function load_libs(css_urls, js_urls, callback) {\n    if (css_urls == null) css_urls = [];\n    if (js_urls == null) js_urls = [];\n\n    root._bokeh_onload_callbacks.push(callback);\n    if (root._bokeh_is_loading > 0) {\n      console.debug(\"Bokeh: BokehJS is being loaded, scheduling callback at\", now());\n      return null;\n    }\n    if (js_urls == null || js_urls.length === 0) {\n      run_callbacks();\n      return null;\n    }\n    console.debug(\"Bokeh: BokehJS not loaded, scheduling load and callback at\", now());\n    root._bokeh_is_loading = css_urls.length + js_urls.length;\n\n    function on_load() {\n      root._bokeh_is_loading--;\n      if (root._bokeh_is_loading === 0) {\n        console.debug(\"Bokeh: all BokehJS libraries/stylesheets loaded\");\n        run_callbacks()\n      }\n    }\n\n    function on_error() {\n      console.error(\"failed to load \" + url);\n    }\n\n    for (var i = 0; i < css_urls.length; i++) {\n      var url = css_urls[i];\n      const element = document.createElement(\"link\");\n      element.onload = on_load;\n      element.onerror = on_error;\n      element.rel = \"stylesheet\";\n      element.type = \"text/css\";\n      element.href = url;\n      console.debug(\"Bokeh: injecting link tag for BokehJS stylesheet: \", url);\n      document.body.appendChild(element);\n    }\n\n    const hashes = {\"https://cdn.bokeh.org/bokeh/release/bokeh-2.0.2.min.js\": \"ufR9RFnRs6lniiaFvtJziE0YeidtAgBRH6ux2oUItHw5WTvE1zuk9uzhUU/FJXDp\", \"https://cdn.bokeh.org/bokeh/release/bokeh-widgets-2.0.2.min.js\": \"8QM/PGWBT+IssZuRcDcjzwIh1mkOmJSoNMmyYDZbCfXJg3Ap1lEvdVgFuSAwhb/J\", \"https://cdn.bokeh.org/bokeh/release/bokeh-tables-2.0.2.min.js\": \"Jm8cH3Rg0P6UeZhVY5cLy1WzKajUT9KImCY+76hEqrcJt59/d8GPvFHjCkYgnSIn\", \"https://cdn.bokeh.org/bokeh/release/bokeh-gl-2.0.2.min.js\": \"Ozhzj+SI7ywm74aOI/UajcWz+C0NjsPunEVyVIrxzYkB+jA+2tUw8x5xJCbVtK5I\"};\n\n    for (var i = 0; i < js_urls.length; i++) {\n      var url = js_urls[i];\n      var element = document.createElement('script');\n      element.onload = on_load;\n      element.onerror = on_error;\n      element.async = false;\n      element.src = url;\n      if (url in hashes) {\n        element.crossOrigin = \"anonymous\";\n        element.integrity = \"sha384-\" + hashes[url];\n      }\n      console.debug(\"Bokeh: injecting script tag for BokehJS library: \", url);\n      document.head.appendChild(element);\n    }\n  };\n\n  function inject_raw_css(css) {\n    const element = document.createElement(\"style\");\n    element.appendChild(document.createTextNode(css));\n    document.body.appendChild(element);\n  }\n\n  \n  var js_urls = [\"https://cdn.bokeh.org/bokeh/release/bokeh-2.0.2.min.js\", \"https://cdn.bokeh.org/bokeh/release/bokeh-widgets-2.0.2.min.js\", \"https://cdn.bokeh.org/bokeh/release/bokeh-tables-2.0.2.min.js\", \"https://cdn.bokeh.org/bokeh/release/bokeh-gl-2.0.2.min.js\"];\n  var css_urls = [];\n  \n\n  var inline_js = [\n    function(Bokeh) {\n      Bokeh.set_log_level(\"info\");\n    },\n    function(Bokeh) {\n    \n    \n    }\n  ];\n\n  function run_inline_js() {\n    \n    if (root.Bokeh !== undefined || force === true) {\n      \n    for (var i = 0; i < inline_js.length; i++) {\n      inline_js[i].call(root, root.Bokeh);\n    }\n    } else if (Date.now() < root._bokeh_timeout) {\n      setTimeout(run_inline_js, 100);\n    } else if (!root._bokeh_failed_load) {\n      console.log(\"Bokeh: BokehJS failed to load within specified timeout.\");\n      root._bokeh_failed_load = true;\n    } else if (force !== true) {\n      var cell = $(document.getElementById(null)).parents('.cell').data().cell;\n      cell.output_area.append_execute_result(NB_LOAD_WARNING)\n    }\n\n  }\n\n  if (root._bokeh_is_loading === 0) {\n    console.debug(\"Bokeh: BokehJS loaded, going straight to plotting\");\n    run_inline_js();\n  } else {\n    load_libs(css_urls, js_urls, function() {\n      console.debug(\"Bokeh: BokehJS plotting callback run at\", now());\n      run_inline_js();\n    });\n  }\n}(window));",
      "application/vnd.bokehjs_load.v0+json": "\n(function(root) {\n  function now() {\n    return new Date();\n  }\n\n  var force = true;\n\n  if (typeof root._bokeh_onload_callbacks === \"undefined\" || force === true) {\n    root._bokeh_onload_callbacks = [];\n    root._bokeh_is_loading = undefined;\n  }\n\n  \n\n  \n  if (typeof (root._bokeh_timeout) === \"undefined\" || force === true) {\n    root._bokeh_timeout = Date.now() + 5000;\n    root._bokeh_failed_load = false;\n  }\n\n  var NB_LOAD_WARNING = {'data': {'text/html':\n     \"<div style='background-color: #fdd'>\\n\"+\n     \"<p>\\n\"+\n     \"BokehJS does not appear to have successfully loaded. If loading BokehJS from CDN, this \\n\"+\n     \"may be due to a slow or bad network connection. Possible fixes:\\n\"+\n     \"</p>\\n\"+\n     \"<ul>\\n\"+\n     \"<li>re-rerun `output_notebook()` to attempt to load from CDN again, or</li>\\n\"+\n     \"<li>use INLINE resources instead, as so:</li>\\n\"+\n     \"</ul>\\n\"+\n     \"<code>\\n\"+\n     \"from bokeh.resources import INLINE\\n\"+\n     \"output_notebook(resources=INLINE)\\n\"+\n     \"</code>\\n\"+\n     \"</div>\"}};\n\n  function display_loaded() {\n    var el = document.getElementById(null);\n    if (el != null) {\n      el.textContent = \"BokehJS is loading...\";\n    }\n    if (root.Bokeh !== undefined) {\n      if (el != null) {\n        el.textContent = \"BokehJS \" + root.Bokeh.version + \" successfully loaded.\";\n      }\n    } else if (Date.now() < root._bokeh_timeout) {\n      setTimeout(display_loaded, 100)\n    }\n  }\n\n\n  function run_callbacks() {\n    try {\n      root._bokeh_onload_callbacks.forEach(function(callback) {\n        if (callback != null)\n          callback();\n      });\n    } finally {\n      delete root._bokeh_onload_callbacks\n    }\n    console.debug(\"Bokeh: all callbacks have finished\");\n  }\n\n  function load_libs(css_urls, js_urls, callback) {\n    if (css_urls == null) css_urls = [];\n    if (js_urls == null) js_urls = [];\n\n    root._bokeh_onload_callbacks.push(callback);\n    if (root._bokeh_is_loading > 0) {\n      console.debug(\"Bokeh: BokehJS is being loaded, scheduling callback at\", now());\n      return null;\n    }\n    if (js_urls == null || js_urls.length === 0) {\n      run_callbacks();\n      return null;\n    }\n    console.debug(\"Bokeh: BokehJS not loaded, scheduling load and callback at\", now());\n    root._bokeh_is_loading = css_urls.length + js_urls.length;\n\n    function on_load() {\n      root._bokeh_is_loading--;\n      if (root._bokeh_is_loading === 0) {\n        console.debug(\"Bokeh: all BokehJS libraries/stylesheets loaded\");\n        run_callbacks()\n      }\n    }\n\n    function on_error() {\n      console.error(\"failed to load \" + url);\n    }\n\n    for (var i = 0; i < css_urls.length; i++) {\n      var url = css_urls[i];\n      const element = document.createElement(\"link\");\n      element.onload = on_load;\n      element.onerror = on_error;\n      element.rel = \"stylesheet\";\n      element.type = \"text/css\";\n      element.href = url;\n      console.debug(\"Bokeh: injecting link tag for BokehJS stylesheet: \", url);\n      document.body.appendChild(element);\n    }\n\n    const hashes = {\"https://cdn.bokeh.org/bokeh/release/bokeh-2.0.2.min.js\": \"ufR9RFnRs6lniiaFvtJziE0YeidtAgBRH6ux2oUItHw5WTvE1zuk9uzhUU/FJXDp\", \"https://cdn.bokeh.org/bokeh/release/bokeh-widgets-2.0.2.min.js\": \"8QM/PGWBT+IssZuRcDcjzwIh1mkOmJSoNMmyYDZbCfXJg3Ap1lEvdVgFuSAwhb/J\", \"https://cdn.bokeh.org/bokeh/release/bokeh-tables-2.0.2.min.js\": \"Jm8cH3Rg0P6UeZhVY5cLy1WzKajUT9KImCY+76hEqrcJt59/d8GPvFHjCkYgnSIn\", \"https://cdn.bokeh.org/bokeh/release/bokeh-gl-2.0.2.min.js\": \"Ozhzj+SI7ywm74aOI/UajcWz+C0NjsPunEVyVIrxzYkB+jA+2tUw8x5xJCbVtK5I\"};\n\n    for (var i = 0; i < js_urls.length; i++) {\n      var url = js_urls[i];\n      var element = document.createElement('script');\n      element.onload = on_load;\n      element.onerror = on_error;\n      element.async = false;\n      element.src = url;\n      if (url in hashes) {\n        element.crossOrigin = \"anonymous\";\n        element.integrity = \"sha384-\" + hashes[url];\n      }\n      console.debug(\"Bokeh: injecting script tag for BokehJS library: \", url);\n      document.head.appendChild(element);\n    }\n  };\n\n  function inject_raw_css(css) {\n    const element = document.createElement(\"style\");\n    element.appendChild(document.createTextNode(css));\n    document.body.appendChild(element);\n  }\n\n  \n  var js_urls = [\"https://cdn.bokeh.org/bokeh/release/bokeh-2.0.2.min.js\", \"https://cdn.bokeh.org/bokeh/release/bokeh-widgets-2.0.2.min.js\", \"https://cdn.bokeh.org/bokeh/release/bokeh-tables-2.0.2.min.js\", \"https://cdn.bokeh.org/bokeh/release/bokeh-gl-2.0.2.min.js\"];\n  var css_urls = [];\n  \n\n  var inline_js = [\n    function(Bokeh) {\n      Bokeh.set_log_level(\"info\");\n    },\n    function(Bokeh) {\n    \n    \n    }\n  ];\n\n  function run_inline_js() {\n    \n    if (root.Bokeh !== undefined || force === true) {\n      \n    for (var i = 0; i < inline_js.length; i++) {\n      inline_js[i].call(root, root.Bokeh);\n    }\n    } else if (Date.now() < root._bokeh_timeout) {\n      setTimeout(run_inline_js, 100);\n    } else if (!root._bokeh_failed_load) {\n      console.log(\"Bokeh: BokehJS failed to load within specified timeout.\");\n      root._bokeh_failed_load = true;\n    } else if (force !== true) {\n      var cell = $(document.getElementById(null)).parents('.cell').data().cell;\n      cell.output_area.append_execute_result(NB_LOAD_WARNING)\n    }\n\n  }\n\n  if (root._bokeh_is_loading === 0) {\n    console.debug(\"Bokeh: BokehJS loaded, going straight to plotting\");\n    run_inline_js();\n  } else {\n    load_libs(css_urls, js_urls, function() {\n      console.debug(\"Bokeh: BokehJS plotting callback run at\", now());\n      run_inline_js();\n    });\n  }\n}(window));"
     },
     "metadata": {},
     "output_type": "display_data"
    },
    {
     "data": {
      "text/html": "\n\n\n\n\n\n  <div class=\"bk-root\" id=\"8d04543f-6ce0-472a-8835-5a7c9e8f99e5\" data-root-id=\"1177\"></div>\n"
     },
     "metadata": {},
     "output_type": "display_data"
    },
    {
     "data": {
      "application/javascript": "(function(root) {\n  function embed_document(root) {\n    \n  var docs_json = {\"a4f59146-d274-41ed-a1b3-76be7d2d29a7\":{\"roots\":{\"references\":[{\"attributes\":{\"below\":[{\"id\":\"1188\"}],\"center\":[{\"id\":\"1191\"},{\"id\":\"1195\"}],\"left\":[{\"id\":\"1192\"}],\"plot_height\":350,\"plot_width\":950,\"renderers\":[{\"id\":\"1214\"}],\"title\":{\"id\":\"1178\"},\"toolbar\":{\"id\":\"1203\"},\"x_range\":{\"id\":\"1180\"},\"x_scale\":{\"id\":\"1184\"},\"y_range\":{\"id\":\"1182\"},\"y_scale\":{\"id\":\"1186\"}},\"id\":\"1177\",\"subtype\":\"Figure\",\"type\":\"Plot\"},{\"attributes\":{},\"id\":\"1244\",\"type\":\"Selection\"},{\"attributes\":{\"months\":[0,4,8]},\"id\":\"1255\",\"type\":\"MonthsTicker\"},{\"attributes\":{\"line_alpha\":0.1,\"line_color\":\"#4fa8f6\",\"line_width\":1.5,\"x\":{\"field\":\"response_datetime_interval\"},\"y\":{\"field\":\"Coverage\"}},\"id\":\"1213\",\"type\":\"Line\"},{\"attributes\":{\"axis\":{\"id\":\"1188\"},\"ticker\":null},\"id\":\"1191\",\"type\":\"Grid\"},{\"attributes\":{\"days\":[\"%Y-%m-%d %H:%M:%S\"],\"hourmin\":[\"%Y-%m-%d %H:%M:%S\"],\"hours\":[\"%Y-%m-%d %H:%M:%S\"],\"minsec\":[\"%Y-%m-%d %H:%M:%S\"],\"minutes\":[\"%Y-%m-%d %H:%M:%S\"],\"months\":[\"%Y-%m-%d %H:%M:%S\"],\"seconds\":[\"%Y-%m-%d %H:%M:%S\"],\"years\":[\"%Y-%m-%d %H:%M:%S\"]},\"id\":\"1216\",\"type\":\"DatetimeTickFormatter\"},{\"attributes\":{\"source\":{\"id\":\"1210\"}},\"id\":\"1215\",\"type\":\"CDSView\"},{\"attributes\":{},\"id\":\"1197\",\"type\":\"WheelZoomTool\"},{\"attributes\":{},\"id\":\"1184\",\"type\":\"LinearScale\"},{\"attributes\":{},\"id\":\"1201\",\"type\":\"HelpTool\"},{\"attributes\":{\"end\":1589414400000.0,\"start\":1586476800000.0},\"id\":\"1180\",\"type\":\"Range1d\"},{\"attributes\":{\"data_source\":{\"id\":\"1210\"},\"glyph\":{\"id\":\"1212\"},\"hover_glyph\":null,\"muted_glyph\":null,\"nonselection_glyph\":{\"id\":\"1213\"},\"selection_glyph\":null,\"view\":{\"id\":\"1215\"}},\"id\":\"1214\",\"type\":\"GlyphRenderer\"},{\"attributes\":{\"axis_label\":\"Coverage %\",\"formatter\":{\"id\":\"1242\"},\"major_label_text_font_size\":\"10pt\",\"ticker\":{\"id\":\"1193\"}},\"id\":\"1192\",\"type\":\"LinearAxis\"},{\"attributes\":{\"line_color\":\"#4fa8f6\",\"line_width\":1.5,\"x\":{\"field\":\"response_datetime_interval\"},\"y\":{\"field\":\"Coverage\"}},\"id\":\"1212\",\"type\":\"Line\"},{\"attributes\":{\"axis\":{\"id\":\"1192\"},\"dimension\":1,\"ticker\":null},\"id\":\"1195\",\"type\":\"Grid\"},{\"attributes\":{\"months\":[0,6]},\"id\":\"1256\",\"type\":\"MonthsTicker\"},{\"attributes\":{\"overlay\":{\"id\":\"1202\"}},\"id\":\"1198\",\"type\":\"BoxZoomTool\"},{\"attributes\":{\"mantissas\":[1,2,5],\"max_interval\":500.0,\"num_minor_ticks\":0},\"id\":\"1246\",\"type\":\"AdaptiveTicker\"},{\"attributes\":{},\"id\":\"1243\",\"type\":\"UnionRenderers\"},{\"attributes\":{\"base\":60,\"mantissas\":[1,2,5,10,15,20,30],\"max_interval\":1800000.0,\"min_interval\":1000.0,\"num_minor_ticks\":0},\"id\":\"1247\",\"type\":\"AdaptiveTicker\"},{\"attributes\":{\"base\":24,\"mantissas\":[1,2,4,6,8,12],\"max_interval\":43200000.0,\"min_interval\":3600000.0,\"num_minor_ticks\":0},\"id\":\"1248\",\"type\":\"AdaptiveTicker\"},{\"attributes\":{},\"id\":\"1200\",\"type\":\"ResetTool\"},{\"attributes\":{\"callback\":null,\"formatters\":{\"@response_datetime_interval\":\"datetime\"},\"tooltips\":[[\"Datetime\",\"@response_datetime_interval{%Y-%m-%d %H:%M:%S}\"],[\"Count\",\"@Count\"],[\"Coverage\",\"@Coverage{0.00}%\"]]},\"id\":\"1218\",\"type\":\"HoverTool\"},{\"attributes\":{\"days\":[1,2,3,4,5,6,7,8,9,10,11,12,13,14,15,16,17,18,19,20,21,22,23,24,25,26,27,28,29,30,31]},\"id\":\"1249\",\"type\":\"DaysTicker\"},{\"attributes\":{\"align\":\"center\",\"text\":\"Coverage over time\",\"text_font_size\":{\"value\":\"12pt\"}},\"id\":\"1178\",\"type\":\"Title\"},{\"attributes\":{},\"id\":\"1199\",\"type\":\"SaveTool\"},{\"attributes\":{\"days\":[1,4,7,10,13,16,19,22,25,28]},\"id\":\"1250\",\"type\":\"DaysTicker\"},{\"attributes\":{\"num_minor_ticks\":5,\"tickers\":[{\"id\":\"1246\"},{\"id\":\"1247\"},{\"id\":\"1248\"},{\"id\":\"1249\"},{\"id\":\"1250\"},{\"id\":\"1251\"},{\"id\":\"1252\"},{\"id\":\"1253\"},{\"id\":\"1254\"},{\"id\":\"1255\"},{\"id\":\"1256\"},{\"id\":\"1257\"}]},\"id\":\"1189\",\"type\":\"DatetimeTicker\"},{\"attributes\":{\"active_drag\":\"auto\",\"active_inspect\":\"auto\",\"active_multi\":null,\"active_scroll\":\"auto\",\"active_tap\":\"auto\",\"tools\":[{\"id\":\"1196\"},{\"id\":\"1197\"},{\"id\":\"1198\"},{\"id\":\"1199\"},{\"id\":\"1200\"},{\"id\":\"1201\"},{\"id\":\"1218\"}]},\"id\":\"1203\",\"type\":\"Toolbar\"},{\"attributes\":{\"bottom_units\":\"screen\",\"fill_alpha\":0.5,\"fill_color\":\"lightgrey\",\"left_units\":\"screen\",\"level\":\"overlay\",\"line_alpha\":1.0,\"line_color\":\"black\",\"line_dash\":[4,4],\"line_width\":2,\"render_mode\":\"css\",\"right_units\":\"screen\",\"top_units\":\"screen\"},\"id\":\"1202\",\"type\":\"BoxAnnotation\"},{\"attributes\":{\"formatter\":{\"id\":\"1216\"},\"major_label_orientation\":0.5,\"major_label_text_font_size\":\"10pt\",\"ticker\":{\"id\":\"1189\"}},\"id\":\"1188\",\"type\":\"DatetimeAxis\"},{\"attributes\":{},\"id\":\"1242\",\"type\":\"BasicTickFormatter\"},{\"attributes\":{\"days\":[1,8,15,22]},\"id\":\"1251\",\"type\":\"DaysTicker\"},{\"attributes\":{},\"id\":\"1196\",\"type\":\"PanTool\"},{\"attributes\":{\"months\":[0,2,4,6,8,10]},\"id\":\"1254\",\"type\":\"MonthsTicker\"},{\"attributes\":{\"data\":{\"Count\":{\"__ndarray__\":\"AAAAAACAWEAAAAAAAAAAAAAAAAAAAAAAAAAAAAAAAAAAAAAAAAAAAAAAAAAAkLJAAAAAAAAAAAAAAAAAAAAAAAAAAAAAAAAAAAAAAAAAAAAAAAAAAAAAAAAAAAAAAAAAAAAAAAAAAAAAAAAAAAAAAAAAAAAAAAAAAAAAAAAAAAAAAAAAAAAAAAAAAAAAAAAAAAAAAAAAAAAAAAAAAAAAAAAAAAAAAAAAAAAAAAAAAAAAAAAAAAAAAAAAAAAAAAAAAAAAAAAAAAAAAAAAAAAAAAAAAAAAAAAAAAAAAAAAAAAAAAAAAAAAAAAAAAAAAAAAAAAAAAAAAAAAAAAAAAAAAAAAAAAAAAAAAAAAAAAgZ0AAAAAAAIBSQA==\",\"dtype\":\"float64\",\"shape\":[35]},\"Coverage\":{\"__ndarray__\":\"uB6F61FIUkAAAAAAAAAAAAAAAAAAAAAAAAAAAAAAAAAAAAAAAAAAABSuR+F6BFJAAAAAAAAAAAAAAAAAAAAAAAAAAAAAAAAAAAAAAAAAAAAAAAAAAAAAAAAAAAAAAAAAAAAAAAAAAAAAAAAAAAAAAAAAAAAAAAAAAAAAAAAAAAAAAAAAAAAAAAAAAAAAAAAAAAAAAAAAAAAAAAAAAAAAAAAAAAAAAAAAAAAAAAAAAAAAAAAAAAAAAAAAAAAAAAAAAAAAAAAAAAAAAAAAAAAAAAAAAAAAAAAAAAAAAAAAAAAAAAAAAAAAAAAAAAAAAAAAAAAAAAAAAAAAAAAAAAAAAAAAAAAAAAAAUrgehevBUEAUrkfhejRLQA==\",\"dtype\":\"float64\",\"shape\":[35]},\"Covered\":[true,\"NaN\",\"NaN\",\"NaN\",\"NaN\",true,\"NaN\",\"NaN\",\"NaN\",\"NaN\",\"NaN\",\"NaN\",\"NaN\",\"NaN\",\"NaN\",\"NaN\",\"NaN\",\"NaN\",\"NaN\",\"NaN\",\"NaN\",\"NaN\",\"NaN\",\"NaN\",\"NaN\",\"NaN\",\"NaN\",\"NaN\",\"NaN\",\"NaN\",\"NaN\",\"NaN\",\"NaN\",true,true],\"index\":[0,1,2,3,4,5,6,7,8,9,10,11,12,13,14,15,16,17,18,19,20,21,22,23,24,25,26,27,28,29,30,31,32,33,34],\"response_datetime_interval\":{\"__ndarray__\":\"AACALRYWd0IAAECTaBZ3QgAAAPm6FndCAADAXg0Xd0IAAIDEXxd3QgAAQCqyF3dCAAAAkAQYd0IAAMD1Vhh3QgAAgFupGHdCAABAwfsYd0IAAAAnThl3QgAAwIygGXdCAACA8vIZd0IAAEBYRRp3QgAAAL6XGndCAADAI+oad0IAAICJPBt3QgAAQO+OG3dCAAAAVeEbd0IAAMC6Mxx3QgAAgCCGHHdCAABAhtgcd0IAAADsKh13QgAAwFF9HXdCAACAt88dd0IAAEAdIh53QgAAAIN0HndCAADA6MYed0IAAIBOGR93QgAAQLRrH3dCAAAAGr4fd0IAAMB/ECB3QgAAgOViIHdCAABAS7Ugd0IAAACxByF3Qg==\",\"dtype\":\"float64\",\"shape\":[35]}},\"selected\":{\"id\":\"1244\"},\"selection_policy\":{\"id\":\"1243\"}},\"id\":\"1210\",\"type\":\"ColumnDataSource\"},{\"attributes\":{\"days\":[1,15]},\"id\":\"1252\",\"type\":\"DaysTicker\"},{\"attributes\":{},\"id\":\"1257\",\"type\":\"YearsTicker\"},{\"attributes\":{},\"id\":\"1193\",\"type\":\"BasicTicker\"},{\"attributes\":{\"months\":[0,1,2,3,4,5,6,7,8,9,10,11]},\"id\":\"1253\",\"type\":\"MonthsTicker\"},{\"attributes\":{},\"id\":\"1186\",\"type\":\"LinearScale\"},{\"attributes\":{\"end\":83.0},\"id\":\"1182\",\"type\":\"Range1d\"}],\"root_ids\":[\"1177\"]},\"title\":\"Bokeh Application\",\"version\":\"2.0.2\"}};\n  var render_items = [{\"docid\":\"a4f59146-d274-41ed-a1b3-76be7d2d29a7\",\"root_ids\":[\"1177\"],\"roots\":{\"1177\":\"8d04543f-6ce0-472a-8835-5a7c9e8f99e5\"}}];\n  root.Bokeh.embed.embed_items_notebook(docs_json, render_items);\n\n  }\n  if (root.Bokeh !== undefined) {\n    embed_document(root);\n  } else {\n    var attempts = 0;\n    var timer = setInterval(function(root) {\n      if (root.Bokeh !== undefined) {\n        clearInterval(timer);\n        embed_document(root);\n      } else {\n        attempts++;\n        if (attempts > 100) {\n          clearInterval(timer);\n          console.log(\"Bokeh: ERROR: Unable to run BokehJS code because BokehJS library is missing\");\n        }\n      }\n    }, 10, root)\n  }\n})(window);",
      "application/vnd.bokehjs_exec.v0+json": ""
     },
     "metadata": {
      "application/vnd.bokehjs_exec.v0+json": {
       "id": "1177"
      }
     },
     "output_type": "display_data"
    }
   ],
   "source": [
    "show_coverage_over_time(df_coverage, interval='day')"
   ]
  },
  {
   "cell_type": "markdown",
   "metadata": {},
   "source": [
    "<a id=\"conv_analysis\"></a>\n",
    "## 6. Analyze effectiveness\n",
    "\n",
    "Here, we take a deeper look at the effectiveness of your assistant."
   ]
  },
  {
   "cell_type": "code",
   "execution_count": 32,
   "metadata": {},
   "outputs": [],
   "source": [
    "# Get the escalated conversations\n",
    "df_effective_true = df_effective.loc[df_effective['Escalated_conversation']==True]\n",
    "\n",
    "# Get the non-escalated conversations\n",
    "df_not_effective = df_effective.loc[df_effective['Escalated_conversation']==False]\n",
    "\n",
    "# Calculate percentage of escalated conversations\n",
    "ef_escalated = float(\"{0:.2f}\".format(100-effective_perc))\n",
    "\n",
    "# Calculate coverage and non-coverage in escalated conversations\n",
    "if len(df_effective_true) > 0:\n",
    "    escalated_covered = float(\"{0:.2f}\".format((df_effective_true['Covered'].value_counts().to_frame()['Covered'][True]/df_effective_true['Covered'].value_counts().sum())*100))\n",
    "    escalated_not_covered = float(\"{0:.2f}\".format(100- escalated_covered))\n",
    "else:\n",
    "    escalated_covered = 0\n",
    "    escalated_not_covered = 0\n",
    "\n",
    "# Calculate coverage and non-coverage in non-escalated conversations\n",
    "if len(df_not_effective) > 0:\n",
    "    not_escalated_covered = float(\"{0:.2f}\".format((df_not_effective['Covered'].value_counts().to_frame()['Covered'][True]/df_not_effective['Covered'].value_counts().sum())*100))\n",
    "    not_escalated_not_covered = float(\"{0:.2f}\".format(100 - not_escalated_covered))\n",
    "else:\n",
    "    not_escalated_covered = 0\n",
    "    not_escalated_not_covered = 0\n",
    "\n",
    "# Calculate average confidence of escalated conversations\n",
    "if len(df_effective_true) > 0:\n",
    "    esc_avg_conf = float(\"{0:.2f}\".format(df_effective_true[df_effective_true['Covered']==True]['response.top_intent_confidence'].mean()*100))\n",
    "else:\n",
    "    esc_avg_conf = 0\n",
    "    \n",
    "# Calculate average confidence of non-escalated conversations\n",
    "if len(df_not_effective) > 0:\n",
    "    not_esc_avg_conf = float(\"{0:.2f}\".format(df_not_effective[df_not_effective['Covered']==True]['response.top_intent_confidence'].mean()*100))\n",
    "else:\n",
    "    not_esc_avg_conf = 0"
   ]
  },
  {
   "cell_type": "markdown",
   "metadata": {},
   "source": [
    "###  6.1 Generate excel file and save to your project<a id=\"conv_analysis1\"></a>"
   ]
  },
  {
   "cell_type": "code",
   "execution_count": 33,
   "metadata": {},
   "outputs": [],
   "source": [
    "# Set sampling size for conversations, set to -1 to disable sampling\n",
    "SAMPLE_SIZE = 100\n",
    "export_result_excel(df_effective, sample_size=SAMPLE_SIZE)"
   ]
  },
  {
   "cell_type": "markdown",
   "metadata": {},
   "source": [
    "###  6.2 Plot breakdown by effectiveness graph<a id=\"conv_analysis2\"></a>"
   ]
  },
  {
   "cell_type": "code",
   "execution_count": 34,
   "metadata": {},
   "outputs": [
    {
     "data": {
      "text/plain": "<IPython.core.display.HTML object>",
      "text/html": "<tr><th colspan=\"4\"><div align=\"left\"><h2>Breakdown by effectiveness<hr/></h2></div></th></tr><tr><th colspan=\"4\"><div align=\"left\"><a id=\"file_list\"></a>View the lists here: <a href=All.xlsx target=\"_blank\">All.xlsx</a>&nbsp;&nbsp;&nbsp;<a href=Escalated_sample.xlsx target=\"_blank\">Escalated_sample.xlsx</a>&nbsp;&nbsp;&nbsp;<a href=NotEscalated_sample.xlsx target=\"_blank\">NotEscalated_sample.xlsx</a></div></th></tr><tr><td style= \"border-right: 1px solid black; border-bottom: 1px solid black; width : 400px\"><div align=\"left\"><strong>Effectiveness (Escalated)&nbsp;</br><font size=\"5\">0.0%</strong></font size></br></div></td>    <td style=\"width:1000px; height=100;\"></td></tr><tr><td style= \"border-right: 1px solid black; border-bottom: 1px solid black; width : 400px;\"><div align=\"left\"><strong>Effectiveness (Not escalated)&nbsp;</br><font size=\"5\">100.0%</strong></font size></br></div></td>    <td style=\"width:1000px; height=100;border-bottom: 1px solid black;\"><img class=\"colimg\" src='data:image/png;base64,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'></td></tr>"
     },
     "execution_count": 34,
     "metadata": {},
     "output_type": "execute_result"
    }
   ],
   "source": [
    "# Get the links to the excels\n",
    "all_html_link = '<a href={} target=\"_blank\">All.xlsx</a>'.format('All.xlsx')\n",
    "escalated_html_link = '<a href={} target=\"_blank\">Escalated_sample.xlsx</a>'.format('Escalated_sample.xlsx')\n",
    "not_escalated_html_link = '<a href={} target=\"_blank\">NotEscalated_sample.xlsx</a>'.format('NotEscalated_sample.xlsx')\n",
    "\n",
    "# Embed the links in HTML table format\n",
    "link_html = '<tr><th colspan=\"4\"><div align=\"left\"><a id=\"file_list\"></a>View the lists here: {}&nbsp;&nbsp;&nbsp;{}&nbsp;&nbsp;&nbsp;{}</div></th></tr>'.format(all_html_link, escalated_html_link, not_escalated_html_link)\n",
    "\n",
    "if 100-effective_perc > 0:\n",
    "    escalated_bar = coverage_barh(escalated_covered, esc_avg_conf, '', True, 15, width_bar(100-effective_perc))\n",
    "else:\n",
    "    escalated_bar = ''\n",
    "\n",
    "if effective_perc > 0: \n",
    "    non_escalated_bar = coverage_barh(not_escalated_covered, not_esc_avg_conf, '' , True , 15,width_bar(effective_perc))\n",
    "else:\n",
    "    non_escalated_bar = ''\n",
    "\n",
    "# Plot the results\n",
    "HTML('<tr><th colspan=\"4\"><div align=\"left\"><h2>Breakdown by effectiveness<hr/></h2></div></th></tr>\\\n",
    "'+ link_html + '<tr><td style= \"border-right: 1px solid black; border-bottom: 1px solid black; width : 400px\"><div align=\"left\"><strong>Effectiveness (Escalated)&nbsp;</br>\\\n",
    "<font size=\"5\">{ef_escalated}%</strong></font size></br></div></td>\\\n",
    "    <td style=\"width:1000px; height=100;\">{one}</td></tr>\\\n",
    "<tr><td style= \"border-right: 1px solid black; border-bottom: 1px solid black; width : 400px;\"><div align=\"left\"><strong>Effectiveness (Not escalated)&nbsp;</br>\\\n",
    "<font size=\"5\">{effective_perc}%</strong></font size></br></div></td>\\\n",
    "    <td style=\"width:1000px; height=100;border-bottom: 1px solid black;\">{two}</td>\\\n",
    "</tr>'.format(ef_escalated= ef_escalated,\n",
    "              one = escalated_bar, \n",
    "              effective_perc = effective_perc, \n",
    "              two = non_escalated_bar)) \n"
   ]
  },
  {
   "cell_type": "markdown",
   "metadata": {},
   "source": [
    "You can download all the analyzed data from `All.xlsx`. A sample of escalated and non-escalated conversations are available in `Escalated_sample.xlsx` and `NotEscalated_sample.xlsx` respectively."
   ]
  },
  {
   "cell_type": "markdown",
   "metadata": {},
   "source": [
    "<a id=\"root_cause\"></a>\n",
    "## 7. Root cause analysis of non coverage\n",
    "Let us take a look at the reasons for non-coverage of messages"
   ]
  },
  {
   "cell_type": "code",
   "execution_count": 35,
   "metadata": {},
   "outputs": [
    {
     "data": {
      "text/plain": "                                Messages  Total\n0                   'anything_else' node   1910\n1  Classified below confidence threshold    121",
      "text/html": "<div>\n<style scoped>\n    .dataframe tbody tr th:only-of-type {\n        vertical-align: middle;\n    }\n\n    .dataframe tbody tr th {\n        vertical-align: top;\n    }\n\n    .dataframe thead th {\n        text-align: right;\n    }\n</style>\n<table border=\"1\" class=\"dataframe\">\n  <thead>\n    <tr style=\"text-align: right;\">\n      <th></th>\n      <th>Messages</th>\n      <th>Total</th>\n    </tr>\n  </thead>\n  <tbody>\n    <tr>\n      <th>0</th>\n      <td>'anything_else' node</td>\n      <td>1910</td>\n    </tr>\n    <tr>\n      <th>1</th>\n      <td>Classified below confidence threshold</td>\n      <td>121</td>\n    </tr>\n  </tbody>\n</table>\n</div>"
     },
     "execution_count": 35,
     "metadata": {},
     "output_type": "execute_result"
    }
   ],
   "source": [
    "# Count the causes for non-coverage and store results in dataframe\n",
    "not_covered = pd.DataFrame(df_coverage['Not Covered cause'].value_counts().reset_index())\n",
    "# Name the columns in the dataframe\n",
    "not_covered.columns = ['Messages', 'Total']\n",
    "not_covered"
   ]
  },
  {
   "cell_type": "markdown",
   "metadata": {},
   "source": [
    "<a id=\"abandoned_resolved_intents\"></a>\n",
    "## 8. Abandoned and resolved intent analysis\n",
    "\n",
    "When users engage in a conversation session, an assistant identifies the intent of each message from the user. Based on the logic flow defined in a dialog tree, the assistant communicates with users and performs actions. The assistant may succeed or fail to satisfy users' intent.  One way to identify patterns of success or failure is by analyzing which intents most often lead to a dialog node associated with resolution, and which intents most often lead to users abandoning the session.  Analyzing resolved and abandoned intents can help you identify issues in your assistant to improve, such as a problematic dialog flow or imprecise intents. In this section, we demonstrate a method of conducting intent analysis using context variables.\n",
    "\n",
    "We introduce two context variables: `response_context_IntentStarted` and `response_context_IntentCompleted`.  You will need to modify your dialog skill definition (workspace) to introduce these variables in your dialog flow.  After you modify your dialog skill definition, your logs will be marked such that when users trigger a conversation with an intent, the assistant will use `response_context_IntentStarted` to record the intent. During the conversation, the assistant will use `response_context_IntentCompleted` to record if the intent is satisfied. Follow the steps below to add the context variables for an intent in your dialog skill definition.\n",
    "\n",
    "1. Open Dialog Overview page, see <a href=\"https://cloud.ibm.com/docs/services/assistant?topic=assistant-dialog-overview\" target=\"_blank\">Dialog Overview</a> for more information.\n",
    "2. Click the entry point node of the dialog node that is associated with the intent you want to analyze\n",
    "3. Open the context editor, see <a href=\"https://cloud.ibm.com/docs/services/assistant?topic=assistant-dialog-runtime#dialog-runtime-context-variables\" target=\"_blank\">Context Variables</a> for more information\n",
    "4. Add `response_context_IntentStarted` as a variable and \\[intent_name\\] as the value\n",
    "5. Follow the dialog flow to locate the satisfying node of the intent\n",
    "6. Open the context editor\n",
    "7. Add `response_context_IntentCompleted` as variable and \\[intent_name\\] as the value\n",
    "8. Repeat step 5-7 to mark all satisfying nodes of the intent if necessary\n",
    "\n",
    "Then repeat the above steps for every intent you want to analyze in this way.\n",
    "\n",
    "After completing the above steps, run the following code for intent analysis. Note that the analysis requires logs generated after the above changes. You will need to reload the updated assistant definition and logs."
   ]
  },
  {
   "cell_type": "markdown",
   "metadata": {},
   "source": [
    "###  8.1 Count of all started intents<a id=\"started_intents\"></a>"
   ]
  },
  {
   "cell_type": "code",
   "execution_count": 36,
   "metadata": {},
   "outputs": [
    {
     "name": "stdout",
     "output_type": "stream",
     "text": [
      "Cannot find 'response_context_IntentStarted' and 'response_context_IntentCompleted' in logs. Please check step 4 and make sure updated logs are reloaded.\n"
     ]
    }
   ],
   "source": [
    "# Define context variables\n",
    "start_intent_variable = 'response_context_IntentStarted'\n",
    "\n",
    "if start_intent_variable in df_formated:\n",
    "    # Group dataframe by conversation_id and start_intent_variable\n",
    "    df_intent_started = df_formated.groupby(['response.context.conversation_id', start_intent_variable]).count().reset_index()\n",
    "    # Refactors data to show only columns of conversation_id and start_intent_variable\n",
    "    df_intent_started = df_intent_started[['response.context.conversation_id', start_intent_variable]]\n",
    "\n",
    "    # Count the number of conversation_ids with each start_intent_variable\n",
    "    intent_started = df_intent_started[start_intent_variable].value_counts().reset_index()\n",
    "    intent_started.columns = ['Intent', 'Count']\n",
    "    display(HTML(intent_started.to_html()))\n",
    "else:\n",
    "    print('Cannot find \\'response_context_IntentStarted\\' and \\'response_context_IntentCompleted\\' in logs. Please check step 4 and make sure updated logs are reloaded.')"
   ]
  },
  {
   "cell_type": "markdown",
   "metadata": {},
   "source": [
    "###  8.2 Analyze resolved intents<a id=\"resolved_intents\"></a>"
   ]
  },
  {
   "cell_type": "code",
   "execution_count": 37,
   "metadata": {},
   "outputs": [
    {
     "name": "stdout",
     "output_type": "stream",
     "text": [
      "Cannot find 'response_context_IntentStarted' and 'response_context_IntentCompleted' in logs. Please check step 4 and make sure updated logs are reloaded.\n"
     ]
    }
   ],
   "source": [
    "end_intent_variable = 'response_context_IntentCompleted'\n",
    "\n",
    "if end_intent_variable in df_formated:\n",
    "\n",
    "    # Group dataframe by conversation_id and end_intent_variable\n",
    "    df_intent_completed = df_formated.groupby(['response.context.conversation_id',end_intent_variable]).count().reset_index()\n",
    "    # Refactor data to show columns of conversation_id and end_intent_variable only\n",
    "    df_intent_completed = df_intent_completed[['response.context.conversation_id',end_intent_variable]]\n",
    "    # Count the number of conversation_ids with each end_intent_variable\n",
    "    intent_completed = df_intent_completed[end_intent_variable].value_counts().reset_index()\n",
    "    intent_completed.columns = ['Intent', 'Count']\n",
    "\n",
    "    # Show counts of resolved intents\n",
    "    intent_completed_title = '\\nCount of resolved intents in all conversations\\n'\n",
    "    print(intent_completed_title, \"=\" * len(intent_completed_title),'', sep = '')\n",
    "    display(HTML(intent_completed.to_html()))\n",
    "\n",
    "    # Convert dataframe to a list\n",
    "    res_intent_list = intent_completed.values.tolist()\n",
    "    # Get list of started intents\n",
    "    all_intent = df_intent_started[start_intent_variable].value_counts().reset_index().values.tolist()\n",
    "\n",
    "    # Loop over resolved intents list. Each element contains a pair of intent and count\n",
    "    data = []\n",
    "    for pair_ab in res_intent_list:\n",
    "        # Loop over each row of started intents. Each row contains a pair of intent and count\n",
    "        for pair_all in all_intent:\n",
    "            # Check if the intent name matches in started and resolved intents\n",
    "            if pair_ab[0] == pair_all[0]:\n",
    "                # Then acccesses the count from that matched intent, and calculate percentage\n",
    "                perc = (pair_ab[1]/pair_all[1])*100\n",
    "                # Add the matched intent name and percentage to data list\n",
    "                data.append([pair_ab[0],perc])\n",
    "\n",
    "    # Create a new dataframe with data list\n",
    "    resolved_percentage = pd.DataFrame(data=data).reset_index(drop=True)\n",
    "\n",
    "    # Format the dataframe, and orders data in descending order (shows highest percentage first)\n",
    "    resolved_percentage.columns = ['Intent','Percentage']\n",
    "    resolved_percentage.sort_values(ascending=False,inplace=True, by='Percentage')\n",
    "    # Format the data in the percentage column to include '%', and 1 decimal point\n",
    "    resolved_percentage['Percentage'] = resolved_percentage['Percentage'].apply(lambda x: \"{0:.1f}%\".format(x))\n",
    "    resolved_percentage.reset_index(drop=True, inplace=True)\n",
    "\n",
    "    # Show most resolved intents\n",
    "    most_resolved_intents = \"\\nMost resolved intents (%)\\n\"\n",
    "    print(most_resolved_intents, \"=\" * len(most_resolved_intents),'', sep = '')\n",
    "    display(HTML(resolved_percentage.to_html()))\n",
    "\n",
    "else:\n",
    "    print('Cannot find \\'response_context_IntentStarted\\' and \\'response_context_IntentCompleted\\' in logs. Please check step 4 and make sure updated logs are reloaded.')\n",
    "    "
   ]
  },
  {
   "cell_type": "markdown",
   "metadata": {},
   "source": [
    "###  8.3 Analyze abandoned intents<a id=\"abandoned_intents\"></a>"
   ]
  },
  {
   "cell_type": "code",
   "execution_count": 38,
   "metadata": {},
   "outputs": [
    {
     "name": "stdout",
     "output_type": "stream",
     "text": [
      "Cannot find 'response_context_IntentStarted' and 'response_context_IntentCompleted' in logs. Please check step 4 and make sure updated logs are reloaded.\n"
     ]
    }
   ],
   "source": [
    "if start_intent_variable in df_formated and end_intent_variable in df_formated:\n",
    "\n",
    "    # Create lists of started and end_intent_variable\n",
    "    intent_complete_list = df_intent_completed.values.tolist()\n",
    "    intent_started_list = df_intent_started.values.tolist()\n",
    "\n",
    "    # Looping over completed intents list. Each element contains a pair of conversation id and end_intent_variable\n",
    "    for pair in intent_complete_list:\n",
    "        # Checks if any element is found in list of started intents\n",
    "        if pair in intent_started_list:\n",
    "            # If found, remove that pair from the list of started intents\n",
    "            intent_started_list.remove(pair)\n",
    "\n",
    "    # Create a new dataframe with updated dataset. \n",
    "    # This updated dataset contains intents that have been started but not completed, thus categorised as abandoned\n",
    "    df_intent_abandoned = pd.DataFrame(data=intent_started_list)\n",
    "\n",
    "    # Group each pair (conversation id, intent abandoned), and show number of occurances of each abandoned intent\n",
    "    final_intent_abandoned = df_intent_abandoned[1].value_counts().reset_index()\n",
    "    final_intent_abandoned.columns = ['Intent','Count']\n",
    "\n",
    "    # Show counts of abandoned intents\n",
    "    intent_abandoned_title = '\\nCount of abandoned intents in all conversations\\n'\n",
    "    print(intent_abandoned_title, \"=\" * len(intent_abandoned_title),'', sep = '')\n",
    "    display(HTML(final_intent_abandoned.to_html()))\n",
    "\n",
    "    # Convert dataframe to a list\n",
    "    aban_intent_list = final_intent_abandoned.values.tolist()\n",
    "    # Get list of started intents\n",
    "    all_intent = df_intent_started[start_intent_variable].value_counts().reset_index().values.tolist()\n",
    "\n",
    "    # Loop over resolved intents list. Each element contains a pair of intent and count\n",
    "    data = []\n",
    "    for pair_ab in aban_intent_list:\n",
    "        # Loop over each row of started intents. Each row contains a pair of intent and count\n",
    "        for pair_all in all_intent:\n",
    "            # Check if the intent name matches in started and resolved intents\n",
    "            if pair_ab[0] == pair_all[0]:\n",
    "                # Then acccesse the count from that matched intent, and calculate percentage\n",
    "                perc = (pair_ab[1]/pair_all[1])*100\n",
    "                # Add the matched intent name and percentage to data list\n",
    "                data.append([pair_ab[0],perc])\n",
    "\n",
    "    # Create a new dataframe with data list\n",
    "    abandoned_percentage = pd.DataFrame(data=data).reset_index(drop=True)\n",
    "\n",
    "    # Format the dataframe, and orders data in descending order (shows highest percentage first)\n",
    "    abandoned_percentage.columns = ['Intent','Percentage']\n",
    "    abandoned_percentage.sort_values(ascending=False,inplace=True, by='Percentage')\n",
    "    abandoned_percentage.reset_index(drop=True, inplace=True)\n",
    "\n",
    "    # Format the data in the percentage column to include '%', and 1 decimal point\n",
    "    abandoned_percentage['Percentage'] = abandoned_percentage['Percentage'].apply(lambda x: \"{0:.1f}%\".format(x))\n",
    "\n",
    "    # Show most abandoned intents\n",
    "    most_abandoned_intents = \"\\nMost abandoned intents (%)\\n\"\n",
    "    print(most_abandoned_intents, \"=\" * len(most_abandoned_intents),'', sep = '')\n",
    "    display(HTML(abandoned_percentage.to_html()))\n",
    "\n",
    "else:\n",
    "    print('Cannot find \\'response_context_IntentStarted\\' and \\'response_context_IntentCompleted\\' in logs. Please check step 4 and make sure updated logs are reloaded.')"
   ]
  },
  {
   "cell_type": "markdown",
   "metadata": {},
   "source": [
    "Finally, we generate an Excel file that lists all conversations for which there are abandoned and resolved intents for further analysis."
   ]
  },
  {
   "cell_type": "code",
   "execution_count": 39,
   "metadata": {},
   "outputs": [
    {
     "name": "stdout",
     "output_type": "stream",
     "text": [
      "Cannot find 'response_context_IntentStarted' and 'response_context_IntentCompleted' in logs. Please check step 4 and make sure updated logs are reloaded.\n"
     ]
    }
   ],
   "source": [
    "if 'df_intent_abandoned' in locals() and df_intent_abandoned is not None and df_intent_completed is not None:\n",
    "    # Rename columns\n",
    "    df_intent_abandoned.columns = ['Conversation_id','Intent']\n",
    "    df_intent_completed.columns = ['Conversation_id','Intent']\n",
    "\n",
    "    # Generate excel file\n",
    "    file_name = 'Abandoned_Resolved.xlsx'\n",
    "    generate_excel_measure([df_intent_abandoned,df_intent_completed], ['Abandoned', 'Resolved'], filename= file_name, project_io=None)\n",
    "    link_html = 'Abandoned and resolved intents: <b><a href={} target=\"_blank\">Abandoned_Resolved.xlsx</a></b>'.format(file_name)\n",
    "\n",
    "    display(HTML(link_html))\n",
    "    \n",
    "else:\n",
    "    print('Cannot find \\'response_context_IntentStarted\\' and \\'response_context_IntentCompleted\\' in logs. Please check step 4 and make sure updated logs are reloaded.')"
   ]
  },
  {
   "cell_type": "markdown",
   "metadata": {},
   "source": [
    "<a id=\"summary\"></a>\n",
    "## 9. Summary and next steps\n",
    "\n",
    "The metrics described above help you narrow your immediate focus of improvement. We suggest the following two strategies: \n",
    "\n",
    "- **Toward improving Effectiveness**\n",
    "\n",
    "    We suggest focusing on a group of problematic conversations, e.g., escalated conversations, then performing a deeper analysis on these conversation as follows. <br>\n",
    "    1. Choose to download either the complete conversations ([All.xlsx](#file_list)), or sampled escalated conversations [Escalated_sample.xlsx](#file_list), or non-escalated conversations [NotEscalated_sample.xlsx](#file_list).<br>\n",
    "    2. Perform a manual assessment of these conversations.<br>\n",
    "    3. Analyze the results using our [Analyze Watson Assistant Effectiveness](https://github.com/watson-developer-cloud/assistant-improve-recommendations-notebook/blob/master/notebook/Effectiveness%20Notebook.ipynb) Jupyter Notebook.\n",
    "\n",
    "\n",
    "- **Toward improving Coverage**\n",
    "\n",
    "    For utterances where an intent was found but no response was given. We suggest performing a deeper analysis to identify  root causes, e.g., missing entities or lacking of dialog logic. \n",
    "\n",
    "    For utterances where no intent was found, we suggest expanding intent coverage as follows.\n",
    "\n",
    "    1. Examine utterances from the production log, especially focus on the utterances that are below the confidence (0.2 by default).\n",
    "    2. If you set a confidence threshold significantly higher than 0.2, we suggest looking at utterances that are below but close to the threshold.\n",
    "    3. Once you select a collection of utterances, intent expansion, you can focus on intent expansion by two methods:\n",
    "        - One-by-One: examine each utterance to either change to an existing intent or add a new intent.\n",
    "        - Unsupervised Learning: perform semantic clustering to generate utterance clusters; examine each cluster to decide (1) adding utterances of an existing intent or (2) creating a new intent.\n",
    "\n",
    "For more information, please check <a href=\"https://github.com/watson-developer-cloud/assistant-improve-recommendations-notebook/raw/master/notebook/IBM%20Watson%20Assistant%20Continuous%20Improvement%20Best%20Practices.pdf\" target=\"_blank\" rel=\"noopener noreferrer\">Watson Assistant Continuous Improvement Best Practices</a>."
   ]
  },
  {
   "cell_type": "markdown",
   "metadata": {},
   "source": [
    "### <a id=\"authors\"></a>Authors\n",
    "\n",
    "**Zhe Zhang**, Ph.D. in Computer Science, is a Data Scientist for IBM Watson AI. Zhe has a research background in Natural Language Processing, Sentiment Analysis, Text Mining, and Machine Learning. His research has been published at leading  conferences and journals including ACL and EMNLP.\n",
    "\n",
    "**Sherin Varughese** is a Data Scientist for IBM Watson AI. Sherin has her graduate degree in Business Intelligence and Data Analytics and has experience in Data Analysis, Warehousing and Machine Learning."
   ]
  },
  {
   "cell_type": "markdown",
   "metadata": {},
   "source": [
    "### <a id=\"acknowledgement\"></a> Acknowledgement\n",
    "\n",
    "The authors would like to thank the following members of the IBM Research and Watson Assistant teams for their contributions and reviews of the notebook:  Matt Arnold, Adam Benvie, Kyle Croutwater, Eric Wayne."
   ]
  },
  {
   "cell_type": "markdown",
   "metadata": {},
   "source": [
    "Copyright © 2020 IBM. This notebook and its source code are released under the terms of the MIT License."
   ]
  }
 ],
 "metadata": {
  "kernelspec": {
   "display_name": "Python 3",
   "language": "python",
   "name": "python3"
  },
  "language_info": {
   "codemirror_mode": {
    "name": "ipython",
    "version": 3
   },
   "file_extension": ".py",
   "mimetype": "text/x-python",
   "name": "python",
   "nbconvert_exporter": "python",
   "pygments_lexer": "ipython3",
   "version": "3.6.8"
  }
 },
 "nbformat": 4,
 "nbformat_minor": 4
}